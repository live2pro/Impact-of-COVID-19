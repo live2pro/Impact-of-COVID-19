{
 "cells": [
  {
   "cell_type": "markdown",
   "metadata": {},
   "source": [
    "# IMPACT OF COVID-19: Data visualisation using Plotly"
   ]
  },
  {
   "cell_type": "markdown",
   "metadata": {},
   "source": [
    "### Global Impact"
   ]
  },
  {
   "cell_type": "code",
   "execution_count": 15,
   "metadata": {},
   "outputs": [
    {
     "data": {
      "application/vnd.plotly.v1+json": {
       "config": {
        "plotlyServerURL": "https://plot.ly"
       },
       "data": [
        {
         "hovertext": [
          "Mainland China - Confirmed cases: 67217",
          "South Korea - Confirmed cases: 5186",
          "Italy - Confirmed cases: 2502",
          "Iran - Confirmed cases: 2336",
          "Mainland China - Confirmed cases: 1350",
          "Mainland China - Confirmed cases: 1272",
          "Mainland China - Confirmed cases: 1213",
          "Mainland China - Confirmed cases: 1018",
          "Mainland China - Confirmed cases: 990",
          "Mainland China - Confirmed cases: 935",
          "Mainland China - Confirmed cases: 758",
          "Others - Confirmed cases: 706",
          "Mainland China - Confirmed cases: 631",
          "Mainland China - Confirmed cases: 576",
          "Mainland China - Confirmed cases: 538",
          "Mainland China - Confirmed cases: 480",
          "Mainland China - Confirmed cases: 414",
          "Mainland China - Confirmed cases: 338",
          "Mainland China - Confirmed cases: 318",
          "Mainland China - Confirmed cases: 296",
          "Japan - Confirmed cases: 293",
          "Mainland China - Confirmed cases: 252",
          "Mainland China - Confirmed cases: 245",
          "France - Confirmed cases: 204",
          "Germany - Confirmed cases: 196",
          "Mainland China - Confirmed cases: 174",
          "Mainland China - Confirmed cases: 168",
          "Spain - Confirmed cases: 165",
          "Mainland China - Confirmed cases: 146",
          "Mainland China - Confirmed cases: 136",
          "Mainland China - Confirmed cases: 133",
          "Mainland China - Confirmed cases: 125",
          "Singapore - Confirmed cases: 110",
          "Hong Kong - Confirmed cases: 100",
          "Mainland China - Confirmed cases: 93",
          "Mainland China - Confirmed cases: 91",
          "Mainland China - Confirmed cases: 76",
          "Mainland China - Confirmed cases: 75",
          "Mainland China - Confirmed cases: 74",
          "Kuwait - Confirmed cases: 56",
          "Switzerland - Confirmed cases: 56",
          "UK - Confirmed cases: 51",
          "Bahrain - Confirmed cases: 49",
          "US - Confirmed cases: 45",
          "Thailand - Confirmed cases: 43",
          "Taiwan - Confirmed cases: 42",
          "Malaysia - Confirmed cases: 36",
          "Iraq - Confirmed cases: 32",
          "Norway - Confirmed cases: 32",
          "United Arab Emirates - Confirmed cases: 27",
          "Netherlands - Confirmed cases: 24",
          "Austria - Confirmed cases: 21",
          "Sweden - Confirmed cases: 21",
          "US - Confirmed cases: 21",
          "Canada - Confirmed cases: 19",
          "Mainland China - Confirmed cases: 18",
          "Vietnam - Confirmed cases: 16",
          "Australia - Confirmed cases: 13",
          "Belgium - Confirmed cases: 13",
          "Lebanon - Confirmed cases: 13",
          "Israel - Confirmed cases: 12",
          "Oman - Confirmed cases: 12",
          "Australia - Confirmed cases: 11",
          "Iceland - Confirmed cases: 11",
          "US - Confirmed cases: 11",
          "Macau - Confirmed cases: 10",
          "San Marino - Confirmed cases: 10",
          "Australia - Confirmed cases: 9",
          "Canada - Confirmed cases: 9",
          "Croatia - Confirmed cases: 9",
          "Ecuador - Confirmed cases: 7",
          "Greece - Confirmed cases: 7",
          "Qatar - Confirmed cases: 7",
          "Denmark - Confirmed cases: 6",
          "Finland - Confirmed cases: 6",
          "US - Confirmed cases: 6",
          "Algeria - Confirmed cases: 5",
          "Czech Republic - Confirmed cases: 5",
          "India - Confirmed cases: 5",
          "Mexico - Confirmed cases: 5",
          "Pakistan - Confirmed cases: 5",
          "US - Confirmed cases: 4",
          "Australia - Confirmed cases: 3",
          "Azerbaijan - Confirmed cases: 3",
          "Georgia - Confirmed cases: 3",
          "Philippines - Confirmed cases: 3",
          "Romania - Confirmed cases: 3",
          "Russia - Confirmed cases: 3",
          "Australia - Confirmed cases: 2",
          "Brazil - Confirmed cases: 2",
          "Egypt - Confirmed cases: 2",
          "Estonia - Confirmed cases: 2",
          "Indonesia - Confirmed cases: 2",
          "Ireland - Confirmed cases: 2",
          "Portugal - Confirmed cases: 2",
          "Senegal - Confirmed cases: 2",
          "US - Confirmed cases: 2",
          "US - Confirmed cases: 2",
          "US - Confirmed cases: 2",
          "US - Confirmed cases: 2",
          "US - Confirmed cases: 2",
          "US - Confirmed cases: 2",
          "US - Confirmed cases: 2",
          "US - Confirmed cases: 2",
          "US - Confirmed cases: 2",
          "Afghanistan - Confirmed cases: 1",
          "Andorra - Confirmed cases: 1",
          "Argentina - Confirmed cases: 1",
          "Armenia - Confirmed cases: 1",
          "Australia - Confirmed cases: 1",
          "Belarus - Confirmed cases: 1",
          "Cambodia - Confirmed cases: 1",
          "Canada - Confirmed cases: 1",
          "Canada - Confirmed cases: 1",
          "Chile - Confirmed cases: 1",
          "Dominican Republic - Confirmed cases: 1",
          "Jordan - Confirmed cases: 1",
          "Latvia - Confirmed cases: 1",
          "Lithuania - Confirmed cases: 1",
          "Luxembourg - Confirmed cases: 1",
          "Mainland China - Confirmed cases: 1",
          "Monaco - Confirmed cases: 1",
          "Morocco - Confirmed cases: 1",
          "Nepal - Confirmed cases: 1",
          "New Zealand - Confirmed cases: 1",
          "Nigeria - Confirmed cases: 1",
          "North Macedonia - Confirmed cases: 1",
          "Saudi Arabia - Confirmed cases: 1",
          "Sri Lanka - Confirmed cases: 1",
          "US - Confirmed cases: 1",
          "US - Confirmed cases: 1",
          "US - Confirmed cases: 1",
          "US - Confirmed cases: 1",
          "US - Confirmed cases: 1",
          "US - Confirmed cases: 1",
          "US - Confirmed cases: 1",
          "US - Confirmed cases: 1",
          "US - Confirmed cases: 1",
          "US - Confirmed cases: 1",
          "US - Confirmed cases: 1",
          "US - Confirmed cases: 1",
          "US - Confirmed cases: 1",
          "US - Confirmed cases: 1",
          "US - Confirmed cases: 1",
          "US - Confirmed cases: 1",
          "US - Confirmed cases: 1",
          "Ukraine - Confirmed cases: 1",
          "Australia - Confirmed cases: 0",
          "US - Confirmed cases: 0",
          "US - Confirmed cases: 0",
          "US - Confirmed cases: 0"
         ],
         "lat": [
          30.9756,
          36,
          43,
          32,
          23.3417,
          33.882,
          29.1832,
          27.6104,
          31.8257,
          27.614,
          36.3427,
          35.4437,
          32.9711,
          30.0572,
          30.6171,
          47.862,
          40.1824,
          31.202,
          38.0428,
          26.0789,
          36,
          23.8298,
          35.1917,
          47,
          51,
          24.974,
          19.1959,
          40,
          26.8154,
          39.3054,
          37.5777,
          41.2956,
          1.2833,
          22.3,
          43.6661,
          36.0611,
          41.1129,
          44.0935,
          37.2692,
          29.5,
          46.8182,
          55,
          26.0275,
          35.4437,
          15,
          23.7,
          2.5,
          33,
          60.472,
          24,
          52.1326,
          47.5162,
          63,
          47.548,
          43.6532,
          35.7452,
          16,
          -33.8688,
          50.8333,
          33.8547,
          31,
          21,
          -28.0167,
          64.9631,
          37.3541,
          22.1667,
          43.9424,
          -37.8136,
          49.2827,
          45.1667,
          -1.8312,
          39.0742,
          25.3548,
          56.2639,
          64,
          48.033,
          28.0339,
          49.8175,
          21,
          23,
          30.3753,
          41.7377,
          -34.9285,
          40.1431,
          42.3154,
          13,
          46,
          60,
          -31.9505,
          -14.235,
          26,
          58.5953,
          -0.7893,
          53.1424,
          39.3999,
          14.4974,
          33.8034,
          43.9088,
          27.9904,
          41.824,
          38.4747,
          36.5761,
          32.7157,
          37.563,
          45.547,
          33,
          42.5063,
          -38.4161,
          40.0691,
          -41.4545,
          53.7098,
          11.55,
          45.5017,
          42.9849,
          -35.6751,
          18.7357,
          31.24,
          56.8796,
          55.1694,
          49.8144,
          31.6927,
          43.7333,
          31.7917,
          28.1667,
          -40.9006,
          9.082,
          41.6086,
          24,
          7,
          42.1767,
          37.8715,
          42.3601,
          40.745,
          34.0522,
          43.0731,
          33.2918,
          40.7128,
          33.7879,
          39.0916,
          29.4241,
          27.3364,
          38.578,
          33.4255,
          45.775,
          35.8032,
          41.122,
          48.3794,
          35.4437,
          29.3829,
          41.2545,
          38.2721
         ],
         "lon": [
          112.2707,
          128,
          12,
          53,
          113.4244,
          113.614,
          120.0934,
          111.7088,
          117.2264,
          115.7221,
          118.1498,
          139.638,
          119.455,
          107.874,
          102.7103,
          127.7615,
          116.4142,
          121.4491,
          114.5149,
          117.9874,
          138,
          108.7881,
          108.8701,
          2,
          9,
          101.487,
          109.7453,
          -4,
          106.8748,
          117.323,
          112.2922,
          122.6085,
          103.8333,
          114.2,
          126.1923,
          103.8343,
          85.2401,
          113.9448,
          106.1655,
          47.75,
          8.2275,
          -3,
          50.55,
          139.638,
          101,
          121,
          112.5,
          44,
          8.4689,
          54,
          5.2913,
          14.5501,
          16,
          -121.9836,
          -79.3832,
          95.9956,
          108,
          151.2093,
          4,
          35.8623,
          35,
          57,
          153.4,
          -19.0208,
          -121.9552,
          113.55,
          12.4578,
          144.9631,
          -123.1207,
          15.5,
          -78.1834,
          21.8243,
          51.1839,
          9.5018,
          26,
          -121.8339,
          1.6596,
          15.473,
          78,
          -102,
          69.3451,
          -87.6976,
          138.6007,
          47.5769,
          43.3569,
          122,
          25,
          90,
          115.8605,
          -51.9253,
          30,
          25.0136,
          113.9213,
          -7.6921,
          -8.2245,
          -14.4524,
          -84.3963,
          -71.826,
          -82.3018,
          -71.4128,
          -121.3542,
          -120.9876,
          -117.1611,
          -122.3255,
          -123.1386,
          65,
          1.5218,
          -63.6167,
          45.0382,
          145.9707,
          27.9534,
          104.9167,
          -73.5673,
          -81.2453,
          -71.543,
          -70.1627,
          36.51,
          24.6032,
          23.8813,
          6.1317,
          88.0924,
          7.4167,
          -7.0926,
          84.25,
          174.886,
          8.6753,
          21.7453,
          45,
          81,
          -71.1449,
          -122.273,
          -71.0589,
          -123.8695,
          -118.2437,
          -89.4012,
          -112.4291,
          -74.006,
          -117.8531,
          -120.8039,
          -98.4936,
          -82.5307,
          -122.9888,
          -111.94,
          -118.7606,
          -78.5661,
          -73.7949,
          31.1656,
          139.638,
          -98.6134,
          -95.9758,
          -121.9399
         ],
         "marker": {
          "color": "blue",
          "line": {
           "color": "rgba(102, 102, 102)",
           "width": 0
          },
          "opacity": 0.5,
          "size": [
           109.32065615440955,
           8.434427642066261,
           4.069212873206669,
           3.7992331222265303,
           2.1956184567661885,
           2.068760501486364,
           1.9728038430054715,
           1.6556589548059109,
           1.610120201628538,
           1.5206690793158415,
           1.2327991038731636,
           1.148227133686614,
           1.0262483305329368,
           0.9367972082202404,
           0.8749946146223773,
           0.7806643401835336,
           0.6733229934082977,
           0.5497178062125716,
           0.517190125371591,
           0.4814096764465124,
           0.4765305243203653,
           0.40984877859635516,
           0.39846409030201196,
           0.33178234457800176,
           0.31877127224160956,
           0.2829908233165309,
           0.2732325190642368,
           0.2683533669380897,
           0.23745207013915814,
           0.22118822971866786,
           0.21630907759252077,
           0.20329800525612854,
           0.17890224462539311,
           0.16263840420490283,
           0.15125371591055964,
           0.1480009478264616,
           0.12360518719572616,
           0.12197880315367712,
           0.1203524191116281,
           0.0910775063547456,
           0.0910775063547456,
           0.08294558614450044,
           0.07969281806040239,
           0.07318728189220627,
           0.06993451380810822,
           0.0683081297660592,
           0.05854982551376502,
           0.05204428934556891,
           0.05204428934556891,
           0.043912369135323766,
           0.03903321700917668,
           0.0341540648830296,
           0.0341540648830296,
           0.0341540648830296,
           0.03090129679893154,
           0.02927491275688251,
           0.026022144672784454,
           0.02114299254663737,
           0.02114299254663737,
           0.02114299254663737,
           0.01951660850458834,
           0.01951660850458834,
           0.017890224462539312,
           0.017890224462539312,
           0.017890224462539312,
           0.016263840420490283,
           0.016263840420490283,
           0.014637456378441256,
           0.014637456378441256,
           0.014637456378441256,
           0.0113846882943432,
           0.0113846882943432,
           0.0113846882943432,
           0.00975830425229417,
           0.00975830425229417,
           0.00975830425229417,
           0.008131920210245142,
           0.008131920210245142,
           0.008131920210245142,
           0.008131920210245142,
           0.008131920210245142,
           0.006505536168196113,
           0.004879152126147085,
           0.004879152126147085,
           0.004879152126147085,
           0.004879152126147085,
           0.004879152126147085,
           0.004879152126147085,
           0.0032527680840980567,
           0.0032527680840980567,
           0.0032527680840980567,
           0.0032527680840980567,
           0.0032527680840980567,
           0.0032527680840980567,
           0.0032527680840980567,
           0.0032527680840980567,
           0.0032527680840980567,
           0.0032527680840980567,
           0.0032527680840980567,
           0.0032527680840980567,
           0.0032527680840980567,
           0.0032527680840980567,
           0.0032527680840980567,
           0.0032527680840980567,
           0.0032527680840980567,
           0.0016263840420490284,
           0.0016263840420490284,
           0.0016263840420490284,
           0.0016263840420490284,
           0.0016263840420490284,
           0.0016263840420490284,
           0.0016263840420490284,
           0.0016263840420490284,
           0.0016263840420490284,
           0.0016263840420490284,
           0.0016263840420490284,
           0.0016263840420490284,
           0.0016263840420490284,
           0.0016263840420490284,
           0.0016263840420490284,
           0.0016263840420490284,
           0.0016263840420490284,
           0.0016263840420490284,
           0.0016263840420490284,
           0.0016263840420490284,
           0.0016263840420490284,
           0.0016263840420490284,
           0.0016263840420490284,
           0.0016263840420490284,
           0.0016263840420490284,
           0.0016263840420490284,
           0.0016263840420490284,
           0.0016263840420490284,
           0.0016263840420490284,
           0.0016263840420490284,
           0.0016263840420490284,
           0.0016263840420490284,
           0.0016263840420490284,
           0.0016263840420490284,
           0.0016263840420490284,
           0.0016263840420490284,
           0.0016263840420490284,
           0.0016263840420490284,
           0.0016263840420490284,
           0.0016263840420490284,
           0.0016263840420490284,
           0.0016263840420490284,
           0,
           0,
           0,
           0
          ]
         },
         "name": "Confirmed cases",
         "type": "scattergeo"
        },
        {
         "hovertext": [
          "Mainland China - Death: 2835",
          "South Korea - Death: 28",
          "Italy - Death: 79",
          "Iran - Death: 77",
          "Mainland China - Death: 7",
          "Mainland China - Death: 22",
          "Mainland China - Death: 1",
          "Mainland China - Death: 4",
          "Mainland China - Death: 6",
          "Mainland China - Death: 1",
          "Mainland China - Death: 6",
          "Others - Death: 6",
          "Mainland China - Death: 0",
          "Mainland China - Death: 6",
          "Mainland China - Death: 3",
          "Mainland China - Death: 13",
          "Mainland China - Death: 8",
          "Mainland China - Death: 3",
          "Mainland China - Death: 6",
          "Mainland China - Death: 1",
          "Japan - Death: 6",
          "Mainland China - Death: 2",
          "Mainland China - Death: 1",
          "France - Death: 4",
          "Germany - Death: 0",
          "Mainland China - Death: 2",
          "Mainland China - Death: 5",
          "Spain - Death: 1",
          "Mainland China - Death: 2",
          "Mainland China - Death: 3",
          "Mainland China - Death: 0",
          "Mainland China - Death: 1",
          "Singapore - Death: 0",
          "Hong Kong - Death: 2",
          "Mainland China - Death: 1",
          "Mainland China - Death: 2",
          "Mainland China - Death: 3",
          "Mainland China - Death: 1",
          "Mainland China - Death: 0",
          "Kuwait - Death: 0",
          "Switzerland - Death: 0",
          "UK - Death: 0",
          "Bahrain - Death: 0",
          "US - Death: 0",
          "Thailand - Death: 1",
          "Taiwan - Death: 1",
          "Malaysia - Death: 0",
          "Iraq - Death: 0",
          "Norway - Death: 0",
          "United Arab Emirates - Death: 0",
          "Netherlands - Death: 0",
          "Austria - Death: 0",
          "Sweden - Death: 0",
          "US - Death: 6",
          "Canada - Death: 0",
          "Mainland China - Death: 0",
          "Vietnam - Death: 0",
          "Australia - Death: 0",
          "Belgium - Death: 0",
          "Lebanon - Death: 0",
          "Israel - Death: 0",
          "Oman - Death: 0",
          "Australia - Death: 0",
          "Iceland - Death: 0",
          "US - Death: 0",
          "Macau - Death: 0",
          "San Marino - Death: 1",
          "Australia - Death: 0",
          "Canada - Death: 0",
          "Croatia - Death: 0",
          "Ecuador - Death: 0",
          "Greece - Death: 0",
          "Qatar - Death: 0",
          "Denmark - Death: 0",
          "Finland - Death: 0",
          "US - Death: 1",
          "Algeria - Death: 0",
          "Czech Republic - Death: 0",
          "India - Death: 0",
          "Mexico - Death: 0",
          "Pakistan - Death: 0",
          "US - Death: 0",
          "Australia - Death: 0",
          "Azerbaijan - Death: 0",
          "Georgia - Death: 0",
          "Philippines - Death: 1",
          "Romania - Death: 0",
          "Russia - Death: 0",
          "Australia - Death: 1",
          "Brazil - Death: 0",
          "Egypt - Death: 0",
          "Estonia - Death: 0",
          "Indonesia - Death: 0",
          "Ireland - Death: 0",
          "Portugal - Death: 0",
          "Senegal - Death: 0",
          "US - Death: 0",
          "US - Death: 0",
          "US - Death: 0",
          "US - Death: 0",
          "US - Death: 0",
          "US - Death: 0",
          "US - Death: 0",
          "US - Death: 0",
          "US - Death: 0",
          "Afghanistan - Death: 0",
          "Andorra - Death: 0",
          "Argentina - Death: 0",
          "Armenia - Death: 0",
          "Australia - Death: 0",
          "Belarus - Death: 0",
          "Cambodia - Death: 0",
          "Canada - Death: 0",
          "Canada - Death: 0",
          "Chile - Death: 0",
          "Dominican Republic - Death: 0",
          "Jordan - Death: 0",
          "Latvia - Death: 0",
          "Lithuania - Death: 0",
          "Luxembourg - Death: 0",
          "Mainland China - Death: 0",
          "Monaco - Death: 0",
          "Morocco - Death: 0",
          "Nepal - Death: 0",
          "New Zealand - Death: 0",
          "Nigeria - Death: 0",
          "North Macedonia - Death: 0",
          "Saudi Arabia - Death: 0",
          "Sri Lanka - Death: 0",
          "US - Death: 0",
          "US - Death: 0",
          "US - Death: 0",
          "US - Death: 0",
          "US - Death: 0",
          "US - Death: 0",
          "US - Death: 0",
          "US - Death: 0",
          "US - Death: 0",
          "US - Death: 0",
          "US - Death: 0",
          "US - Death: 0",
          "US - Death: 0",
          "US - Death: 0",
          "US - Death: 0",
          "US - Death: 0",
          "US - Death: 0",
          "Ukraine - Death: 0",
          "Australia - Death: 0",
          "US - Death: 0",
          "US - Death: 0",
          "US - Death: 0"
         ],
         "lat": [
          30.9756,
          36,
          43,
          32,
          23.3417,
          33.882,
          29.1832,
          27.6104,
          31.8257,
          27.614,
          36.3427,
          35.4437,
          32.9711,
          30.0572,
          30.6171,
          47.862,
          40.1824,
          31.202,
          38.0428,
          26.0789,
          36,
          23.8298,
          35.1917,
          47,
          51,
          24.974,
          19.1959,
          40,
          26.8154,
          39.3054,
          37.5777,
          41.2956,
          1.2833,
          22.3,
          43.6661,
          36.0611,
          41.1129,
          44.0935,
          37.2692,
          29.5,
          46.8182,
          55,
          26.0275,
          35.4437,
          15,
          23.7,
          2.5,
          33,
          60.472,
          24,
          52.1326,
          47.5162,
          63,
          47.548,
          43.6532,
          35.7452,
          16,
          -33.8688,
          50.8333,
          33.8547,
          31,
          21,
          -28.0167,
          64.9631,
          37.3541,
          22.1667,
          43.9424,
          -37.8136,
          49.2827,
          45.1667,
          -1.8312,
          39.0742,
          25.3548,
          56.2639,
          64,
          48.033,
          28.0339,
          49.8175,
          21,
          23,
          30.3753,
          41.7377,
          -34.9285,
          40.1431,
          42.3154,
          13,
          46,
          60,
          -31.9505,
          -14.235,
          26,
          58.5953,
          -0.7893,
          53.1424,
          39.3999,
          14.4974,
          33.8034,
          43.9088,
          27.9904,
          41.824,
          38.4747,
          36.5761,
          32.7157,
          37.563,
          45.547,
          33,
          42.5063,
          -38.4161,
          40.0691,
          -41.4545,
          53.7098,
          11.55,
          45.5017,
          42.9849,
          -35.6751,
          18.7357,
          31.24,
          56.8796,
          55.1694,
          49.8144,
          31.6927,
          43.7333,
          31.7917,
          28.1667,
          -40.9006,
          9.082,
          41.6086,
          24,
          7,
          42.1767,
          37.8715,
          42.3601,
          40.745,
          34.0522,
          43.0731,
          33.2918,
          40.7128,
          33.7879,
          39.0916,
          29.4241,
          27.3364,
          38.578,
          33.4255,
          45.775,
          35.8032,
          41.122,
          48.3794,
          35.4437,
          29.3829,
          41.2545,
          38.2721
         ],
         "lon": [
          112.2707,
          128,
          12,
          53,
          113.4244,
          113.614,
          120.0934,
          111.7088,
          117.2264,
          115.7221,
          118.1498,
          139.638,
          119.455,
          107.874,
          102.7103,
          127.7615,
          116.4142,
          121.4491,
          114.5149,
          117.9874,
          138,
          108.7881,
          108.8701,
          2,
          9,
          101.487,
          109.7453,
          -4,
          106.8748,
          117.323,
          112.2922,
          122.6085,
          103.8333,
          114.2,
          126.1923,
          103.8343,
          85.2401,
          113.9448,
          106.1655,
          47.75,
          8.2275,
          -3,
          50.55,
          139.638,
          101,
          121,
          112.5,
          44,
          8.4689,
          54,
          5.2913,
          14.5501,
          16,
          -121.9836,
          -79.3832,
          95.9956,
          108,
          151.2093,
          4,
          35.8623,
          35,
          57,
          153.4,
          -19.0208,
          -121.9552,
          113.55,
          12.4578,
          144.9631,
          -123.1207,
          15.5,
          -78.1834,
          21.8243,
          51.1839,
          9.5018,
          26,
          -121.8339,
          1.6596,
          15.473,
          78,
          -102,
          69.3451,
          -87.6976,
          138.6007,
          47.5769,
          43.3569,
          122,
          25,
          90,
          115.8605,
          -51.9253,
          30,
          25.0136,
          113.9213,
          -7.6921,
          -8.2245,
          -14.4524,
          -84.3963,
          -71.826,
          -82.3018,
          -71.4128,
          -121.3542,
          -120.9876,
          -117.1611,
          -122.3255,
          -123.1386,
          65,
          1.5218,
          -63.6167,
          45.0382,
          145.9707,
          27.9534,
          104.9167,
          -73.5673,
          -81.2453,
          -71.543,
          -70.1627,
          36.51,
          24.6032,
          23.8813,
          6.1317,
          88.0924,
          7.4167,
          -7.0926,
          84.25,
          174.886,
          8.6753,
          21.7453,
          45,
          81,
          -71.1449,
          -122.273,
          -71.0589,
          -123.8695,
          -118.2437,
          -89.4012,
          -112.4291,
          -74.006,
          -117.8531,
          -120.8039,
          -98.4936,
          -82.5307,
          -122.9888,
          -111.94,
          -118.7606,
          -78.5661,
          -73.7949,
          31.1656,
          139.638,
          -98.6134,
          -95.9758,
          -121.9399
         ],
         "marker": {
          "color": "red",
          "line": {
           "color": "rgba(102, 102, 102)",
           "width": 0
          },
          "opacity": 0.5,
          "size": [
           4.610798759208995,
           0.0455387531773728,
           0.12848433932187325,
           0.12523157123777517,
           0.0113846882943432,
           0.035780448925078624,
           0.0016263840420490284,
           0.006505536168196113,
           0.00975830425229417,
           0.0016263840420490284,
           0.00975830425229417,
           0.00975830425229417,
           0,
           0.00975830425229417,
           0.004879152126147085,
           0.02114299254663737,
           0.013011072336392227,
           0.004879152126147085,
           0.00975830425229417,
           0.0016263840420490284,
           0.00975830425229417,
           0.0032527680840980567,
           0.0016263840420490284,
           0.006505536168196113,
           0,
           0.0032527680840980567,
           0.008131920210245142,
           0.0016263840420490284,
           0.0032527680840980567,
           0.004879152126147085,
           0,
           0.0016263840420490284,
           0,
           0.0032527680840980567,
           0.0016263840420490284,
           0.0032527680840980567,
           0.004879152126147085,
           0.0016263840420490284,
           0,
           0,
           0,
           0,
           0,
           0,
           0.0016263840420490284,
           0.0016263840420490284,
           0,
           0,
           0,
           0,
           0,
           0,
           0,
           0.00975830425229417,
           0,
           0,
           0,
           0,
           0,
           0,
           0,
           0,
           0,
           0,
           0,
           0,
           0.0016263840420490284,
           0,
           0,
           0,
           0,
           0,
           0,
           0,
           0,
           0.0016263840420490284,
           0,
           0,
           0,
           0,
           0,
           0,
           0,
           0,
           0,
           0.0016263840420490284,
           0,
           0,
           0.0016263840420490284,
           0,
           0,
           0,
           0,
           0,
           0,
           0,
           0,
           0,
           0,
           0,
           0,
           0,
           0,
           0,
           0,
           0,
           0,
           0,
           0,
           0,
           0,
           0,
           0,
           0,
           0,
           0,
           0,
           0,
           0,
           0,
           0,
           0,
           0,
           0,
           0,
           0,
           0,
           0,
           0,
           0,
           0,
           0,
           0,
           0,
           0,
           0,
           0,
           0,
           0,
           0,
           0,
           0,
           0,
           0,
           0,
           0,
           0,
           0,
           0,
           0,
           0
          ]
         },
         "name": "Deaths",
         "type": "scattergeo"
        },
        {
         "hovertext": [
          "Mainland China - Recovered: 36208",
          "South Korea - Recovered: 30",
          "Italy - Recovered: 160",
          "Iran - Recovered: 291",
          "Mainland China - Recovered: 1101",
          "Mainland China - Recovered: 1231",
          "Mainland China - Recovered: 1093",
          "Mainland China - Recovered: 906",
          "Mainland China - Recovered: 936",
          "Mainland China - Recovered: 870",
          "Mainland China - Recovered: 511",
          "Others - Recovered: 10",
          "Mainland China - Recovered: 562",
          "Mainland China - Recovered: 490",
          "Mainland China - Recovered: 394",
          "Mainland China - Recovered: 366",
          "Mainland China - Recovered: 288",
          "Mainland China - Recovered: 294",
          "Mainland China - Recovered: 300",
          "Mainland China - Recovered: 260",
          "Japan - Recovered: 43",
          "Mainland China - Recovered: 202",
          "Mainland China - Recovered: 216",
          "France - Recovered: 12",
          "Germany - Recovered: 16",
          "Mainland China - Recovered: 169",
          "Mainland China - Recovered: 155",
          "Spain - Recovered: 2",
          "Mainland China - Recovered: 114",
          "Mainland China - Recovered: 124",
          "Mainland China - Recovered: 124",
          "Mainland China - Recovered: 106",
          "Singapore - Recovered: 78",
          "Hong Kong - Recovered: 37",
          "Mainland China - Recovered: 83",
          "Mainland China - Recovered: 86",
          "Mainland China - Recovered: 68",
          "Mainland China - Recovered: 59",
          "Mainland China - Recovered: 69",
          "Kuwait - Recovered: 0",
          "Switzerland - Recovered: 2",
          "UK - Recovered: 8",
          "Bahrain - Recovered: 0",
          "US - Recovered: 0",
          "Thailand - Recovered: 31",
          "Taiwan - Recovered: 12",
          "Malaysia - Recovered: 22",
          "Iraq - Recovered: 0",
          "Norway - Recovered: 0",
          "United Arab Emirates - Recovered: 5",
          "Netherlands - Recovered: 0",
          "Austria - Recovered: 0",
          "Sweden - Recovered: 0",
          "US - Recovered: 1",
          "Canada - Recovered: 2",
          "Mainland China - Recovered: 18",
          "Vietnam - Recovered: 16",
          "Australia - Recovered: 4",
          "Belgium - Recovered: 1",
          "Lebanon - Recovered: 0",
          "Israel - Recovered: 1",
          "Oman - Recovered: 2",
          "Australia - Recovered: 1",
          "Iceland - Recovered: 0",
          "US - Recovered: 1",
          "Macau - Recovered: 9",
          "San Marino - Recovered: 0",
          "Australia - Recovered: 4",
          "Canada - Recovered: 3",
          "Croatia - Recovered: 0",
          "Ecuador - Recovered: 0",
          "Greece - Recovered: 0",
          "Qatar - Recovered: 0",
          "Denmark - Recovered: 0",
          "Finland - Recovered: 1",
          "US - Recovered: 0",
          "Algeria - Recovered: 0",
          "Czech Republic - Recovered: 0",
          "India - Recovered: 3",
          "Mexico - Recovered: 1",
          "Pakistan - Recovered: 0",
          "US - Recovered: 2",
          "Australia - Recovered: 2",
          "Azerbaijan - Recovered: 0",
          "Georgia - Recovered: 0",
          "Philippines - Recovered: 1",
          "Romania - Recovered: 0",
          "Russia - Recovered: 2",
          "Australia - Recovered: 0",
          "Brazil - Recovered: 0",
          "Egypt - Recovered: 1",
          "Estonia - Recovered: 0",
          "Indonesia - Recovered: 0",
          "Ireland - Recovered: 0",
          "Portugal - Recovered: 0",
          "Senegal - Recovered: 0",
          "US - Recovered: 0",
          "US - Recovered: 0",
          "US - Recovered: 0",
          "US - Recovered: 0",
          "US - Recovered: 0",
          "US - Recovered: 0",
          "US - Recovered: 1",
          "US - Recovered: 0",
          "US - Recovered: 0",
          "Afghanistan - Recovered: 0",
          "Andorra - Recovered: 0",
          "Argentina - Recovered: 0",
          "Armenia - Recovered: 0",
          "Australia - Recovered: 0",
          "Belarus - Recovered: 0",
          "Cambodia - Recovered: 1",
          "Canada - Recovered: 0",
          "Canada - Recovered: 1",
          "Chile - Recovered: 0",
          "Dominican Republic - Recovered: 0",
          "Jordan - Recovered: 0",
          "Latvia - Recovered: 0",
          "Lithuania - Recovered: 0",
          "Luxembourg - Recovered: 0",
          "Mainland China - Recovered: 1",
          "Monaco - Recovered: 0",
          "Morocco - Recovered: 0",
          "Nepal - Recovered: 1",
          "New Zealand - Recovered: 0",
          "Nigeria - Recovered: 0",
          "North Macedonia - Recovered: 0",
          "Saudi Arabia - Recovered: 0",
          "Sri Lanka - Recovered: 1",
          "US - Recovered: 0",
          "US - Recovered: 0",
          "US - Recovered: 1",
          "US - Recovered: 0",
          "US - Recovered: 0",
          "US - Recovered: 1",
          "US - Recovered: 0",
          "US - Recovered: 0",
          "US - Recovered: 0",
          "US - Recovered: 0",
          "US - Recovered: 0",
          "US - Recovered: 0",
          "US - Recovered: 0",
          "US - Recovered: 1",
          "US - Recovered: 0",
          "US - Recovered: 0",
          "US - Recovered: 0",
          "Ukraine - Recovered: 0",
          "Australia - Recovered: 0",
          "US - Recovered: 0",
          "US - Recovered: 0",
          "US - Recovered: 0"
         ],
         "lat": [
          30.9756,
          36,
          43,
          32,
          23.3417,
          33.882,
          29.1832,
          27.6104,
          31.8257,
          27.614,
          36.3427,
          35.4437,
          32.9711,
          30.0572,
          30.6171,
          47.862,
          40.1824,
          31.202,
          38.0428,
          26.0789,
          36,
          23.8298,
          35.1917,
          47,
          51,
          24.974,
          19.1959,
          40,
          26.8154,
          39.3054,
          37.5777,
          41.2956,
          1.2833,
          22.3,
          43.6661,
          36.0611,
          41.1129,
          44.0935,
          37.2692,
          29.5,
          46.8182,
          55,
          26.0275,
          35.4437,
          15,
          23.7,
          2.5,
          33,
          60.472,
          24,
          52.1326,
          47.5162,
          63,
          47.548,
          43.6532,
          35.7452,
          16,
          -33.8688,
          50.8333,
          33.8547,
          31,
          21,
          -28.0167,
          64.9631,
          37.3541,
          22.1667,
          43.9424,
          -37.8136,
          49.2827,
          45.1667,
          -1.8312,
          39.0742,
          25.3548,
          56.2639,
          64,
          48.033,
          28.0339,
          49.8175,
          21,
          23,
          30.3753,
          41.7377,
          -34.9285,
          40.1431,
          42.3154,
          13,
          46,
          60,
          -31.9505,
          -14.235,
          26,
          58.5953,
          -0.7893,
          53.1424,
          39.3999,
          14.4974,
          33.8034,
          43.9088,
          27.9904,
          41.824,
          38.4747,
          36.5761,
          32.7157,
          37.563,
          45.547,
          33,
          42.5063,
          -38.4161,
          40.0691,
          -41.4545,
          53.7098,
          11.55,
          45.5017,
          42.9849,
          -35.6751,
          18.7357,
          31.24,
          56.8796,
          55.1694,
          49.8144,
          31.6927,
          43.7333,
          31.7917,
          28.1667,
          -40.9006,
          9.082,
          41.6086,
          24,
          7,
          42.1767,
          37.8715,
          42.3601,
          40.745,
          34.0522,
          43.0731,
          33.2918,
          40.7128,
          33.7879,
          39.0916,
          29.4241,
          27.3364,
          38.578,
          33.4255,
          45.775,
          35.8032,
          41.122,
          48.3794,
          35.4437,
          29.3829,
          41.2545,
          38.2721
         ],
         "lon": [
          112.2707,
          128,
          12,
          53,
          113.4244,
          113.614,
          120.0934,
          111.7088,
          117.2264,
          115.7221,
          118.1498,
          139.638,
          119.455,
          107.874,
          102.7103,
          127.7615,
          116.4142,
          121.4491,
          114.5149,
          117.9874,
          138,
          108.7881,
          108.8701,
          2,
          9,
          101.487,
          109.7453,
          -4,
          106.8748,
          117.323,
          112.2922,
          122.6085,
          103.8333,
          114.2,
          126.1923,
          103.8343,
          85.2401,
          113.9448,
          106.1655,
          47.75,
          8.2275,
          -3,
          50.55,
          139.638,
          101,
          121,
          112.5,
          44,
          8.4689,
          54,
          5.2913,
          14.5501,
          16,
          -121.9836,
          -79.3832,
          95.9956,
          108,
          151.2093,
          4,
          35.8623,
          35,
          57,
          153.4,
          -19.0208,
          -121.9552,
          113.55,
          12.4578,
          144.9631,
          -123.1207,
          15.5,
          -78.1834,
          21.8243,
          51.1839,
          9.5018,
          26,
          -121.8339,
          1.6596,
          15.473,
          78,
          -102,
          69.3451,
          -87.6976,
          138.6007,
          47.5769,
          43.3569,
          122,
          25,
          90,
          115.8605,
          -51.9253,
          30,
          25.0136,
          113.9213,
          -7.6921,
          -8.2245,
          -14.4524,
          -84.3963,
          -71.826,
          -82.3018,
          -71.4128,
          -121.3542,
          -120.9876,
          -117.1611,
          -122.3255,
          -123.1386,
          65,
          1.5218,
          -63.6167,
          45.0382,
          145.9707,
          27.9534,
          104.9167,
          -73.5673,
          -81.2453,
          -71.543,
          -70.1627,
          36.51,
          24.6032,
          23.8813,
          6.1317,
          88.0924,
          7.4167,
          -7.0926,
          84.25,
          174.886,
          8.6753,
          21.7453,
          45,
          81,
          -71.1449,
          -122.273,
          -71.0589,
          -123.8695,
          -118.2437,
          -89.4012,
          -112.4291,
          -74.006,
          -117.8531,
          -120.8039,
          -98.4936,
          -82.5307,
          -122.9888,
          -111.94,
          -118.7606,
          -78.5661,
          -73.7949,
          31.1656,
          139.638,
          -98.6134,
          -95.9758,
          -121.9399
         ],
         "marker": {
          "color": "green",
          "line": {
           "color": "rgba(102, 102, 102)",
           "width": 0
          },
          "opacity": 0.5,
          "size": [
           58.88811339451122,
           0.04879152126147085,
           0.26022144672784453,
           0.4732777562362673,
           1.7906488302959802,
           2.002078755762354,
           1.7776377579595881,
           1.4735039420964198,
           1.5222954633578907,
           1.4149541165826547,
           0.8310822454870536,
           0.016263840420490283,
           0.914027831631554,
           0.7969281806040239,
           0.6407953125673171,
           0.5952565593899444,
           0.4683986041101202,
           0.47815690836241437,
           0.4879152126147085,
           0.42285985093274736,
           0.06993451380810822,
           0.32852957649390374,
           0.3512989530825901,
           0.01951660850458834,
           0.026022144672784454,
           0.2748589031062858,
           0.2520895265175994,
           0.0032527680840980567,
           0.18540778079358924,
           0.20167162121407953,
           0.20167162121407953,
           0.172396708457197,
           0.1268579552798242,
           0.06017620955581405,
           0.13498987549006936,
           0.13986902761621645,
           0.11059411485933393,
           0.09595665848089267,
           0.11222049890138296,
           0,
           0.0032527680840980567,
           0.013011072336392227,
           0,
           0,
           0.05041790530351988,
           0.01951660850458834,
           0.035780448925078624,
           0,
           0,
           0.008131920210245142,
           0,
           0,
           0,
           0.0016263840420490284,
           0.0032527680840980567,
           0.02927491275688251,
           0.026022144672784454,
           0.006505536168196113,
           0.0016263840420490284,
           0,
           0.0016263840420490284,
           0.0032527680840980567,
           0.0016263840420490284,
           0,
           0.0016263840420490284,
           0.014637456378441256,
           0,
           0.006505536168196113,
           0.004879152126147085,
           0,
           0,
           0,
           0,
           0,
           0.0016263840420490284,
           0,
           0,
           0,
           0.004879152126147085,
           0.0016263840420490284,
           0,
           0.0032527680840980567,
           0.0032527680840980567,
           0,
           0,
           0.0016263840420490284,
           0,
           0.0032527680840980567,
           0,
           0,
           0.0016263840420490284,
           0,
           0,
           0,
           0,
           0,
           0,
           0,
           0,
           0,
           0,
           0,
           0.0016263840420490284,
           0,
           0,
           0,
           0,
           0,
           0,
           0,
           0,
           0.0016263840420490284,
           0,
           0.0016263840420490284,
           0,
           0,
           0,
           0,
           0,
           0,
           0.0016263840420490284,
           0,
           0,
           0.0016263840420490284,
           0,
           0,
           0,
           0,
           0.0016263840420490284,
           0,
           0,
           0.0016263840420490284,
           0,
           0,
           0.0016263840420490284,
           0,
           0,
           0,
           0,
           0,
           0,
           0,
           0.0016263840420490284,
           0,
           0,
           0,
           0,
           0,
           0,
           0,
           0
          ]
         },
         "name": "Recovered",
         "type": "scattergeo"
        }
       ],
       "layout": {
        "legend": {
         "font": {
          "color": "black",
          "family": "sans-serif",
          "size": 20
         },
         "itemsizing": "constant"
        },
        "template": {
         "data": {
          "bar": [
           {
            "error_x": {
             "color": "#2a3f5f"
            },
            "error_y": {
             "color": "#2a3f5f"
            },
            "marker": {
             "line": {
              "color": "#E5ECF6",
              "width": 0.5
             }
            },
            "type": "bar"
           }
          ],
          "barpolar": [
           {
            "marker": {
             "line": {
              "color": "#E5ECF6",
              "width": 0.5
             }
            },
            "type": "barpolar"
           }
          ],
          "carpet": [
           {
            "aaxis": {
             "endlinecolor": "#2a3f5f",
             "gridcolor": "white",
             "linecolor": "white",
             "minorgridcolor": "white",
             "startlinecolor": "#2a3f5f"
            },
            "baxis": {
             "endlinecolor": "#2a3f5f",
             "gridcolor": "white",
             "linecolor": "white",
             "minorgridcolor": "white",
             "startlinecolor": "#2a3f5f"
            },
            "type": "carpet"
           }
          ],
          "choropleth": [
           {
            "colorbar": {
             "outlinewidth": 0,
             "ticks": ""
            },
            "type": "choropleth"
           }
          ],
          "contour": [
           {
            "colorbar": {
             "outlinewidth": 0,
             "ticks": ""
            },
            "colorscale": [
             [
              0,
              "#0d0887"
             ],
             [
              0.1111111111111111,
              "#46039f"
             ],
             [
              0.2222222222222222,
              "#7201a8"
             ],
             [
              0.3333333333333333,
              "#9c179e"
             ],
             [
              0.4444444444444444,
              "#bd3786"
             ],
             [
              0.5555555555555556,
              "#d8576b"
             ],
             [
              0.6666666666666666,
              "#ed7953"
             ],
             [
              0.7777777777777778,
              "#fb9f3a"
             ],
             [
              0.8888888888888888,
              "#fdca26"
             ],
             [
              1,
              "#f0f921"
             ]
            ],
            "type": "contour"
           }
          ],
          "contourcarpet": [
           {
            "colorbar": {
             "outlinewidth": 0,
             "ticks": ""
            },
            "type": "contourcarpet"
           }
          ],
          "heatmap": [
           {
            "colorbar": {
             "outlinewidth": 0,
             "ticks": ""
            },
            "colorscale": [
             [
              0,
              "#0d0887"
             ],
             [
              0.1111111111111111,
              "#46039f"
             ],
             [
              0.2222222222222222,
              "#7201a8"
             ],
             [
              0.3333333333333333,
              "#9c179e"
             ],
             [
              0.4444444444444444,
              "#bd3786"
             ],
             [
              0.5555555555555556,
              "#d8576b"
             ],
             [
              0.6666666666666666,
              "#ed7953"
             ],
             [
              0.7777777777777778,
              "#fb9f3a"
             ],
             [
              0.8888888888888888,
              "#fdca26"
             ],
             [
              1,
              "#f0f921"
             ]
            ],
            "type": "heatmap"
           }
          ],
          "heatmapgl": [
           {
            "colorbar": {
             "outlinewidth": 0,
             "ticks": ""
            },
            "colorscale": [
             [
              0,
              "#0d0887"
             ],
             [
              0.1111111111111111,
              "#46039f"
             ],
             [
              0.2222222222222222,
              "#7201a8"
             ],
             [
              0.3333333333333333,
              "#9c179e"
             ],
             [
              0.4444444444444444,
              "#bd3786"
             ],
             [
              0.5555555555555556,
              "#d8576b"
             ],
             [
              0.6666666666666666,
              "#ed7953"
             ],
             [
              0.7777777777777778,
              "#fb9f3a"
             ],
             [
              0.8888888888888888,
              "#fdca26"
             ],
             [
              1,
              "#f0f921"
             ]
            ],
            "type": "heatmapgl"
           }
          ],
          "histogram": [
           {
            "marker": {
             "colorbar": {
              "outlinewidth": 0,
              "ticks": ""
             }
            },
            "type": "histogram"
           }
          ],
          "histogram2d": [
           {
            "colorbar": {
             "outlinewidth": 0,
             "ticks": ""
            },
            "colorscale": [
             [
              0,
              "#0d0887"
             ],
             [
              0.1111111111111111,
              "#46039f"
             ],
             [
              0.2222222222222222,
              "#7201a8"
             ],
             [
              0.3333333333333333,
              "#9c179e"
             ],
             [
              0.4444444444444444,
              "#bd3786"
             ],
             [
              0.5555555555555556,
              "#d8576b"
             ],
             [
              0.6666666666666666,
              "#ed7953"
             ],
             [
              0.7777777777777778,
              "#fb9f3a"
             ],
             [
              0.8888888888888888,
              "#fdca26"
             ],
             [
              1,
              "#f0f921"
             ]
            ],
            "type": "histogram2d"
           }
          ],
          "histogram2dcontour": [
           {
            "colorbar": {
             "outlinewidth": 0,
             "ticks": ""
            },
            "colorscale": [
             [
              0,
              "#0d0887"
             ],
             [
              0.1111111111111111,
              "#46039f"
             ],
             [
              0.2222222222222222,
              "#7201a8"
             ],
             [
              0.3333333333333333,
              "#9c179e"
             ],
             [
              0.4444444444444444,
              "#bd3786"
             ],
             [
              0.5555555555555556,
              "#d8576b"
             ],
             [
              0.6666666666666666,
              "#ed7953"
             ],
             [
              0.7777777777777778,
              "#fb9f3a"
             ],
             [
              0.8888888888888888,
              "#fdca26"
             ],
             [
              1,
              "#f0f921"
             ]
            ],
            "type": "histogram2dcontour"
           }
          ],
          "mesh3d": [
           {
            "colorbar": {
             "outlinewidth": 0,
             "ticks": ""
            },
            "type": "mesh3d"
           }
          ],
          "parcoords": [
           {
            "line": {
             "colorbar": {
              "outlinewidth": 0,
              "ticks": ""
             }
            },
            "type": "parcoords"
           }
          ],
          "pie": [
           {
            "automargin": true,
            "type": "pie"
           }
          ],
          "scatter": [
           {
            "marker": {
             "colorbar": {
              "outlinewidth": 0,
              "ticks": ""
             }
            },
            "type": "scatter"
           }
          ],
          "scatter3d": [
           {
            "line": {
             "colorbar": {
              "outlinewidth": 0,
              "ticks": ""
             }
            },
            "marker": {
             "colorbar": {
              "outlinewidth": 0,
              "ticks": ""
             }
            },
            "type": "scatter3d"
           }
          ],
          "scattercarpet": [
           {
            "marker": {
             "colorbar": {
              "outlinewidth": 0,
              "ticks": ""
             }
            },
            "type": "scattercarpet"
           }
          ],
          "scattergeo": [
           {
            "marker": {
             "colorbar": {
              "outlinewidth": 0,
              "ticks": ""
             }
            },
            "type": "scattergeo"
           }
          ],
          "scattergl": [
           {
            "marker": {
             "colorbar": {
              "outlinewidth": 0,
              "ticks": ""
             }
            },
            "type": "scattergl"
           }
          ],
          "scattermapbox": [
           {
            "marker": {
             "colorbar": {
              "outlinewidth": 0,
              "ticks": ""
             }
            },
            "type": "scattermapbox"
           }
          ],
          "scatterpolar": [
           {
            "marker": {
             "colorbar": {
              "outlinewidth": 0,
              "ticks": ""
             }
            },
            "type": "scatterpolar"
           }
          ],
          "scatterpolargl": [
           {
            "marker": {
             "colorbar": {
              "outlinewidth": 0,
              "ticks": ""
             }
            },
            "type": "scatterpolargl"
           }
          ],
          "scatterternary": [
           {
            "marker": {
             "colorbar": {
              "outlinewidth": 0,
              "ticks": ""
             }
            },
            "type": "scatterternary"
           }
          ],
          "surface": [
           {
            "colorbar": {
             "outlinewidth": 0,
             "ticks": ""
            },
            "colorscale": [
             [
              0,
              "#0d0887"
             ],
             [
              0.1111111111111111,
              "#46039f"
             ],
             [
              0.2222222222222222,
              "#7201a8"
             ],
             [
              0.3333333333333333,
              "#9c179e"
             ],
             [
              0.4444444444444444,
              "#bd3786"
             ],
             [
              0.5555555555555556,
              "#d8576b"
             ],
             [
              0.6666666666666666,
              "#ed7953"
             ],
             [
              0.7777777777777778,
              "#fb9f3a"
             ],
             [
              0.8888888888888888,
              "#fdca26"
             ],
             [
              1,
              "#f0f921"
             ]
            ],
            "type": "surface"
           }
          ],
          "table": [
           {
            "cells": {
             "fill": {
              "color": "#EBF0F8"
             },
             "line": {
              "color": "white"
             }
            },
            "header": {
             "fill": {
              "color": "#C8D4E3"
             },
             "line": {
              "color": "white"
             }
            },
            "type": "table"
           }
          ]
         },
         "layout": {
          "annotationdefaults": {
           "arrowcolor": "#2a3f5f",
           "arrowhead": 0,
           "arrowwidth": 1
          },
          "coloraxis": {
           "colorbar": {
            "outlinewidth": 0,
            "ticks": ""
           }
          },
          "colorscale": {
           "diverging": [
            [
             0,
             "#8e0152"
            ],
            [
             0.1,
             "#c51b7d"
            ],
            [
             0.2,
             "#de77ae"
            ],
            [
             0.3,
             "#f1b6da"
            ],
            [
             0.4,
             "#fde0ef"
            ],
            [
             0.5,
             "#f7f7f7"
            ],
            [
             0.6,
             "#e6f5d0"
            ],
            [
             0.7,
             "#b8e186"
            ],
            [
             0.8,
             "#7fbc41"
            ],
            [
             0.9,
             "#4d9221"
            ],
            [
             1,
             "#276419"
            ]
           ],
           "sequential": [
            [
             0,
             "#0d0887"
            ],
            [
             0.1111111111111111,
             "#46039f"
            ],
            [
             0.2222222222222222,
             "#7201a8"
            ],
            [
             0.3333333333333333,
             "#9c179e"
            ],
            [
             0.4444444444444444,
             "#bd3786"
            ],
            [
             0.5555555555555556,
             "#d8576b"
            ],
            [
             0.6666666666666666,
             "#ed7953"
            ],
            [
             0.7777777777777778,
             "#fb9f3a"
            ],
            [
             0.8888888888888888,
             "#fdca26"
            ],
            [
             1,
             "#f0f921"
            ]
           ],
           "sequentialminus": [
            [
             0,
             "#0d0887"
            ],
            [
             0.1111111111111111,
             "#46039f"
            ],
            [
             0.2222222222222222,
             "#7201a8"
            ],
            [
             0.3333333333333333,
             "#9c179e"
            ],
            [
             0.4444444444444444,
             "#bd3786"
            ],
            [
             0.5555555555555556,
             "#d8576b"
            ],
            [
             0.6666666666666666,
             "#ed7953"
            ],
            [
             0.7777777777777778,
             "#fb9f3a"
            ],
            [
             0.8888888888888888,
             "#fdca26"
            ],
            [
             1,
             "#f0f921"
            ]
           ]
          },
          "colorway": [
           "#636efa",
           "#EF553B",
           "#00cc96",
           "#ab63fa",
           "#FFA15A",
           "#19d3f3",
           "#FF6692",
           "#B6E880",
           "#FF97FF",
           "#FECB52"
          ],
          "font": {
           "color": "#2a3f5f"
          },
          "geo": {
           "bgcolor": "white",
           "lakecolor": "white",
           "landcolor": "#E5ECF6",
           "showlakes": true,
           "showland": true,
           "subunitcolor": "white"
          },
          "hoverlabel": {
           "align": "left"
          },
          "hovermode": "closest",
          "mapbox": {
           "style": "light"
          },
          "paper_bgcolor": "white",
          "plot_bgcolor": "#E5ECF6",
          "polar": {
           "angularaxis": {
            "gridcolor": "white",
            "linecolor": "white",
            "ticks": ""
           },
           "bgcolor": "#E5ECF6",
           "radialaxis": {
            "gridcolor": "white",
            "linecolor": "white",
            "ticks": ""
           }
          },
          "scene": {
           "xaxis": {
            "backgroundcolor": "#E5ECF6",
            "gridcolor": "white",
            "gridwidth": 2,
            "linecolor": "white",
            "showbackground": true,
            "ticks": "",
            "zerolinecolor": "white"
           },
           "yaxis": {
            "backgroundcolor": "#E5ECF6",
            "gridcolor": "white",
            "gridwidth": 2,
            "linecolor": "white",
            "showbackground": true,
            "ticks": "",
            "zerolinecolor": "white"
           },
           "zaxis": {
            "backgroundcolor": "#E5ECF6",
            "gridcolor": "white",
            "gridwidth": 2,
            "linecolor": "white",
            "showbackground": true,
            "ticks": "",
            "zerolinecolor": "white"
           }
          },
          "shapedefaults": {
           "line": {
            "color": "#2a3f5f"
           }
          },
          "ternary": {
           "aaxis": {
            "gridcolor": "white",
            "linecolor": "white",
            "ticks": ""
           },
           "baxis": {
            "gridcolor": "white",
            "linecolor": "white",
            "ticks": ""
           },
           "bgcolor": "#E5ECF6",
           "caxis": {
            "gridcolor": "white",
            "linecolor": "white",
            "ticks": ""
           }
          },
          "title": {
           "x": 0.05
          },
          "xaxis": {
           "automargin": true,
           "gridcolor": "white",
           "linecolor": "white",
           "ticks": "",
           "title": {
            "standoff": 15
           },
           "zerolinecolor": "white",
           "zerolinewidth": 2
          },
          "yaxis": {
           "automargin": true,
           "gridcolor": "white",
           "linecolor": "white",
           "ticks": "",
           "title": {
            "standoff": 15
           },
           "zerolinecolor": "white",
           "zerolinewidth": 2
          }
         }
        },
        "title": {
         "text": "The global impact of COVID-19"
        },
        "xaxis": {
         "anchor": "y",
         "domain": [
          0,
          1
         ]
        },
        "yaxis": {
         "anchor": "x",
         "domain": [
          0,
          1
         ]
        }
       }
      },
      "text/html": [
       "<div>\n",
       "        \n",
       "        \n",
       "            <div id=\"838be857-902d-4663-be65-61f10eac355e\" class=\"plotly-graph-div\" style=\"height:525px; width:100%;\"></div>\n",
       "            <script type=\"text/javascript\">\n",
       "                require([\"plotly\"], function(Plotly) {\n",
       "                    window.PLOTLYENV=window.PLOTLYENV || {};\n",
       "                    \n",
       "                if (document.getElementById(\"838be857-902d-4663-be65-61f10eac355e\")) {\n",
       "                    Plotly.newPlot(\n",
       "                        '838be857-902d-4663-be65-61f10eac355e',\n",
       "                        [{\"hovertext\": [\"Mainland China - Confirmed cases: 67217\", \"South Korea - Confirmed cases: 5186\", \"Italy - Confirmed cases: 2502\", \"Iran - Confirmed cases: 2336\", \"Mainland China - Confirmed cases: 1350\", \"Mainland China - Confirmed cases: 1272\", \"Mainland China - Confirmed cases: 1213\", \"Mainland China - Confirmed cases: 1018\", \"Mainland China - Confirmed cases: 990\", \"Mainland China - Confirmed cases: 935\", \"Mainland China - Confirmed cases: 758\", \"Others - Confirmed cases: 706\", \"Mainland China - Confirmed cases: 631\", \"Mainland China - Confirmed cases: 576\", \"Mainland China - Confirmed cases: 538\", \"Mainland China - Confirmed cases: 480\", \"Mainland China - Confirmed cases: 414\", \"Mainland China - Confirmed cases: 338\", \"Mainland China - Confirmed cases: 318\", \"Mainland China - Confirmed cases: 296\", \"Japan - Confirmed cases: 293\", \"Mainland China - Confirmed cases: 252\", \"Mainland China - Confirmed cases: 245\", \"France - Confirmed cases: 204\", \"Germany - Confirmed cases: 196\", \"Mainland China - Confirmed cases: 174\", \"Mainland China - Confirmed cases: 168\", \"Spain - Confirmed cases: 165\", \"Mainland China - Confirmed cases: 146\", \"Mainland China - Confirmed cases: 136\", \"Mainland China - Confirmed cases: 133\", \"Mainland China - Confirmed cases: 125\", \"Singapore - Confirmed cases: 110\", \"Hong Kong - Confirmed cases: 100\", \"Mainland China - Confirmed cases: 93\", \"Mainland China - Confirmed cases: 91\", \"Mainland China - Confirmed cases: 76\", \"Mainland China - Confirmed cases: 75\", \"Mainland China - Confirmed cases: 74\", \"Kuwait - Confirmed cases: 56\", \"Switzerland - Confirmed cases: 56\", \"UK - Confirmed cases: 51\", \"Bahrain - Confirmed cases: 49\", \"US - Confirmed cases: 45\", \"Thailand - Confirmed cases: 43\", \"Taiwan - Confirmed cases: 42\", \"Malaysia - Confirmed cases: 36\", \"Iraq - Confirmed cases: 32\", \"Norway - Confirmed cases: 32\", \"United Arab Emirates - Confirmed cases: 27\", \"Netherlands - Confirmed cases: 24\", \"Austria - Confirmed cases: 21\", \"Sweden - Confirmed cases: 21\", \"US - Confirmed cases: 21\", \"Canada - Confirmed cases: 19\", \"Mainland China - Confirmed cases: 18\", \"Vietnam - Confirmed cases: 16\", \"Australia - Confirmed cases: 13\", \"Belgium - Confirmed cases: 13\", \"Lebanon - Confirmed cases: 13\", \"Israel - Confirmed cases: 12\", \"Oman - Confirmed cases: 12\", \"Australia - Confirmed cases: 11\", \"Iceland - Confirmed cases: 11\", \"US - Confirmed cases: 11\", \"Macau - Confirmed cases: 10\", \"San Marino - Confirmed cases: 10\", \"Australia - Confirmed cases: 9\", \"Canada - Confirmed cases: 9\", \"Croatia - Confirmed cases: 9\", \"Ecuador - Confirmed cases: 7\", \"Greece - Confirmed cases: 7\", \"Qatar - Confirmed cases: 7\", \"Denmark - Confirmed cases: 6\", \"Finland - Confirmed cases: 6\", \"US - Confirmed cases: 6\", \"Algeria - Confirmed cases: 5\", \"Czech Republic - Confirmed cases: 5\", \"India - Confirmed cases: 5\", \"Mexico - Confirmed cases: 5\", \"Pakistan - Confirmed cases: 5\", \"US - Confirmed cases: 4\", \"Australia - Confirmed cases: 3\", \"Azerbaijan - Confirmed cases: 3\", \"Georgia - Confirmed cases: 3\", \"Philippines - Confirmed cases: 3\", \"Romania - Confirmed cases: 3\", \"Russia - Confirmed cases: 3\", \"Australia - Confirmed cases: 2\", \"Brazil - Confirmed cases: 2\", \"Egypt - Confirmed cases: 2\", \"Estonia - Confirmed cases: 2\", \"Indonesia - Confirmed cases: 2\", \"Ireland - Confirmed cases: 2\", \"Portugal - Confirmed cases: 2\", \"Senegal - Confirmed cases: 2\", \"US - Confirmed cases: 2\", \"US - Confirmed cases: 2\", \"US - Confirmed cases: 2\", \"US - Confirmed cases: 2\", \"US - Confirmed cases: 2\", \"US - Confirmed cases: 2\", \"US - Confirmed cases: 2\", \"US - Confirmed cases: 2\", \"US - Confirmed cases: 2\", \"Afghanistan - Confirmed cases: 1\", \"Andorra - Confirmed cases: 1\", \"Argentina - Confirmed cases: 1\", \"Armenia - Confirmed cases: 1\", \"Australia - Confirmed cases: 1\", \"Belarus - Confirmed cases: 1\", \"Cambodia - Confirmed cases: 1\", \"Canada - Confirmed cases: 1\", \"Canada - Confirmed cases: 1\", \"Chile - Confirmed cases: 1\", \"Dominican Republic - Confirmed cases: 1\", \"Jordan - Confirmed cases: 1\", \"Latvia - Confirmed cases: 1\", \"Lithuania - Confirmed cases: 1\", \"Luxembourg - Confirmed cases: 1\", \"Mainland China - Confirmed cases: 1\", \"Monaco - Confirmed cases: 1\", \"Morocco - Confirmed cases: 1\", \"Nepal - Confirmed cases: 1\", \"New Zealand - Confirmed cases: 1\", \"Nigeria - Confirmed cases: 1\", \"North Macedonia - Confirmed cases: 1\", \"Saudi Arabia - Confirmed cases: 1\", \"Sri Lanka - Confirmed cases: 1\", \"US - Confirmed cases: 1\", \"US - Confirmed cases: 1\", \"US - Confirmed cases: 1\", \"US - Confirmed cases: 1\", \"US - Confirmed cases: 1\", \"US - Confirmed cases: 1\", \"US - Confirmed cases: 1\", \"US - Confirmed cases: 1\", \"US - Confirmed cases: 1\", \"US - Confirmed cases: 1\", \"US - Confirmed cases: 1\", \"US - Confirmed cases: 1\", \"US - Confirmed cases: 1\", \"US - Confirmed cases: 1\", \"US - Confirmed cases: 1\", \"US - Confirmed cases: 1\", \"US - Confirmed cases: 1\", \"Ukraine - Confirmed cases: 1\", \"Australia - Confirmed cases: 0\", \"US - Confirmed cases: 0\", \"US - Confirmed cases: 0\", \"US - Confirmed cases: 0\"], \"lat\": [30.9756, 36.0, 43.0, 32.0, 23.3417, 33.882, 29.1832, 27.6104, 31.8257, 27.614, 36.3427, 35.4437, 32.9711, 30.0572, 30.6171, 47.862, 40.1824, 31.202, 38.0428, 26.0789, 36.0, 23.8298, 35.1917, 47.0, 51.0, 24.974, 19.1959, 40.0, 26.8154, 39.3054, 37.5777, 41.2956, 1.2833, 22.3, 43.6661, 36.0611, 41.1129, 44.0935, 37.2692, 29.5, 46.8182, 55.0, 26.0275, 35.4437, 15.0, 23.7, 2.5, 33.0, 60.472, 24.0, 52.1326, 47.5162, 63.0, 47.548, 43.6532, 35.7452, 16.0, -33.8688, 50.8333, 33.8547, 31.0, 21.0, -28.0167, 64.9631, 37.3541, 22.1667, 43.9424, -37.8136, 49.2827, 45.1667, -1.8312, 39.0742, 25.3548, 56.2639, 64.0, 48.033, 28.0339, 49.8175, 21.0, 23.0, 30.3753, 41.7377, -34.9285, 40.1431, 42.3154, 13.0, 46.0, 60.0, -31.9505, -14.235, 26.0, 58.5953, -0.7893, 53.1424, 39.3999, 14.4974, 33.8034, 43.9088, 27.9904, 41.824, 38.4747, 36.5761, 32.7157, 37.563, 45.547, 33.0, 42.5063, -38.4161, 40.0691, -41.4545, 53.7098, 11.55, 45.5017, 42.9849, -35.6751, 18.7357, 31.24, 56.8796, 55.1694, 49.8144, 31.6927, 43.7333, 31.7917, 28.1667, -40.9006, 9.082, 41.6086, 24.0, 7.0, 42.1767, 37.8715, 42.3601, 40.745, 34.0522, 43.0731, 33.2918, 40.7128, 33.7879, 39.0916, 29.4241, 27.3364, 38.578, 33.4255, 45.775, 35.8032, 41.122, 48.3794, 35.4437, 29.3829, 41.2545, 38.2721], \"lon\": [112.2707, 128.0, 12.0, 53.0, 113.4244, 113.614, 120.0934, 111.7088, 117.2264, 115.7221, 118.1498, 139.638, 119.455, 107.874, 102.7103, 127.7615, 116.4142, 121.4491, 114.5149, 117.9874, 138.0, 108.7881, 108.8701, 2.0, 9.0, 101.487, 109.7453, -4.0, 106.8748, 117.323, 112.2922, 122.6085, 103.8333, 114.2, 126.1923, 103.8343, 85.2401, 113.9448, 106.1655, 47.75, 8.2275, -3.0, 50.55, 139.638, 101.0, 121.0, 112.5, 44.0, 8.4689, 54.0, 5.2913, 14.5501, 16.0, -121.9836, -79.3832, 95.9956, 108.0, 151.2093, 4.0, 35.8623, 35.0, 57.0, 153.4, -19.0208, -121.9552, 113.55, 12.4578, 144.9631, -123.1207, 15.5, -78.1834, 21.8243, 51.1839, 9.5018, 26.0, -121.8339, 1.6596, 15.473, 78.0, -102.0, 69.3451, -87.6976, 138.6007, 47.5769, 43.3569, 122.0, 25.0, 90.0, 115.8605, -51.9253, 30.0, 25.0136, 113.9213, -7.6921, -8.2245, -14.4524, -84.3963, -71.826, -82.3018, -71.4128, -121.3542, -120.9876, -117.1611, -122.3255, -123.1386, 65.0, 1.5218, -63.6167, 45.0382, 145.9707, 27.9534, 104.9167, -73.5673, -81.2453, -71.543, -70.1627, 36.51, 24.6032, 23.8813, 6.1317, 88.0924, 7.4167, -7.0926, 84.25, 174.886, 8.6753, 21.7453, 45.0, 81.0, -71.1449, -122.273, -71.0589, -123.8695, -118.2437, -89.4012, -112.4291, -74.006, -117.8531, -120.8039, -98.4936, -82.5307, -122.9888, -111.94, -118.7606, -78.5661, -73.7949, 31.1656, 139.638, -98.6134, -95.9758, -121.9399], \"marker\": {\"color\": \"blue\", \"line\": {\"color\": \"rgba(102, 102, 102)\", \"width\": 0}, \"opacity\": 0.5, \"size\": [109.32065615440955, 8.434427642066261, 4.069212873206669, 3.7992331222265303, 2.1956184567661885, 2.068760501486364, 1.9728038430054715, 1.6556589548059109, 1.610120201628538, 1.5206690793158415, 1.2327991038731636, 1.148227133686614, 1.0262483305329368, 0.9367972082202404, 0.8749946146223773, 0.7806643401835336, 0.6733229934082977, 0.5497178062125716, 0.517190125371591, 0.4814096764465124, 0.4765305243203653, 0.40984877859635516, 0.39846409030201196, 0.33178234457800176, 0.31877127224160956, 0.2829908233165309, 0.2732325190642368, 0.2683533669380897, 0.23745207013915814, 0.22118822971866786, 0.21630907759252077, 0.20329800525612854, 0.17890224462539311, 0.16263840420490283, 0.15125371591055964, 0.1480009478264616, 0.12360518719572616, 0.12197880315367712, 0.1203524191116281, 0.0910775063547456, 0.0910775063547456, 0.08294558614450044, 0.07969281806040239, 0.07318728189220627, 0.06993451380810822, 0.0683081297660592, 0.05854982551376502, 0.05204428934556891, 0.05204428934556891, 0.043912369135323766, 0.03903321700917668, 0.0341540648830296, 0.0341540648830296, 0.0341540648830296, 0.03090129679893154, 0.02927491275688251, 0.026022144672784454, 0.02114299254663737, 0.02114299254663737, 0.02114299254663737, 0.01951660850458834, 0.01951660850458834, 0.017890224462539312, 0.017890224462539312, 0.017890224462539312, 0.016263840420490283, 0.016263840420490283, 0.014637456378441256, 0.014637456378441256, 0.014637456378441256, 0.0113846882943432, 0.0113846882943432, 0.0113846882943432, 0.00975830425229417, 0.00975830425229417, 0.00975830425229417, 0.008131920210245142, 0.008131920210245142, 0.008131920210245142, 0.008131920210245142, 0.008131920210245142, 0.006505536168196113, 0.004879152126147085, 0.004879152126147085, 0.004879152126147085, 0.004879152126147085, 0.004879152126147085, 0.004879152126147085, 0.0032527680840980567, 0.0032527680840980567, 0.0032527680840980567, 0.0032527680840980567, 0.0032527680840980567, 0.0032527680840980567, 0.0032527680840980567, 0.0032527680840980567, 0.0032527680840980567, 0.0032527680840980567, 0.0032527680840980567, 0.0032527680840980567, 0.0032527680840980567, 0.0032527680840980567, 0.0032527680840980567, 0.0032527680840980567, 0.0032527680840980567, 0.0016263840420490284, 0.0016263840420490284, 0.0016263840420490284, 0.0016263840420490284, 0.0016263840420490284, 0.0016263840420490284, 0.0016263840420490284, 0.0016263840420490284, 0.0016263840420490284, 0.0016263840420490284, 0.0016263840420490284, 0.0016263840420490284, 0.0016263840420490284, 0.0016263840420490284, 0.0016263840420490284, 0.0016263840420490284, 0.0016263840420490284, 0.0016263840420490284, 0.0016263840420490284, 0.0016263840420490284, 0.0016263840420490284, 0.0016263840420490284, 0.0016263840420490284, 0.0016263840420490284, 0.0016263840420490284, 0.0016263840420490284, 0.0016263840420490284, 0.0016263840420490284, 0.0016263840420490284, 0.0016263840420490284, 0.0016263840420490284, 0.0016263840420490284, 0.0016263840420490284, 0.0016263840420490284, 0.0016263840420490284, 0.0016263840420490284, 0.0016263840420490284, 0.0016263840420490284, 0.0016263840420490284, 0.0016263840420490284, 0.0016263840420490284, 0.0016263840420490284, 0.0, 0.0, 0.0, 0.0]}, \"name\": \"Confirmed cases\", \"type\": \"scattergeo\"}, {\"hovertext\": [\"Mainland China - Death: 2835\", \"South Korea - Death: 28\", \"Italy - Death: 79\", \"Iran - Death: 77\", \"Mainland China - Death: 7\", \"Mainland China - Death: 22\", \"Mainland China - Death: 1\", \"Mainland China - Death: 4\", \"Mainland China - Death: 6\", \"Mainland China - Death: 1\", \"Mainland China - Death: 6\", \"Others - Death: 6\", \"Mainland China - Death: 0\", \"Mainland China - Death: 6\", \"Mainland China - Death: 3\", \"Mainland China - Death: 13\", \"Mainland China - Death: 8\", \"Mainland China - Death: 3\", \"Mainland China - Death: 6\", \"Mainland China - Death: 1\", \"Japan - Death: 6\", \"Mainland China - Death: 2\", \"Mainland China - Death: 1\", \"France - Death: 4\", \"Germany - Death: 0\", \"Mainland China - Death: 2\", \"Mainland China - Death: 5\", \"Spain - Death: 1\", \"Mainland China - Death: 2\", \"Mainland China - Death: 3\", \"Mainland China - Death: 0\", \"Mainland China - Death: 1\", \"Singapore - Death: 0\", \"Hong Kong - Death: 2\", \"Mainland China - Death: 1\", \"Mainland China - Death: 2\", \"Mainland China - Death: 3\", \"Mainland China - Death: 1\", \"Mainland China - Death: 0\", \"Kuwait - Death: 0\", \"Switzerland - Death: 0\", \"UK - Death: 0\", \"Bahrain - Death: 0\", \"US - Death: 0\", \"Thailand - Death: 1\", \"Taiwan - Death: 1\", \"Malaysia - Death: 0\", \"Iraq - Death: 0\", \"Norway - Death: 0\", \"United Arab Emirates - Death: 0\", \"Netherlands - Death: 0\", \"Austria - Death: 0\", \"Sweden - Death: 0\", \"US - Death: 6\", \"Canada - Death: 0\", \"Mainland China - Death: 0\", \"Vietnam - Death: 0\", \"Australia - Death: 0\", \"Belgium - Death: 0\", \"Lebanon - Death: 0\", \"Israel - Death: 0\", \"Oman - Death: 0\", \"Australia - Death: 0\", \"Iceland - Death: 0\", \"US - Death: 0\", \"Macau - Death: 0\", \"San Marino - Death: 1\", \"Australia - Death: 0\", \"Canada - Death: 0\", \"Croatia - Death: 0\", \"Ecuador - Death: 0\", \"Greece - Death: 0\", \"Qatar - Death: 0\", \"Denmark - Death: 0\", \"Finland - Death: 0\", \"US - Death: 1\", \"Algeria - Death: 0\", \"Czech Republic - Death: 0\", \"India - Death: 0\", \"Mexico - Death: 0\", \"Pakistan - Death: 0\", \"US - Death: 0\", \"Australia - Death: 0\", \"Azerbaijan - Death: 0\", \"Georgia - Death: 0\", \"Philippines - Death: 1\", \"Romania - Death: 0\", \"Russia - Death: 0\", \"Australia - Death: 1\", \"Brazil - Death: 0\", \"Egypt - Death: 0\", \"Estonia - Death: 0\", \"Indonesia - Death: 0\", \"Ireland - Death: 0\", \"Portugal - Death: 0\", \"Senegal - Death: 0\", \"US - Death: 0\", \"US - Death: 0\", \"US - Death: 0\", \"US - Death: 0\", \"US - Death: 0\", \"US - Death: 0\", \"US - Death: 0\", \"US - Death: 0\", \"US - Death: 0\", \"Afghanistan - Death: 0\", \"Andorra - Death: 0\", \"Argentina - Death: 0\", \"Armenia - Death: 0\", \"Australia - Death: 0\", \"Belarus - Death: 0\", \"Cambodia - Death: 0\", \"Canada - Death: 0\", \"Canada - Death: 0\", \"Chile - Death: 0\", \"Dominican Republic - Death: 0\", \"Jordan - Death: 0\", \"Latvia - Death: 0\", \"Lithuania - Death: 0\", \"Luxembourg - Death: 0\", \"Mainland China - Death: 0\", \"Monaco - Death: 0\", \"Morocco - Death: 0\", \"Nepal - Death: 0\", \"New Zealand - Death: 0\", \"Nigeria - Death: 0\", \"North Macedonia - Death: 0\", \"Saudi Arabia - Death: 0\", \"Sri Lanka - Death: 0\", \"US - Death: 0\", \"US - Death: 0\", \"US - Death: 0\", \"US - Death: 0\", \"US - Death: 0\", \"US - Death: 0\", \"US - Death: 0\", \"US - Death: 0\", \"US - Death: 0\", \"US - Death: 0\", \"US - Death: 0\", \"US - Death: 0\", \"US - Death: 0\", \"US - Death: 0\", \"US - Death: 0\", \"US - Death: 0\", \"US - Death: 0\", \"Ukraine - Death: 0\", \"Australia - Death: 0\", \"US - Death: 0\", \"US - Death: 0\", \"US - Death: 0\"], \"lat\": [30.9756, 36.0, 43.0, 32.0, 23.3417, 33.882, 29.1832, 27.6104, 31.8257, 27.614, 36.3427, 35.4437, 32.9711, 30.0572, 30.6171, 47.862, 40.1824, 31.202, 38.0428, 26.0789, 36.0, 23.8298, 35.1917, 47.0, 51.0, 24.974, 19.1959, 40.0, 26.8154, 39.3054, 37.5777, 41.2956, 1.2833, 22.3, 43.6661, 36.0611, 41.1129, 44.0935, 37.2692, 29.5, 46.8182, 55.0, 26.0275, 35.4437, 15.0, 23.7, 2.5, 33.0, 60.472, 24.0, 52.1326, 47.5162, 63.0, 47.548, 43.6532, 35.7452, 16.0, -33.8688, 50.8333, 33.8547, 31.0, 21.0, -28.0167, 64.9631, 37.3541, 22.1667, 43.9424, -37.8136, 49.2827, 45.1667, -1.8312, 39.0742, 25.3548, 56.2639, 64.0, 48.033, 28.0339, 49.8175, 21.0, 23.0, 30.3753, 41.7377, -34.9285, 40.1431, 42.3154, 13.0, 46.0, 60.0, -31.9505, -14.235, 26.0, 58.5953, -0.7893, 53.1424, 39.3999, 14.4974, 33.8034, 43.9088, 27.9904, 41.824, 38.4747, 36.5761, 32.7157, 37.563, 45.547, 33.0, 42.5063, -38.4161, 40.0691, -41.4545, 53.7098, 11.55, 45.5017, 42.9849, -35.6751, 18.7357, 31.24, 56.8796, 55.1694, 49.8144, 31.6927, 43.7333, 31.7917, 28.1667, -40.9006, 9.082, 41.6086, 24.0, 7.0, 42.1767, 37.8715, 42.3601, 40.745, 34.0522, 43.0731, 33.2918, 40.7128, 33.7879, 39.0916, 29.4241, 27.3364, 38.578, 33.4255, 45.775, 35.8032, 41.122, 48.3794, 35.4437, 29.3829, 41.2545, 38.2721], \"lon\": [112.2707, 128.0, 12.0, 53.0, 113.4244, 113.614, 120.0934, 111.7088, 117.2264, 115.7221, 118.1498, 139.638, 119.455, 107.874, 102.7103, 127.7615, 116.4142, 121.4491, 114.5149, 117.9874, 138.0, 108.7881, 108.8701, 2.0, 9.0, 101.487, 109.7453, -4.0, 106.8748, 117.323, 112.2922, 122.6085, 103.8333, 114.2, 126.1923, 103.8343, 85.2401, 113.9448, 106.1655, 47.75, 8.2275, -3.0, 50.55, 139.638, 101.0, 121.0, 112.5, 44.0, 8.4689, 54.0, 5.2913, 14.5501, 16.0, -121.9836, -79.3832, 95.9956, 108.0, 151.2093, 4.0, 35.8623, 35.0, 57.0, 153.4, -19.0208, -121.9552, 113.55, 12.4578, 144.9631, -123.1207, 15.5, -78.1834, 21.8243, 51.1839, 9.5018, 26.0, -121.8339, 1.6596, 15.473, 78.0, -102.0, 69.3451, -87.6976, 138.6007, 47.5769, 43.3569, 122.0, 25.0, 90.0, 115.8605, -51.9253, 30.0, 25.0136, 113.9213, -7.6921, -8.2245, -14.4524, -84.3963, -71.826, -82.3018, -71.4128, -121.3542, -120.9876, -117.1611, -122.3255, -123.1386, 65.0, 1.5218, -63.6167, 45.0382, 145.9707, 27.9534, 104.9167, -73.5673, -81.2453, -71.543, -70.1627, 36.51, 24.6032, 23.8813, 6.1317, 88.0924, 7.4167, -7.0926, 84.25, 174.886, 8.6753, 21.7453, 45.0, 81.0, -71.1449, -122.273, -71.0589, -123.8695, -118.2437, -89.4012, -112.4291, -74.006, -117.8531, -120.8039, -98.4936, -82.5307, -122.9888, -111.94, -118.7606, -78.5661, -73.7949, 31.1656, 139.638, -98.6134, -95.9758, -121.9399], \"marker\": {\"color\": \"red\", \"line\": {\"color\": \"rgba(102, 102, 102)\", \"width\": 0}, \"opacity\": 0.5, \"size\": [4.610798759208995, 0.0455387531773728, 0.12848433932187325, 0.12523157123777517, 0.0113846882943432, 0.035780448925078624, 0.0016263840420490284, 0.006505536168196113, 0.00975830425229417, 0.0016263840420490284, 0.00975830425229417, 0.00975830425229417, 0.0, 0.00975830425229417, 0.004879152126147085, 0.02114299254663737, 0.013011072336392227, 0.004879152126147085, 0.00975830425229417, 0.0016263840420490284, 0.00975830425229417, 0.0032527680840980567, 0.0016263840420490284, 0.006505536168196113, 0.0, 0.0032527680840980567, 0.008131920210245142, 0.0016263840420490284, 0.0032527680840980567, 0.004879152126147085, 0.0, 0.0016263840420490284, 0.0, 0.0032527680840980567, 0.0016263840420490284, 0.0032527680840980567, 0.004879152126147085, 0.0016263840420490284, 0.0, 0.0, 0.0, 0.0, 0.0, 0.0, 0.0016263840420490284, 0.0016263840420490284, 0.0, 0.0, 0.0, 0.0, 0.0, 0.0, 0.0, 0.00975830425229417, 0.0, 0.0, 0.0, 0.0, 0.0, 0.0, 0.0, 0.0, 0.0, 0.0, 0.0, 0.0, 0.0016263840420490284, 0.0, 0.0, 0.0, 0.0, 0.0, 0.0, 0.0, 0.0, 0.0016263840420490284, 0.0, 0.0, 0.0, 0.0, 0.0, 0.0, 0.0, 0.0, 0.0, 0.0016263840420490284, 0.0, 0.0, 0.0016263840420490284, 0.0, 0.0, 0.0, 0.0, 0.0, 0.0, 0.0, 0.0, 0.0, 0.0, 0.0, 0.0, 0.0, 0.0, 0.0, 0.0, 0.0, 0.0, 0.0, 0.0, 0.0, 0.0, 0.0, 0.0, 0.0, 0.0, 0.0, 0.0, 0.0, 0.0, 0.0, 0.0, 0.0, 0.0, 0.0, 0.0, 0.0, 0.0, 0.0, 0.0, 0.0, 0.0, 0.0, 0.0, 0.0, 0.0, 0.0, 0.0, 0.0, 0.0, 0.0, 0.0, 0.0, 0.0, 0.0, 0.0, 0.0, 0.0, 0.0, 0.0, 0.0, 0.0]}, \"name\": \"Deaths\", \"type\": \"scattergeo\"}, {\"hovertext\": [\"Mainland China - Recovered: 36208\", \"South Korea - Recovered: 30\", \"Italy - Recovered: 160\", \"Iran - Recovered: 291\", \"Mainland China - Recovered: 1101\", \"Mainland China - Recovered: 1231\", \"Mainland China - Recovered: 1093\", \"Mainland China - Recovered: 906\", \"Mainland China - Recovered: 936\", \"Mainland China - Recovered: 870\", \"Mainland China - Recovered: 511\", \"Others - Recovered: 10\", \"Mainland China - Recovered: 562\", \"Mainland China - Recovered: 490\", \"Mainland China - Recovered: 394\", \"Mainland China - Recovered: 366\", \"Mainland China - Recovered: 288\", \"Mainland China - Recovered: 294\", \"Mainland China - Recovered: 300\", \"Mainland China - Recovered: 260\", \"Japan - Recovered: 43\", \"Mainland China - Recovered: 202\", \"Mainland China - Recovered: 216\", \"France - Recovered: 12\", \"Germany - Recovered: 16\", \"Mainland China - Recovered: 169\", \"Mainland China - Recovered: 155\", \"Spain - Recovered: 2\", \"Mainland China - Recovered: 114\", \"Mainland China - Recovered: 124\", \"Mainland China - Recovered: 124\", \"Mainland China - Recovered: 106\", \"Singapore - Recovered: 78\", \"Hong Kong - Recovered: 37\", \"Mainland China - Recovered: 83\", \"Mainland China - Recovered: 86\", \"Mainland China - Recovered: 68\", \"Mainland China - Recovered: 59\", \"Mainland China - Recovered: 69\", \"Kuwait - Recovered: 0\", \"Switzerland - Recovered: 2\", \"UK - Recovered: 8\", \"Bahrain - Recovered: 0\", \"US - Recovered: 0\", \"Thailand - Recovered: 31\", \"Taiwan - Recovered: 12\", \"Malaysia - Recovered: 22\", \"Iraq - Recovered: 0\", \"Norway - Recovered: 0\", \"United Arab Emirates - Recovered: 5\", \"Netherlands - Recovered: 0\", \"Austria - Recovered: 0\", \"Sweden - Recovered: 0\", \"US - Recovered: 1\", \"Canada - Recovered: 2\", \"Mainland China - Recovered: 18\", \"Vietnam - Recovered: 16\", \"Australia - Recovered: 4\", \"Belgium - Recovered: 1\", \"Lebanon - Recovered: 0\", \"Israel - Recovered: 1\", \"Oman - Recovered: 2\", \"Australia - Recovered: 1\", \"Iceland - Recovered: 0\", \"US - Recovered: 1\", \"Macau - Recovered: 9\", \"San Marino - Recovered: 0\", \"Australia - Recovered: 4\", \"Canada - Recovered: 3\", \"Croatia - Recovered: 0\", \"Ecuador - Recovered: 0\", \"Greece - Recovered: 0\", \"Qatar - Recovered: 0\", \"Denmark - Recovered: 0\", \"Finland - Recovered: 1\", \"US - Recovered: 0\", \"Algeria - Recovered: 0\", \"Czech Republic - Recovered: 0\", \"India - Recovered: 3\", \"Mexico - Recovered: 1\", \"Pakistan - Recovered: 0\", \"US - Recovered: 2\", \"Australia - Recovered: 2\", \"Azerbaijan - Recovered: 0\", \"Georgia - Recovered: 0\", \"Philippines - Recovered: 1\", \"Romania - Recovered: 0\", \"Russia - Recovered: 2\", \"Australia - Recovered: 0\", \"Brazil - Recovered: 0\", \"Egypt - Recovered: 1\", \"Estonia - Recovered: 0\", \"Indonesia - Recovered: 0\", \"Ireland - Recovered: 0\", \"Portugal - Recovered: 0\", \"Senegal - Recovered: 0\", \"US - Recovered: 0\", \"US - Recovered: 0\", \"US - Recovered: 0\", \"US - Recovered: 0\", \"US - Recovered: 0\", \"US - Recovered: 0\", \"US - Recovered: 1\", \"US - Recovered: 0\", \"US - Recovered: 0\", \"Afghanistan - Recovered: 0\", \"Andorra - Recovered: 0\", \"Argentina - Recovered: 0\", \"Armenia - Recovered: 0\", \"Australia - Recovered: 0\", \"Belarus - Recovered: 0\", \"Cambodia - Recovered: 1\", \"Canada - Recovered: 0\", \"Canada - Recovered: 1\", \"Chile - Recovered: 0\", \"Dominican Republic - Recovered: 0\", \"Jordan - Recovered: 0\", \"Latvia - Recovered: 0\", \"Lithuania - Recovered: 0\", \"Luxembourg - Recovered: 0\", \"Mainland China - Recovered: 1\", \"Monaco - Recovered: 0\", \"Morocco - Recovered: 0\", \"Nepal - Recovered: 1\", \"New Zealand - Recovered: 0\", \"Nigeria - Recovered: 0\", \"North Macedonia - Recovered: 0\", \"Saudi Arabia - Recovered: 0\", \"Sri Lanka - Recovered: 1\", \"US - Recovered: 0\", \"US - Recovered: 0\", \"US - Recovered: 1\", \"US - Recovered: 0\", \"US - Recovered: 0\", \"US - Recovered: 1\", \"US - Recovered: 0\", \"US - Recovered: 0\", \"US - Recovered: 0\", \"US - Recovered: 0\", \"US - Recovered: 0\", \"US - Recovered: 0\", \"US - Recovered: 0\", \"US - Recovered: 1\", \"US - Recovered: 0\", \"US - Recovered: 0\", \"US - Recovered: 0\", \"Ukraine - Recovered: 0\", \"Australia - Recovered: 0\", \"US - Recovered: 0\", \"US - Recovered: 0\", \"US - Recovered: 0\"], \"lat\": [30.9756, 36.0, 43.0, 32.0, 23.3417, 33.882, 29.1832, 27.6104, 31.8257, 27.614, 36.3427, 35.4437, 32.9711, 30.0572, 30.6171, 47.862, 40.1824, 31.202, 38.0428, 26.0789, 36.0, 23.8298, 35.1917, 47.0, 51.0, 24.974, 19.1959, 40.0, 26.8154, 39.3054, 37.5777, 41.2956, 1.2833, 22.3, 43.6661, 36.0611, 41.1129, 44.0935, 37.2692, 29.5, 46.8182, 55.0, 26.0275, 35.4437, 15.0, 23.7, 2.5, 33.0, 60.472, 24.0, 52.1326, 47.5162, 63.0, 47.548, 43.6532, 35.7452, 16.0, -33.8688, 50.8333, 33.8547, 31.0, 21.0, -28.0167, 64.9631, 37.3541, 22.1667, 43.9424, -37.8136, 49.2827, 45.1667, -1.8312, 39.0742, 25.3548, 56.2639, 64.0, 48.033, 28.0339, 49.8175, 21.0, 23.0, 30.3753, 41.7377, -34.9285, 40.1431, 42.3154, 13.0, 46.0, 60.0, -31.9505, -14.235, 26.0, 58.5953, -0.7893, 53.1424, 39.3999, 14.4974, 33.8034, 43.9088, 27.9904, 41.824, 38.4747, 36.5761, 32.7157, 37.563, 45.547, 33.0, 42.5063, -38.4161, 40.0691, -41.4545, 53.7098, 11.55, 45.5017, 42.9849, -35.6751, 18.7357, 31.24, 56.8796, 55.1694, 49.8144, 31.6927, 43.7333, 31.7917, 28.1667, -40.9006, 9.082, 41.6086, 24.0, 7.0, 42.1767, 37.8715, 42.3601, 40.745, 34.0522, 43.0731, 33.2918, 40.7128, 33.7879, 39.0916, 29.4241, 27.3364, 38.578, 33.4255, 45.775, 35.8032, 41.122, 48.3794, 35.4437, 29.3829, 41.2545, 38.2721], \"lon\": [112.2707, 128.0, 12.0, 53.0, 113.4244, 113.614, 120.0934, 111.7088, 117.2264, 115.7221, 118.1498, 139.638, 119.455, 107.874, 102.7103, 127.7615, 116.4142, 121.4491, 114.5149, 117.9874, 138.0, 108.7881, 108.8701, 2.0, 9.0, 101.487, 109.7453, -4.0, 106.8748, 117.323, 112.2922, 122.6085, 103.8333, 114.2, 126.1923, 103.8343, 85.2401, 113.9448, 106.1655, 47.75, 8.2275, -3.0, 50.55, 139.638, 101.0, 121.0, 112.5, 44.0, 8.4689, 54.0, 5.2913, 14.5501, 16.0, -121.9836, -79.3832, 95.9956, 108.0, 151.2093, 4.0, 35.8623, 35.0, 57.0, 153.4, -19.0208, -121.9552, 113.55, 12.4578, 144.9631, -123.1207, 15.5, -78.1834, 21.8243, 51.1839, 9.5018, 26.0, -121.8339, 1.6596, 15.473, 78.0, -102.0, 69.3451, -87.6976, 138.6007, 47.5769, 43.3569, 122.0, 25.0, 90.0, 115.8605, -51.9253, 30.0, 25.0136, 113.9213, -7.6921, -8.2245, -14.4524, -84.3963, -71.826, -82.3018, -71.4128, -121.3542, -120.9876, -117.1611, -122.3255, -123.1386, 65.0, 1.5218, -63.6167, 45.0382, 145.9707, 27.9534, 104.9167, -73.5673, -81.2453, -71.543, -70.1627, 36.51, 24.6032, 23.8813, 6.1317, 88.0924, 7.4167, -7.0926, 84.25, 174.886, 8.6753, 21.7453, 45.0, 81.0, -71.1449, -122.273, -71.0589, -123.8695, -118.2437, -89.4012, -112.4291, -74.006, -117.8531, -120.8039, -98.4936, -82.5307, -122.9888, -111.94, -118.7606, -78.5661, -73.7949, 31.1656, 139.638, -98.6134, -95.9758, -121.9399], \"marker\": {\"color\": \"green\", \"line\": {\"color\": \"rgba(102, 102, 102)\", \"width\": 0}, \"opacity\": 0.5, \"size\": [58.88811339451122, 0.04879152126147085, 0.26022144672784453, 0.4732777562362673, 1.7906488302959802, 2.002078755762354, 1.7776377579595881, 1.4735039420964198, 1.5222954633578907, 1.4149541165826547, 0.8310822454870536, 0.016263840420490283, 0.914027831631554, 0.7969281806040239, 0.6407953125673171, 0.5952565593899444, 0.4683986041101202, 0.47815690836241437, 0.4879152126147085, 0.42285985093274736, 0.06993451380810822, 0.32852957649390374, 0.3512989530825901, 0.01951660850458834, 0.026022144672784454, 0.2748589031062858, 0.2520895265175994, 0.0032527680840980567, 0.18540778079358924, 0.20167162121407953, 0.20167162121407953, 0.172396708457197, 0.1268579552798242, 0.06017620955581405, 0.13498987549006936, 0.13986902761621645, 0.11059411485933393, 0.09595665848089267, 0.11222049890138296, 0.0, 0.0032527680840980567, 0.013011072336392227, 0.0, 0.0, 0.05041790530351988, 0.01951660850458834, 0.035780448925078624, 0.0, 0.0, 0.008131920210245142, 0.0, 0.0, 0.0, 0.0016263840420490284, 0.0032527680840980567, 0.02927491275688251, 0.026022144672784454, 0.006505536168196113, 0.0016263840420490284, 0.0, 0.0016263840420490284, 0.0032527680840980567, 0.0016263840420490284, 0.0, 0.0016263840420490284, 0.014637456378441256, 0.0, 0.006505536168196113, 0.004879152126147085, 0.0, 0.0, 0.0, 0.0, 0.0, 0.0016263840420490284, 0.0, 0.0, 0.0, 0.004879152126147085, 0.0016263840420490284, 0.0, 0.0032527680840980567, 0.0032527680840980567, 0.0, 0.0, 0.0016263840420490284, 0.0, 0.0032527680840980567, 0.0, 0.0, 0.0016263840420490284, 0.0, 0.0, 0.0, 0.0, 0.0, 0.0, 0.0, 0.0, 0.0, 0.0, 0.0, 0.0016263840420490284, 0.0, 0.0, 0.0, 0.0, 0.0, 0.0, 0.0, 0.0, 0.0016263840420490284, 0.0, 0.0016263840420490284, 0.0, 0.0, 0.0, 0.0, 0.0, 0.0, 0.0016263840420490284, 0.0, 0.0, 0.0016263840420490284, 0.0, 0.0, 0.0, 0.0, 0.0016263840420490284, 0.0, 0.0, 0.0016263840420490284, 0.0, 0.0, 0.0016263840420490284, 0.0, 0.0, 0.0, 0.0, 0.0, 0.0, 0.0, 0.0016263840420490284, 0.0, 0.0, 0.0, 0.0, 0.0, 0.0, 0.0, 0.0]}, \"name\": \"Recovered\", \"type\": \"scattergeo\"}],\n",
       "                        {\"legend\": {\"font\": {\"color\": \"black\", \"family\": \"sans-serif\", \"size\": 20}, \"itemsizing\": \"constant\"}, \"template\": {\"data\": {\"bar\": [{\"error_x\": {\"color\": \"#2a3f5f\"}, \"error_y\": {\"color\": \"#2a3f5f\"}, \"marker\": {\"line\": {\"color\": \"#E5ECF6\", \"width\": 0.5}}, \"type\": \"bar\"}], \"barpolar\": [{\"marker\": {\"line\": {\"color\": \"#E5ECF6\", \"width\": 0.5}}, \"type\": \"barpolar\"}], \"carpet\": [{\"aaxis\": {\"endlinecolor\": \"#2a3f5f\", \"gridcolor\": \"white\", \"linecolor\": \"white\", \"minorgridcolor\": \"white\", \"startlinecolor\": \"#2a3f5f\"}, \"baxis\": {\"endlinecolor\": \"#2a3f5f\", \"gridcolor\": \"white\", \"linecolor\": \"white\", \"minorgridcolor\": \"white\", \"startlinecolor\": \"#2a3f5f\"}, \"type\": \"carpet\"}], \"choropleth\": [{\"colorbar\": {\"outlinewidth\": 0, \"ticks\": \"\"}, \"type\": \"choropleth\"}], \"contour\": [{\"colorbar\": {\"outlinewidth\": 0, \"ticks\": \"\"}, \"colorscale\": [[0.0, \"#0d0887\"], [0.1111111111111111, \"#46039f\"], [0.2222222222222222, \"#7201a8\"], [0.3333333333333333, \"#9c179e\"], [0.4444444444444444, \"#bd3786\"], [0.5555555555555556, \"#d8576b\"], [0.6666666666666666, \"#ed7953\"], [0.7777777777777778, \"#fb9f3a\"], [0.8888888888888888, \"#fdca26\"], [1.0, \"#f0f921\"]], \"type\": \"contour\"}], \"contourcarpet\": [{\"colorbar\": {\"outlinewidth\": 0, \"ticks\": \"\"}, \"type\": \"contourcarpet\"}], \"heatmap\": [{\"colorbar\": {\"outlinewidth\": 0, \"ticks\": \"\"}, \"colorscale\": [[0.0, \"#0d0887\"], [0.1111111111111111, \"#46039f\"], [0.2222222222222222, \"#7201a8\"], [0.3333333333333333, \"#9c179e\"], [0.4444444444444444, \"#bd3786\"], [0.5555555555555556, \"#d8576b\"], [0.6666666666666666, \"#ed7953\"], [0.7777777777777778, \"#fb9f3a\"], [0.8888888888888888, \"#fdca26\"], [1.0, \"#f0f921\"]], \"type\": \"heatmap\"}], \"heatmapgl\": [{\"colorbar\": {\"outlinewidth\": 0, \"ticks\": \"\"}, \"colorscale\": [[0.0, \"#0d0887\"], [0.1111111111111111, \"#46039f\"], [0.2222222222222222, \"#7201a8\"], [0.3333333333333333, \"#9c179e\"], [0.4444444444444444, \"#bd3786\"], [0.5555555555555556, \"#d8576b\"], [0.6666666666666666, \"#ed7953\"], [0.7777777777777778, \"#fb9f3a\"], [0.8888888888888888, \"#fdca26\"], [1.0, \"#f0f921\"]], \"type\": \"heatmapgl\"}], \"histogram\": [{\"marker\": {\"colorbar\": {\"outlinewidth\": 0, \"ticks\": \"\"}}, \"type\": \"histogram\"}], \"histogram2d\": [{\"colorbar\": {\"outlinewidth\": 0, \"ticks\": \"\"}, \"colorscale\": [[0.0, \"#0d0887\"], [0.1111111111111111, \"#46039f\"], [0.2222222222222222, \"#7201a8\"], [0.3333333333333333, \"#9c179e\"], [0.4444444444444444, \"#bd3786\"], [0.5555555555555556, \"#d8576b\"], [0.6666666666666666, \"#ed7953\"], [0.7777777777777778, \"#fb9f3a\"], [0.8888888888888888, \"#fdca26\"], [1.0, \"#f0f921\"]], \"type\": \"histogram2d\"}], \"histogram2dcontour\": [{\"colorbar\": {\"outlinewidth\": 0, \"ticks\": \"\"}, \"colorscale\": [[0.0, \"#0d0887\"], [0.1111111111111111, \"#46039f\"], [0.2222222222222222, \"#7201a8\"], [0.3333333333333333, \"#9c179e\"], [0.4444444444444444, \"#bd3786\"], [0.5555555555555556, \"#d8576b\"], [0.6666666666666666, \"#ed7953\"], [0.7777777777777778, \"#fb9f3a\"], [0.8888888888888888, \"#fdca26\"], [1.0, \"#f0f921\"]], \"type\": \"histogram2dcontour\"}], \"mesh3d\": [{\"colorbar\": {\"outlinewidth\": 0, \"ticks\": \"\"}, \"type\": \"mesh3d\"}], \"parcoords\": [{\"line\": {\"colorbar\": {\"outlinewidth\": 0, \"ticks\": \"\"}}, \"type\": \"parcoords\"}], \"pie\": [{\"automargin\": true, \"type\": \"pie\"}], \"scatter\": [{\"marker\": {\"colorbar\": {\"outlinewidth\": 0, \"ticks\": \"\"}}, \"type\": \"scatter\"}], \"scatter3d\": [{\"line\": {\"colorbar\": {\"outlinewidth\": 0, \"ticks\": \"\"}}, \"marker\": {\"colorbar\": {\"outlinewidth\": 0, \"ticks\": \"\"}}, \"type\": \"scatter3d\"}], \"scattercarpet\": [{\"marker\": {\"colorbar\": {\"outlinewidth\": 0, \"ticks\": \"\"}}, \"type\": \"scattercarpet\"}], \"scattergeo\": [{\"marker\": {\"colorbar\": {\"outlinewidth\": 0, \"ticks\": \"\"}}, \"type\": \"scattergeo\"}], \"scattergl\": [{\"marker\": {\"colorbar\": {\"outlinewidth\": 0, \"ticks\": \"\"}}, \"type\": \"scattergl\"}], \"scattermapbox\": [{\"marker\": {\"colorbar\": {\"outlinewidth\": 0, \"ticks\": \"\"}}, \"type\": \"scattermapbox\"}], \"scatterpolar\": [{\"marker\": {\"colorbar\": {\"outlinewidth\": 0, \"ticks\": \"\"}}, \"type\": \"scatterpolar\"}], \"scatterpolargl\": [{\"marker\": {\"colorbar\": {\"outlinewidth\": 0, \"ticks\": \"\"}}, \"type\": \"scatterpolargl\"}], \"scatterternary\": [{\"marker\": {\"colorbar\": {\"outlinewidth\": 0, \"ticks\": \"\"}}, \"type\": \"scatterternary\"}], \"surface\": [{\"colorbar\": {\"outlinewidth\": 0, \"ticks\": \"\"}, \"colorscale\": [[0.0, \"#0d0887\"], [0.1111111111111111, \"#46039f\"], [0.2222222222222222, \"#7201a8\"], [0.3333333333333333, \"#9c179e\"], [0.4444444444444444, \"#bd3786\"], [0.5555555555555556, \"#d8576b\"], [0.6666666666666666, \"#ed7953\"], [0.7777777777777778, \"#fb9f3a\"], [0.8888888888888888, \"#fdca26\"], [1.0, \"#f0f921\"]], \"type\": \"surface\"}], \"table\": [{\"cells\": {\"fill\": {\"color\": \"#EBF0F8\"}, \"line\": {\"color\": \"white\"}}, \"header\": {\"fill\": {\"color\": \"#C8D4E3\"}, \"line\": {\"color\": \"white\"}}, \"type\": \"table\"}]}, \"layout\": {\"annotationdefaults\": {\"arrowcolor\": \"#2a3f5f\", \"arrowhead\": 0, \"arrowwidth\": 1}, \"coloraxis\": {\"colorbar\": {\"outlinewidth\": 0, \"ticks\": \"\"}}, \"colorscale\": {\"diverging\": [[0, \"#8e0152\"], [0.1, \"#c51b7d\"], [0.2, \"#de77ae\"], [0.3, \"#f1b6da\"], [0.4, \"#fde0ef\"], [0.5, \"#f7f7f7\"], [0.6, \"#e6f5d0\"], [0.7, \"#b8e186\"], [0.8, \"#7fbc41\"], [0.9, \"#4d9221\"], [1, \"#276419\"]], \"sequential\": [[0.0, \"#0d0887\"], [0.1111111111111111, \"#46039f\"], [0.2222222222222222, \"#7201a8\"], [0.3333333333333333, \"#9c179e\"], [0.4444444444444444, \"#bd3786\"], [0.5555555555555556, \"#d8576b\"], [0.6666666666666666, \"#ed7953\"], [0.7777777777777778, \"#fb9f3a\"], [0.8888888888888888, \"#fdca26\"], [1.0, \"#f0f921\"]], \"sequentialminus\": [[0.0, \"#0d0887\"], [0.1111111111111111, \"#46039f\"], [0.2222222222222222, \"#7201a8\"], [0.3333333333333333, \"#9c179e\"], [0.4444444444444444, \"#bd3786\"], [0.5555555555555556, \"#d8576b\"], [0.6666666666666666, \"#ed7953\"], [0.7777777777777778, \"#fb9f3a\"], [0.8888888888888888, \"#fdca26\"], [1.0, \"#f0f921\"]]}, \"colorway\": [\"#636efa\", \"#EF553B\", \"#00cc96\", \"#ab63fa\", \"#FFA15A\", \"#19d3f3\", \"#FF6692\", \"#B6E880\", \"#FF97FF\", \"#FECB52\"], \"font\": {\"color\": \"#2a3f5f\"}, \"geo\": {\"bgcolor\": \"white\", \"lakecolor\": \"white\", \"landcolor\": \"#E5ECF6\", \"showlakes\": true, \"showland\": true, \"subunitcolor\": \"white\"}, \"hoverlabel\": {\"align\": \"left\"}, \"hovermode\": \"closest\", \"mapbox\": {\"style\": \"light\"}, \"paper_bgcolor\": \"white\", \"plot_bgcolor\": \"#E5ECF6\", \"polar\": {\"angularaxis\": {\"gridcolor\": \"white\", \"linecolor\": \"white\", \"ticks\": \"\"}, \"bgcolor\": \"#E5ECF6\", \"radialaxis\": {\"gridcolor\": \"white\", \"linecolor\": \"white\", \"ticks\": \"\"}}, \"scene\": {\"xaxis\": {\"backgroundcolor\": \"#E5ECF6\", \"gridcolor\": \"white\", \"gridwidth\": 2, \"linecolor\": \"white\", \"showbackground\": true, \"ticks\": \"\", \"zerolinecolor\": \"white\"}, \"yaxis\": {\"backgroundcolor\": \"#E5ECF6\", \"gridcolor\": \"white\", \"gridwidth\": 2, \"linecolor\": \"white\", \"showbackground\": true, \"ticks\": \"\", \"zerolinecolor\": \"white\"}, \"zaxis\": {\"backgroundcolor\": \"#E5ECF6\", \"gridcolor\": \"white\", \"gridwidth\": 2, \"linecolor\": \"white\", \"showbackground\": true, \"ticks\": \"\", \"zerolinecolor\": \"white\"}}, \"shapedefaults\": {\"line\": {\"color\": \"#2a3f5f\"}}, \"ternary\": {\"aaxis\": {\"gridcolor\": \"white\", \"linecolor\": \"white\", \"ticks\": \"\"}, \"baxis\": {\"gridcolor\": \"white\", \"linecolor\": \"white\", \"ticks\": \"\"}, \"bgcolor\": \"#E5ECF6\", \"caxis\": {\"gridcolor\": \"white\", \"linecolor\": \"white\", \"ticks\": \"\"}}, \"title\": {\"x\": 0.05}, \"xaxis\": {\"automargin\": true, \"gridcolor\": \"white\", \"linecolor\": \"white\", \"ticks\": \"\", \"title\": {\"standoff\": 15}, \"zerolinecolor\": \"white\", \"zerolinewidth\": 2}, \"yaxis\": {\"automargin\": true, \"gridcolor\": \"white\", \"linecolor\": \"white\", \"ticks\": \"\", \"title\": {\"standoff\": 15}, \"zerolinecolor\": \"white\", \"zerolinewidth\": 2}}}, \"title\": {\"text\": \"The global impact of COVID-19\"}, \"xaxis\": {\"anchor\": \"y\", \"domain\": [0.0, 1.0]}, \"yaxis\": {\"anchor\": \"x\", \"domain\": [0.0, 1.0]}},\n",
       "                        {\"responsive\": true}\n",
       "                    ).then(function(){\n",
       "                            \n",
       "var gd = document.getElementById('838be857-902d-4663-be65-61f10eac355e');\n",
       "var x = new MutationObserver(function (mutations, observer) {{\n",
       "        var display = window.getComputedStyle(gd).display;\n",
       "        if (!display || display === 'none') {{\n",
       "            console.log([gd, 'removed!']);\n",
       "            Plotly.purge(gd);\n",
       "            observer.disconnect();\n",
       "        }}\n",
       "}});\n",
       "\n",
       "// Listen for the removal of the full notebook cells\n",
       "var notebookContainer = gd.closest('#notebook-container');\n",
       "if (notebookContainer) {{\n",
       "    x.observe(notebookContainer, {childList: true});\n",
       "}}\n",
       "\n",
       "// Listen for the clearing of the current output cell\n",
       "var outputEl = gd.closest('.output');\n",
       "if (outputEl) {{\n",
       "    x.observe(outputEl, {childList: true});\n",
       "}}\n",
       "\n",
       "                        })\n",
       "                };\n",
       "                });\n",
       "            </script>\n",
       "        </div>"
      ]
     },
     "metadata": {},
     "output_type": "display_data"
    }
   ],
   "source": [
    "from plotly.subplots import make_subplots\n",
    "import plotly.graph_objects as go\n",
    "import pandas as pd\n",
    "import datetime\n",
    "\n",
    "df = pd.read_csv('./data/03-03-2020.csv')\n",
    "mean = df['Confirmed'].mean()\n",
    "\n",
    "#Data is slightly altered for visualisation purpose. Real data can be seen while hovering. \n",
    "data_C = [value/df['Confirmed'].mean() for value in  df['Confirmed']]\n",
    "data_D = [value/df['Confirmed'].mean() for value  in df['Deaths']]\n",
    "data_R = [value/df['Confirmed'].mean() for value  in df['Recovered']]\n",
    "\n",
    "hoverdata1 = df['Country/Region'] + \" - \"+ ['Confirmed cases: ' + str(v) for v in df['Confirmed'].tolist()]\n",
    "hoverdata2 = df['Country/Region'] + \" - \"+ ['Death: ' + str(v) for v in df['Deaths'].tolist()]\n",
    "hoverdata3 = df['Country/Region'] + \" - \"+ ['Recovered: ' + str(v) for v in df['Recovered'].tolist()]\n",
    "#text = df['Country/Region']\n",
    "fig = make_subplots()\n",
    "df = pd.read_csv('./data/03-03-2020.csv')\n",
    "fig1 = go.Figure(data=go.Scattergeo(\n",
    "        lon = df['Longitude'],\n",
    "        lat = df['Latitude'],\n",
    "    name = 'Confirmed cases',\n",
    "        hovertext = hoverdata1,\n",
    "        marker = dict(\n",
    "            size =  data_C,\n",
    "            opacity = 0.5,\n",
    "            color = 'blue',\n",
    "            line = dict(\n",
    "                width=0,\n",
    "                color='rgba(102, 102, 102)'\n",
    "            ),\n",
    "        ),\n",
    "        ))\n",
    "\n",
    "fig2 = go.Figure(data=go.Scattergeo(\n",
    "        lon = df['Longitude'],\n",
    "        lat = df['Latitude'],\n",
    "    name = 'Deaths',\n",
    "        hovertext = hoverdata2,\n",
    "        marker = dict(\n",
    "            size =  data_D,\n",
    "            opacity = 0.5,\n",
    "            color = 'red',\n",
    "            line = dict(\n",
    "                width=0,\n",
    "                color='rgba(102, 102, 102)'\n",
    "            ),\n",
    "        ),\n",
    "        ))\n",
    "\n",
    "\n",
    "fig3= go.Figure(data=go.Scattergeo(\n",
    "        lon = df['Longitude'],\n",
    "        lat = df['Latitude'],\n",
    "        hovertext = hoverdata3,\n",
    "     name = 'Recovered',\n",
    "        marker = dict(\n",
    "            size =  data_R,\n",
    "            opacity = 0.5,\n",
    "            color = 'green',\n",
    "            line = dict(\n",
    "                width=0,\n",
    "                color='rgba(102, 102, 102)'\n",
    "            ),\n",
    "        ),\n",
    "        ))\n",
    "\n",
    "fig.add_trace(fig1.data[0])\n",
    "fig.add_trace(fig2.data[0])\n",
    "fig.add_trace(fig3.data[0])\n",
    "\n",
    "fig.update_layout(\n",
    "        title = 'The global impact of COVID-19',\n",
    "    legend=dict(\n",
    "        itemsizing = \"constant\",\n",
    "        font=dict(\n",
    "            family=\"sans-serif\",\n",
    "            size=20,\n",
    "            color=\"black\"\n",
    "        )\n",
    "    )\n",
    ")\n",
    "fig.show()\n"
   ]
  },
  {
   "cell_type": "markdown",
   "metadata": {},
   "source": [
    "### Descriptive analysis on Infected, Recovered and mortality rates"
   ]
  },
  {
   "cell_type": "code",
   "execution_count": 2,
   "metadata": {},
   "outputs": [
    {
     "data": {
      "application/vnd.plotly.v1+json": {
       "config": {
        "plotlyServerURL": "https://plot.ly"
       },
       "data": [
        {
         "customdata": [
          [
           "Hubei"
          ],
          [
           null
          ],
          [
           null
          ],
          [
           null
          ],
          [
           "Guangdong"
          ],
          [
           "Henan"
          ],
          [
           "Zhejiang"
          ],
          [
           "Hunan"
          ],
          [
           "Anhui"
          ],
          [
           "Jiangxi"
          ],
          [
           "Shandong"
          ],
          [
           "Diamond Princess cruise ship"
          ],
          [
           "Jiangsu"
          ],
          [
           "Chongqing"
          ],
          [
           "Sichuan"
          ],
          [
           "Heilongjiang"
          ],
          [
           "Beijing"
          ],
          [
           "Shanghai"
          ],
          [
           "Hebei"
          ],
          [
           "Fujian"
          ],
          [
           null
          ],
          [
           "Guangxi"
          ],
          [
           "Shaanxi"
          ],
          [
           null
          ],
          [
           null
          ],
          [
           "Yunnan"
          ],
          [
           "Hainan"
          ],
          [
           null
          ],
          [
           "Guizhou"
          ],
          [
           "Tianjin"
          ],
          [
           "Shanxi"
          ],
          [
           "Liaoning"
          ],
          [
           null
          ],
          [
           "Hong Kong"
          ],
          [
           "Jilin"
          ],
          [
           "Gansu"
          ],
          [
           "Xinjiang"
          ],
          [
           "Inner Mongolia"
          ],
          [
           "Ningxia"
          ],
          [
           null
          ],
          [
           null
          ],
          [
           null
          ],
          [
           null
          ],
          [
           "Unassigned Location (From Diamond Princess)"
          ],
          [
           null
          ],
          [
           "Taiwan"
          ],
          [
           null
          ],
          [
           null
          ],
          [
           null
          ],
          [
           null
          ],
          [
           null
          ],
          [
           null
          ],
          [
           null
          ],
          [
           "King County, WA"
          ],
          [
           "Toronto, ON"
          ],
          [
           "Qinghai"
          ],
          [
           null
          ],
          [
           "New South Wales"
          ],
          [
           null
          ],
          [
           null
          ],
          [
           null
          ],
          [
           null
          ],
          [
           "Queensland"
          ],
          [
           null
          ],
          [
           "Santa Clara, CA"
          ],
          [
           "Macau"
          ],
          [
           null
          ],
          [
           "Victoria"
          ],
          [
           "British Columbia"
          ],
          [
           null
          ],
          [
           null
          ],
          [
           null
          ],
          [
           null
          ],
          [
           null
          ],
          [
           null
          ],
          [
           "Snohomish County, WA"
          ],
          [
           null
          ],
          [
           null
          ],
          [
           null
          ],
          [
           null
          ],
          [
           null
          ],
          [
           "Cook County, IL"
          ],
          [
           "South Australia"
          ],
          [
           null
          ],
          [
           null
          ],
          [
           null
          ],
          [
           null
          ],
          [
           null
          ],
          [
           "Western Australia"
          ],
          [
           null
          ],
          [
           null
          ],
          [
           null
          ],
          [
           null
          ],
          [
           null
          ],
          [
           null
          ],
          [
           null
          ],
          [
           "Fulton County, GA"
          ],
          [
           "Grafton County, NH"
          ],
          [
           "Hillsborough, FL"
          ],
          [
           "Providence, RI"
          ],
          [
           "Sacramento County, CA"
          ],
          [
           "San Benito, CA"
          ],
          [
           "San Diego County, CA"
          ],
          [
           "San Mateo, CA"
          ],
          [
           "Washington County, OR"
          ],
          [
           null
          ],
          [
           null
          ],
          [
           null
          ],
          [
           null
          ],
          [
           "Tasmania"
          ],
          [
           null
          ],
          [
           null
          ],
          [
           " Montreal, QC"
          ],
          [
           "London, ON"
          ],
          [
           null
          ],
          [
           null
          ],
          [
           null
          ],
          [
           null
          ],
          [
           null
          ],
          [
           null
          ],
          [
           "Tibet"
          ],
          [
           null
          ],
          [
           null
          ],
          [
           null
          ],
          [
           null
          ],
          [
           null
          ],
          [
           null
          ],
          [
           null
          ],
          [
           null
          ],
          [
           " Norfolk County, MA"
          ],
          [
           "Berkeley, CA"
          ],
          [
           "Boston, MA"
          ],
          [
           "Humboldt County, CA"
          ],
          [
           "Los Angeles, CA"
          ],
          [
           "Madison, WI"
          ],
          [
           "Maricopa County, AZ"
          ],
          [
           "New York City, NY"
          ],
          [
           "Orange, CA"
          ],
          [
           "Placer County, CA"
          ],
          [
           "San Antonio, TX"
          ],
          [
           "Sarasota, FL"
          ],
          [
           "Sonoma County, CA"
          ],
          [
           "Tempe, AZ"
          ],
          [
           "Umatilla, OR"
          ],
          [
           "Wake County, NC"
          ],
          [
           "Westchester County, NY"
          ],
          [
           null
          ],
          [
           "From Diamond Princess"
          ],
          [
           "Lackland, TX (From Diamond Princess)"
          ],
          [
           "Omaha, NE (From Diamond Princess)"
          ],
          [
           "Travis, CA (From Diamond Princess)"
          ]
         ],
         "domain": {
          "x": [
           0,
           1
          ],
          "y": [
           0,
           1
          ]
         },
         "hoverlabel": {
          "namelength": 0
         },
         "hovertemplate": "Province/State=%{customdata[0]}<br>Country/Region=%{label}<br>Confirmed=%{value}",
         "labels": [
          "Mainland China",
          "South Korea",
          "Italy",
          "Iran",
          "Mainland China",
          "Mainland China",
          "Mainland China",
          "Mainland China",
          "Mainland China",
          "Mainland China",
          "Mainland China",
          "Others",
          "Mainland China",
          "Mainland China",
          "Mainland China",
          "Mainland China",
          "Mainland China",
          "Mainland China",
          "Mainland China",
          "Mainland China",
          "Japan",
          "Mainland China",
          "Mainland China",
          "France",
          "Germany",
          "Mainland China",
          "Mainland China",
          "Spain",
          "Mainland China",
          "Mainland China",
          "Mainland China",
          "Mainland China",
          "Singapore",
          "Hong Kong",
          "Mainland China",
          "Mainland China",
          "Mainland China",
          "Mainland China",
          "Mainland China",
          "Kuwait",
          "Switzerland",
          "UK",
          "Bahrain",
          "US",
          "Thailand",
          "Taiwan",
          "Malaysia",
          "Iraq",
          "Norway",
          "United Arab Emirates",
          "Netherlands",
          "Austria",
          "Sweden",
          "US",
          "Canada",
          "Mainland China",
          "Vietnam",
          "Australia",
          "Belgium",
          "Lebanon",
          "Israel",
          "Oman",
          "Australia",
          "Iceland",
          "US",
          "Macau",
          "San Marino",
          "Australia",
          "Canada",
          "Croatia",
          "Ecuador",
          "Greece",
          "Qatar",
          "Denmark",
          "Finland",
          "US",
          "Algeria",
          "Czech Republic",
          "India",
          "Mexico",
          "Pakistan",
          "US",
          "Australia",
          "Azerbaijan",
          "Georgia",
          "Philippines",
          "Romania",
          "Russia",
          "Australia",
          "Brazil",
          "Egypt",
          "Estonia",
          "Indonesia",
          "Ireland",
          "Portugal",
          "Senegal",
          "US",
          "US",
          "US",
          "US",
          "US",
          "US",
          "US",
          "US",
          "US",
          "Afghanistan",
          "Andorra",
          "Argentina",
          "Armenia",
          "Australia",
          "Belarus",
          "Cambodia",
          "Canada",
          "Canada",
          "Chile",
          "Dominican Republic",
          "Jordan",
          "Latvia",
          "Lithuania",
          "Luxembourg",
          "Mainland China",
          "Monaco",
          "Morocco",
          "Nepal",
          "New Zealand",
          "Nigeria",
          "North Macedonia",
          "Saudi Arabia",
          "Sri Lanka",
          "US",
          "US",
          "US",
          "US",
          "US",
          "US",
          "US",
          "US",
          "US",
          "US",
          "US",
          "US",
          "US",
          "US",
          "US",
          "US",
          "US",
          "Ukraine",
          "Australia",
          "US",
          "US",
          "US"
         ],
         "legendgroup": "",
         "name": "",
         "showlegend": true,
         "textposition": "inside",
         "type": "pie",
         "values": [
          67217,
          5186,
          2502,
          2336,
          1350,
          1272,
          1213,
          1018,
          990,
          935,
          758,
          706,
          631,
          576,
          538,
          480,
          414,
          338,
          318,
          296,
          293,
          252,
          245,
          204,
          196,
          174,
          168,
          165,
          146,
          136,
          133,
          125,
          110,
          100,
          93,
          91,
          76,
          75,
          74,
          56,
          56,
          51,
          49,
          45,
          43,
          42,
          36,
          32,
          32,
          27,
          24,
          21,
          21,
          21,
          19,
          18,
          16,
          13,
          13,
          13,
          12,
          12,
          11,
          11,
          11,
          10,
          10,
          9,
          9,
          9,
          7,
          7,
          7,
          6,
          6,
          6,
          5,
          5,
          5,
          5,
          5,
          4,
          3,
          3,
          3,
          3,
          3,
          3,
          2,
          2,
          2,
          2,
          2,
          2,
          2,
          2,
          2,
          2,
          2,
          2,
          2,
          2,
          2,
          2,
          2,
          1,
          1,
          1,
          1,
          1,
          1,
          1,
          1,
          1,
          1,
          1,
          1,
          1,
          1,
          1,
          1,
          1,
          1,
          1,
          1,
          1,
          1,
          1,
          1,
          1,
          1,
          1,
          1,
          1,
          1,
          1,
          1,
          1,
          1,
          1,
          1,
          1,
          1,
          1,
          1,
          1,
          1,
          0,
          0,
          0,
          0
         ]
        }
       ],
       "layout": {
        "legend": {
         "tracegroupgap": 0
        },
        "template": {
         "data": {
          "bar": [
           {
            "error_x": {
             "color": "#2a3f5f"
            },
            "error_y": {
             "color": "#2a3f5f"
            },
            "marker": {
             "line": {
              "color": "#E5ECF6",
              "width": 0.5
             }
            },
            "type": "bar"
           }
          ],
          "barpolar": [
           {
            "marker": {
             "line": {
              "color": "#E5ECF6",
              "width": 0.5
             }
            },
            "type": "barpolar"
           }
          ],
          "carpet": [
           {
            "aaxis": {
             "endlinecolor": "#2a3f5f",
             "gridcolor": "white",
             "linecolor": "white",
             "minorgridcolor": "white",
             "startlinecolor": "#2a3f5f"
            },
            "baxis": {
             "endlinecolor": "#2a3f5f",
             "gridcolor": "white",
             "linecolor": "white",
             "minorgridcolor": "white",
             "startlinecolor": "#2a3f5f"
            },
            "type": "carpet"
           }
          ],
          "choropleth": [
           {
            "colorbar": {
             "outlinewidth": 0,
             "ticks": ""
            },
            "type": "choropleth"
           }
          ],
          "contour": [
           {
            "colorbar": {
             "outlinewidth": 0,
             "ticks": ""
            },
            "colorscale": [
             [
              0,
              "#0d0887"
             ],
             [
              0.1111111111111111,
              "#46039f"
             ],
             [
              0.2222222222222222,
              "#7201a8"
             ],
             [
              0.3333333333333333,
              "#9c179e"
             ],
             [
              0.4444444444444444,
              "#bd3786"
             ],
             [
              0.5555555555555556,
              "#d8576b"
             ],
             [
              0.6666666666666666,
              "#ed7953"
             ],
             [
              0.7777777777777778,
              "#fb9f3a"
             ],
             [
              0.8888888888888888,
              "#fdca26"
             ],
             [
              1,
              "#f0f921"
             ]
            ],
            "type": "contour"
           }
          ],
          "contourcarpet": [
           {
            "colorbar": {
             "outlinewidth": 0,
             "ticks": ""
            },
            "type": "contourcarpet"
           }
          ],
          "heatmap": [
           {
            "colorbar": {
             "outlinewidth": 0,
             "ticks": ""
            },
            "colorscale": [
             [
              0,
              "#0d0887"
             ],
             [
              0.1111111111111111,
              "#46039f"
             ],
             [
              0.2222222222222222,
              "#7201a8"
             ],
             [
              0.3333333333333333,
              "#9c179e"
             ],
             [
              0.4444444444444444,
              "#bd3786"
             ],
             [
              0.5555555555555556,
              "#d8576b"
             ],
             [
              0.6666666666666666,
              "#ed7953"
             ],
             [
              0.7777777777777778,
              "#fb9f3a"
             ],
             [
              0.8888888888888888,
              "#fdca26"
             ],
             [
              1,
              "#f0f921"
             ]
            ],
            "type": "heatmap"
           }
          ],
          "heatmapgl": [
           {
            "colorbar": {
             "outlinewidth": 0,
             "ticks": ""
            },
            "colorscale": [
             [
              0,
              "#0d0887"
             ],
             [
              0.1111111111111111,
              "#46039f"
             ],
             [
              0.2222222222222222,
              "#7201a8"
             ],
             [
              0.3333333333333333,
              "#9c179e"
             ],
             [
              0.4444444444444444,
              "#bd3786"
             ],
             [
              0.5555555555555556,
              "#d8576b"
             ],
             [
              0.6666666666666666,
              "#ed7953"
             ],
             [
              0.7777777777777778,
              "#fb9f3a"
             ],
             [
              0.8888888888888888,
              "#fdca26"
             ],
             [
              1,
              "#f0f921"
             ]
            ],
            "type": "heatmapgl"
           }
          ],
          "histogram": [
           {
            "marker": {
             "colorbar": {
              "outlinewidth": 0,
              "ticks": ""
             }
            },
            "type": "histogram"
           }
          ],
          "histogram2d": [
           {
            "colorbar": {
             "outlinewidth": 0,
             "ticks": ""
            },
            "colorscale": [
             [
              0,
              "#0d0887"
             ],
             [
              0.1111111111111111,
              "#46039f"
             ],
             [
              0.2222222222222222,
              "#7201a8"
             ],
             [
              0.3333333333333333,
              "#9c179e"
             ],
             [
              0.4444444444444444,
              "#bd3786"
             ],
             [
              0.5555555555555556,
              "#d8576b"
             ],
             [
              0.6666666666666666,
              "#ed7953"
             ],
             [
              0.7777777777777778,
              "#fb9f3a"
             ],
             [
              0.8888888888888888,
              "#fdca26"
             ],
             [
              1,
              "#f0f921"
             ]
            ],
            "type": "histogram2d"
           }
          ],
          "histogram2dcontour": [
           {
            "colorbar": {
             "outlinewidth": 0,
             "ticks": ""
            },
            "colorscale": [
             [
              0,
              "#0d0887"
             ],
             [
              0.1111111111111111,
              "#46039f"
             ],
             [
              0.2222222222222222,
              "#7201a8"
             ],
             [
              0.3333333333333333,
              "#9c179e"
             ],
             [
              0.4444444444444444,
              "#bd3786"
             ],
             [
              0.5555555555555556,
              "#d8576b"
             ],
             [
              0.6666666666666666,
              "#ed7953"
             ],
             [
              0.7777777777777778,
              "#fb9f3a"
             ],
             [
              0.8888888888888888,
              "#fdca26"
             ],
             [
              1,
              "#f0f921"
             ]
            ],
            "type": "histogram2dcontour"
           }
          ],
          "mesh3d": [
           {
            "colorbar": {
             "outlinewidth": 0,
             "ticks": ""
            },
            "type": "mesh3d"
           }
          ],
          "parcoords": [
           {
            "line": {
             "colorbar": {
              "outlinewidth": 0,
              "ticks": ""
             }
            },
            "type": "parcoords"
           }
          ],
          "pie": [
           {
            "automargin": true,
            "type": "pie"
           }
          ],
          "scatter": [
           {
            "marker": {
             "colorbar": {
              "outlinewidth": 0,
              "ticks": ""
             }
            },
            "type": "scatter"
           }
          ],
          "scatter3d": [
           {
            "line": {
             "colorbar": {
              "outlinewidth": 0,
              "ticks": ""
             }
            },
            "marker": {
             "colorbar": {
              "outlinewidth": 0,
              "ticks": ""
             }
            },
            "type": "scatter3d"
           }
          ],
          "scattercarpet": [
           {
            "marker": {
             "colorbar": {
              "outlinewidth": 0,
              "ticks": ""
             }
            },
            "type": "scattercarpet"
           }
          ],
          "scattergeo": [
           {
            "marker": {
             "colorbar": {
              "outlinewidth": 0,
              "ticks": ""
             }
            },
            "type": "scattergeo"
           }
          ],
          "scattergl": [
           {
            "marker": {
             "colorbar": {
              "outlinewidth": 0,
              "ticks": ""
             }
            },
            "type": "scattergl"
           }
          ],
          "scattermapbox": [
           {
            "marker": {
             "colorbar": {
              "outlinewidth": 0,
              "ticks": ""
             }
            },
            "type": "scattermapbox"
           }
          ],
          "scatterpolar": [
           {
            "marker": {
             "colorbar": {
              "outlinewidth": 0,
              "ticks": ""
             }
            },
            "type": "scatterpolar"
           }
          ],
          "scatterpolargl": [
           {
            "marker": {
             "colorbar": {
              "outlinewidth": 0,
              "ticks": ""
             }
            },
            "type": "scatterpolargl"
           }
          ],
          "scatterternary": [
           {
            "marker": {
             "colorbar": {
              "outlinewidth": 0,
              "ticks": ""
             }
            },
            "type": "scatterternary"
           }
          ],
          "surface": [
           {
            "colorbar": {
             "outlinewidth": 0,
             "ticks": ""
            },
            "colorscale": [
             [
              0,
              "#0d0887"
             ],
             [
              0.1111111111111111,
              "#46039f"
             ],
             [
              0.2222222222222222,
              "#7201a8"
             ],
             [
              0.3333333333333333,
              "#9c179e"
             ],
             [
              0.4444444444444444,
              "#bd3786"
             ],
             [
              0.5555555555555556,
              "#d8576b"
             ],
             [
              0.6666666666666666,
              "#ed7953"
             ],
             [
              0.7777777777777778,
              "#fb9f3a"
             ],
             [
              0.8888888888888888,
              "#fdca26"
             ],
             [
              1,
              "#f0f921"
             ]
            ],
            "type": "surface"
           }
          ],
          "table": [
           {
            "cells": {
             "fill": {
              "color": "#EBF0F8"
             },
             "line": {
              "color": "white"
             }
            },
            "header": {
             "fill": {
              "color": "#C8D4E3"
             },
             "line": {
              "color": "white"
             }
            },
            "type": "table"
           }
          ]
         },
         "layout": {
          "annotationdefaults": {
           "arrowcolor": "#2a3f5f",
           "arrowhead": 0,
           "arrowwidth": 1
          },
          "coloraxis": {
           "colorbar": {
            "outlinewidth": 0,
            "ticks": ""
           }
          },
          "colorscale": {
           "diverging": [
            [
             0,
             "#8e0152"
            ],
            [
             0.1,
             "#c51b7d"
            ],
            [
             0.2,
             "#de77ae"
            ],
            [
             0.3,
             "#f1b6da"
            ],
            [
             0.4,
             "#fde0ef"
            ],
            [
             0.5,
             "#f7f7f7"
            ],
            [
             0.6,
             "#e6f5d0"
            ],
            [
             0.7,
             "#b8e186"
            ],
            [
             0.8,
             "#7fbc41"
            ],
            [
             0.9,
             "#4d9221"
            ],
            [
             1,
             "#276419"
            ]
           ],
           "sequential": [
            [
             0,
             "#0d0887"
            ],
            [
             0.1111111111111111,
             "#46039f"
            ],
            [
             0.2222222222222222,
             "#7201a8"
            ],
            [
             0.3333333333333333,
             "#9c179e"
            ],
            [
             0.4444444444444444,
             "#bd3786"
            ],
            [
             0.5555555555555556,
             "#d8576b"
            ],
            [
             0.6666666666666666,
             "#ed7953"
            ],
            [
             0.7777777777777778,
             "#fb9f3a"
            ],
            [
             0.8888888888888888,
             "#fdca26"
            ],
            [
             1,
             "#f0f921"
            ]
           ],
           "sequentialminus": [
            [
             0,
             "#0d0887"
            ],
            [
             0.1111111111111111,
             "#46039f"
            ],
            [
             0.2222222222222222,
             "#7201a8"
            ],
            [
             0.3333333333333333,
             "#9c179e"
            ],
            [
             0.4444444444444444,
             "#bd3786"
            ],
            [
             0.5555555555555556,
             "#d8576b"
            ],
            [
             0.6666666666666666,
             "#ed7953"
            ],
            [
             0.7777777777777778,
             "#fb9f3a"
            ],
            [
             0.8888888888888888,
             "#fdca26"
            ],
            [
             1,
             "#f0f921"
            ]
           ]
          },
          "colorway": [
           "#636efa",
           "#EF553B",
           "#00cc96",
           "#ab63fa",
           "#FFA15A",
           "#19d3f3",
           "#FF6692",
           "#B6E880",
           "#FF97FF",
           "#FECB52"
          ],
          "font": {
           "color": "#2a3f5f"
          },
          "geo": {
           "bgcolor": "white",
           "lakecolor": "white",
           "landcolor": "#E5ECF6",
           "showlakes": true,
           "showland": true,
           "subunitcolor": "white"
          },
          "hoverlabel": {
           "align": "left"
          },
          "hovermode": "closest",
          "mapbox": {
           "style": "light"
          },
          "paper_bgcolor": "white",
          "plot_bgcolor": "#E5ECF6",
          "polar": {
           "angularaxis": {
            "gridcolor": "white",
            "linecolor": "white",
            "ticks": ""
           },
           "bgcolor": "#E5ECF6",
           "radialaxis": {
            "gridcolor": "white",
            "linecolor": "white",
            "ticks": ""
           }
          },
          "scene": {
           "xaxis": {
            "backgroundcolor": "#E5ECF6",
            "gridcolor": "white",
            "gridwidth": 2,
            "linecolor": "white",
            "showbackground": true,
            "ticks": "",
            "zerolinecolor": "white"
           },
           "yaxis": {
            "backgroundcolor": "#E5ECF6",
            "gridcolor": "white",
            "gridwidth": 2,
            "linecolor": "white",
            "showbackground": true,
            "ticks": "",
            "zerolinecolor": "white"
           },
           "zaxis": {
            "backgroundcolor": "#E5ECF6",
            "gridcolor": "white",
            "gridwidth": 2,
            "linecolor": "white",
            "showbackground": true,
            "ticks": "",
            "zerolinecolor": "white"
           }
          },
          "shapedefaults": {
           "line": {
            "color": "#2a3f5f"
           }
          },
          "ternary": {
           "aaxis": {
            "gridcolor": "white",
            "linecolor": "white",
            "ticks": ""
           },
           "baxis": {
            "gridcolor": "white",
            "linecolor": "white",
            "ticks": ""
           },
           "bgcolor": "#E5ECF6",
           "caxis": {
            "gridcolor": "white",
            "linecolor": "white",
            "ticks": ""
           }
          },
          "title": {
           "x": 0.05
          },
          "xaxis": {
           "automargin": true,
           "gridcolor": "white",
           "linecolor": "white",
           "ticks": "",
           "title": {
            "standoff": 15
           },
           "zerolinecolor": "white",
           "zerolinewidth": 2
          },
          "yaxis": {
           "automargin": true,
           "gridcolor": "white",
           "linecolor": "white",
           "ticks": "",
           "title": {
            "standoff": 15
           },
           "zerolinecolor": "white",
           "zerolinewidth": 2
          }
         }
        },
        "title": {
         "text": "Infected rates across countries"
        }
       }
      },
      "text/html": [
       "<div>\n",
       "        \n",
       "        \n",
       "            <div id=\"1672130a-db84-496c-923c-64845d1407a2\" class=\"plotly-graph-div\" style=\"height:525px; width:100%;\"></div>\n",
       "            <script type=\"text/javascript\">\n",
       "                require([\"plotly\"], function(Plotly) {\n",
       "                    window.PLOTLYENV=window.PLOTLYENV || {};\n",
       "                    \n",
       "                if (document.getElementById(\"1672130a-db84-496c-923c-64845d1407a2\")) {\n",
       "                    Plotly.newPlot(\n",
       "                        '1672130a-db84-496c-923c-64845d1407a2',\n",
       "                        [{\"customdata\": [[\"Hubei\"], [null], [null], [null], [\"Guangdong\"], [\"Henan\"], [\"Zhejiang\"], [\"Hunan\"], [\"Anhui\"], [\"Jiangxi\"], [\"Shandong\"], [\"Diamond Princess cruise ship\"], [\"Jiangsu\"], [\"Chongqing\"], [\"Sichuan\"], [\"Heilongjiang\"], [\"Beijing\"], [\"Shanghai\"], [\"Hebei\"], [\"Fujian\"], [null], [\"Guangxi\"], [\"Shaanxi\"], [null], [null], [\"Yunnan\"], [\"Hainan\"], [null], [\"Guizhou\"], [\"Tianjin\"], [\"Shanxi\"], [\"Liaoning\"], [null], [\"Hong Kong\"], [\"Jilin\"], [\"Gansu\"], [\"Xinjiang\"], [\"Inner Mongolia\"], [\"Ningxia\"], [null], [null], [null], [null], [\"Unassigned Location (From Diamond Princess)\"], [null], [\"Taiwan\"], [null], [null], [null], [null], [null], [null], [null], [\"King County, WA\"], [\"Toronto, ON\"], [\"Qinghai\"], [null], [\"New South Wales\"], [null], [null], [null], [null], [\"Queensland\"], [null], [\"Santa Clara, CA\"], [\"Macau\"], [null], [\"Victoria\"], [\"British Columbia\"], [null], [null], [null], [null], [null], [null], [\"Snohomish County, WA\"], [null], [null], [null], [null], [null], [\"Cook County, IL\"], [\"South Australia\"], [null], [null], [null], [null], [null], [\"Western Australia\"], [null], [null], [null], [null], [null], [null], [null], [\"Fulton County, GA\"], [\"Grafton County, NH\"], [\"Hillsborough, FL\"], [\"Providence, RI\"], [\"Sacramento County, CA\"], [\"San Benito, CA\"], [\"San Diego County, CA\"], [\"San Mateo, CA\"], [\"Washington County, OR\"], [null], [null], [null], [null], [\"Tasmania\"], [null], [null], [\" Montreal, QC\"], [\"London, ON\"], [null], [null], [null], [null], [null], [null], [\"Tibet\"], [null], [null], [null], [null], [null], [null], [null], [null], [\" Norfolk County, MA\"], [\"Berkeley, CA\"], [\"Boston, MA\"], [\"Humboldt County, CA\"], [\"Los Angeles, CA\"], [\"Madison, WI\"], [\"Maricopa County, AZ\"], [\"New York City, NY\"], [\"Orange, CA\"], [\"Placer County, CA\"], [\"San Antonio, TX\"], [\"Sarasota, FL\"], [\"Sonoma County, CA\"], [\"Tempe, AZ\"], [\"Umatilla, OR\"], [\"Wake County, NC\"], [\"Westchester County, NY\"], [null], [\"From Diamond Princess\"], [\"Lackland, TX (From Diamond Princess)\"], [\"Omaha, NE (From Diamond Princess)\"], [\"Travis, CA (From Diamond Princess)\"]], \"domain\": {\"x\": [0.0, 1.0], \"y\": [0.0, 1.0]}, \"hoverlabel\": {\"namelength\": 0}, \"hovertemplate\": \"Province/State=%{customdata[0]}<br>Country/Region=%{label}<br>Confirmed=%{value}\", \"labels\": [\"Mainland China\", \"South Korea\", \"Italy\", \"Iran\", \"Mainland China\", \"Mainland China\", \"Mainland China\", \"Mainland China\", \"Mainland China\", \"Mainland China\", \"Mainland China\", \"Others\", \"Mainland China\", \"Mainland China\", \"Mainland China\", \"Mainland China\", \"Mainland China\", \"Mainland China\", \"Mainland China\", \"Mainland China\", \"Japan\", \"Mainland China\", \"Mainland China\", \"France\", \"Germany\", \"Mainland China\", \"Mainland China\", \"Spain\", \"Mainland China\", \"Mainland China\", \"Mainland China\", \"Mainland China\", \"Singapore\", \"Hong Kong\", \"Mainland China\", \"Mainland China\", \"Mainland China\", \"Mainland China\", \"Mainland China\", \"Kuwait\", \"Switzerland\", \"UK\", \"Bahrain\", \"US\", \"Thailand\", \"Taiwan\", \"Malaysia\", \"Iraq\", \"Norway\", \"United Arab Emirates\", \"Netherlands\", \"Austria\", \"Sweden\", \"US\", \"Canada\", \"Mainland China\", \"Vietnam\", \"Australia\", \"Belgium\", \"Lebanon\", \"Israel\", \"Oman\", \"Australia\", \"Iceland\", \"US\", \"Macau\", \"San Marino\", \"Australia\", \"Canada\", \"Croatia\", \"Ecuador\", \"Greece\", \"Qatar\", \"Denmark\", \"Finland\", \"US\", \"Algeria\", \"Czech Republic\", \"India\", \"Mexico\", \"Pakistan\", \"US\", \"Australia\", \"Azerbaijan\", \"Georgia\", \"Philippines\", \"Romania\", \"Russia\", \"Australia\", \"Brazil\", \"Egypt\", \"Estonia\", \"Indonesia\", \"Ireland\", \"Portugal\", \"Senegal\", \"US\", \"US\", \"US\", \"US\", \"US\", \"US\", \"US\", \"US\", \"US\", \"Afghanistan\", \"Andorra\", \"Argentina\", \"Armenia\", \"Australia\", \"Belarus\", \"Cambodia\", \"Canada\", \"Canada\", \"Chile\", \"Dominican Republic\", \"Jordan\", \"Latvia\", \"Lithuania\", \"Luxembourg\", \"Mainland China\", \"Monaco\", \"Morocco\", \"Nepal\", \"New Zealand\", \"Nigeria\", \"North Macedonia\", \"Saudi Arabia\", \"Sri Lanka\", \"US\", \"US\", \"US\", \"US\", \"US\", \"US\", \"US\", \"US\", \"US\", \"US\", \"US\", \"US\", \"US\", \"US\", \"US\", \"US\", \"US\", \"Ukraine\", \"Australia\", \"US\", \"US\", \"US\"], \"legendgroup\": \"\", \"name\": \"\", \"showlegend\": true, \"textposition\": \"inside\", \"type\": \"pie\", \"values\": [67217, 5186, 2502, 2336, 1350, 1272, 1213, 1018, 990, 935, 758, 706, 631, 576, 538, 480, 414, 338, 318, 296, 293, 252, 245, 204, 196, 174, 168, 165, 146, 136, 133, 125, 110, 100, 93, 91, 76, 75, 74, 56, 56, 51, 49, 45, 43, 42, 36, 32, 32, 27, 24, 21, 21, 21, 19, 18, 16, 13, 13, 13, 12, 12, 11, 11, 11, 10, 10, 9, 9, 9, 7, 7, 7, 6, 6, 6, 5, 5, 5, 5, 5, 4, 3, 3, 3, 3, 3, 3, 2, 2, 2, 2, 2, 2, 2, 2, 2, 2, 2, 2, 2, 2, 2, 2, 2, 1, 1, 1, 1, 1, 1, 1, 1, 1, 1, 1, 1, 1, 1, 1, 1, 1, 1, 1, 1, 1, 1, 1, 1, 1, 1, 1, 1, 1, 1, 1, 1, 1, 1, 1, 1, 1, 1, 1, 1, 1, 1, 0, 0, 0, 0]}],\n",
       "                        {\"legend\": {\"tracegroupgap\": 0}, \"template\": {\"data\": {\"bar\": [{\"error_x\": {\"color\": \"#2a3f5f\"}, \"error_y\": {\"color\": \"#2a3f5f\"}, \"marker\": {\"line\": {\"color\": \"#E5ECF6\", \"width\": 0.5}}, \"type\": \"bar\"}], \"barpolar\": [{\"marker\": {\"line\": {\"color\": \"#E5ECF6\", \"width\": 0.5}}, \"type\": \"barpolar\"}], \"carpet\": [{\"aaxis\": {\"endlinecolor\": \"#2a3f5f\", \"gridcolor\": \"white\", \"linecolor\": \"white\", \"minorgridcolor\": \"white\", \"startlinecolor\": \"#2a3f5f\"}, \"baxis\": {\"endlinecolor\": \"#2a3f5f\", \"gridcolor\": \"white\", \"linecolor\": \"white\", \"minorgridcolor\": \"white\", \"startlinecolor\": \"#2a3f5f\"}, \"type\": \"carpet\"}], \"choropleth\": [{\"colorbar\": {\"outlinewidth\": 0, \"ticks\": \"\"}, \"type\": \"choropleth\"}], \"contour\": [{\"colorbar\": {\"outlinewidth\": 0, \"ticks\": \"\"}, \"colorscale\": [[0.0, \"#0d0887\"], [0.1111111111111111, \"#46039f\"], [0.2222222222222222, \"#7201a8\"], [0.3333333333333333, \"#9c179e\"], [0.4444444444444444, \"#bd3786\"], [0.5555555555555556, \"#d8576b\"], [0.6666666666666666, \"#ed7953\"], [0.7777777777777778, \"#fb9f3a\"], [0.8888888888888888, \"#fdca26\"], [1.0, \"#f0f921\"]], \"type\": \"contour\"}], \"contourcarpet\": [{\"colorbar\": {\"outlinewidth\": 0, \"ticks\": \"\"}, \"type\": \"contourcarpet\"}], \"heatmap\": [{\"colorbar\": {\"outlinewidth\": 0, \"ticks\": \"\"}, \"colorscale\": [[0.0, \"#0d0887\"], [0.1111111111111111, \"#46039f\"], [0.2222222222222222, \"#7201a8\"], [0.3333333333333333, \"#9c179e\"], [0.4444444444444444, \"#bd3786\"], [0.5555555555555556, \"#d8576b\"], [0.6666666666666666, \"#ed7953\"], [0.7777777777777778, \"#fb9f3a\"], [0.8888888888888888, \"#fdca26\"], [1.0, \"#f0f921\"]], \"type\": \"heatmap\"}], \"heatmapgl\": [{\"colorbar\": {\"outlinewidth\": 0, \"ticks\": \"\"}, \"colorscale\": [[0.0, \"#0d0887\"], [0.1111111111111111, \"#46039f\"], [0.2222222222222222, \"#7201a8\"], [0.3333333333333333, \"#9c179e\"], [0.4444444444444444, \"#bd3786\"], [0.5555555555555556, \"#d8576b\"], [0.6666666666666666, \"#ed7953\"], [0.7777777777777778, \"#fb9f3a\"], [0.8888888888888888, \"#fdca26\"], [1.0, \"#f0f921\"]], \"type\": \"heatmapgl\"}], \"histogram\": [{\"marker\": {\"colorbar\": {\"outlinewidth\": 0, \"ticks\": \"\"}}, \"type\": \"histogram\"}], \"histogram2d\": [{\"colorbar\": {\"outlinewidth\": 0, \"ticks\": \"\"}, \"colorscale\": [[0.0, \"#0d0887\"], [0.1111111111111111, \"#46039f\"], [0.2222222222222222, \"#7201a8\"], [0.3333333333333333, \"#9c179e\"], [0.4444444444444444, \"#bd3786\"], [0.5555555555555556, \"#d8576b\"], [0.6666666666666666, \"#ed7953\"], [0.7777777777777778, \"#fb9f3a\"], [0.8888888888888888, \"#fdca26\"], [1.0, \"#f0f921\"]], \"type\": \"histogram2d\"}], \"histogram2dcontour\": [{\"colorbar\": {\"outlinewidth\": 0, \"ticks\": \"\"}, \"colorscale\": [[0.0, \"#0d0887\"], [0.1111111111111111, \"#46039f\"], [0.2222222222222222, \"#7201a8\"], [0.3333333333333333, \"#9c179e\"], [0.4444444444444444, \"#bd3786\"], [0.5555555555555556, \"#d8576b\"], [0.6666666666666666, \"#ed7953\"], [0.7777777777777778, \"#fb9f3a\"], [0.8888888888888888, \"#fdca26\"], [1.0, \"#f0f921\"]], \"type\": \"histogram2dcontour\"}], \"mesh3d\": [{\"colorbar\": {\"outlinewidth\": 0, \"ticks\": \"\"}, \"type\": \"mesh3d\"}], \"parcoords\": [{\"line\": {\"colorbar\": {\"outlinewidth\": 0, \"ticks\": \"\"}}, \"type\": \"parcoords\"}], \"pie\": [{\"automargin\": true, \"type\": \"pie\"}], \"scatter\": [{\"marker\": {\"colorbar\": {\"outlinewidth\": 0, \"ticks\": \"\"}}, \"type\": \"scatter\"}], \"scatter3d\": [{\"line\": {\"colorbar\": {\"outlinewidth\": 0, \"ticks\": \"\"}}, \"marker\": {\"colorbar\": {\"outlinewidth\": 0, \"ticks\": \"\"}}, \"type\": \"scatter3d\"}], \"scattercarpet\": [{\"marker\": {\"colorbar\": {\"outlinewidth\": 0, \"ticks\": \"\"}}, \"type\": \"scattercarpet\"}], \"scattergeo\": [{\"marker\": {\"colorbar\": {\"outlinewidth\": 0, \"ticks\": \"\"}}, \"type\": \"scattergeo\"}], \"scattergl\": [{\"marker\": {\"colorbar\": {\"outlinewidth\": 0, \"ticks\": \"\"}}, \"type\": \"scattergl\"}], \"scattermapbox\": [{\"marker\": {\"colorbar\": {\"outlinewidth\": 0, \"ticks\": \"\"}}, \"type\": \"scattermapbox\"}], \"scatterpolar\": [{\"marker\": {\"colorbar\": {\"outlinewidth\": 0, \"ticks\": \"\"}}, \"type\": \"scatterpolar\"}], \"scatterpolargl\": [{\"marker\": {\"colorbar\": {\"outlinewidth\": 0, \"ticks\": \"\"}}, \"type\": \"scatterpolargl\"}], \"scatterternary\": [{\"marker\": {\"colorbar\": {\"outlinewidth\": 0, \"ticks\": \"\"}}, \"type\": \"scatterternary\"}], \"surface\": [{\"colorbar\": {\"outlinewidth\": 0, \"ticks\": \"\"}, \"colorscale\": [[0.0, \"#0d0887\"], [0.1111111111111111, \"#46039f\"], [0.2222222222222222, \"#7201a8\"], [0.3333333333333333, \"#9c179e\"], [0.4444444444444444, \"#bd3786\"], [0.5555555555555556, \"#d8576b\"], [0.6666666666666666, \"#ed7953\"], [0.7777777777777778, \"#fb9f3a\"], [0.8888888888888888, \"#fdca26\"], [1.0, \"#f0f921\"]], \"type\": \"surface\"}], \"table\": [{\"cells\": {\"fill\": {\"color\": \"#EBF0F8\"}, \"line\": {\"color\": \"white\"}}, \"header\": {\"fill\": {\"color\": \"#C8D4E3\"}, \"line\": {\"color\": \"white\"}}, \"type\": \"table\"}]}, \"layout\": {\"annotationdefaults\": {\"arrowcolor\": \"#2a3f5f\", \"arrowhead\": 0, \"arrowwidth\": 1}, \"coloraxis\": {\"colorbar\": {\"outlinewidth\": 0, \"ticks\": \"\"}}, \"colorscale\": {\"diverging\": [[0, \"#8e0152\"], [0.1, \"#c51b7d\"], [0.2, \"#de77ae\"], [0.3, \"#f1b6da\"], [0.4, \"#fde0ef\"], [0.5, \"#f7f7f7\"], [0.6, \"#e6f5d0\"], [0.7, \"#b8e186\"], [0.8, \"#7fbc41\"], [0.9, \"#4d9221\"], [1, \"#276419\"]], \"sequential\": [[0.0, \"#0d0887\"], [0.1111111111111111, \"#46039f\"], [0.2222222222222222, \"#7201a8\"], [0.3333333333333333, \"#9c179e\"], [0.4444444444444444, \"#bd3786\"], [0.5555555555555556, \"#d8576b\"], [0.6666666666666666, \"#ed7953\"], [0.7777777777777778, \"#fb9f3a\"], [0.8888888888888888, \"#fdca26\"], [1.0, \"#f0f921\"]], \"sequentialminus\": [[0.0, \"#0d0887\"], [0.1111111111111111, \"#46039f\"], [0.2222222222222222, \"#7201a8\"], [0.3333333333333333, \"#9c179e\"], [0.4444444444444444, \"#bd3786\"], [0.5555555555555556, \"#d8576b\"], [0.6666666666666666, \"#ed7953\"], [0.7777777777777778, \"#fb9f3a\"], [0.8888888888888888, \"#fdca26\"], [1.0, \"#f0f921\"]]}, \"colorway\": [\"#636efa\", \"#EF553B\", \"#00cc96\", \"#ab63fa\", \"#FFA15A\", \"#19d3f3\", \"#FF6692\", \"#B6E880\", \"#FF97FF\", \"#FECB52\"], \"font\": {\"color\": \"#2a3f5f\"}, \"geo\": {\"bgcolor\": \"white\", \"lakecolor\": \"white\", \"landcolor\": \"#E5ECF6\", \"showlakes\": true, \"showland\": true, \"subunitcolor\": \"white\"}, \"hoverlabel\": {\"align\": \"left\"}, \"hovermode\": \"closest\", \"mapbox\": {\"style\": \"light\"}, \"paper_bgcolor\": \"white\", \"plot_bgcolor\": \"#E5ECF6\", \"polar\": {\"angularaxis\": {\"gridcolor\": \"white\", \"linecolor\": \"white\", \"ticks\": \"\"}, \"bgcolor\": \"#E5ECF6\", \"radialaxis\": {\"gridcolor\": \"white\", \"linecolor\": \"white\", \"ticks\": \"\"}}, \"scene\": {\"xaxis\": {\"backgroundcolor\": \"#E5ECF6\", \"gridcolor\": \"white\", \"gridwidth\": 2, \"linecolor\": \"white\", \"showbackground\": true, \"ticks\": \"\", \"zerolinecolor\": \"white\"}, \"yaxis\": {\"backgroundcolor\": \"#E5ECF6\", \"gridcolor\": \"white\", \"gridwidth\": 2, \"linecolor\": \"white\", \"showbackground\": true, \"ticks\": \"\", \"zerolinecolor\": \"white\"}, \"zaxis\": {\"backgroundcolor\": \"#E5ECF6\", \"gridcolor\": \"white\", \"gridwidth\": 2, \"linecolor\": \"white\", \"showbackground\": true, \"ticks\": \"\", \"zerolinecolor\": \"white\"}}, \"shapedefaults\": {\"line\": {\"color\": \"#2a3f5f\"}}, \"ternary\": {\"aaxis\": {\"gridcolor\": \"white\", \"linecolor\": \"white\", \"ticks\": \"\"}, \"baxis\": {\"gridcolor\": \"white\", \"linecolor\": \"white\", \"ticks\": \"\"}, \"bgcolor\": \"#E5ECF6\", \"caxis\": {\"gridcolor\": \"white\", \"linecolor\": \"white\", \"ticks\": \"\"}}, \"title\": {\"x\": 0.05}, \"xaxis\": {\"automargin\": true, \"gridcolor\": \"white\", \"linecolor\": \"white\", \"ticks\": \"\", \"title\": {\"standoff\": 15}, \"zerolinecolor\": \"white\", \"zerolinewidth\": 2}, \"yaxis\": {\"automargin\": true, \"gridcolor\": \"white\", \"linecolor\": \"white\", \"ticks\": \"\", \"title\": {\"standoff\": 15}, \"zerolinecolor\": \"white\", \"zerolinewidth\": 2}}}, \"title\": {\"text\": \"Infected rates across countries\"}},\n",
       "                        {\"responsive\": true}\n",
       "                    ).then(function(){\n",
       "                            \n",
       "var gd = document.getElementById('1672130a-db84-496c-923c-64845d1407a2');\n",
       "var x = new MutationObserver(function (mutations, observer) {{\n",
       "        var display = window.getComputedStyle(gd).display;\n",
       "        if (!display || display === 'none') {{\n",
       "            console.log([gd, 'removed!']);\n",
       "            Plotly.purge(gd);\n",
       "            observer.disconnect();\n",
       "        }}\n",
       "}});\n",
       "\n",
       "// Listen for the removal of the full notebook cells\n",
       "var notebookContainer = gd.closest('#notebook-container');\n",
       "if (notebookContainer) {{\n",
       "    x.observe(notebookContainer, {childList: true});\n",
       "}}\n",
       "\n",
       "// Listen for the clearing of the current output cell\n",
       "var outputEl = gd.closest('.output');\n",
       "if (outputEl) {{\n",
       "    x.observe(outputEl, {childList: true});\n",
       "}}\n",
       "\n",
       "                        })\n",
       "                };\n",
       "                });\n",
       "            </script>\n",
       "        </div>"
      ]
     },
     "metadata": {},
     "output_type": "display_data"
    }
   ],
   "source": [
    "import plotly.express as px\n",
    "\n",
    "df = pd.read_csv('./data/03-03-2020.csv')\n",
    "fig = px.pie(df, values='Confirmed', names='Country/Region',\n",
    "             title='Infected rates across countries',\n",
    "              hover_data=['Province/State'], labels={'Province/State':'Province/State'})\n",
    "fig.update_traces(textposition='inside')\n",
    "fig.show()"
   ]
  },
  {
   "cell_type": "code",
   "execution_count": 3,
   "metadata": {},
   "outputs": [
    {
     "data": {
      "application/vnd.plotly.v1+json": {
       "config": {
        "plotlyServerURL": "https://plot.ly"
       },
       "data": [
        {
         "customdata": [
          [
           null
          ],
          [
           null
          ],
          [
           null
          ],
          [
           "Diamond Princess cruise ship"
          ],
          [
           null
          ],
          [
           null
          ],
          [
           null
          ],
          [
           null
          ],
          [
           null
          ],
          [
           "Hong Kong"
          ],
          [
           null
          ],
          [
           null
          ],
          [
           null
          ],
          [
           null
          ],
          [
           "Unassigned Location (From Diamond Princess)"
          ],
          [
           null
          ],
          [
           "Taiwan"
          ],
          [
           null
          ],
          [
           null
          ],
          [
           null
          ],
          [
           null
          ],
          [
           null
          ],
          [
           null
          ],
          [
           null
          ],
          [
           "King County, WA"
          ],
          [
           "Toronto, ON"
          ],
          [
           null
          ],
          [
           "New South Wales"
          ],
          [
           null
          ],
          [
           null
          ],
          [
           null
          ],
          [
           null
          ],
          [
           "Queensland"
          ],
          [
           null
          ],
          [
           "Santa Clara, CA"
          ],
          [
           "Macau"
          ],
          [
           null
          ],
          [
           "Victoria"
          ],
          [
           "British Columbia"
          ],
          [
           null
          ],
          [
           null
          ],
          [
           null
          ],
          [
           null
          ],
          [
           null
          ],
          [
           null
          ],
          [
           "Snohomish County, WA"
          ],
          [
           null
          ],
          [
           null
          ],
          [
           null
          ],
          [
           null
          ],
          [
           null
          ],
          [
           "Cook County, IL"
          ],
          [
           "South Australia"
          ],
          [
           null
          ],
          [
           null
          ],
          [
           null
          ],
          [
           null
          ],
          [
           null
          ],
          [
           "Western Australia"
          ],
          [
           null
          ],
          [
           null
          ],
          [
           null
          ],
          [
           null
          ],
          [
           null
          ],
          [
           null
          ],
          [
           null
          ],
          [
           "Fulton County, GA"
          ],
          [
           "Grafton County, NH"
          ],
          [
           "Hillsborough, FL"
          ],
          [
           "Providence, RI"
          ],
          [
           "Sacramento County, CA"
          ],
          [
           "San Benito, CA"
          ],
          [
           "San Diego County, CA"
          ],
          [
           "San Mateo, CA"
          ],
          [
           "Washington County, OR"
          ],
          [
           null
          ],
          [
           null
          ],
          [
           null
          ],
          [
           null
          ],
          [
           "Tasmania"
          ],
          [
           null
          ],
          [
           null
          ],
          [
           " Montreal, QC"
          ],
          [
           "London, ON"
          ],
          [
           null
          ],
          [
           null
          ],
          [
           null
          ],
          [
           null
          ],
          [
           null
          ],
          [
           null
          ],
          [
           null
          ],
          [
           null
          ],
          [
           null
          ],
          [
           null
          ],
          [
           null
          ],
          [
           null
          ],
          [
           null
          ],
          [
           null
          ],
          [
           " Norfolk County, MA"
          ],
          [
           "Berkeley, CA"
          ],
          [
           "Boston, MA"
          ],
          [
           "Humboldt County, CA"
          ],
          [
           "Los Angeles, CA"
          ],
          [
           "Madison, WI"
          ],
          [
           "Maricopa County, AZ"
          ],
          [
           "New York City, NY"
          ],
          [
           "Orange, CA"
          ],
          [
           "Placer County, CA"
          ],
          [
           "San Antonio, TX"
          ],
          [
           "Sarasota, FL"
          ],
          [
           "Sonoma County, CA"
          ],
          [
           "Tempe, AZ"
          ],
          [
           "Umatilla, OR"
          ],
          [
           "Wake County, NC"
          ],
          [
           "Westchester County, NY"
          ],
          [
           null
          ],
          [
           "From Diamond Princess"
          ],
          [
           "Lackland, TX (From Diamond Princess)"
          ],
          [
           "Omaha, NE (From Diamond Princess)"
          ],
          [
           "Travis, CA (From Diamond Princess)"
          ]
         ],
         "domain": {
          "x": [
           0,
           1
          ],
          "y": [
           0,
           1
          ]
         },
         "hoverlabel": {
          "namelength": 0
         },
         "hovertemplate": "Province/State=%{customdata[0]}<br>Country/Region=%{label}<br>Confirmed=%{value}",
         "labels": [
          "South Korea",
          "Italy",
          "Iran",
          "Others",
          "Japan",
          "France",
          "Germany",
          "Spain",
          "Singapore",
          "Hong Kong",
          "Kuwait",
          "Switzerland",
          "UK",
          "Bahrain",
          "US",
          "Thailand",
          "Taiwan",
          "Malaysia",
          "Iraq",
          "Norway",
          "United Arab Emirates",
          "Netherlands",
          "Austria",
          "Sweden",
          "US",
          "Canada",
          "Vietnam",
          "Australia",
          "Belgium",
          "Lebanon",
          "Israel",
          "Oman",
          "Australia",
          "Iceland",
          "US",
          "Macau",
          "San Marino",
          "Australia",
          "Canada",
          "Croatia",
          "Ecuador",
          "Greece",
          "Qatar",
          "Denmark",
          "Finland",
          "US",
          "Algeria",
          "Czech Republic",
          "India",
          "Mexico",
          "Pakistan",
          "US",
          "Australia",
          "Azerbaijan",
          "Georgia",
          "Philippines",
          "Romania",
          "Russia",
          "Australia",
          "Brazil",
          "Egypt",
          "Estonia",
          "Indonesia",
          "Ireland",
          "Portugal",
          "Senegal",
          "US",
          "US",
          "US",
          "US",
          "US",
          "US",
          "US",
          "US",
          "US",
          "Afghanistan",
          "Andorra",
          "Argentina",
          "Armenia",
          "Australia",
          "Belarus",
          "Cambodia",
          "Canada",
          "Canada",
          "Chile",
          "Dominican Republic",
          "Jordan",
          "Latvia",
          "Lithuania",
          "Luxembourg",
          "Monaco",
          "Morocco",
          "Nepal",
          "New Zealand",
          "Nigeria",
          "North Macedonia",
          "Saudi Arabia",
          "Sri Lanka",
          "US",
          "US",
          "US",
          "US",
          "US",
          "US",
          "US",
          "US",
          "US",
          "US",
          "US",
          "US",
          "US",
          "US",
          "US",
          "US",
          "US",
          "Ukraine",
          "Australia",
          "US",
          "US",
          "US"
         ],
         "legendgroup": "",
         "name": "",
         "showlegend": true,
         "textposition": "inside",
         "type": "pie",
         "values": [
          5186,
          2502,
          2336,
          706,
          293,
          204,
          196,
          165,
          110,
          100,
          56,
          56,
          51,
          49,
          45,
          43,
          42,
          36,
          32,
          32,
          27,
          24,
          21,
          21,
          21,
          19,
          16,
          13,
          13,
          13,
          12,
          12,
          11,
          11,
          11,
          10,
          10,
          9,
          9,
          9,
          7,
          7,
          7,
          6,
          6,
          6,
          5,
          5,
          5,
          5,
          5,
          4,
          3,
          3,
          3,
          3,
          3,
          3,
          2,
          2,
          2,
          2,
          2,
          2,
          2,
          2,
          2,
          2,
          2,
          2,
          2,
          2,
          2,
          2,
          2,
          1,
          1,
          1,
          1,
          1,
          1,
          1,
          1,
          1,
          1,
          1,
          1,
          1,
          1,
          1,
          1,
          1,
          1,
          1,
          1,
          1,
          1,
          1,
          1,
          1,
          1,
          1,
          1,
          1,
          1,
          1,
          1,
          1,
          1,
          1,
          1,
          1,
          1,
          1,
          1,
          1,
          0,
          0,
          0,
          0
         ]
        }
       ],
       "layout": {
        "legend": {
         "tracegroupgap": 0
        },
        "template": {
         "data": {
          "bar": [
           {
            "error_x": {
             "color": "#2a3f5f"
            },
            "error_y": {
             "color": "#2a3f5f"
            },
            "marker": {
             "line": {
              "color": "#E5ECF6",
              "width": 0.5
             }
            },
            "type": "bar"
           }
          ],
          "barpolar": [
           {
            "marker": {
             "line": {
              "color": "#E5ECF6",
              "width": 0.5
             }
            },
            "type": "barpolar"
           }
          ],
          "carpet": [
           {
            "aaxis": {
             "endlinecolor": "#2a3f5f",
             "gridcolor": "white",
             "linecolor": "white",
             "minorgridcolor": "white",
             "startlinecolor": "#2a3f5f"
            },
            "baxis": {
             "endlinecolor": "#2a3f5f",
             "gridcolor": "white",
             "linecolor": "white",
             "minorgridcolor": "white",
             "startlinecolor": "#2a3f5f"
            },
            "type": "carpet"
           }
          ],
          "choropleth": [
           {
            "colorbar": {
             "outlinewidth": 0,
             "ticks": ""
            },
            "type": "choropleth"
           }
          ],
          "contour": [
           {
            "colorbar": {
             "outlinewidth": 0,
             "ticks": ""
            },
            "colorscale": [
             [
              0,
              "#0d0887"
             ],
             [
              0.1111111111111111,
              "#46039f"
             ],
             [
              0.2222222222222222,
              "#7201a8"
             ],
             [
              0.3333333333333333,
              "#9c179e"
             ],
             [
              0.4444444444444444,
              "#bd3786"
             ],
             [
              0.5555555555555556,
              "#d8576b"
             ],
             [
              0.6666666666666666,
              "#ed7953"
             ],
             [
              0.7777777777777778,
              "#fb9f3a"
             ],
             [
              0.8888888888888888,
              "#fdca26"
             ],
             [
              1,
              "#f0f921"
             ]
            ],
            "type": "contour"
           }
          ],
          "contourcarpet": [
           {
            "colorbar": {
             "outlinewidth": 0,
             "ticks": ""
            },
            "type": "contourcarpet"
           }
          ],
          "heatmap": [
           {
            "colorbar": {
             "outlinewidth": 0,
             "ticks": ""
            },
            "colorscale": [
             [
              0,
              "#0d0887"
             ],
             [
              0.1111111111111111,
              "#46039f"
             ],
             [
              0.2222222222222222,
              "#7201a8"
             ],
             [
              0.3333333333333333,
              "#9c179e"
             ],
             [
              0.4444444444444444,
              "#bd3786"
             ],
             [
              0.5555555555555556,
              "#d8576b"
             ],
             [
              0.6666666666666666,
              "#ed7953"
             ],
             [
              0.7777777777777778,
              "#fb9f3a"
             ],
             [
              0.8888888888888888,
              "#fdca26"
             ],
             [
              1,
              "#f0f921"
             ]
            ],
            "type": "heatmap"
           }
          ],
          "heatmapgl": [
           {
            "colorbar": {
             "outlinewidth": 0,
             "ticks": ""
            },
            "colorscale": [
             [
              0,
              "#0d0887"
             ],
             [
              0.1111111111111111,
              "#46039f"
             ],
             [
              0.2222222222222222,
              "#7201a8"
             ],
             [
              0.3333333333333333,
              "#9c179e"
             ],
             [
              0.4444444444444444,
              "#bd3786"
             ],
             [
              0.5555555555555556,
              "#d8576b"
             ],
             [
              0.6666666666666666,
              "#ed7953"
             ],
             [
              0.7777777777777778,
              "#fb9f3a"
             ],
             [
              0.8888888888888888,
              "#fdca26"
             ],
             [
              1,
              "#f0f921"
             ]
            ],
            "type": "heatmapgl"
           }
          ],
          "histogram": [
           {
            "marker": {
             "colorbar": {
              "outlinewidth": 0,
              "ticks": ""
             }
            },
            "type": "histogram"
           }
          ],
          "histogram2d": [
           {
            "colorbar": {
             "outlinewidth": 0,
             "ticks": ""
            },
            "colorscale": [
             [
              0,
              "#0d0887"
             ],
             [
              0.1111111111111111,
              "#46039f"
             ],
             [
              0.2222222222222222,
              "#7201a8"
             ],
             [
              0.3333333333333333,
              "#9c179e"
             ],
             [
              0.4444444444444444,
              "#bd3786"
             ],
             [
              0.5555555555555556,
              "#d8576b"
             ],
             [
              0.6666666666666666,
              "#ed7953"
             ],
             [
              0.7777777777777778,
              "#fb9f3a"
             ],
             [
              0.8888888888888888,
              "#fdca26"
             ],
             [
              1,
              "#f0f921"
             ]
            ],
            "type": "histogram2d"
           }
          ],
          "histogram2dcontour": [
           {
            "colorbar": {
             "outlinewidth": 0,
             "ticks": ""
            },
            "colorscale": [
             [
              0,
              "#0d0887"
             ],
             [
              0.1111111111111111,
              "#46039f"
             ],
             [
              0.2222222222222222,
              "#7201a8"
             ],
             [
              0.3333333333333333,
              "#9c179e"
             ],
             [
              0.4444444444444444,
              "#bd3786"
             ],
             [
              0.5555555555555556,
              "#d8576b"
             ],
             [
              0.6666666666666666,
              "#ed7953"
             ],
             [
              0.7777777777777778,
              "#fb9f3a"
             ],
             [
              0.8888888888888888,
              "#fdca26"
             ],
             [
              1,
              "#f0f921"
             ]
            ],
            "type": "histogram2dcontour"
           }
          ],
          "mesh3d": [
           {
            "colorbar": {
             "outlinewidth": 0,
             "ticks": ""
            },
            "type": "mesh3d"
           }
          ],
          "parcoords": [
           {
            "line": {
             "colorbar": {
              "outlinewidth": 0,
              "ticks": ""
             }
            },
            "type": "parcoords"
           }
          ],
          "pie": [
           {
            "automargin": true,
            "type": "pie"
           }
          ],
          "scatter": [
           {
            "marker": {
             "colorbar": {
              "outlinewidth": 0,
              "ticks": ""
             }
            },
            "type": "scatter"
           }
          ],
          "scatter3d": [
           {
            "line": {
             "colorbar": {
              "outlinewidth": 0,
              "ticks": ""
             }
            },
            "marker": {
             "colorbar": {
              "outlinewidth": 0,
              "ticks": ""
             }
            },
            "type": "scatter3d"
           }
          ],
          "scattercarpet": [
           {
            "marker": {
             "colorbar": {
              "outlinewidth": 0,
              "ticks": ""
             }
            },
            "type": "scattercarpet"
           }
          ],
          "scattergeo": [
           {
            "marker": {
             "colorbar": {
              "outlinewidth": 0,
              "ticks": ""
             }
            },
            "type": "scattergeo"
           }
          ],
          "scattergl": [
           {
            "marker": {
             "colorbar": {
              "outlinewidth": 0,
              "ticks": ""
             }
            },
            "type": "scattergl"
           }
          ],
          "scattermapbox": [
           {
            "marker": {
             "colorbar": {
              "outlinewidth": 0,
              "ticks": ""
             }
            },
            "type": "scattermapbox"
           }
          ],
          "scatterpolar": [
           {
            "marker": {
             "colorbar": {
              "outlinewidth": 0,
              "ticks": ""
             }
            },
            "type": "scatterpolar"
           }
          ],
          "scatterpolargl": [
           {
            "marker": {
             "colorbar": {
              "outlinewidth": 0,
              "ticks": ""
             }
            },
            "type": "scatterpolargl"
           }
          ],
          "scatterternary": [
           {
            "marker": {
             "colorbar": {
              "outlinewidth": 0,
              "ticks": ""
             }
            },
            "type": "scatterternary"
           }
          ],
          "surface": [
           {
            "colorbar": {
             "outlinewidth": 0,
             "ticks": ""
            },
            "colorscale": [
             [
              0,
              "#0d0887"
             ],
             [
              0.1111111111111111,
              "#46039f"
             ],
             [
              0.2222222222222222,
              "#7201a8"
             ],
             [
              0.3333333333333333,
              "#9c179e"
             ],
             [
              0.4444444444444444,
              "#bd3786"
             ],
             [
              0.5555555555555556,
              "#d8576b"
             ],
             [
              0.6666666666666666,
              "#ed7953"
             ],
             [
              0.7777777777777778,
              "#fb9f3a"
             ],
             [
              0.8888888888888888,
              "#fdca26"
             ],
             [
              1,
              "#f0f921"
             ]
            ],
            "type": "surface"
           }
          ],
          "table": [
           {
            "cells": {
             "fill": {
              "color": "#EBF0F8"
             },
             "line": {
              "color": "white"
             }
            },
            "header": {
             "fill": {
              "color": "#C8D4E3"
             },
             "line": {
              "color": "white"
             }
            },
            "type": "table"
           }
          ]
         },
         "layout": {
          "annotationdefaults": {
           "arrowcolor": "#2a3f5f",
           "arrowhead": 0,
           "arrowwidth": 1
          },
          "coloraxis": {
           "colorbar": {
            "outlinewidth": 0,
            "ticks": ""
           }
          },
          "colorscale": {
           "diverging": [
            [
             0,
             "#8e0152"
            ],
            [
             0.1,
             "#c51b7d"
            ],
            [
             0.2,
             "#de77ae"
            ],
            [
             0.3,
             "#f1b6da"
            ],
            [
             0.4,
             "#fde0ef"
            ],
            [
             0.5,
             "#f7f7f7"
            ],
            [
             0.6,
             "#e6f5d0"
            ],
            [
             0.7,
             "#b8e186"
            ],
            [
             0.8,
             "#7fbc41"
            ],
            [
             0.9,
             "#4d9221"
            ],
            [
             1,
             "#276419"
            ]
           ],
           "sequential": [
            [
             0,
             "#0d0887"
            ],
            [
             0.1111111111111111,
             "#46039f"
            ],
            [
             0.2222222222222222,
             "#7201a8"
            ],
            [
             0.3333333333333333,
             "#9c179e"
            ],
            [
             0.4444444444444444,
             "#bd3786"
            ],
            [
             0.5555555555555556,
             "#d8576b"
            ],
            [
             0.6666666666666666,
             "#ed7953"
            ],
            [
             0.7777777777777778,
             "#fb9f3a"
            ],
            [
             0.8888888888888888,
             "#fdca26"
            ],
            [
             1,
             "#f0f921"
            ]
           ],
           "sequentialminus": [
            [
             0,
             "#0d0887"
            ],
            [
             0.1111111111111111,
             "#46039f"
            ],
            [
             0.2222222222222222,
             "#7201a8"
            ],
            [
             0.3333333333333333,
             "#9c179e"
            ],
            [
             0.4444444444444444,
             "#bd3786"
            ],
            [
             0.5555555555555556,
             "#d8576b"
            ],
            [
             0.6666666666666666,
             "#ed7953"
            ],
            [
             0.7777777777777778,
             "#fb9f3a"
            ],
            [
             0.8888888888888888,
             "#fdca26"
            ],
            [
             1,
             "#f0f921"
            ]
           ]
          },
          "colorway": [
           "#636efa",
           "#EF553B",
           "#00cc96",
           "#ab63fa",
           "#FFA15A",
           "#19d3f3",
           "#FF6692",
           "#B6E880",
           "#FF97FF",
           "#FECB52"
          ],
          "font": {
           "color": "#2a3f5f"
          },
          "geo": {
           "bgcolor": "white",
           "lakecolor": "white",
           "landcolor": "#E5ECF6",
           "showlakes": true,
           "showland": true,
           "subunitcolor": "white"
          },
          "hoverlabel": {
           "align": "left"
          },
          "hovermode": "closest",
          "mapbox": {
           "style": "light"
          },
          "paper_bgcolor": "white",
          "plot_bgcolor": "#E5ECF6",
          "polar": {
           "angularaxis": {
            "gridcolor": "white",
            "linecolor": "white",
            "ticks": ""
           },
           "bgcolor": "#E5ECF6",
           "radialaxis": {
            "gridcolor": "white",
            "linecolor": "white",
            "ticks": ""
           }
          },
          "scene": {
           "xaxis": {
            "backgroundcolor": "#E5ECF6",
            "gridcolor": "white",
            "gridwidth": 2,
            "linecolor": "white",
            "showbackground": true,
            "ticks": "",
            "zerolinecolor": "white"
           },
           "yaxis": {
            "backgroundcolor": "#E5ECF6",
            "gridcolor": "white",
            "gridwidth": 2,
            "linecolor": "white",
            "showbackground": true,
            "ticks": "",
            "zerolinecolor": "white"
           },
           "zaxis": {
            "backgroundcolor": "#E5ECF6",
            "gridcolor": "white",
            "gridwidth": 2,
            "linecolor": "white",
            "showbackground": true,
            "ticks": "",
            "zerolinecolor": "white"
           }
          },
          "shapedefaults": {
           "line": {
            "color": "#2a3f5f"
           }
          },
          "ternary": {
           "aaxis": {
            "gridcolor": "white",
            "linecolor": "white",
            "ticks": ""
           },
           "baxis": {
            "gridcolor": "white",
            "linecolor": "white",
            "ticks": ""
           },
           "bgcolor": "#E5ECF6",
           "caxis": {
            "gridcolor": "white",
            "linecolor": "white",
            "ticks": ""
           }
          },
          "title": {
           "x": 0.05
          },
          "xaxis": {
           "automargin": true,
           "gridcolor": "white",
           "linecolor": "white",
           "ticks": "",
           "title": {
            "standoff": 15
           },
           "zerolinecolor": "white",
           "zerolinewidth": 2
          },
          "yaxis": {
           "automargin": true,
           "gridcolor": "white",
           "linecolor": "white",
           "ticks": "",
           "title": {
            "standoff": 15
           },
           "zerolinecolor": "white",
           "zerolinewidth": 2
          }
         }
        },
        "title": {
         "text": "Infected rates across countries excluding Mainland China"
        }
       }
      },
      "text/html": [
       "<div>\n",
       "        \n",
       "        \n",
       "            <div id=\"98791769-dd19-4154-8f44-9c85934b9616\" class=\"plotly-graph-div\" style=\"height:525px; width:100%;\"></div>\n",
       "            <script type=\"text/javascript\">\n",
       "                require([\"plotly\"], function(Plotly) {\n",
       "                    window.PLOTLYENV=window.PLOTLYENV || {};\n",
       "                    \n",
       "                if (document.getElementById(\"98791769-dd19-4154-8f44-9c85934b9616\")) {\n",
       "                    Plotly.newPlot(\n",
       "                        '98791769-dd19-4154-8f44-9c85934b9616',\n",
       "                        [{\"customdata\": [[null], [null], [null], [\"Diamond Princess cruise ship\"], [null], [null], [null], [null], [null], [\"Hong Kong\"], [null], [null], [null], [null], [\"Unassigned Location (From Diamond Princess)\"], [null], [\"Taiwan\"], [null], [null], [null], [null], [null], [null], [null], [\"King County, WA\"], [\"Toronto, ON\"], [null], [\"New South Wales\"], [null], [null], [null], [null], [\"Queensland\"], [null], [\"Santa Clara, CA\"], [\"Macau\"], [null], [\"Victoria\"], [\"British Columbia\"], [null], [null], [null], [null], [null], [null], [\"Snohomish County, WA\"], [null], [null], [null], [null], [null], [\"Cook County, IL\"], [\"South Australia\"], [null], [null], [null], [null], [null], [\"Western Australia\"], [null], [null], [null], [null], [null], [null], [null], [\"Fulton County, GA\"], [\"Grafton County, NH\"], [\"Hillsborough, FL\"], [\"Providence, RI\"], [\"Sacramento County, CA\"], [\"San Benito, CA\"], [\"San Diego County, CA\"], [\"San Mateo, CA\"], [\"Washington County, OR\"], [null], [null], [null], [null], [\"Tasmania\"], [null], [null], [\" Montreal, QC\"], [\"London, ON\"], [null], [null], [null], [null], [null], [null], [null], [null], [null], [null], [null], [null], [null], [null], [\" Norfolk County, MA\"], [\"Berkeley, CA\"], [\"Boston, MA\"], [\"Humboldt County, CA\"], [\"Los Angeles, CA\"], [\"Madison, WI\"], [\"Maricopa County, AZ\"], [\"New York City, NY\"], [\"Orange, CA\"], [\"Placer County, CA\"], [\"San Antonio, TX\"], [\"Sarasota, FL\"], [\"Sonoma County, CA\"], [\"Tempe, AZ\"], [\"Umatilla, OR\"], [\"Wake County, NC\"], [\"Westchester County, NY\"], [null], [\"From Diamond Princess\"], [\"Lackland, TX (From Diamond Princess)\"], [\"Omaha, NE (From Diamond Princess)\"], [\"Travis, CA (From Diamond Princess)\"]], \"domain\": {\"x\": [0.0, 1.0], \"y\": [0.0, 1.0]}, \"hoverlabel\": {\"namelength\": 0}, \"hovertemplate\": \"Province/State=%{customdata[0]}<br>Country/Region=%{label}<br>Confirmed=%{value}\", \"labels\": [\"South Korea\", \"Italy\", \"Iran\", \"Others\", \"Japan\", \"France\", \"Germany\", \"Spain\", \"Singapore\", \"Hong Kong\", \"Kuwait\", \"Switzerland\", \"UK\", \"Bahrain\", \"US\", \"Thailand\", \"Taiwan\", \"Malaysia\", \"Iraq\", \"Norway\", \"United Arab Emirates\", \"Netherlands\", \"Austria\", \"Sweden\", \"US\", \"Canada\", \"Vietnam\", \"Australia\", \"Belgium\", \"Lebanon\", \"Israel\", \"Oman\", \"Australia\", \"Iceland\", \"US\", \"Macau\", \"San Marino\", \"Australia\", \"Canada\", \"Croatia\", \"Ecuador\", \"Greece\", \"Qatar\", \"Denmark\", \"Finland\", \"US\", \"Algeria\", \"Czech Republic\", \"India\", \"Mexico\", \"Pakistan\", \"US\", \"Australia\", \"Azerbaijan\", \"Georgia\", \"Philippines\", \"Romania\", \"Russia\", \"Australia\", \"Brazil\", \"Egypt\", \"Estonia\", \"Indonesia\", \"Ireland\", \"Portugal\", \"Senegal\", \"US\", \"US\", \"US\", \"US\", \"US\", \"US\", \"US\", \"US\", \"US\", \"Afghanistan\", \"Andorra\", \"Argentina\", \"Armenia\", \"Australia\", \"Belarus\", \"Cambodia\", \"Canada\", \"Canada\", \"Chile\", \"Dominican Republic\", \"Jordan\", \"Latvia\", \"Lithuania\", \"Luxembourg\", \"Monaco\", \"Morocco\", \"Nepal\", \"New Zealand\", \"Nigeria\", \"North Macedonia\", \"Saudi Arabia\", \"Sri Lanka\", \"US\", \"US\", \"US\", \"US\", \"US\", \"US\", \"US\", \"US\", \"US\", \"US\", \"US\", \"US\", \"US\", \"US\", \"US\", \"US\", \"US\", \"Ukraine\", \"Australia\", \"US\", \"US\", \"US\"], \"legendgroup\": \"\", \"name\": \"\", \"showlegend\": true, \"textposition\": \"inside\", \"type\": \"pie\", \"values\": [5186, 2502, 2336, 706, 293, 204, 196, 165, 110, 100, 56, 56, 51, 49, 45, 43, 42, 36, 32, 32, 27, 24, 21, 21, 21, 19, 16, 13, 13, 13, 12, 12, 11, 11, 11, 10, 10, 9, 9, 9, 7, 7, 7, 6, 6, 6, 5, 5, 5, 5, 5, 4, 3, 3, 3, 3, 3, 3, 2, 2, 2, 2, 2, 2, 2, 2, 2, 2, 2, 2, 2, 2, 2, 2, 2, 1, 1, 1, 1, 1, 1, 1, 1, 1, 1, 1, 1, 1, 1, 1, 1, 1, 1, 1, 1, 1, 1, 1, 1, 1, 1, 1, 1, 1, 1, 1, 1, 1, 1, 1, 1, 1, 1, 1, 1, 1, 0, 0, 0, 0]}],\n",
       "                        {\"legend\": {\"tracegroupgap\": 0}, \"template\": {\"data\": {\"bar\": [{\"error_x\": {\"color\": \"#2a3f5f\"}, \"error_y\": {\"color\": \"#2a3f5f\"}, \"marker\": {\"line\": {\"color\": \"#E5ECF6\", \"width\": 0.5}}, \"type\": \"bar\"}], \"barpolar\": [{\"marker\": {\"line\": {\"color\": \"#E5ECF6\", \"width\": 0.5}}, \"type\": \"barpolar\"}], \"carpet\": [{\"aaxis\": {\"endlinecolor\": \"#2a3f5f\", \"gridcolor\": \"white\", \"linecolor\": \"white\", \"minorgridcolor\": \"white\", \"startlinecolor\": \"#2a3f5f\"}, \"baxis\": {\"endlinecolor\": \"#2a3f5f\", \"gridcolor\": \"white\", \"linecolor\": \"white\", \"minorgridcolor\": \"white\", \"startlinecolor\": \"#2a3f5f\"}, \"type\": \"carpet\"}], \"choropleth\": [{\"colorbar\": {\"outlinewidth\": 0, \"ticks\": \"\"}, \"type\": \"choropleth\"}], \"contour\": [{\"colorbar\": {\"outlinewidth\": 0, \"ticks\": \"\"}, \"colorscale\": [[0.0, \"#0d0887\"], [0.1111111111111111, \"#46039f\"], [0.2222222222222222, \"#7201a8\"], [0.3333333333333333, \"#9c179e\"], [0.4444444444444444, \"#bd3786\"], [0.5555555555555556, \"#d8576b\"], [0.6666666666666666, \"#ed7953\"], [0.7777777777777778, \"#fb9f3a\"], [0.8888888888888888, \"#fdca26\"], [1.0, \"#f0f921\"]], \"type\": \"contour\"}], \"contourcarpet\": [{\"colorbar\": {\"outlinewidth\": 0, \"ticks\": \"\"}, \"type\": \"contourcarpet\"}], \"heatmap\": [{\"colorbar\": {\"outlinewidth\": 0, \"ticks\": \"\"}, \"colorscale\": [[0.0, \"#0d0887\"], [0.1111111111111111, \"#46039f\"], [0.2222222222222222, \"#7201a8\"], [0.3333333333333333, \"#9c179e\"], [0.4444444444444444, \"#bd3786\"], [0.5555555555555556, \"#d8576b\"], [0.6666666666666666, \"#ed7953\"], [0.7777777777777778, \"#fb9f3a\"], [0.8888888888888888, \"#fdca26\"], [1.0, \"#f0f921\"]], \"type\": \"heatmap\"}], \"heatmapgl\": [{\"colorbar\": {\"outlinewidth\": 0, \"ticks\": \"\"}, \"colorscale\": [[0.0, \"#0d0887\"], [0.1111111111111111, \"#46039f\"], [0.2222222222222222, \"#7201a8\"], [0.3333333333333333, \"#9c179e\"], [0.4444444444444444, \"#bd3786\"], [0.5555555555555556, \"#d8576b\"], [0.6666666666666666, \"#ed7953\"], [0.7777777777777778, \"#fb9f3a\"], [0.8888888888888888, \"#fdca26\"], [1.0, \"#f0f921\"]], \"type\": \"heatmapgl\"}], \"histogram\": [{\"marker\": {\"colorbar\": {\"outlinewidth\": 0, \"ticks\": \"\"}}, \"type\": \"histogram\"}], \"histogram2d\": [{\"colorbar\": {\"outlinewidth\": 0, \"ticks\": \"\"}, \"colorscale\": [[0.0, \"#0d0887\"], [0.1111111111111111, \"#46039f\"], [0.2222222222222222, \"#7201a8\"], [0.3333333333333333, \"#9c179e\"], [0.4444444444444444, \"#bd3786\"], [0.5555555555555556, \"#d8576b\"], [0.6666666666666666, \"#ed7953\"], [0.7777777777777778, \"#fb9f3a\"], [0.8888888888888888, \"#fdca26\"], [1.0, \"#f0f921\"]], \"type\": \"histogram2d\"}], \"histogram2dcontour\": [{\"colorbar\": {\"outlinewidth\": 0, \"ticks\": \"\"}, \"colorscale\": [[0.0, \"#0d0887\"], [0.1111111111111111, \"#46039f\"], [0.2222222222222222, \"#7201a8\"], [0.3333333333333333, \"#9c179e\"], [0.4444444444444444, \"#bd3786\"], [0.5555555555555556, \"#d8576b\"], [0.6666666666666666, \"#ed7953\"], [0.7777777777777778, \"#fb9f3a\"], [0.8888888888888888, \"#fdca26\"], [1.0, \"#f0f921\"]], \"type\": \"histogram2dcontour\"}], \"mesh3d\": [{\"colorbar\": {\"outlinewidth\": 0, \"ticks\": \"\"}, \"type\": \"mesh3d\"}], \"parcoords\": [{\"line\": {\"colorbar\": {\"outlinewidth\": 0, \"ticks\": \"\"}}, \"type\": \"parcoords\"}], \"pie\": [{\"automargin\": true, \"type\": \"pie\"}], \"scatter\": [{\"marker\": {\"colorbar\": {\"outlinewidth\": 0, \"ticks\": \"\"}}, \"type\": \"scatter\"}], \"scatter3d\": [{\"line\": {\"colorbar\": {\"outlinewidth\": 0, \"ticks\": \"\"}}, \"marker\": {\"colorbar\": {\"outlinewidth\": 0, \"ticks\": \"\"}}, \"type\": \"scatter3d\"}], \"scattercarpet\": [{\"marker\": {\"colorbar\": {\"outlinewidth\": 0, \"ticks\": \"\"}}, \"type\": \"scattercarpet\"}], \"scattergeo\": [{\"marker\": {\"colorbar\": {\"outlinewidth\": 0, \"ticks\": \"\"}}, \"type\": \"scattergeo\"}], \"scattergl\": [{\"marker\": {\"colorbar\": {\"outlinewidth\": 0, \"ticks\": \"\"}}, \"type\": \"scattergl\"}], \"scattermapbox\": [{\"marker\": {\"colorbar\": {\"outlinewidth\": 0, \"ticks\": \"\"}}, \"type\": \"scattermapbox\"}], \"scatterpolar\": [{\"marker\": {\"colorbar\": {\"outlinewidth\": 0, \"ticks\": \"\"}}, \"type\": \"scatterpolar\"}], \"scatterpolargl\": [{\"marker\": {\"colorbar\": {\"outlinewidth\": 0, \"ticks\": \"\"}}, \"type\": \"scatterpolargl\"}], \"scatterternary\": [{\"marker\": {\"colorbar\": {\"outlinewidth\": 0, \"ticks\": \"\"}}, \"type\": \"scatterternary\"}], \"surface\": [{\"colorbar\": {\"outlinewidth\": 0, \"ticks\": \"\"}, \"colorscale\": [[0.0, \"#0d0887\"], [0.1111111111111111, \"#46039f\"], [0.2222222222222222, \"#7201a8\"], [0.3333333333333333, \"#9c179e\"], [0.4444444444444444, \"#bd3786\"], [0.5555555555555556, \"#d8576b\"], [0.6666666666666666, \"#ed7953\"], [0.7777777777777778, \"#fb9f3a\"], [0.8888888888888888, \"#fdca26\"], [1.0, \"#f0f921\"]], \"type\": \"surface\"}], \"table\": [{\"cells\": {\"fill\": {\"color\": \"#EBF0F8\"}, \"line\": {\"color\": \"white\"}}, \"header\": {\"fill\": {\"color\": \"#C8D4E3\"}, \"line\": {\"color\": \"white\"}}, \"type\": \"table\"}]}, \"layout\": {\"annotationdefaults\": {\"arrowcolor\": \"#2a3f5f\", \"arrowhead\": 0, \"arrowwidth\": 1}, \"coloraxis\": {\"colorbar\": {\"outlinewidth\": 0, \"ticks\": \"\"}}, \"colorscale\": {\"diverging\": [[0, \"#8e0152\"], [0.1, \"#c51b7d\"], [0.2, \"#de77ae\"], [0.3, \"#f1b6da\"], [0.4, \"#fde0ef\"], [0.5, \"#f7f7f7\"], [0.6, \"#e6f5d0\"], [0.7, \"#b8e186\"], [0.8, \"#7fbc41\"], [0.9, \"#4d9221\"], [1, \"#276419\"]], \"sequential\": [[0.0, \"#0d0887\"], [0.1111111111111111, \"#46039f\"], [0.2222222222222222, \"#7201a8\"], [0.3333333333333333, \"#9c179e\"], [0.4444444444444444, \"#bd3786\"], [0.5555555555555556, \"#d8576b\"], [0.6666666666666666, \"#ed7953\"], [0.7777777777777778, \"#fb9f3a\"], [0.8888888888888888, \"#fdca26\"], [1.0, \"#f0f921\"]], \"sequentialminus\": [[0.0, \"#0d0887\"], [0.1111111111111111, \"#46039f\"], [0.2222222222222222, \"#7201a8\"], [0.3333333333333333, \"#9c179e\"], [0.4444444444444444, \"#bd3786\"], [0.5555555555555556, \"#d8576b\"], [0.6666666666666666, \"#ed7953\"], [0.7777777777777778, \"#fb9f3a\"], [0.8888888888888888, \"#fdca26\"], [1.0, \"#f0f921\"]]}, \"colorway\": [\"#636efa\", \"#EF553B\", \"#00cc96\", \"#ab63fa\", \"#FFA15A\", \"#19d3f3\", \"#FF6692\", \"#B6E880\", \"#FF97FF\", \"#FECB52\"], \"font\": {\"color\": \"#2a3f5f\"}, \"geo\": {\"bgcolor\": \"white\", \"lakecolor\": \"white\", \"landcolor\": \"#E5ECF6\", \"showlakes\": true, \"showland\": true, \"subunitcolor\": \"white\"}, \"hoverlabel\": {\"align\": \"left\"}, \"hovermode\": \"closest\", \"mapbox\": {\"style\": \"light\"}, \"paper_bgcolor\": \"white\", \"plot_bgcolor\": \"#E5ECF6\", \"polar\": {\"angularaxis\": {\"gridcolor\": \"white\", \"linecolor\": \"white\", \"ticks\": \"\"}, \"bgcolor\": \"#E5ECF6\", \"radialaxis\": {\"gridcolor\": \"white\", \"linecolor\": \"white\", \"ticks\": \"\"}}, \"scene\": {\"xaxis\": {\"backgroundcolor\": \"#E5ECF6\", \"gridcolor\": \"white\", \"gridwidth\": 2, \"linecolor\": \"white\", \"showbackground\": true, \"ticks\": \"\", \"zerolinecolor\": \"white\"}, \"yaxis\": {\"backgroundcolor\": \"#E5ECF6\", \"gridcolor\": \"white\", \"gridwidth\": 2, \"linecolor\": \"white\", \"showbackground\": true, \"ticks\": \"\", \"zerolinecolor\": \"white\"}, \"zaxis\": {\"backgroundcolor\": \"#E5ECF6\", \"gridcolor\": \"white\", \"gridwidth\": 2, \"linecolor\": \"white\", \"showbackground\": true, \"ticks\": \"\", \"zerolinecolor\": \"white\"}}, \"shapedefaults\": {\"line\": {\"color\": \"#2a3f5f\"}}, \"ternary\": {\"aaxis\": {\"gridcolor\": \"white\", \"linecolor\": \"white\", \"ticks\": \"\"}, \"baxis\": {\"gridcolor\": \"white\", \"linecolor\": \"white\", \"ticks\": \"\"}, \"bgcolor\": \"#E5ECF6\", \"caxis\": {\"gridcolor\": \"white\", \"linecolor\": \"white\", \"ticks\": \"\"}}, \"title\": {\"x\": 0.05}, \"xaxis\": {\"automargin\": true, \"gridcolor\": \"white\", \"linecolor\": \"white\", \"ticks\": \"\", \"title\": {\"standoff\": 15}, \"zerolinecolor\": \"white\", \"zerolinewidth\": 2}, \"yaxis\": {\"automargin\": true, \"gridcolor\": \"white\", \"linecolor\": \"white\", \"ticks\": \"\", \"title\": {\"standoff\": 15}, \"zerolinecolor\": \"white\", \"zerolinewidth\": 2}}}, \"title\": {\"text\": \"Infected rates across countries excluding Mainland China\"}},\n",
       "                        {\"responsive\": true}\n",
       "                    ).then(function(){\n",
       "                            \n",
       "var gd = document.getElementById('98791769-dd19-4154-8f44-9c85934b9616');\n",
       "var x = new MutationObserver(function (mutations, observer) {{\n",
       "        var display = window.getComputedStyle(gd).display;\n",
       "        if (!display || display === 'none') {{\n",
       "            console.log([gd, 'removed!']);\n",
       "            Plotly.purge(gd);\n",
       "            observer.disconnect();\n",
       "        }}\n",
       "}});\n",
       "\n",
       "// Listen for the removal of the full notebook cells\n",
       "var notebookContainer = gd.closest('#notebook-container');\n",
       "if (notebookContainer) {{\n",
       "    x.observe(notebookContainer, {childList: true});\n",
       "}}\n",
       "\n",
       "// Listen for the clearing of the current output cell\n",
       "var outputEl = gd.closest('.output');\n",
       "if (outputEl) {{\n",
       "    x.observe(outputEl, {childList: true});\n",
       "}}\n",
       "\n",
       "                        })\n",
       "                };\n",
       "                });\n",
       "            </script>\n",
       "        </div>"
      ]
     },
     "metadata": {},
     "output_type": "display_data"
    }
   ],
   "source": [
    "\n",
    "df = pd.read_excel('./data/exl_china.xlsx')\n",
    "\n",
    "fig = px.pie(df, values='Confirmed', names='Country/Region',\n",
    "             title='Infected rates across countries excluding Mainland China',\n",
    "              hover_data=['Province/State'], labels={'Province/State':'Province/State'})\n",
    "fig.update_traces(textposition='inside')\n",
    "fig.show()"
   ]
  },
  {
   "cell_type": "code",
   "execution_count": 4,
   "metadata": {},
   "outputs": [
    {
     "data": {
      "application/vnd.plotly.v1+json": {
       "config": {
        "plotlyServerURL": "https://plot.ly"
       },
       "data": [
        {
         "alignmentgroup": "True",
         "hoverlabel": {
          "namelength": 0
         },
         "hovertemplate": "Country/Region=%{x}<br>Deaths=%{y}",
         "legendgroup": "Mainland China",
         "marker": {
          "color": "#636efa"
         },
         "name": "Mainland China",
         "offsetgroup": "Mainland China",
         "orientation": "v",
         "showlegend": true,
         "textposition": "auto",
         "type": "bar",
         "x": [
          "Mainland China",
          "Mainland China",
          "Mainland China",
          "Mainland China",
          "Mainland China",
          "Mainland China",
          "Mainland China",
          "Mainland China",
          "Mainland China",
          "Mainland China",
          "Mainland China",
          "Mainland China",
          "Mainland China",
          "Mainland China",
          "Mainland China",
          "Mainland China",
          "Mainland China",
          "Mainland China",
          "Mainland China",
          "Mainland China",
          "Mainland China",
          "Mainland China",
          "Mainland China",
          "Mainland China",
          "Mainland China",
          "Mainland China",
          "Mainland China",
          "Mainland China",
          "Mainland China",
          "Mainland China",
          "Mainland China"
         ],
         "xaxis": "x",
         "y": [
          2835,
          7,
          22,
          1,
          4,
          6,
          1,
          6,
          0,
          6,
          3,
          13,
          8,
          3,
          6,
          1,
          2,
          1,
          2,
          5,
          2,
          3,
          0,
          1,
          1,
          2,
          3,
          1,
          0,
          0,
          0
         ],
         "yaxis": "y"
        },
        {
         "alignmentgroup": "True",
         "hoverlabel": {
          "namelength": 0
         },
         "hovertemplate": "Country/Region=%{x}<br>Deaths=%{y}",
         "legendgroup": "South Korea",
         "marker": {
          "color": "#EF553B"
         },
         "name": "South Korea",
         "offsetgroup": "South Korea",
         "orientation": "v",
         "showlegend": true,
         "textposition": "auto",
         "type": "bar",
         "x": [
          "South Korea"
         ],
         "xaxis": "x",
         "y": [
          28
         ],
         "yaxis": "y"
        },
        {
         "alignmentgroup": "True",
         "hoverlabel": {
          "namelength": 0
         },
         "hovertemplate": "Country/Region=%{x}<br>Deaths=%{y}",
         "legendgroup": "Italy",
         "marker": {
          "color": "#00cc96"
         },
         "name": "Italy",
         "offsetgroup": "Italy",
         "orientation": "v",
         "showlegend": true,
         "textposition": "auto",
         "type": "bar",
         "x": [
          "Italy"
         ],
         "xaxis": "x",
         "y": [
          79
         ],
         "yaxis": "y"
        },
        {
         "alignmentgroup": "True",
         "hoverlabel": {
          "namelength": 0
         },
         "hovertemplate": "Country/Region=%{x}<br>Deaths=%{y}",
         "legendgroup": "Iran",
         "marker": {
          "color": "#ab63fa"
         },
         "name": "Iran",
         "offsetgroup": "Iran",
         "orientation": "v",
         "showlegend": true,
         "textposition": "auto",
         "type": "bar",
         "x": [
          "Iran"
         ],
         "xaxis": "x",
         "y": [
          77
         ],
         "yaxis": "y"
        },
        {
         "alignmentgroup": "True",
         "hoverlabel": {
          "namelength": 0
         },
         "hovertemplate": "Country/Region=%{x}<br>Deaths=%{y}",
         "legendgroup": "Others",
         "marker": {
          "color": "#FFA15A"
         },
         "name": "Others",
         "offsetgroup": "Others",
         "orientation": "v",
         "showlegend": true,
         "textposition": "auto",
         "type": "bar",
         "x": [
          "Others"
         ],
         "xaxis": "x",
         "y": [
          6
         ],
         "yaxis": "y"
        },
        {
         "alignmentgroup": "True",
         "hoverlabel": {
          "namelength": 0
         },
         "hovertemplate": "Country/Region=%{x}<br>Deaths=%{y}",
         "legendgroup": "Japan",
         "marker": {
          "color": "#19d3f3"
         },
         "name": "Japan",
         "offsetgroup": "Japan",
         "orientation": "v",
         "showlegend": true,
         "textposition": "auto",
         "type": "bar",
         "x": [
          "Japan"
         ],
         "xaxis": "x",
         "y": [
          6
         ],
         "yaxis": "y"
        },
        {
         "alignmentgroup": "True",
         "hoverlabel": {
          "namelength": 0
         },
         "hovertemplate": "Country/Region=%{x}<br>Deaths=%{y}",
         "legendgroup": "France",
         "marker": {
          "color": "#FF6692"
         },
         "name": "France",
         "offsetgroup": "France",
         "orientation": "v",
         "showlegend": true,
         "textposition": "auto",
         "type": "bar",
         "x": [
          "France"
         ],
         "xaxis": "x",
         "y": [
          4
         ],
         "yaxis": "y"
        },
        {
         "alignmentgroup": "True",
         "hoverlabel": {
          "namelength": 0
         },
         "hovertemplate": "Country/Region=%{x}<br>Deaths=%{y}",
         "legendgroup": "Germany",
         "marker": {
          "color": "#B6E880"
         },
         "name": "Germany",
         "offsetgroup": "Germany",
         "orientation": "v",
         "showlegend": true,
         "textposition": "auto",
         "type": "bar",
         "x": [
          "Germany"
         ],
         "xaxis": "x",
         "y": [
          0
         ],
         "yaxis": "y"
        },
        {
         "alignmentgroup": "True",
         "hoverlabel": {
          "namelength": 0
         },
         "hovertemplate": "Country/Region=%{x}<br>Deaths=%{y}",
         "legendgroup": "Spain",
         "marker": {
          "color": "#FF97FF"
         },
         "name": "Spain",
         "offsetgroup": "Spain",
         "orientation": "v",
         "showlegend": true,
         "textposition": "auto",
         "type": "bar",
         "x": [
          "Spain"
         ],
         "xaxis": "x",
         "y": [
          1
         ],
         "yaxis": "y"
        },
        {
         "alignmentgroup": "True",
         "hoverlabel": {
          "namelength": 0
         },
         "hovertemplate": "Country/Region=%{x}<br>Deaths=%{y}",
         "legendgroup": "Singapore",
         "marker": {
          "color": "#FECB52"
         },
         "name": "Singapore",
         "offsetgroup": "Singapore",
         "orientation": "v",
         "showlegend": true,
         "textposition": "auto",
         "type": "bar",
         "x": [
          "Singapore"
         ],
         "xaxis": "x",
         "y": [
          0
         ],
         "yaxis": "y"
        },
        {
         "alignmentgroup": "True",
         "hoverlabel": {
          "namelength": 0
         },
         "hovertemplate": "Country/Region=%{x}<br>Deaths=%{y}",
         "legendgroup": "Hong Kong",
         "marker": {
          "color": "#636efa"
         },
         "name": "Hong Kong",
         "offsetgroup": "Hong Kong",
         "orientation": "v",
         "showlegend": true,
         "textposition": "auto",
         "type": "bar",
         "x": [
          "Hong Kong"
         ],
         "xaxis": "x",
         "y": [
          2
         ],
         "yaxis": "y"
        },
        {
         "alignmentgroup": "True",
         "hoverlabel": {
          "namelength": 0
         },
         "hovertemplate": "Country/Region=%{x}<br>Deaths=%{y}",
         "legendgroup": "Kuwait",
         "marker": {
          "color": "#EF553B"
         },
         "name": "Kuwait",
         "offsetgroup": "Kuwait",
         "orientation": "v",
         "showlegend": true,
         "textposition": "auto",
         "type": "bar",
         "x": [
          "Kuwait"
         ],
         "xaxis": "x",
         "y": [
          0
         ],
         "yaxis": "y"
        },
        {
         "alignmentgroup": "True",
         "hoverlabel": {
          "namelength": 0
         },
         "hovertemplate": "Country/Region=%{x}<br>Deaths=%{y}",
         "legendgroup": "Switzerland",
         "marker": {
          "color": "#00cc96"
         },
         "name": "Switzerland",
         "offsetgroup": "Switzerland",
         "orientation": "v",
         "showlegend": true,
         "textposition": "auto",
         "type": "bar",
         "x": [
          "Switzerland"
         ],
         "xaxis": "x",
         "y": [
          0
         ],
         "yaxis": "y"
        },
        {
         "alignmentgroup": "True",
         "hoverlabel": {
          "namelength": 0
         },
         "hovertemplate": "Country/Region=%{x}<br>Deaths=%{y}",
         "legendgroup": "UK",
         "marker": {
          "color": "#ab63fa"
         },
         "name": "UK",
         "offsetgroup": "UK",
         "orientation": "v",
         "showlegend": true,
         "textposition": "auto",
         "type": "bar",
         "x": [
          "UK"
         ],
         "xaxis": "x",
         "y": [
          0
         ],
         "yaxis": "y"
        },
        {
         "alignmentgroup": "True",
         "hoverlabel": {
          "namelength": 0
         },
         "hovertemplate": "Country/Region=%{x}<br>Deaths=%{y}",
         "legendgroup": "Bahrain",
         "marker": {
          "color": "#FFA15A"
         },
         "name": "Bahrain",
         "offsetgroup": "Bahrain",
         "orientation": "v",
         "showlegend": true,
         "textposition": "auto",
         "type": "bar",
         "x": [
          "Bahrain"
         ],
         "xaxis": "x",
         "y": [
          0
         ],
         "yaxis": "y"
        },
        {
         "alignmentgroup": "True",
         "hoverlabel": {
          "namelength": 0
         },
         "hovertemplate": "Country/Region=%{x}<br>Deaths=%{y}",
         "legendgroup": "US",
         "marker": {
          "color": "#19d3f3"
         },
         "name": "US",
         "offsetgroup": "US",
         "orientation": "v",
         "showlegend": true,
         "textposition": "auto",
         "type": "bar",
         "x": [
          "US",
          "US",
          "US",
          "US",
          "US",
          "US",
          "US",
          "US",
          "US",
          "US",
          "US",
          "US",
          "US",
          "US",
          "US",
          "US",
          "US",
          "US",
          "US",
          "US",
          "US",
          "US",
          "US",
          "US",
          "US",
          "US",
          "US",
          "US",
          "US",
          "US",
          "US",
          "US",
          "US",
          "US"
         ],
         "xaxis": "x",
         "y": [
          0,
          6,
          0,
          1,
          0,
          0,
          0,
          0,
          0,
          0,
          0,
          0,
          0,
          0,
          0,
          0,
          0,
          0,
          0,
          0,
          0,
          0,
          0,
          0,
          0,
          0,
          0,
          0,
          0,
          0,
          0,
          0,
          0,
          0
         ],
         "yaxis": "y"
        },
        {
         "alignmentgroup": "True",
         "hoverlabel": {
          "namelength": 0
         },
         "hovertemplate": "Country/Region=%{x}<br>Deaths=%{y}",
         "legendgroup": "Thailand",
         "marker": {
          "color": "#FF6692"
         },
         "name": "Thailand",
         "offsetgroup": "Thailand",
         "orientation": "v",
         "showlegend": true,
         "textposition": "auto",
         "type": "bar",
         "x": [
          "Thailand"
         ],
         "xaxis": "x",
         "y": [
          1
         ],
         "yaxis": "y"
        },
        {
         "alignmentgroup": "True",
         "hoverlabel": {
          "namelength": 0
         },
         "hovertemplate": "Country/Region=%{x}<br>Deaths=%{y}",
         "legendgroup": "Taiwan",
         "marker": {
          "color": "#B6E880"
         },
         "name": "Taiwan",
         "offsetgroup": "Taiwan",
         "orientation": "v",
         "showlegend": true,
         "textposition": "auto",
         "type": "bar",
         "x": [
          "Taiwan"
         ],
         "xaxis": "x",
         "y": [
          1
         ],
         "yaxis": "y"
        },
        {
         "alignmentgroup": "True",
         "hoverlabel": {
          "namelength": 0
         },
         "hovertemplate": "Country/Region=%{x}<br>Deaths=%{y}",
         "legendgroup": "Malaysia",
         "marker": {
          "color": "#FF97FF"
         },
         "name": "Malaysia",
         "offsetgroup": "Malaysia",
         "orientation": "v",
         "showlegend": true,
         "textposition": "auto",
         "type": "bar",
         "x": [
          "Malaysia"
         ],
         "xaxis": "x",
         "y": [
          0
         ],
         "yaxis": "y"
        },
        {
         "alignmentgroup": "True",
         "hoverlabel": {
          "namelength": 0
         },
         "hovertemplate": "Country/Region=%{x}<br>Deaths=%{y}",
         "legendgroup": "Iraq",
         "marker": {
          "color": "#FECB52"
         },
         "name": "Iraq",
         "offsetgroup": "Iraq",
         "orientation": "v",
         "showlegend": true,
         "textposition": "auto",
         "type": "bar",
         "x": [
          "Iraq"
         ],
         "xaxis": "x",
         "y": [
          0
         ],
         "yaxis": "y"
        },
        {
         "alignmentgroup": "True",
         "hoverlabel": {
          "namelength": 0
         },
         "hovertemplate": "Country/Region=%{x}<br>Deaths=%{y}",
         "legendgroup": "Norway",
         "marker": {
          "color": "#636efa"
         },
         "name": "Norway",
         "offsetgroup": "Norway",
         "orientation": "v",
         "showlegend": true,
         "textposition": "auto",
         "type": "bar",
         "x": [
          "Norway"
         ],
         "xaxis": "x",
         "y": [
          0
         ],
         "yaxis": "y"
        },
        {
         "alignmentgroup": "True",
         "hoverlabel": {
          "namelength": 0
         },
         "hovertemplate": "Country/Region=%{x}<br>Deaths=%{y}",
         "legendgroup": "United Arab Emirates",
         "marker": {
          "color": "#EF553B"
         },
         "name": "United Arab Emirates",
         "offsetgroup": "United Arab Emirates",
         "orientation": "v",
         "showlegend": true,
         "textposition": "auto",
         "type": "bar",
         "x": [
          "United Arab Emirates"
         ],
         "xaxis": "x",
         "y": [
          0
         ],
         "yaxis": "y"
        },
        {
         "alignmentgroup": "True",
         "hoverlabel": {
          "namelength": 0
         },
         "hovertemplate": "Country/Region=%{x}<br>Deaths=%{y}",
         "legendgroup": "Netherlands",
         "marker": {
          "color": "#00cc96"
         },
         "name": "Netherlands",
         "offsetgroup": "Netherlands",
         "orientation": "v",
         "showlegend": true,
         "textposition": "auto",
         "type": "bar",
         "x": [
          "Netherlands"
         ],
         "xaxis": "x",
         "y": [
          0
         ],
         "yaxis": "y"
        },
        {
         "alignmentgroup": "True",
         "hoverlabel": {
          "namelength": 0
         },
         "hovertemplate": "Country/Region=%{x}<br>Deaths=%{y}",
         "legendgroup": "Austria",
         "marker": {
          "color": "#ab63fa"
         },
         "name": "Austria",
         "offsetgroup": "Austria",
         "orientation": "v",
         "showlegend": true,
         "textposition": "auto",
         "type": "bar",
         "x": [
          "Austria"
         ],
         "xaxis": "x",
         "y": [
          0
         ],
         "yaxis": "y"
        },
        {
         "alignmentgroup": "True",
         "hoverlabel": {
          "namelength": 0
         },
         "hovertemplate": "Country/Region=%{x}<br>Deaths=%{y}",
         "legendgroup": "Sweden",
         "marker": {
          "color": "#FFA15A"
         },
         "name": "Sweden",
         "offsetgroup": "Sweden",
         "orientation": "v",
         "showlegend": true,
         "textposition": "auto",
         "type": "bar",
         "x": [
          "Sweden"
         ],
         "xaxis": "x",
         "y": [
          0
         ],
         "yaxis": "y"
        },
        {
         "alignmentgroup": "True",
         "hoverlabel": {
          "namelength": 0
         },
         "hovertemplate": "Country/Region=%{x}<br>Deaths=%{y}",
         "legendgroup": "Canada",
         "marker": {
          "color": "#19d3f3"
         },
         "name": "Canada",
         "offsetgroup": "Canada",
         "orientation": "v",
         "showlegend": true,
         "textposition": "auto",
         "type": "bar",
         "x": [
          "Canada",
          "Canada",
          "Canada",
          "Canada"
         ],
         "xaxis": "x",
         "y": [
          0,
          0,
          0,
          0
         ],
         "yaxis": "y"
        },
        {
         "alignmentgroup": "True",
         "hoverlabel": {
          "namelength": 0
         },
         "hovertemplate": "Country/Region=%{x}<br>Deaths=%{y}",
         "legendgroup": "Vietnam",
         "marker": {
          "color": "#FF6692"
         },
         "name": "Vietnam",
         "offsetgroup": "Vietnam",
         "orientation": "v",
         "showlegend": true,
         "textposition": "auto",
         "type": "bar",
         "x": [
          "Vietnam"
         ],
         "xaxis": "x",
         "y": [
          0
         ],
         "yaxis": "y"
        },
        {
         "alignmentgroup": "True",
         "hoverlabel": {
          "namelength": 0
         },
         "hovertemplate": "Country/Region=%{x}<br>Deaths=%{y}",
         "legendgroup": "Australia",
         "marker": {
          "color": "#B6E880"
         },
         "name": "Australia",
         "offsetgroup": "Australia",
         "orientation": "v",
         "showlegend": true,
         "textposition": "auto",
         "type": "bar",
         "x": [
          "Australia",
          "Australia",
          "Australia",
          "Australia",
          "Australia",
          "Australia",
          "Australia"
         ],
         "xaxis": "x",
         "y": [
          0,
          0,
          0,
          0,
          1,
          0,
          0
         ],
         "yaxis": "y"
        },
        {
         "alignmentgroup": "True",
         "hoverlabel": {
          "namelength": 0
         },
         "hovertemplate": "Country/Region=%{x}<br>Deaths=%{y}",
         "legendgroup": "Belgium",
         "marker": {
          "color": "#FF97FF"
         },
         "name": "Belgium",
         "offsetgroup": "Belgium",
         "orientation": "v",
         "showlegend": true,
         "textposition": "auto",
         "type": "bar",
         "x": [
          "Belgium"
         ],
         "xaxis": "x",
         "y": [
          0
         ],
         "yaxis": "y"
        },
        {
         "alignmentgroup": "True",
         "hoverlabel": {
          "namelength": 0
         },
         "hovertemplate": "Country/Region=%{x}<br>Deaths=%{y}",
         "legendgroup": "Lebanon",
         "marker": {
          "color": "#FECB52"
         },
         "name": "Lebanon",
         "offsetgroup": "Lebanon",
         "orientation": "v",
         "showlegend": true,
         "textposition": "auto",
         "type": "bar",
         "x": [
          "Lebanon"
         ],
         "xaxis": "x",
         "y": [
          0
         ],
         "yaxis": "y"
        },
        {
         "alignmentgroup": "True",
         "hoverlabel": {
          "namelength": 0
         },
         "hovertemplate": "Country/Region=%{x}<br>Deaths=%{y}",
         "legendgroup": "Israel",
         "marker": {
          "color": "#636efa"
         },
         "name": "Israel",
         "offsetgroup": "Israel",
         "orientation": "v",
         "showlegend": true,
         "textposition": "auto",
         "type": "bar",
         "x": [
          "Israel"
         ],
         "xaxis": "x",
         "y": [
          0
         ],
         "yaxis": "y"
        },
        {
         "alignmentgroup": "True",
         "hoverlabel": {
          "namelength": 0
         },
         "hovertemplate": "Country/Region=%{x}<br>Deaths=%{y}",
         "legendgroup": "Oman",
         "marker": {
          "color": "#EF553B"
         },
         "name": "Oman",
         "offsetgroup": "Oman",
         "orientation": "v",
         "showlegend": true,
         "textposition": "auto",
         "type": "bar",
         "x": [
          "Oman"
         ],
         "xaxis": "x",
         "y": [
          0
         ],
         "yaxis": "y"
        },
        {
         "alignmentgroup": "True",
         "hoverlabel": {
          "namelength": 0
         },
         "hovertemplate": "Country/Region=%{x}<br>Deaths=%{y}",
         "legendgroup": "Iceland",
         "marker": {
          "color": "#00cc96"
         },
         "name": "Iceland",
         "offsetgroup": "Iceland",
         "orientation": "v",
         "showlegend": true,
         "textposition": "auto",
         "type": "bar",
         "x": [
          "Iceland"
         ],
         "xaxis": "x",
         "y": [
          0
         ],
         "yaxis": "y"
        },
        {
         "alignmentgroup": "True",
         "hoverlabel": {
          "namelength": 0
         },
         "hovertemplate": "Country/Region=%{x}<br>Deaths=%{y}",
         "legendgroup": "Macau",
         "marker": {
          "color": "#ab63fa"
         },
         "name": "Macau",
         "offsetgroup": "Macau",
         "orientation": "v",
         "showlegend": true,
         "textposition": "auto",
         "type": "bar",
         "x": [
          "Macau"
         ],
         "xaxis": "x",
         "y": [
          0
         ],
         "yaxis": "y"
        },
        {
         "alignmentgroup": "True",
         "hoverlabel": {
          "namelength": 0
         },
         "hovertemplate": "Country/Region=%{x}<br>Deaths=%{y}",
         "legendgroup": "San Marino",
         "marker": {
          "color": "#FFA15A"
         },
         "name": "San Marino",
         "offsetgroup": "San Marino",
         "orientation": "v",
         "showlegend": true,
         "textposition": "auto",
         "type": "bar",
         "x": [
          "San Marino"
         ],
         "xaxis": "x",
         "y": [
          1
         ],
         "yaxis": "y"
        },
        {
         "alignmentgroup": "True",
         "hoverlabel": {
          "namelength": 0
         },
         "hovertemplate": "Country/Region=%{x}<br>Deaths=%{y}",
         "legendgroup": "Croatia",
         "marker": {
          "color": "#19d3f3"
         },
         "name": "Croatia",
         "offsetgroup": "Croatia",
         "orientation": "v",
         "showlegend": true,
         "textposition": "auto",
         "type": "bar",
         "x": [
          "Croatia"
         ],
         "xaxis": "x",
         "y": [
          0
         ],
         "yaxis": "y"
        },
        {
         "alignmentgroup": "True",
         "hoverlabel": {
          "namelength": 0
         },
         "hovertemplate": "Country/Region=%{x}<br>Deaths=%{y}",
         "legendgroup": "Ecuador",
         "marker": {
          "color": "#FF6692"
         },
         "name": "Ecuador",
         "offsetgroup": "Ecuador",
         "orientation": "v",
         "showlegend": true,
         "textposition": "auto",
         "type": "bar",
         "x": [
          "Ecuador"
         ],
         "xaxis": "x",
         "y": [
          0
         ],
         "yaxis": "y"
        },
        {
         "alignmentgroup": "True",
         "hoverlabel": {
          "namelength": 0
         },
         "hovertemplate": "Country/Region=%{x}<br>Deaths=%{y}",
         "legendgroup": "Greece",
         "marker": {
          "color": "#B6E880"
         },
         "name": "Greece",
         "offsetgroup": "Greece",
         "orientation": "v",
         "showlegend": true,
         "textposition": "auto",
         "type": "bar",
         "x": [
          "Greece"
         ],
         "xaxis": "x",
         "y": [
          0
         ],
         "yaxis": "y"
        },
        {
         "alignmentgroup": "True",
         "hoverlabel": {
          "namelength": 0
         },
         "hovertemplate": "Country/Region=%{x}<br>Deaths=%{y}",
         "legendgroup": "Qatar",
         "marker": {
          "color": "#FF97FF"
         },
         "name": "Qatar",
         "offsetgroup": "Qatar",
         "orientation": "v",
         "showlegend": true,
         "textposition": "auto",
         "type": "bar",
         "x": [
          "Qatar"
         ],
         "xaxis": "x",
         "y": [
          0
         ],
         "yaxis": "y"
        },
        {
         "alignmentgroup": "True",
         "hoverlabel": {
          "namelength": 0
         },
         "hovertemplate": "Country/Region=%{x}<br>Deaths=%{y}",
         "legendgroup": "Denmark",
         "marker": {
          "color": "#FECB52"
         },
         "name": "Denmark",
         "offsetgroup": "Denmark",
         "orientation": "v",
         "showlegend": true,
         "textposition": "auto",
         "type": "bar",
         "x": [
          "Denmark"
         ],
         "xaxis": "x",
         "y": [
          0
         ],
         "yaxis": "y"
        },
        {
         "alignmentgroup": "True",
         "hoverlabel": {
          "namelength": 0
         },
         "hovertemplate": "Country/Region=%{x}<br>Deaths=%{y}",
         "legendgroup": "Finland",
         "marker": {
          "color": "#636efa"
         },
         "name": "Finland",
         "offsetgroup": "Finland",
         "orientation": "v",
         "showlegend": true,
         "textposition": "auto",
         "type": "bar",
         "x": [
          "Finland"
         ],
         "xaxis": "x",
         "y": [
          0
         ],
         "yaxis": "y"
        },
        {
         "alignmentgroup": "True",
         "hoverlabel": {
          "namelength": 0
         },
         "hovertemplate": "Country/Region=%{x}<br>Deaths=%{y}",
         "legendgroup": "Algeria",
         "marker": {
          "color": "#EF553B"
         },
         "name": "Algeria",
         "offsetgroup": "Algeria",
         "orientation": "v",
         "showlegend": true,
         "textposition": "auto",
         "type": "bar",
         "x": [
          "Algeria"
         ],
         "xaxis": "x",
         "y": [
          0
         ],
         "yaxis": "y"
        },
        {
         "alignmentgroup": "True",
         "hoverlabel": {
          "namelength": 0
         },
         "hovertemplate": "Country/Region=%{x}<br>Deaths=%{y}",
         "legendgroup": "Czech Republic",
         "marker": {
          "color": "#00cc96"
         },
         "name": "Czech Republic",
         "offsetgroup": "Czech Republic",
         "orientation": "v",
         "showlegend": true,
         "textposition": "auto",
         "type": "bar",
         "x": [
          "Czech Republic"
         ],
         "xaxis": "x",
         "y": [
          0
         ],
         "yaxis": "y"
        },
        {
         "alignmentgroup": "True",
         "hoverlabel": {
          "namelength": 0
         },
         "hovertemplate": "Country/Region=%{x}<br>Deaths=%{y}",
         "legendgroup": "India",
         "marker": {
          "color": "#ab63fa"
         },
         "name": "India",
         "offsetgroup": "India",
         "orientation": "v",
         "showlegend": true,
         "textposition": "auto",
         "type": "bar",
         "x": [
          "India"
         ],
         "xaxis": "x",
         "y": [
          0
         ],
         "yaxis": "y"
        },
        {
         "alignmentgroup": "True",
         "hoverlabel": {
          "namelength": 0
         },
         "hovertemplate": "Country/Region=%{x}<br>Deaths=%{y}",
         "legendgroup": "Mexico",
         "marker": {
          "color": "#FFA15A"
         },
         "name": "Mexico",
         "offsetgroup": "Mexico",
         "orientation": "v",
         "showlegend": true,
         "textposition": "auto",
         "type": "bar",
         "x": [
          "Mexico"
         ],
         "xaxis": "x",
         "y": [
          0
         ],
         "yaxis": "y"
        },
        {
         "alignmentgroup": "True",
         "hoverlabel": {
          "namelength": 0
         },
         "hovertemplate": "Country/Region=%{x}<br>Deaths=%{y}",
         "legendgroup": "Pakistan",
         "marker": {
          "color": "#19d3f3"
         },
         "name": "Pakistan",
         "offsetgroup": "Pakistan",
         "orientation": "v",
         "showlegend": true,
         "textposition": "auto",
         "type": "bar",
         "x": [
          "Pakistan"
         ],
         "xaxis": "x",
         "y": [
          0
         ],
         "yaxis": "y"
        },
        {
         "alignmentgroup": "True",
         "hoverlabel": {
          "namelength": 0
         },
         "hovertemplate": "Country/Region=%{x}<br>Deaths=%{y}",
         "legendgroup": "Azerbaijan",
         "marker": {
          "color": "#FF6692"
         },
         "name": "Azerbaijan",
         "offsetgroup": "Azerbaijan",
         "orientation": "v",
         "showlegend": true,
         "textposition": "auto",
         "type": "bar",
         "x": [
          "Azerbaijan"
         ],
         "xaxis": "x",
         "y": [
          0
         ],
         "yaxis": "y"
        },
        {
         "alignmentgroup": "True",
         "hoverlabel": {
          "namelength": 0
         },
         "hovertemplate": "Country/Region=%{x}<br>Deaths=%{y}",
         "legendgroup": "Georgia",
         "marker": {
          "color": "#B6E880"
         },
         "name": "Georgia",
         "offsetgroup": "Georgia",
         "orientation": "v",
         "showlegend": true,
         "textposition": "auto",
         "type": "bar",
         "x": [
          "Georgia"
         ],
         "xaxis": "x",
         "y": [
          0
         ],
         "yaxis": "y"
        },
        {
         "alignmentgroup": "True",
         "hoverlabel": {
          "namelength": 0
         },
         "hovertemplate": "Country/Region=%{x}<br>Deaths=%{y}",
         "legendgroup": "Philippines",
         "marker": {
          "color": "#FF97FF"
         },
         "name": "Philippines",
         "offsetgroup": "Philippines",
         "orientation": "v",
         "showlegend": true,
         "textposition": "auto",
         "type": "bar",
         "x": [
          "Philippines"
         ],
         "xaxis": "x",
         "y": [
          1
         ],
         "yaxis": "y"
        },
        {
         "alignmentgroup": "True",
         "hoverlabel": {
          "namelength": 0
         },
         "hovertemplate": "Country/Region=%{x}<br>Deaths=%{y}",
         "legendgroup": "Romania",
         "marker": {
          "color": "#FECB52"
         },
         "name": "Romania",
         "offsetgroup": "Romania",
         "orientation": "v",
         "showlegend": true,
         "textposition": "auto",
         "type": "bar",
         "x": [
          "Romania"
         ],
         "xaxis": "x",
         "y": [
          0
         ],
         "yaxis": "y"
        },
        {
         "alignmentgroup": "True",
         "hoverlabel": {
          "namelength": 0
         },
         "hovertemplate": "Country/Region=%{x}<br>Deaths=%{y}",
         "legendgroup": "Russia",
         "marker": {
          "color": "#636efa"
         },
         "name": "Russia",
         "offsetgroup": "Russia",
         "orientation": "v",
         "showlegend": true,
         "textposition": "auto",
         "type": "bar",
         "x": [
          "Russia"
         ],
         "xaxis": "x",
         "y": [
          0
         ],
         "yaxis": "y"
        },
        {
         "alignmentgroup": "True",
         "hoverlabel": {
          "namelength": 0
         },
         "hovertemplate": "Country/Region=%{x}<br>Deaths=%{y}",
         "legendgroup": "Brazil",
         "marker": {
          "color": "#EF553B"
         },
         "name": "Brazil",
         "offsetgroup": "Brazil",
         "orientation": "v",
         "showlegend": true,
         "textposition": "auto",
         "type": "bar",
         "x": [
          "Brazil"
         ],
         "xaxis": "x",
         "y": [
          0
         ],
         "yaxis": "y"
        },
        {
         "alignmentgroup": "True",
         "hoverlabel": {
          "namelength": 0
         },
         "hovertemplate": "Country/Region=%{x}<br>Deaths=%{y}",
         "legendgroup": "Egypt",
         "marker": {
          "color": "#00cc96"
         },
         "name": "Egypt",
         "offsetgroup": "Egypt",
         "orientation": "v",
         "showlegend": true,
         "textposition": "auto",
         "type": "bar",
         "x": [
          "Egypt"
         ],
         "xaxis": "x",
         "y": [
          0
         ],
         "yaxis": "y"
        },
        {
         "alignmentgroup": "True",
         "hoverlabel": {
          "namelength": 0
         },
         "hovertemplate": "Country/Region=%{x}<br>Deaths=%{y}",
         "legendgroup": "Estonia",
         "marker": {
          "color": "#ab63fa"
         },
         "name": "Estonia",
         "offsetgroup": "Estonia",
         "orientation": "v",
         "showlegend": true,
         "textposition": "auto",
         "type": "bar",
         "x": [
          "Estonia"
         ],
         "xaxis": "x",
         "y": [
          0
         ],
         "yaxis": "y"
        },
        {
         "alignmentgroup": "True",
         "hoverlabel": {
          "namelength": 0
         },
         "hovertemplate": "Country/Region=%{x}<br>Deaths=%{y}",
         "legendgroup": "Indonesia",
         "marker": {
          "color": "#FFA15A"
         },
         "name": "Indonesia",
         "offsetgroup": "Indonesia",
         "orientation": "v",
         "showlegend": true,
         "textposition": "auto",
         "type": "bar",
         "x": [
          "Indonesia"
         ],
         "xaxis": "x",
         "y": [
          0
         ],
         "yaxis": "y"
        },
        {
         "alignmentgroup": "True",
         "hoverlabel": {
          "namelength": 0
         },
         "hovertemplate": "Country/Region=%{x}<br>Deaths=%{y}",
         "legendgroup": "Ireland",
         "marker": {
          "color": "#19d3f3"
         },
         "name": "Ireland",
         "offsetgroup": "Ireland",
         "orientation": "v",
         "showlegend": true,
         "textposition": "auto",
         "type": "bar",
         "x": [
          "Ireland"
         ],
         "xaxis": "x",
         "y": [
          0
         ],
         "yaxis": "y"
        },
        {
         "alignmentgroup": "True",
         "hoverlabel": {
          "namelength": 0
         },
         "hovertemplate": "Country/Region=%{x}<br>Deaths=%{y}",
         "legendgroup": "Portugal",
         "marker": {
          "color": "#FF6692"
         },
         "name": "Portugal",
         "offsetgroup": "Portugal",
         "orientation": "v",
         "showlegend": true,
         "textposition": "auto",
         "type": "bar",
         "x": [
          "Portugal"
         ],
         "xaxis": "x",
         "y": [
          0
         ],
         "yaxis": "y"
        },
        {
         "alignmentgroup": "True",
         "hoverlabel": {
          "namelength": 0
         },
         "hovertemplate": "Country/Region=%{x}<br>Deaths=%{y}",
         "legendgroup": "Senegal",
         "marker": {
          "color": "#B6E880"
         },
         "name": "Senegal",
         "offsetgroup": "Senegal",
         "orientation": "v",
         "showlegend": true,
         "textposition": "auto",
         "type": "bar",
         "x": [
          "Senegal"
         ],
         "xaxis": "x",
         "y": [
          0
         ],
         "yaxis": "y"
        },
        {
         "alignmentgroup": "True",
         "hoverlabel": {
          "namelength": 0
         },
         "hovertemplate": "Country/Region=%{x}<br>Deaths=%{y}",
         "legendgroup": "Afghanistan",
         "marker": {
          "color": "#FF97FF"
         },
         "name": "Afghanistan",
         "offsetgroup": "Afghanistan",
         "orientation": "v",
         "showlegend": true,
         "textposition": "auto",
         "type": "bar",
         "x": [
          "Afghanistan"
         ],
         "xaxis": "x",
         "y": [
          0
         ],
         "yaxis": "y"
        },
        {
         "alignmentgroup": "True",
         "hoverlabel": {
          "namelength": 0
         },
         "hovertemplate": "Country/Region=%{x}<br>Deaths=%{y}",
         "legendgroup": "Andorra",
         "marker": {
          "color": "#FECB52"
         },
         "name": "Andorra",
         "offsetgroup": "Andorra",
         "orientation": "v",
         "showlegend": true,
         "textposition": "auto",
         "type": "bar",
         "x": [
          "Andorra"
         ],
         "xaxis": "x",
         "y": [
          0
         ],
         "yaxis": "y"
        },
        {
         "alignmentgroup": "True",
         "hoverlabel": {
          "namelength": 0
         },
         "hovertemplate": "Country/Region=%{x}<br>Deaths=%{y}",
         "legendgroup": "Argentina",
         "marker": {
          "color": "#636efa"
         },
         "name": "Argentina",
         "offsetgroup": "Argentina",
         "orientation": "v",
         "showlegend": true,
         "textposition": "auto",
         "type": "bar",
         "x": [
          "Argentina"
         ],
         "xaxis": "x",
         "y": [
          0
         ],
         "yaxis": "y"
        },
        {
         "alignmentgroup": "True",
         "hoverlabel": {
          "namelength": 0
         },
         "hovertemplate": "Country/Region=%{x}<br>Deaths=%{y}",
         "legendgroup": "Armenia",
         "marker": {
          "color": "#EF553B"
         },
         "name": "Armenia",
         "offsetgroup": "Armenia",
         "orientation": "v",
         "showlegend": true,
         "textposition": "auto",
         "type": "bar",
         "x": [
          "Armenia"
         ],
         "xaxis": "x",
         "y": [
          0
         ],
         "yaxis": "y"
        },
        {
         "alignmentgroup": "True",
         "hoverlabel": {
          "namelength": 0
         },
         "hovertemplate": "Country/Region=%{x}<br>Deaths=%{y}",
         "legendgroup": "Belarus",
         "marker": {
          "color": "#00cc96"
         },
         "name": "Belarus",
         "offsetgroup": "Belarus",
         "orientation": "v",
         "showlegend": true,
         "textposition": "auto",
         "type": "bar",
         "x": [
          "Belarus"
         ],
         "xaxis": "x",
         "y": [
          0
         ],
         "yaxis": "y"
        },
        {
         "alignmentgroup": "True",
         "hoverlabel": {
          "namelength": 0
         },
         "hovertemplate": "Country/Region=%{x}<br>Deaths=%{y}",
         "legendgroup": "Cambodia",
         "marker": {
          "color": "#ab63fa"
         },
         "name": "Cambodia",
         "offsetgroup": "Cambodia",
         "orientation": "v",
         "showlegend": true,
         "textposition": "auto",
         "type": "bar",
         "x": [
          "Cambodia"
         ],
         "xaxis": "x",
         "y": [
          0
         ],
         "yaxis": "y"
        },
        {
         "alignmentgroup": "True",
         "hoverlabel": {
          "namelength": 0
         },
         "hovertemplate": "Country/Region=%{x}<br>Deaths=%{y}",
         "legendgroup": "Chile",
         "marker": {
          "color": "#FFA15A"
         },
         "name": "Chile",
         "offsetgroup": "Chile",
         "orientation": "v",
         "showlegend": true,
         "textposition": "auto",
         "type": "bar",
         "x": [
          "Chile"
         ],
         "xaxis": "x",
         "y": [
          0
         ],
         "yaxis": "y"
        },
        {
         "alignmentgroup": "True",
         "hoverlabel": {
          "namelength": 0
         },
         "hovertemplate": "Country/Region=%{x}<br>Deaths=%{y}",
         "legendgroup": "Dominican Republic",
         "marker": {
          "color": "#19d3f3"
         },
         "name": "Dominican Republic",
         "offsetgroup": "Dominican Republic",
         "orientation": "v",
         "showlegend": true,
         "textposition": "auto",
         "type": "bar",
         "x": [
          "Dominican Republic"
         ],
         "xaxis": "x",
         "y": [
          0
         ],
         "yaxis": "y"
        },
        {
         "alignmentgroup": "True",
         "hoverlabel": {
          "namelength": 0
         },
         "hovertemplate": "Country/Region=%{x}<br>Deaths=%{y}",
         "legendgroup": "Jordan",
         "marker": {
          "color": "#FF6692"
         },
         "name": "Jordan",
         "offsetgroup": "Jordan",
         "orientation": "v",
         "showlegend": true,
         "textposition": "auto",
         "type": "bar",
         "x": [
          "Jordan"
         ],
         "xaxis": "x",
         "y": [
          0
         ],
         "yaxis": "y"
        },
        {
         "alignmentgroup": "True",
         "hoverlabel": {
          "namelength": 0
         },
         "hovertemplate": "Country/Region=%{x}<br>Deaths=%{y}",
         "legendgroup": "Latvia",
         "marker": {
          "color": "#B6E880"
         },
         "name": "Latvia",
         "offsetgroup": "Latvia",
         "orientation": "v",
         "showlegend": true,
         "textposition": "auto",
         "type": "bar",
         "x": [
          "Latvia"
         ],
         "xaxis": "x",
         "y": [
          0
         ],
         "yaxis": "y"
        },
        {
         "alignmentgroup": "True",
         "hoverlabel": {
          "namelength": 0
         },
         "hovertemplate": "Country/Region=%{x}<br>Deaths=%{y}",
         "legendgroup": "Lithuania",
         "marker": {
          "color": "#FF97FF"
         },
         "name": "Lithuania",
         "offsetgroup": "Lithuania",
         "orientation": "v",
         "showlegend": true,
         "textposition": "auto",
         "type": "bar",
         "x": [
          "Lithuania"
         ],
         "xaxis": "x",
         "y": [
          0
         ],
         "yaxis": "y"
        },
        {
         "alignmentgroup": "True",
         "hoverlabel": {
          "namelength": 0
         },
         "hovertemplate": "Country/Region=%{x}<br>Deaths=%{y}",
         "legendgroup": "Luxembourg",
         "marker": {
          "color": "#FECB52"
         },
         "name": "Luxembourg",
         "offsetgroup": "Luxembourg",
         "orientation": "v",
         "showlegend": true,
         "textposition": "auto",
         "type": "bar",
         "x": [
          "Luxembourg"
         ],
         "xaxis": "x",
         "y": [
          0
         ],
         "yaxis": "y"
        },
        {
         "alignmentgroup": "True",
         "hoverlabel": {
          "namelength": 0
         },
         "hovertemplate": "Country/Region=%{x}<br>Deaths=%{y}",
         "legendgroup": "Monaco",
         "marker": {
          "color": "#636efa"
         },
         "name": "Monaco",
         "offsetgroup": "Monaco",
         "orientation": "v",
         "showlegend": true,
         "textposition": "auto",
         "type": "bar",
         "x": [
          "Monaco"
         ],
         "xaxis": "x",
         "y": [
          0
         ],
         "yaxis": "y"
        },
        {
         "alignmentgroup": "True",
         "hoverlabel": {
          "namelength": 0
         },
         "hovertemplate": "Country/Region=%{x}<br>Deaths=%{y}",
         "legendgroup": "Morocco",
         "marker": {
          "color": "#EF553B"
         },
         "name": "Morocco",
         "offsetgroup": "Morocco",
         "orientation": "v",
         "showlegend": true,
         "textposition": "auto",
         "type": "bar",
         "x": [
          "Morocco"
         ],
         "xaxis": "x",
         "y": [
          0
         ],
         "yaxis": "y"
        },
        {
         "alignmentgroup": "True",
         "hoverlabel": {
          "namelength": 0
         },
         "hovertemplate": "Country/Region=%{x}<br>Deaths=%{y}",
         "legendgroup": "Nepal",
         "marker": {
          "color": "#00cc96"
         },
         "name": "Nepal",
         "offsetgroup": "Nepal",
         "orientation": "v",
         "showlegend": true,
         "textposition": "auto",
         "type": "bar",
         "x": [
          "Nepal"
         ],
         "xaxis": "x",
         "y": [
          0
         ],
         "yaxis": "y"
        },
        {
         "alignmentgroup": "True",
         "hoverlabel": {
          "namelength": 0
         },
         "hovertemplate": "Country/Region=%{x}<br>Deaths=%{y}",
         "legendgroup": "New Zealand",
         "marker": {
          "color": "#ab63fa"
         },
         "name": "New Zealand",
         "offsetgroup": "New Zealand",
         "orientation": "v",
         "showlegend": true,
         "textposition": "auto",
         "type": "bar",
         "x": [
          "New Zealand"
         ],
         "xaxis": "x",
         "y": [
          0
         ],
         "yaxis": "y"
        },
        {
         "alignmentgroup": "True",
         "hoverlabel": {
          "namelength": 0
         },
         "hovertemplate": "Country/Region=%{x}<br>Deaths=%{y}",
         "legendgroup": "Nigeria",
         "marker": {
          "color": "#FFA15A"
         },
         "name": "Nigeria",
         "offsetgroup": "Nigeria",
         "orientation": "v",
         "showlegend": true,
         "textposition": "auto",
         "type": "bar",
         "x": [
          "Nigeria"
         ],
         "xaxis": "x",
         "y": [
          0
         ],
         "yaxis": "y"
        },
        {
         "alignmentgroup": "True",
         "hoverlabel": {
          "namelength": 0
         },
         "hovertemplate": "Country/Region=%{x}<br>Deaths=%{y}",
         "legendgroup": "North Macedonia",
         "marker": {
          "color": "#19d3f3"
         },
         "name": "North Macedonia",
         "offsetgroup": "North Macedonia",
         "orientation": "v",
         "showlegend": true,
         "textposition": "auto",
         "type": "bar",
         "x": [
          "North Macedonia"
         ],
         "xaxis": "x",
         "y": [
          0
         ],
         "yaxis": "y"
        },
        {
         "alignmentgroup": "True",
         "hoverlabel": {
          "namelength": 0
         },
         "hovertemplate": "Country/Region=%{x}<br>Deaths=%{y}",
         "legendgroup": "Saudi Arabia",
         "marker": {
          "color": "#FF6692"
         },
         "name": "Saudi Arabia",
         "offsetgroup": "Saudi Arabia",
         "orientation": "v",
         "showlegend": true,
         "textposition": "auto",
         "type": "bar",
         "x": [
          "Saudi Arabia"
         ],
         "xaxis": "x",
         "y": [
          0
         ],
         "yaxis": "y"
        },
        {
         "alignmentgroup": "True",
         "hoverlabel": {
          "namelength": 0
         },
         "hovertemplate": "Country/Region=%{x}<br>Deaths=%{y}",
         "legendgroup": "Sri Lanka",
         "marker": {
          "color": "#B6E880"
         },
         "name": "Sri Lanka",
         "offsetgroup": "Sri Lanka",
         "orientation": "v",
         "showlegend": true,
         "textposition": "auto",
         "type": "bar",
         "x": [
          "Sri Lanka"
         ],
         "xaxis": "x",
         "y": [
          0
         ],
         "yaxis": "y"
        },
        {
         "alignmentgroup": "True",
         "hoverlabel": {
          "namelength": 0
         },
         "hovertemplate": "Country/Region=%{x}<br>Deaths=%{y}",
         "legendgroup": "Ukraine",
         "marker": {
          "color": "#FF97FF"
         },
         "name": "Ukraine",
         "offsetgroup": "Ukraine",
         "orientation": "v",
         "showlegend": true,
         "textposition": "auto",
         "type": "bar",
         "x": [
          "Ukraine"
         ],
         "xaxis": "x",
         "y": [
          0
         ],
         "yaxis": "y"
        }
       ],
       "layout": {
        "barmode": "relative",
        "legend": {
         "title": {
          "text": "Country/Region"
         },
         "tracegroupgap": 0
        },
        "template": {
         "data": {
          "bar": [
           {
            "error_x": {
             "color": "#2a3f5f"
            },
            "error_y": {
             "color": "#2a3f5f"
            },
            "marker": {
             "line": {
              "color": "#E5ECF6",
              "width": 0.5
             }
            },
            "type": "bar"
           }
          ],
          "barpolar": [
           {
            "marker": {
             "line": {
              "color": "#E5ECF6",
              "width": 0.5
             }
            },
            "type": "barpolar"
           }
          ],
          "carpet": [
           {
            "aaxis": {
             "endlinecolor": "#2a3f5f",
             "gridcolor": "white",
             "linecolor": "white",
             "minorgridcolor": "white",
             "startlinecolor": "#2a3f5f"
            },
            "baxis": {
             "endlinecolor": "#2a3f5f",
             "gridcolor": "white",
             "linecolor": "white",
             "minorgridcolor": "white",
             "startlinecolor": "#2a3f5f"
            },
            "type": "carpet"
           }
          ],
          "choropleth": [
           {
            "colorbar": {
             "outlinewidth": 0,
             "ticks": ""
            },
            "type": "choropleth"
           }
          ],
          "contour": [
           {
            "colorbar": {
             "outlinewidth": 0,
             "ticks": ""
            },
            "colorscale": [
             [
              0,
              "#0d0887"
             ],
             [
              0.1111111111111111,
              "#46039f"
             ],
             [
              0.2222222222222222,
              "#7201a8"
             ],
             [
              0.3333333333333333,
              "#9c179e"
             ],
             [
              0.4444444444444444,
              "#bd3786"
             ],
             [
              0.5555555555555556,
              "#d8576b"
             ],
             [
              0.6666666666666666,
              "#ed7953"
             ],
             [
              0.7777777777777778,
              "#fb9f3a"
             ],
             [
              0.8888888888888888,
              "#fdca26"
             ],
             [
              1,
              "#f0f921"
             ]
            ],
            "type": "contour"
           }
          ],
          "contourcarpet": [
           {
            "colorbar": {
             "outlinewidth": 0,
             "ticks": ""
            },
            "type": "contourcarpet"
           }
          ],
          "heatmap": [
           {
            "colorbar": {
             "outlinewidth": 0,
             "ticks": ""
            },
            "colorscale": [
             [
              0,
              "#0d0887"
             ],
             [
              0.1111111111111111,
              "#46039f"
             ],
             [
              0.2222222222222222,
              "#7201a8"
             ],
             [
              0.3333333333333333,
              "#9c179e"
             ],
             [
              0.4444444444444444,
              "#bd3786"
             ],
             [
              0.5555555555555556,
              "#d8576b"
             ],
             [
              0.6666666666666666,
              "#ed7953"
             ],
             [
              0.7777777777777778,
              "#fb9f3a"
             ],
             [
              0.8888888888888888,
              "#fdca26"
             ],
             [
              1,
              "#f0f921"
             ]
            ],
            "type": "heatmap"
           }
          ],
          "heatmapgl": [
           {
            "colorbar": {
             "outlinewidth": 0,
             "ticks": ""
            },
            "colorscale": [
             [
              0,
              "#0d0887"
             ],
             [
              0.1111111111111111,
              "#46039f"
             ],
             [
              0.2222222222222222,
              "#7201a8"
             ],
             [
              0.3333333333333333,
              "#9c179e"
             ],
             [
              0.4444444444444444,
              "#bd3786"
             ],
             [
              0.5555555555555556,
              "#d8576b"
             ],
             [
              0.6666666666666666,
              "#ed7953"
             ],
             [
              0.7777777777777778,
              "#fb9f3a"
             ],
             [
              0.8888888888888888,
              "#fdca26"
             ],
             [
              1,
              "#f0f921"
             ]
            ],
            "type": "heatmapgl"
           }
          ],
          "histogram": [
           {
            "marker": {
             "colorbar": {
              "outlinewidth": 0,
              "ticks": ""
             }
            },
            "type": "histogram"
           }
          ],
          "histogram2d": [
           {
            "colorbar": {
             "outlinewidth": 0,
             "ticks": ""
            },
            "colorscale": [
             [
              0,
              "#0d0887"
             ],
             [
              0.1111111111111111,
              "#46039f"
             ],
             [
              0.2222222222222222,
              "#7201a8"
             ],
             [
              0.3333333333333333,
              "#9c179e"
             ],
             [
              0.4444444444444444,
              "#bd3786"
             ],
             [
              0.5555555555555556,
              "#d8576b"
             ],
             [
              0.6666666666666666,
              "#ed7953"
             ],
             [
              0.7777777777777778,
              "#fb9f3a"
             ],
             [
              0.8888888888888888,
              "#fdca26"
             ],
             [
              1,
              "#f0f921"
             ]
            ],
            "type": "histogram2d"
           }
          ],
          "histogram2dcontour": [
           {
            "colorbar": {
             "outlinewidth": 0,
             "ticks": ""
            },
            "colorscale": [
             [
              0,
              "#0d0887"
             ],
             [
              0.1111111111111111,
              "#46039f"
             ],
             [
              0.2222222222222222,
              "#7201a8"
             ],
             [
              0.3333333333333333,
              "#9c179e"
             ],
             [
              0.4444444444444444,
              "#bd3786"
             ],
             [
              0.5555555555555556,
              "#d8576b"
             ],
             [
              0.6666666666666666,
              "#ed7953"
             ],
             [
              0.7777777777777778,
              "#fb9f3a"
             ],
             [
              0.8888888888888888,
              "#fdca26"
             ],
             [
              1,
              "#f0f921"
             ]
            ],
            "type": "histogram2dcontour"
           }
          ],
          "mesh3d": [
           {
            "colorbar": {
             "outlinewidth": 0,
             "ticks": ""
            },
            "type": "mesh3d"
           }
          ],
          "parcoords": [
           {
            "line": {
             "colorbar": {
              "outlinewidth": 0,
              "ticks": ""
             }
            },
            "type": "parcoords"
           }
          ],
          "pie": [
           {
            "automargin": true,
            "type": "pie"
           }
          ],
          "scatter": [
           {
            "marker": {
             "colorbar": {
              "outlinewidth": 0,
              "ticks": ""
             }
            },
            "type": "scatter"
           }
          ],
          "scatter3d": [
           {
            "line": {
             "colorbar": {
              "outlinewidth": 0,
              "ticks": ""
             }
            },
            "marker": {
             "colorbar": {
              "outlinewidth": 0,
              "ticks": ""
             }
            },
            "type": "scatter3d"
           }
          ],
          "scattercarpet": [
           {
            "marker": {
             "colorbar": {
              "outlinewidth": 0,
              "ticks": ""
             }
            },
            "type": "scattercarpet"
           }
          ],
          "scattergeo": [
           {
            "marker": {
             "colorbar": {
              "outlinewidth": 0,
              "ticks": ""
             }
            },
            "type": "scattergeo"
           }
          ],
          "scattergl": [
           {
            "marker": {
             "colorbar": {
              "outlinewidth": 0,
              "ticks": ""
             }
            },
            "type": "scattergl"
           }
          ],
          "scattermapbox": [
           {
            "marker": {
             "colorbar": {
              "outlinewidth": 0,
              "ticks": ""
             }
            },
            "type": "scattermapbox"
           }
          ],
          "scatterpolar": [
           {
            "marker": {
             "colorbar": {
              "outlinewidth": 0,
              "ticks": ""
             }
            },
            "type": "scatterpolar"
           }
          ],
          "scatterpolargl": [
           {
            "marker": {
             "colorbar": {
              "outlinewidth": 0,
              "ticks": ""
             }
            },
            "type": "scatterpolargl"
           }
          ],
          "scatterternary": [
           {
            "marker": {
             "colorbar": {
              "outlinewidth": 0,
              "ticks": ""
             }
            },
            "type": "scatterternary"
           }
          ],
          "surface": [
           {
            "colorbar": {
             "outlinewidth": 0,
             "ticks": ""
            },
            "colorscale": [
             [
              0,
              "#0d0887"
             ],
             [
              0.1111111111111111,
              "#46039f"
             ],
             [
              0.2222222222222222,
              "#7201a8"
             ],
             [
              0.3333333333333333,
              "#9c179e"
             ],
             [
              0.4444444444444444,
              "#bd3786"
             ],
             [
              0.5555555555555556,
              "#d8576b"
             ],
             [
              0.6666666666666666,
              "#ed7953"
             ],
             [
              0.7777777777777778,
              "#fb9f3a"
             ],
             [
              0.8888888888888888,
              "#fdca26"
             ],
             [
              1,
              "#f0f921"
             ]
            ],
            "type": "surface"
           }
          ],
          "table": [
           {
            "cells": {
             "fill": {
              "color": "#EBF0F8"
             },
             "line": {
              "color": "white"
             }
            },
            "header": {
             "fill": {
              "color": "#C8D4E3"
             },
             "line": {
              "color": "white"
             }
            },
            "type": "table"
           }
          ]
         },
         "layout": {
          "annotationdefaults": {
           "arrowcolor": "#2a3f5f",
           "arrowhead": 0,
           "arrowwidth": 1
          },
          "coloraxis": {
           "colorbar": {
            "outlinewidth": 0,
            "ticks": ""
           }
          },
          "colorscale": {
           "diverging": [
            [
             0,
             "#8e0152"
            ],
            [
             0.1,
             "#c51b7d"
            ],
            [
             0.2,
             "#de77ae"
            ],
            [
             0.3,
             "#f1b6da"
            ],
            [
             0.4,
             "#fde0ef"
            ],
            [
             0.5,
             "#f7f7f7"
            ],
            [
             0.6,
             "#e6f5d0"
            ],
            [
             0.7,
             "#b8e186"
            ],
            [
             0.8,
             "#7fbc41"
            ],
            [
             0.9,
             "#4d9221"
            ],
            [
             1,
             "#276419"
            ]
           ],
           "sequential": [
            [
             0,
             "#0d0887"
            ],
            [
             0.1111111111111111,
             "#46039f"
            ],
            [
             0.2222222222222222,
             "#7201a8"
            ],
            [
             0.3333333333333333,
             "#9c179e"
            ],
            [
             0.4444444444444444,
             "#bd3786"
            ],
            [
             0.5555555555555556,
             "#d8576b"
            ],
            [
             0.6666666666666666,
             "#ed7953"
            ],
            [
             0.7777777777777778,
             "#fb9f3a"
            ],
            [
             0.8888888888888888,
             "#fdca26"
            ],
            [
             1,
             "#f0f921"
            ]
           ],
           "sequentialminus": [
            [
             0,
             "#0d0887"
            ],
            [
             0.1111111111111111,
             "#46039f"
            ],
            [
             0.2222222222222222,
             "#7201a8"
            ],
            [
             0.3333333333333333,
             "#9c179e"
            ],
            [
             0.4444444444444444,
             "#bd3786"
            ],
            [
             0.5555555555555556,
             "#d8576b"
            ],
            [
             0.6666666666666666,
             "#ed7953"
            ],
            [
             0.7777777777777778,
             "#fb9f3a"
            ],
            [
             0.8888888888888888,
             "#fdca26"
            ],
            [
             1,
             "#f0f921"
            ]
           ]
          },
          "colorway": [
           "#636efa",
           "#EF553B",
           "#00cc96",
           "#ab63fa",
           "#FFA15A",
           "#19d3f3",
           "#FF6692",
           "#B6E880",
           "#FF97FF",
           "#FECB52"
          ],
          "font": {
           "color": "#2a3f5f"
          },
          "geo": {
           "bgcolor": "white",
           "lakecolor": "white",
           "landcolor": "#E5ECF6",
           "showlakes": true,
           "showland": true,
           "subunitcolor": "white"
          },
          "hoverlabel": {
           "align": "left"
          },
          "hovermode": "closest",
          "mapbox": {
           "style": "light"
          },
          "paper_bgcolor": "white",
          "plot_bgcolor": "#E5ECF6",
          "polar": {
           "angularaxis": {
            "gridcolor": "white",
            "linecolor": "white",
            "ticks": ""
           },
           "bgcolor": "#E5ECF6",
           "radialaxis": {
            "gridcolor": "white",
            "linecolor": "white",
            "ticks": ""
           }
          },
          "scene": {
           "xaxis": {
            "backgroundcolor": "#E5ECF6",
            "gridcolor": "white",
            "gridwidth": 2,
            "linecolor": "white",
            "showbackground": true,
            "ticks": "",
            "zerolinecolor": "white"
           },
           "yaxis": {
            "backgroundcolor": "#E5ECF6",
            "gridcolor": "white",
            "gridwidth": 2,
            "linecolor": "white",
            "showbackground": true,
            "ticks": "",
            "zerolinecolor": "white"
           },
           "zaxis": {
            "backgroundcolor": "#E5ECF6",
            "gridcolor": "white",
            "gridwidth": 2,
            "linecolor": "white",
            "showbackground": true,
            "ticks": "",
            "zerolinecolor": "white"
           }
          },
          "shapedefaults": {
           "line": {
            "color": "#2a3f5f"
           }
          },
          "ternary": {
           "aaxis": {
            "gridcolor": "white",
            "linecolor": "white",
            "ticks": ""
           },
           "baxis": {
            "gridcolor": "white",
            "linecolor": "white",
            "ticks": ""
           },
           "bgcolor": "#E5ECF6",
           "caxis": {
            "gridcolor": "white",
            "linecolor": "white",
            "ticks": ""
           }
          },
          "title": {
           "x": 0.05
          },
          "xaxis": {
           "automargin": true,
           "gridcolor": "white",
           "linecolor": "white",
           "ticks": "",
           "title": {
            "standoff": 15
           },
           "zerolinecolor": "white",
           "zerolinewidth": 2
          },
          "yaxis": {
           "automargin": true,
           "gridcolor": "white",
           "linecolor": "white",
           "ticks": "",
           "title": {
            "standoff": 15
           },
           "zerolinecolor": "white",
           "zerolinewidth": 2
          }
         }
        },
        "title": {
         "text": "Number of reported deaths across countries"
        },
        "xaxis": {
         "anchor": "y",
         "categoryarray": [
          "Mainland China",
          "South Korea",
          "Italy",
          "Iran",
          "Others",
          "Japan",
          "France",
          "Germany",
          "Spain",
          "Singapore",
          "Hong Kong",
          "Kuwait",
          "Switzerland",
          "UK",
          "Bahrain",
          "US",
          "Thailand",
          "Taiwan",
          "Malaysia",
          "Iraq",
          "Norway",
          "United Arab Emirates",
          "Netherlands",
          "Austria",
          "Sweden",
          "Canada",
          "Vietnam",
          "Australia",
          "Belgium",
          "Lebanon",
          "Israel",
          "Oman",
          "Iceland",
          "Macau",
          "San Marino",
          "Croatia",
          "Ecuador",
          "Greece",
          "Qatar",
          "Denmark",
          "Finland",
          "Algeria",
          "Czech Republic",
          "India",
          "Mexico",
          "Pakistan",
          "Azerbaijan",
          "Georgia",
          "Philippines",
          "Romania",
          "Russia",
          "Brazil",
          "Egypt",
          "Estonia",
          "Indonesia",
          "Ireland",
          "Portugal",
          "Senegal",
          "Afghanistan",
          "Andorra",
          "Argentina",
          "Armenia",
          "Belarus",
          "Cambodia",
          "Chile",
          "Dominican Republic",
          "Jordan",
          "Latvia",
          "Lithuania",
          "Luxembourg",
          "Monaco",
          "Morocco",
          "Nepal",
          "New Zealand",
          "Nigeria",
          "North Macedonia",
          "Saudi Arabia",
          "Sri Lanka",
          "Ukraine"
         ],
         "categoryorder": "array",
         "domain": [
          0,
          1
         ],
         "title": {
          "text": "Country/Region"
         }
        },
        "yaxis": {
         "anchor": "x",
         "domain": [
          0,
          1
         ],
         "title": {
          "text": "Deaths"
         }
        }
       }
      },
      "text/html": [
       "<div>\n",
       "        \n",
       "        \n",
       "            <div id=\"d1937d36-7a4d-44b1-8445-839922f50747\" class=\"plotly-graph-div\" style=\"height:525px; width:100%;\"></div>\n",
       "            <script type=\"text/javascript\">\n",
       "                require([\"plotly\"], function(Plotly) {\n",
       "                    window.PLOTLYENV=window.PLOTLYENV || {};\n",
       "                    \n",
       "                if (document.getElementById(\"d1937d36-7a4d-44b1-8445-839922f50747\")) {\n",
       "                    Plotly.newPlot(\n",
       "                        'd1937d36-7a4d-44b1-8445-839922f50747',\n",
       "                        [{\"alignmentgroup\": \"True\", \"hoverlabel\": {\"namelength\": 0}, \"hovertemplate\": \"Country/Region=%{x}<br>Deaths=%{y}\", \"legendgroup\": \"Mainland China\", \"marker\": {\"color\": \"#636efa\"}, \"name\": \"Mainland China\", \"offsetgroup\": \"Mainland China\", \"orientation\": \"v\", \"showlegend\": true, \"textposition\": \"auto\", \"type\": \"bar\", \"x\": [\"Mainland China\", \"Mainland China\", \"Mainland China\", \"Mainland China\", \"Mainland China\", \"Mainland China\", \"Mainland China\", \"Mainland China\", \"Mainland China\", \"Mainland China\", \"Mainland China\", \"Mainland China\", \"Mainland China\", \"Mainland China\", \"Mainland China\", \"Mainland China\", \"Mainland China\", \"Mainland China\", \"Mainland China\", \"Mainland China\", \"Mainland China\", \"Mainland China\", \"Mainland China\", \"Mainland China\", \"Mainland China\", \"Mainland China\", \"Mainland China\", \"Mainland China\", \"Mainland China\", \"Mainland China\", \"Mainland China\"], \"xaxis\": \"x\", \"y\": [2835, 7, 22, 1, 4, 6, 1, 6, 0, 6, 3, 13, 8, 3, 6, 1, 2, 1, 2, 5, 2, 3, 0, 1, 1, 2, 3, 1, 0, 0, 0], \"yaxis\": \"y\"}, {\"alignmentgroup\": \"True\", \"hoverlabel\": {\"namelength\": 0}, \"hovertemplate\": \"Country/Region=%{x}<br>Deaths=%{y}\", \"legendgroup\": \"South Korea\", \"marker\": {\"color\": \"#EF553B\"}, \"name\": \"South Korea\", \"offsetgroup\": \"South Korea\", \"orientation\": \"v\", \"showlegend\": true, \"textposition\": \"auto\", \"type\": \"bar\", \"x\": [\"South Korea\"], \"xaxis\": \"x\", \"y\": [28], \"yaxis\": \"y\"}, {\"alignmentgroup\": \"True\", \"hoverlabel\": {\"namelength\": 0}, \"hovertemplate\": \"Country/Region=%{x}<br>Deaths=%{y}\", \"legendgroup\": \"Italy\", \"marker\": {\"color\": \"#00cc96\"}, \"name\": \"Italy\", \"offsetgroup\": \"Italy\", \"orientation\": \"v\", \"showlegend\": true, \"textposition\": \"auto\", \"type\": \"bar\", \"x\": [\"Italy\"], \"xaxis\": \"x\", \"y\": [79], \"yaxis\": \"y\"}, {\"alignmentgroup\": \"True\", \"hoverlabel\": {\"namelength\": 0}, \"hovertemplate\": \"Country/Region=%{x}<br>Deaths=%{y}\", \"legendgroup\": \"Iran\", \"marker\": {\"color\": \"#ab63fa\"}, \"name\": \"Iran\", \"offsetgroup\": \"Iran\", \"orientation\": \"v\", \"showlegend\": true, \"textposition\": \"auto\", \"type\": \"bar\", \"x\": [\"Iran\"], \"xaxis\": \"x\", \"y\": [77], \"yaxis\": \"y\"}, {\"alignmentgroup\": \"True\", \"hoverlabel\": {\"namelength\": 0}, \"hovertemplate\": \"Country/Region=%{x}<br>Deaths=%{y}\", \"legendgroup\": \"Others\", \"marker\": {\"color\": \"#FFA15A\"}, \"name\": \"Others\", \"offsetgroup\": \"Others\", \"orientation\": \"v\", \"showlegend\": true, \"textposition\": \"auto\", \"type\": \"bar\", \"x\": [\"Others\"], \"xaxis\": \"x\", \"y\": [6], \"yaxis\": \"y\"}, {\"alignmentgroup\": \"True\", \"hoverlabel\": {\"namelength\": 0}, \"hovertemplate\": \"Country/Region=%{x}<br>Deaths=%{y}\", \"legendgroup\": \"Japan\", \"marker\": {\"color\": \"#19d3f3\"}, \"name\": \"Japan\", \"offsetgroup\": \"Japan\", \"orientation\": \"v\", \"showlegend\": true, \"textposition\": \"auto\", \"type\": \"bar\", \"x\": [\"Japan\"], \"xaxis\": \"x\", \"y\": [6], \"yaxis\": \"y\"}, {\"alignmentgroup\": \"True\", \"hoverlabel\": {\"namelength\": 0}, \"hovertemplate\": \"Country/Region=%{x}<br>Deaths=%{y}\", \"legendgroup\": \"France\", \"marker\": {\"color\": \"#FF6692\"}, \"name\": \"France\", \"offsetgroup\": \"France\", \"orientation\": \"v\", \"showlegend\": true, \"textposition\": \"auto\", \"type\": \"bar\", \"x\": [\"France\"], \"xaxis\": \"x\", \"y\": [4], \"yaxis\": \"y\"}, {\"alignmentgroup\": \"True\", \"hoverlabel\": {\"namelength\": 0}, \"hovertemplate\": \"Country/Region=%{x}<br>Deaths=%{y}\", \"legendgroup\": \"Germany\", \"marker\": {\"color\": \"#B6E880\"}, \"name\": \"Germany\", \"offsetgroup\": \"Germany\", \"orientation\": \"v\", \"showlegend\": true, \"textposition\": \"auto\", \"type\": \"bar\", \"x\": [\"Germany\"], \"xaxis\": \"x\", \"y\": [0], \"yaxis\": \"y\"}, {\"alignmentgroup\": \"True\", \"hoverlabel\": {\"namelength\": 0}, \"hovertemplate\": \"Country/Region=%{x}<br>Deaths=%{y}\", \"legendgroup\": \"Spain\", \"marker\": {\"color\": \"#FF97FF\"}, \"name\": \"Spain\", \"offsetgroup\": \"Spain\", \"orientation\": \"v\", \"showlegend\": true, \"textposition\": \"auto\", \"type\": \"bar\", \"x\": [\"Spain\"], \"xaxis\": \"x\", \"y\": [1], \"yaxis\": \"y\"}, {\"alignmentgroup\": \"True\", \"hoverlabel\": {\"namelength\": 0}, \"hovertemplate\": \"Country/Region=%{x}<br>Deaths=%{y}\", \"legendgroup\": \"Singapore\", \"marker\": {\"color\": \"#FECB52\"}, \"name\": \"Singapore\", \"offsetgroup\": \"Singapore\", \"orientation\": \"v\", \"showlegend\": true, \"textposition\": \"auto\", \"type\": \"bar\", \"x\": [\"Singapore\"], \"xaxis\": \"x\", \"y\": [0], \"yaxis\": \"y\"}, {\"alignmentgroup\": \"True\", \"hoverlabel\": {\"namelength\": 0}, \"hovertemplate\": \"Country/Region=%{x}<br>Deaths=%{y}\", \"legendgroup\": \"Hong Kong\", \"marker\": {\"color\": \"#636efa\"}, \"name\": \"Hong Kong\", \"offsetgroup\": \"Hong Kong\", \"orientation\": \"v\", \"showlegend\": true, \"textposition\": \"auto\", \"type\": \"bar\", \"x\": [\"Hong Kong\"], \"xaxis\": \"x\", \"y\": [2], \"yaxis\": \"y\"}, {\"alignmentgroup\": \"True\", \"hoverlabel\": {\"namelength\": 0}, \"hovertemplate\": \"Country/Region=%{x}<br>Deaths=%{y}\", \"legendgroup\": \"Kuwait\", \"marker\": {\"color\": \"#EF553B\"}, \"name\": \"Kuwait\", \"offsetgroup\": \"Kuwait\", \"orientation\": \"v\", \"showlegend\": true, \"textposition\": \"auto\", \"type\": \"bar\", \"x\": [\"Kuwait\"], \"xaxis\": \"x\", \"y\": [0], \"yaxis\": \"y\"}, {\"alignmentgroup\": \"True\", \"hoverlabel\": {\"namelength\": 0}, \"hovertemplate\": \"Country/Region=%{x}<br>Deaths=%{y}\", \"legendgroup\": \"Switzerland\", \"marker\": {\"color\": \"#00cc96\"}, \"name\": \"Switzerland\", \"offsetgroup\": \"Switzerland\", \"orientation\": \"v\", \"showlegend\": true, \"textposition\": \"auto\", \"type\": \"bar\", \"x\": [\"Switzerland\"], \"xaxis\": \"x\", \"y\": [0], \"yaxis\": \"y\"}, {\"alignmentgroup\": \"True\", \"hoverlabel\": {\"namelength\": 0}, \"hovertemplate\": \"Country/Region=%{x}<br>Deaths=%{y}\", \"legendgroup\": \"UK\", \"marker\": {\"color\": \"#ab63fa\"}, \"name\": \"UK\", \"offsetgroup\": \"UK\", \"orientation\": \"v\", \"showlegend\": true, \"textposition\": \"auto\", \"type\": \"bar\", \"x\": [\"UK\"], \"xaxis\": \"x\", \"y\": [0], \"yaxis\": \"y\"}, {\"alignmentgroup\": \"True\", \"hoverlabel\": {\"namelength\": 0}, \"hovertemplate\": \"Country/Region=%{x}<br>Deaths=%{y}\", \"legendgroup\": \"Bahrain\", \"marker\": {\"color\": \"#FFA15A\"}, \"name\": \"Bahrain\", \"offsetgroup\": \"Bahrain\", \"orientation\": \"v\", \"showlegend\": true, \"textposition\": \"auto\", \"type\": \"bar\", \"x\": [\"Bahrain\"], \"xaxis\": \"x\", \"y\": [0], \"yaxis\": \"y\"}, {\"alignmentgroup\": \"True\", \"hoverlabel\": {\"namelength\": 0}, \"hovertemplate\": \"Country/Region=%{x}<br>Deaths=%{y}\", \"legendgroup\": \"US\", \"marker\": {\"color\": \"#19d3f3\"}, \"name\": \"US\", \"offsetgroup\": \"US\", \"orientation\": \"v\", \"showlegend\": true, \"textposition\": \"auto\", \"type\": \"bar\", \"x\": [\"US\", \"US\", \"US\", \"US\", \"US\", \"US\", \"US\", \"US\", \"US\", \"US\", \"US\", \"US\", \"US\", \"US\", \"US\", \"US\", \"US\", \"US\", \"US\", \"US\", \"US\", \"US\", \"US\", \"US\", \"US\", \"US\", \"US\", \"US\", \"US\", \"US\", \"US\", \"US\", \"US\", \"US\"], \"xaxis\": \"x\", \"y\": [0, 6, 0, 1, 0, 0, 0, 0, 0, 0, 0, 0, 0, 0, 0, 0, 0, 0, 0, 0, 0, 0, 0, 0, 0, 0, 0, 0, 0, 0, 0, 0, 0, 0], \"yaxis\": \"y\"}, {\"alignmentgroup\": \"True\", \"hoverlabel\": {\"namelength\": 0}, \"hovertemplate\": \"Country/Region=%{x}<br>Deaths=%{y}\", \"legendgroup\": \"Thailand\", \"marker\": {\"color\": \"#FF6692\"}, \"name\": \"Thailand\", \"offsetgroup\": \"Thailand\", \"orientation\": \"v\", \"showlegend\": true, \"textposition\": \"auto\", \"type\": \"bar\", \"x\": [\"Thailand\"], \"xaxis\": \"x\", \"y\": [1], \"yaxis\": \"y\"}, {\"alignmentgroup\": \"True\", \"hoverlabel\": {\"namelength\": 0}, \"hovertemplate\": \"Country/Region=%{x}<br>Deaths=%{y}\", \"legendgroup\": \"Taiwan\", \"marker\": {\"color\": \"#B6E880\"}, \"name\": \"Taiwan\", \"offsetgroup\": \"Taiwan\", \"orientation\": \"v\", \"showlegend\": true, \"textposition\": \"auto\", \"type\": \"bar\", \"x\": [\"Taiwan\"], \"xaxis\": \"x\", \"y\": [1], \"yaxis\": \"y\"}, {\"alignmentgroup\": \"True\", \"hoverlabel\": {\"namelength\": 0}, \"hovertemplate\": \"Country/Region=%{x}<br>Deaths=%{y}\", \"legendgroup\": \"Malaysia\", \"marker\": {\"color\": \"#FF97FF\"}, \"name\": \"Malaysia\", \"offsetgroup\": \"Malaysia\", \"orientation\": \"v\", \"showlegend\": true, \"textposition\": \"auto\", \"type\": \"bar\", \"x\": [\"Malaysia\"], \"xaxis\": \"x\", \"y\": [0], \"yaxis\": \"y\"}, {\"alignmentgroup\": \"True\", \"hoverlabel\": {\"namelength\": 0}, \"hovertemplate\": \"Country/Region=%{x}<br>Deaths=%{y}\", \"legendgroup\": \"Iraq\", \"marker\": {\"color\": \"#FECB52\"}, \"name\": \"Iraq\", \"offsetgroup\": \"Iraq\", \"orientation\": \"v\", \"showlegend\": true, \"textposition\": \"auto\", \"type\": \"bar\", \"x\": [\"Iraq\"], \"xaxis\": \"x\", \"y\": [0], \"yaxis\": \"y\"}, {\"alignmentgroup\": \"True\", \"hoverlabel\": {\"namelength\": 0}, \"hovertemplate\": \"Country/Region=%{x}<br>Deaths=%{y}\", \"legendgroup\": \"Norway\", \"marker\": {\"color\": \"#636efa\"}, \"name\": \"Norway\", \"offsetgroup\": \"Norway\", \"orientation\": \"v\", \"showlegend\": true, \"textposition\": \"auto\", \"type\": \"bar\", \"x\": [\"Norway\"], \"xaxis\": \"x\", \"y\": [0], \"yaxis\": \"y\"}, {\"alignmentgroup\": \"True\", \"hoverlabel\": {\"namelength\": 0}, \"hovertemplate\": \"Country/Region=%{x}<br>Deaths=%{y}\", \"legendgroup\": \"United Arab Emirates\", \"marker\": {\"color\": \"#EF553B\"}, \"name\": \"United Arab Emirates\", \"offsetgroup\": \"United Arab Emirates\", \"orientation\": \"v\", \"showlegend\": true, \"textposition\": \"auto\", \"type\": \"bar\", \"x\": [\"United Arab Emirates\"], \"xaxis\": \"x\", \"y\": [0], \"yaxis\": \"y\"}, {\"alignmentgroup\": \"True\", \"hoverlabel\": {\"namelength\": 0}, \"hovertemplate\": \"Country/Region=%{x}<br>Deaths=%{y}\", \"legendgroup\": \"Netherlands\", \"marker\": {\"color\": \"#00cc96\"}, \"name\": \"Netherlands\", \"offsetgroup\": \"Netherlands\", \"orientation\": \"v\", \"showlegend\": true, \"textposition\": \"auto\", \"type\": \"bar\", \"x\": [\"Netherlands\"], \"xaxis\": \"x\", \"y\": [0], \"yaxis\": \"y\"}, {\"alignmentgroup\": \"True\", \"hoverlabel\": {\"namelength\": 0}, \"hovertemplate\": \"Country/Region=%{x}<br>Deaths=%{y}\", \"legendgroup\": \"Austria\", \"marker\": {\"color\": \"#ab63fa\"}, \"name\": \"Austria\", \"offsetgroup\": \"Austria\", \"orientation\": \"v\", \"showlegend\": true, \"textposition\": \"auto\", \"type\": \"bar\", \"x\": [\"Austria\"], \"xaxis\": \"x\", \"y\": [0], \"yaxis\": \"y\"}, {\"alignmentgroup\": \"True\", \"hoverlabel\": {\"namelength\": 0}, \"hovertemplate\": \"Country/Region=%{x}<br>Deaths=%{y}\", \"legendgroup\": \"Sweden\", \"marker\": {\"color\": \"#FFA15A\"}, \"name\": \"Sweden\", \"offsetgroup\": \"Sweden\", \"orientation\": \"v\", \"showlegend\": true, \"textposition\": \"auto\", \"type\": \"bar\", \"x\": [\"Sweden\"], \"xaxis\": \"x\", \"y\": [0], \"yaxis\": \"y\"}, {\"alignmentgroup\": \"True\", \"hoverlabel\": {\"namelength\": 0}, \"hovertemplate\": \"Country/Region=%{x}<br>Deaths=%{y}\", \"legendgroup\": \"Canada\", \"marker\": {\"color\": \"#19d3f3\"}, \"name\": \"Canada\", \"offsetgroup\": \"Canada\", \"orientation\": \"v\", \"showlegend\": true, \"textposition\": \"auto\", \"type\": \"bar\", \"x\": [\"Canada\", \"Canada\", \"Canada\", \"Canada\"], \"xaxis\": \"x\", \"y\": [0, 0, 0, 0], \"yaxis\": \"y\"}, {\"alignmentgroup\": \"True\", \"hoverlabel\": {\"namelength\": 0}, \"hovertemplate\": \"Country/Region=%{x}<br>Deaths=%{y}\", \"legendgroup\": \"Vietnam\", \"marker\": {\"color\": \"#FF6692\"}, \"name\": \"Vietnam\", \"offsetgroup\": \"Vietnam\", \"orientation\": \"v\", \"showlegend\": true, \"textposition\": \"auto\", \"type\": \"bar\", \"x\": [\"Vietnam\"], \"xaxis\": \"x\", \"y\": [0], \"yaxis\": \"y\"}, {\"alignmentgroup\": \"True\", \"hoverlabel\": {\"namelength\": 0}, \"hovertemplate\": \"Country/Region=%{x}<br>Deaths=%{y}\", \"legendgroup\": \"Australia\", \"marker\": {\"color\": \"#B6E880\"}, \"name\": \"Australia\", \"offsetgroup\": \"Australia\", \"orientation\": \"v\", \"showlegend\": true, \"textposition\": \"auto\", \"type\": \"bar\", \"x\": [\"Australia\", \"Australia\", \"Australia\", \"Australia\", \"Australia\", \"Australia\", \"Australia\"], \"xaxis\": \"x\", \"y\": [0, 0, 0, 0, 1, 0, 0], \"yaxis\": \"y\"}, {\"alignmentgroup\": \"True\", \"hoverlabel\": {\"namelength\": 0}, \"hovertemplate\": \"Country/Region=%{x}<br>Deaths=%{y}\", \"legendgroup\": \"Belgium\", \"marker\": {\"color\": \"#FF97FF\"}, \"name\": \"Belgium\", \"offsetgroup\": \"Belgium\", \"orientation\": \"v\", \"showlegend\": true, \"textposition\": \"auto\", \"type\": \"bar\", \"x\": [\"Belgium\"], \"xaxis\": \"x\", \"y\": [0], \"yaxis\": \"y\"}, {\"alignmentgroup\": \"True\", \"hoverlabel\": {\"namelength\": 0}, \"hovertemplate\": \"Country/Region=%{x}<br>Deaths=%{y}\", \"legendgroup\": \"Lebanon\", \"marker\": {\"color\": \"#FECB52\"}, \"name\": \"Lebanon\", \"offsetgroup\": \"Lebanon\", \"orientation\": \"v\", \"showlegend\": true, \"textposition\": \"auto\", \"type\": \"bar\", \"x\": [\"Lebanon\"], \"xaxis\": \"x\", \"y\": [0], \"yaxis\": \"y\"}, {\"alignmentgroup\": \"True\", \"hoverlabel\": {\"namelength\": 0}, \"hovertemplate\": \"Country/Region=%{x}<br>Deaths=%{y}\", \"legendgroup\": \"Israel\", \"marker\": {\"color\": \"#636efa\"}, \"name\": \"Israel\", \"offsetgroup\": \"Israel\", \"orientation\": \"v\", \"showlegend\": true, \"textposition\": \"auto\", \"type\": \"bar\", \"x\": [\"Israel\"], \"xaxis\": \"x\", \"y\": [0], \"yaxis\": \"y\"}, {\"alignmentgroup\": \"True\", \"hoverlabel\": {\"namelength\": 0}, \"hovertemplate\": \"Country/Region=%{x}<br>Deaths=%{y}\", \"legendgroup\": \"Oman\", \"marker\": {\"color\": \"#EF553B\"}, \"name\": \"Oman\", \"offsetgroup\": \"Oman\", \"orientation\": \"v\", \"showlegend\": true, \"textposition\": \"auto\", \"type\": \"bar\", \"x\": [\"Oman\"], \"xaxis\": \"x\", \"y\": [0], \"yaxis\": \"y\"}, {\"alignmentgroup\": \"True\", \"hoverlabel\": {\"namelength\": 0}, \"hovertemplate\": \"Country/Region=%{x}<br>Deaths=%{y}\", \"legendgroup\": \"Iceland\", \"marker\": {\"color\": \"#00cc96\"}, \"name\": \"Iceland\", \"offsetgroup\": \"Iceland\", \"orientation\": \"v\", \"showlegend\": true, \"textposition\": \"auto\", \"type\": \"bar\", \"x\": [\"Iceland\"], \"xaxis\": \"x\", \"y\": [0], \"yaxis\": \"y\"}, {\"alignmentgroup\": \"True\", \"hoverlabel\": {\"namelength\": 0}, \"hovertemplate\": \"Country/Region=%{x}<br>Deaths=%{y}\", \"legendgroup\": \"Macau\", \"marker\": {\"color\": \"#ab63fa\"}, \"name\": \"Macau\", \"offsetgroup\": \"Macau\", \"orientation\": \"v\", \"showlegend\": true, \"textposition\": \"auto\", \"type\": \"bar\", \"x\": [\"Macau\"], \"xaxis\": \"x\", \"y\": [0], \"yaxis\": \"y\"}, {\"alignmentgroup\": \"True\", \"hoverlabel\": {\"namelength\": 0}, \"hovertemplate\": \"Country/Region=%{x}<br>Deaths=%{y}\", \"legendgroup\": \"San Marino\", \"marker\": {\"color\": \"#FFA15A\"}, \"name\": \"San Marino\", \"offsetgroup\": \"San Marino\", \"orientation\": \"v\", \"showlegend\": true, \"textposition\": \"auto\", \"type\": \"bar\", \"x\": [\"San Marino\"], \"xaxis\": \"x\", \"y\": [1], \"yaxis\": \"y\"}, {\"alignmentgroup\": \"True\", \"hoverlabel\": {\"namelength\": 0}, \"hovertemplate\": \"Country/Region=%{x}<br>Deaths=%{y}\", \"legendgroup\": \"Croatia\", \"marker\": {\"color\": \"#19d3f3\"}, \"name\": \"Croatia\", \"offsetgroup\": \"Croatia\", \"orientation\": \"v\", \"showlegend\": true, \"textposition\": \"auto\", \"type\": \"bar\", \"x\": [\"Croatia\"], \"xaxis\": \"x\", \"y\": [0], \"yaxis\": \"y\"}, {\"alignmentgroup\": \"True\", \"hoverlabel\": {\"namelength\": 0}, \"hovertemplate\": \"Country/Region=%{x}<br>Deaths=%{y}\", \"legendgroup\": \"Ecuador\", \"marker\": {\"color\": \"#FF6692\"}, \"name\": \"Ecuador\", \"offsetgroup\": \"Ecuador\", \"orientation\": \"v\", \"showlegend\": true, \"textposition\": \"auto\", \"type\": \"bar\", \"x\": [\"Ecuador\"], \"xaxis\": \"x\", \"y\": [0], \"yaxis\": \"y\"}, {\"alignmentgroup\": \"True\", \"hoverlabel\": {\"namelength\": 0}, \"hovertemplate\": \"Country/Region=%{x}<br>Deaths=%{y}\", \"legendgroup\": \"Greece\", \"marker\": {\"color\": \"#B6E880\"}, \"name\": \"Greece\", \"offsetgroup\": \"Greece\", \"orientation\": \"v\", \"showlegend\": true, \"textposition\": \"auto\", \"type\": \"bar\", \"x\": [\"Greece\"], \"xaxis\": \"x\", \"y\": [0], \"yaxis\": \"y\"}, {\"alignmentgroup\": \"True\", \"hoverlabel\": {\"namelength\": 0}, \"hovertemplate\": \"Country/Region=%{x}<br>Deaths=%{y}\", \"legendgroup\": \"Qatar\", \"marker\": {\"color\": \"#FF97FF\"}, \"name\": \"Qatar\", \"offsetgroup\": \"Qatar\", \"orientation\": \"v\", \"showlegend\": true, \"textposition\": \"auto\", \"type\": \"bar\", \"x\": [\"Qatar\"], \"xaxis\": \"x\", \"y\": [0], \"yaxis\": \"y\"}, {\"alignmentgroup\": \"True\", \"hoverlabel\": {\"namelength\": 0}, \"hovertemplate\": \"Country/Region=%{x}<br>Deaths=%{y}\", \"legendgroup\": \"Denmark\", \"marker\": {\"color\": \"#FECB52\"}, \"name\": \"Denmark\", \"offsetgroup\": \"Denmark\", \"orientation\": \"v\", \"showlegend\": true, \"textposition\": \"auto\", \"type\": \"bar\", \"x\": [\"Denmark\"], \"xaxis\": \"x\", \"y\": [0], \"yaxis\": \"y\"}, {\"alignmentgroup\": \"True\", \"hoverlabel\": {\"namelength\": 0}, \"hovertemplate\": \"Country/Region=%{x}<br>Deaths=%{y}\", \"legendgroup\": \"Finland\", \"marker\": {\"color\": \"#636efa\"}, \"name\": \"Finland\", \"offsetgroup\": \"Finland\", \"orientation\": \"v\", \"showlegend\": true, \"textposition\": \"auto\", \"type\": \"bar\", \"x\": [\"Finland\"], \"xaxis\": \"x\", \"y\": [0], \"yaxis\": \"y\"}, {\"alignmentgroup\": \"True\", \"hoverlabel\": {\"namelength\": 0}, \"hovertemplate\": \"Country/Region=%{x}<br>Deaths=%{y}\", \"legendgroup\": \"Algeria\", \"marker\": {\"color\": \"#EF553B\"}, \"name\": \"Algeria\", \"offsetgroup\": \"Algeria\", \"orientation\": \"v\", \"showlegend\": true, \"textposition\": \"auto\", \"type\": \"bar\", \"x\": [\"Algeria\"], \"xaxis\": \"x\", \"y\": [0], \"yaxis\": \"y\"}, {\"alignmentgroup\": \"True\", \"hoverlabel\": {\"namelength\": 0}, \"hovertemplate\": \"Country/Region=%{x}<br>Deaths=%{y}\", \"legendgroup\": \"Czech Republic\", \"marker\": {\"color\": \"#00cc96\"}, \"name\": \"Czech Republic\", \"offsetgroup\": \"Czech Republic\", \"orientation\": \"v\", \"showlegend\": true, \"textposition\": \"auto\", \"type\": \"bar\", \"x\": [\"Czech Republic\"], \"xaxis\": \"x\", \"y\": [0], \"yaxis\": \"y\"}, {\"alignmentgroup\": \"True\", \"hoverlabel\": {\"namelength\": 0}, \"hovertemplate\": \"Country/Region=%{x}<br>Deaths=%{y}\", \"legendgroup\": \"India\", \"marker\": {\"color\": \"#ab63fa\"}, \"name\": \"India\", \"offsetgroup\": \"India\", \"orientation\": \"v\", \"showlegend\": true, \"textposition\": \"auto\", \"type\": \"bar\", \"x\": [\"India\"], \"xaxis\": \"x\", \"y\": [0], \"yaxis\": \"y\"}, {\"alignmentgroup\": \"True\", \"hoverlabel\": {\"namelength\": 0}, \"hovertemplate\": \"Country/Region=%{x}<br>Deaths=%{y}\", \"legendgroup\": \"Mexico\", \"marker\": {\"color\": \"#FFA15A\"}, \"name\": \"Mexico\", \"offsetgroup\": \"Mexico\", \"orientation\": \"v\", \"showlegend\": true, \"textposition\": \"auto\", \"type\": \"bar\", \"x\": [\"Mexico\"], \"xaxis\": \"x\", \"y\": [0], \"yaxis\": \"y\"}, {\"alignmentgroup\": \"True\", \"hoverlabel\": {\"namelength\": 0}, \"hovertemplate\": \"Country/Region=%{x}<br>Deaths=%{y}\", \"legendgroup\": \"Pakistan\", \"marker\": {\"color\": \"#19d3f3\"}, \"name\": \"Pakistan\", \"offsetgroup\": \"Pakistan\", \"orientation\": \"v\", \"showlegend\": true, \"textposition\": \"auto\", \"type\": \"bar\", \"x\": [\"Pakistan\"], \"xaxis\": \"x\", \"y\": [0], \"yaxis\": \"y\"}, {\"alignmentgroup\": \"True\", \"hoverlabel\": {\"namelength\": 0}, \"hovertemplate\": \"Country/Region=%{x}<br>Deaths=%{y}\", \"legendgroup\": \"Azerbaijan\", \"marker\": {\"color\": \"#FF6692\"}, \"name\": \"Azerbaijan\", \"offsetgroup\": \"Azerbaijan\", \"orientation\": \"v\", \"showlegend\": true, \"textposition\": \"auto\", \"type\": \"bar\", \"x\": [\"Azerbaijan\"], \"xaxis\": \"x\", \"y\": [0], \"yaxis\": \"y\"}, {\"alignmentgroup\": \"True\", \"hoverlabel\": {\"namelength\": 0}, \"hovertemplate\": \"Country/Region=%{x}<br>Deaths=%{y}\", \"legendgroup\": \"Georgia\", \"marker\": {\"color\": \"#B6E880\"}, \"name\": \"Georgia\", \"offsetgroup\": \"Georgia\", \"orientation\": \"v\", \"showlegend\": true, \"textposition\": \"auto\", \"type\": \"bar\", \"x\": [\"Georgia\"], \"xaxis\": \"x\", \"y\": [0], \"yaxis\": \"y\"}, {\"alignmentgroup\": \"True\", \"hoverlabel\": {\"namelength\": 0}, \"hovertemplate\": \"Country/Region=%{x}<br>Deaths=%{y}\", \"legendgroup\": \"Philippines\", \"marker\": {\"color\": \"#FF97FF\"}, \"name\": \"Philippines\", \"offsetgroup\": \"Philippines\", \"orientation\": \"v\", \"showlegend\": true, \"textposition\": \"auto\", \"type\": \"bar\", \"x\": [\"Philippines\"], \"xaxis\": \"x\", \"y\": [1], \"yaxis\": \"y\"}, {\"alignmentgroup\": \"True\", \"hoverlabel\": {\"namelength\": 0}, \"hovertemplate\": \"Country/Region=%{x}<br>Deaths=%{y}\", \"legendgroup\": \"Romania\", \"marker\": {\"color\": \"#FECB52\"}, \"name\": \"Romania\", \"offsetgroup\": \"Romania\", \"orientation\": \"v\", \"showlegend\": true, \"textposition\": \"auto\", \"type\": \"bar\", \"x\": [\"Romania\"], \"xaxis\": \"x\", \"y\": [0], \"yaxis\": \"y\"}, {\"alignmentgroup\": \"True\", \"hoverlabel\": {\"namelength\": 0}, \"hovertemplate\": \"Country/Region=%{x}<br>Deaths=%{y}\", \"legendgroup\": \"Russia\", \"marker\": {\"color\": \"#636efa\"}, \"name\": \"Russia\", \"offsetgroup\": \"Russia\", \"orientation\": \"v\", \"showlegend\": true, \"textposition\": \"auto\", \"type\": \"bar\", \"x\": [\"Russia\"], \"xaxis\": \"x\", \"y\": [0], \"yaxis\": \"y\"}, {\"alignmentgroup\": \"True\", \"hoverlabel\": {\"namelength\": 0}, \"hovertemplate\": \"Country/Region=%{x}<br>Deaths=%{y}\", \"legendgroup\": \"Brazil\", \"marker\": {\"color\": \"#EF553B\"}, \"name\": \"Brazil\", \"offsetgroup\": \"Brazil\", \"orientation\": \"v\", \"showlegend\": true, \"textposition\": \"auto\", \"type\": \"bar\", \"x\": [\"Brazil\"], \"xaxis\": \"x\", \"y\": [0], \"yaxis\": \"y\"}, {\"alignmentgroup\": \"True\", \"hoverlabel\": {\"namelength\": 0}, \"hovertemplate\": \"Country/Region=%{x}<br>Deaths=%{y}\", \"legendgroup\": \"Egypt\", \"marker\": {\"color\": \"#00cc96\"}, \"name\": \"Egypt\", \"offsetgroup\": \"Egypt\", \"orientation\": \"v\", \"showlegend\": true, \"textposition\": \"auto\", \"type\": \"bar\", \"x\": [\"Egypt\"], \"xaxis\": \"x\", \"y\": [0], \"yaxis\": \"y\"}, {\"alignmentgroup\": \"True\", \"hoverlabel\": {\"namelength\": 0}, \"hovertemplate\": \"Country/Region=%{x}<br>Deaths=%{y}\", \"legendgroup\": \"Estonia\", \"marker\": {\"color\": \"#ab63fa\"}, \"name\": \"Estonia\", \"offsetgroup\": \"Estonia\", \"orientation\": \"v\", \"showlegend\": true, \"textposition\": \"auto\", \"type\": \"bar\", \"x\": [\"Estonia\"], \"xaxis\": \"x\", \"y\": [0], \"yaxis\": \"y\"}, {\"alignmentgroup\": \"True\", \"hoverlabel\": {\"namelength\": 0}, \"hovertemplate\": \"Country/Region=%{x}<br>Deaths=%{y}\", \"legendgroup\": \"Indonesia\", \"marker\": {\"color\": \"#FFA15A\"}, \"name\": \"Indonesia\", \"offsetgroup\": \"Indonesia\", \"orientation\": \"v\", \"showlegend\": true, \"textposition\": \"auto\", \"type\": \"bar\", \"x\": [\"Indonesia\"], \"xaxis\": \"x\", \"y\": [0], \"yaxis\": \"y\"}, {\"alignmentgroup\": \"True\", \"hoverlabel\": {\"namelength\": 0}, \"hovertemplate\": \"Country/Region=%{x}<br>Deaths=%{y}\", \"legendgroup\": \"Ireland\", \"marker\": {\"color\": \"#19d3f3\"}, \"name\": \"Ireland\", \"offsetgroup\": \"Ireland\", \"orientation\": \"v\", \"showlegend\": true, \"textposition\": \"auto\", \"type\": \"bar\", \"x\": [\"Ireland\"], \"xaxis\": \"x\", \"y\": [0], \"yaxis\": \"y\"}, {\"alignmentgroup\": \"True\", \"hoverlabel\": {\"namelength\": 0}, \"hovertemplate\": \"Country/Region=%{x}<br>Deaths=%{y}\", \"legendgroup\": \"Portugal\", \"marker\": {\"color\": \"#FF6692\"}, \"name\": \"Portugal\", \"offsetgroup\": \"Portugal\", \"orientation\": \"v\", \"showlegend\": true, \"textposition\": \"auto\", \"type\": \"bar\", \"x\": [\"Portugal\"], \"xaxis\": \"x\", \"y\": [0], \"yaxis\": \"y\"}, {\"alignmentgroup\": \"True\", \"hoverlabel\": {\"namelength\": 0}, \"hovertemplate\": \"Country/Region=%{x}<br>Deaths=%{y}\", \"legendgroup\": \"Senegal\", \"marker\": {\"color\": \"#B6E880\"}, \"name\": \"Senegal\", \"offsetgroup\": \"Senegal\", \"orientation\": \"v\", \"showlegend\": true, \"textposition\": \"auto\", \"type\": \"bar\", \"x\": [\"Senegal\"], \"xaxis\": \"x\", \"y\": [0], \"yaxis\": \"y\"}, {\"alignmentgroup\": \"True\", \"hoverlabel\": {\"namelength\": 0}, \"hovertemplate\": \"Country/Region=%{x}<br>Deaths=%{y}\", \"legendgroup\": \"Afghanistan\", \"marker\": {\"color\": \"#FF97FF\"}, \"name\": \"Afghanistan\", \"offsetgroup\": \"Afghanistan\", \"orientation\": \"v\", \"showlegend\": true, \"textposition\": \"auto\", \"type\": \"bar\", \"x\": [\"Afghanistan\"], \"xaxis\": \"x\", \"y\": [0], \"yaxis\": \"y\"}, {\"alignmentgroup\": \"True\", \"hoverlabel\": {\"namelength\": 0}, \"hovertemplate\": \"Country/Region=%{x}<br>Deaths=%{y}\", \"legendgroup\": \"Andorra\", \"marker\": {\"color\": \"#FECB52\"}, \"name\": \"Andorra\", \"offsetgroup\": \"Andorra\", \"orientation\": \"v\", \"showlegend\": true, \"textposition\": \"auto\", \"type\": \"bar\", \"x\": [\"Andorra\"], \"xaxis\": \"x\", \"y\": [0], \"yaxis\": \"y\"}, {\"alignmentgroup\": \"True\", \"hoverlabel\": {\"namelength\": 0}, \"hovertemplate\": \"Country/Region=%{x}<br>Deaths=%{y}\", \"legendgroup\": \"Argentina\", \"marker\": {\"color\": \"#636efa\"}, \"name\": \"Argentina\", \"offsetgroup\": \"Argentina\", \"orientation\": \"v\", \"showlegend\": true, \"textposition\": \"auto\", \"type\": \"bar\", \"x\": [\"Argentina\"], \"xaxis\": \"x\", \"y\": [0], \"yaxis\": \"y\"}, {\"alignmentgroup\": \"True\", \"hoverlabel\": {\"namelength\": 0}, \"hovertemplate\": \"Country/Region=%{x}<br>Deaths=%{y}\", \"legendgroup\": \"Armenia\", \"marker\": {\"color\": \"#EF553B\"}, \"name\": \"Armenia\", \"offsetgroup\": \"Armenia\", \"orientation\": \"v\", \"showlegend\": true, \"textposition\": \"auto\", \"type\": \"bar\", \"x\": [\"Armenia\"], \"xaxis\": \"x\", \"y\": [0], \"yaxis\": \"y\"}, {\"alignmentgroup\": \"True\", \"hoverlabel\": {\"namelength\": 0}, \"hovertemplate\": \"Country/Region=%{x}<br>Deaths=%{y}\", \"legendgroup\": \"Belarus\", \"marker\": {\"color\": \"#00cc96\"}, \"name\": \"Belarus\", \"offsetgroup\": \"Belarus\", \"orientation\": \"v\", \"showlegend\": true, \"textposition\": \"auto\", \"type\": \"bar\", \"x\": [\"Belarus\"], \"xaxis\": \"x\", \"y\": [0], \"yaxis\": \"y\"}, {\"alignmentgroup\": \"True\", \"hoverlabel\": {\"namelength\": 0}, \"hovertemplate\": \"Country/Region=%{x}<br>Deaths=%{y}\", \"legendgroup\": \"Cambodia\", \"marker\": {\"color\": \"#ab63fa\"}, \"name\": \"Cambodia\", \"offsetgroup\": \"Cambodia\", \"orientation\": \"v\", \"showlegend\": true, \"textposition\": \"auto\", \"type\": \"bar\", \"x\": [\"Cambodia\"], \"xaxis\": \"x\", \"y\": [0], \"yaxis\": \"y\"}, {\"alignmentgroup\": \"True\", \"hoverlabel\": {\"namelength\": 0}, \"hovertemplate\": \"Country/Region=%{x}<br>Deaths=%{y}\", \"legendgroup\": \"Chile\", \"marker\": {\"color\": \"#FFA15A\"}, \"name\": \"Chile\", \"offsetgroup\": \"Chile\", \"orientation\": \"v\", \"showlegend\": true, \"textposition\": \"auto\", \"type\": \"bar\", \"x\": [\"Chile\"], \"xaxis\": \"x\", \"y\": [0], \"yaxis\": \"y\"}, {\"alignmentgroup\": \"True\", \"hoverlabel\": {\"namelength\": 0}, \"hovertemplate\": \"Country/Region=%{x}<br>Deaths=%{y}\", \"legendgroup\": \"Dominican Republic\", \"marker\": {\"color\": \"#19d3f3\"}, \"name\": \"Dominican Republic\", \"offsetgroup\": \"Dominican Republic\", \"orientation\": \"v\", \"showlegend\": true, \"textposition\": \"auto\", \"type\": \"bar\", \"x\": [\"Dominican Republic\"], \"xaxis\": \"x\", \"y\": [0], \"yaxis\": \"y\"}, {\"alignmentgroup\": \"True\", \"hoverlabel\": {\"namelength\": 0}, \"hovertemplate\": \"Country/Region=%{x}<br>Deaths=%{y}\", \"legendgroup\": \"Jordan\", \"marker\": {\"color\": \"#FF6692\"}, \"name\": \"Jordan\", \"offsetgroup\": \"Jordan\", \"orientation\": \"v\", \"showlegend\": true, \"textposition\": \"auto\", \"type\": \"bar\", \"x\": [\"Jordan\"], \"xaxis\": \"x\", \"y\": [0], \"yaxis\": \"y\"}, {\"alignmentgroup\": \"True\", \"hoverlabel\": {\"namelength\": 0}, \"hovertemplate\": \"Country/Region=%{x}<br>Deaths=%{y}\", \"legendgroup\": \"Latvia\", \"marker\": {\"color\": \"#B6E880\"}, \"name\": \"Latvia\", \"offsetgroup\": \"Latvia\", \"orientation\": \"v\", \"showlegend\": true, \"textposition\": \"auto\", \"type\": \"bar\", \"x\": [\"Latvia\"], \"xaxis\": \"x\", \"y\": [0], \"yaxis\": \"y\"}, {\"alignmentgroup\": \"True\", \"hoverlabel\": {\"namelength\": 0}, \"hovertemplate\": \"Country/Region=%{x}<br>Deaths=%{y}\", \"legendgroup\": \"Lithuania\", \"marker\": {\"color\": \"#FF97FF\"}, \"name\": \"Lithuania\", \"offsetgroup\": \"Lithuania\", \"orientation\": \"v\", \"showlegend\": true, \"textposition\": \"auto\", \"type\": \"bar\", \"x\": [\"Lithuania\"], \"xaxis\": \"x\", \"y\": [0], \"yaxis\": \"y\"}, {\"alignmentgroup\": \"True\", \"hoverlabel\": {\"namelength\": 0}, \"hovertemplate\": \"Country/Region=%{x}<br>Deaths=%{y}\", \"legendgroup\": \"Luxembourg\", \"marker\": {\"color\": \"#FECB52\"}, \"name\": \"Luxembourg\", \"offsetgroup\": \"Luxembourg\", \"orientation\": \"v\", \"showlegend\": true, \"textposition\": \"auto\", \"type\": \"bar\", \"x\": [\"Luxembourg\"], \"xaxis\": \"x\", \"y\": [0], \"yaxis\": \"y\"}, {\"alignmentgroup\": \"True\", \"hoverlabel\": {\"namelength\": 0}, \"hovertemplate\": \"Country/Region=%{x}<br>Deaths=%{y}\", \"legendgroup\": \"Monaco\", \"marker\": {\"color\": \"#636efa\"}, \"name\": \"Monaco\", \"offsetgroup\": \"Monaco\", \"orientation\": \"v\", \"showlegend\": true, \"textposition\": \"auto\", \"type\": \"bar\", \"x\": [\"Monaco\"], \"xaxis\": \"x\", \"y\": [0], \"yaxis\": \"y\"}, {\"alignmentgroup\": \"True\", \"hoverlabel\": {\"namelength\": 0}, \"hovertemplate\": \"Country/Region=%{x}<br>Deaths=%{y}\", \"legendgroup\": \"Morocco\", \"marker\": {\"color\": \"#EF553B\"}, \"name\": \"Morocco\", \"offsetgroup\": \"Morocco\", \"orientation\": \"v\", \"showlegend\": true, \"textposition\": \"auto\", \"type\": \"bar\", \"x\": [\"Morocco\"], \"xaxis\": \"x\", \"y\": [0], \"yaxis\": \"y\"}, {\"alignmentgroup\": \"True\", \"hoverlabel\": {\"namelength\": 0}, \"hovertemplate\": \"Country/Region=%{x}<br>Deaths=%{y}\", \"legendgroup\": \"Nepal\", \"marker\": {\"color\": \"#00cc96\"}, \"name\": \"Nepal\", \"offsetgroup\": \"Nepal\", \"orientation\": \"v\", \"showlegend\": true, \"textposition\": \"auto\", \"type\": \"bar\", \"x\": [\"Nepal\"], \"xaxis\": \"x\", \"y\": [0], \"yaxis\": \"y\"}, {\"alignmentgroup\": \"True\", \"hoverlabel\": {\"namelength\": 0}, \"hovertemplate\": \"Country/Region=%{x}<br>Deaths=%{y}\", \"legendgroup\": \"New Zealand\", \"marker\": {\"color\": \"#ab63fa\"}, \"name\": \"New Zealand\", \"offsetgroup\": \"New Zealand\", \"orientation\": \"v\", \"showlegend\": true, \"textposition\": \"auto\", \"type\": \"bar\", \"x\": [\"New Zealand\"], \"xaxis\": \"x\", \"y\": [0], \"yaxis\": \"y\"}, {\"alignmentgroup\": \"True\", \"hoverlabel\": {\"namelength\": 0}, \"hovertemplate\": \"Country/Region=%{x}<br>Deaths=%{y}\", \"legendgroup\": \"Nigeria\", \"marker\": {\"color\": \"#FFA15A\"}, \"name\": \"Nigeria\", \"offsetgroup\": \"Nigeria\", \"orientation\": \"v\", \"showlegend\": true, \"textposition\": \"auto\", \"type\": \"bar\", \"x\": [\"Nigeria\"], \"xaxis\": \"x\", \"y\": [0], \"yaxis\": \"y\"}, {\"alignmentgroup\": \"True\", \"hoverlabel\": {\"namelength\": 0}, \"hovertemplate\": \"Country/Region=%{x}<br>Deaths=%{y}\", \"legendgroup\": \"North Macedonia\", \"marker\": {\"color\": \"#19d3f3\"}, \"name\": \"North Macedonia\", \"offsetgroup\": \"North Macedonia\", \"orientation\": \"v\", \"showlegend\": true, \"textposition\": \"auto\", \"type\": \"bar\", \"x\": [\"North Macedonia\"], \"xaxis\": \"x\", \"y\": [0], \"yaxis\": \"y\"}, {\"alignmentgroup\": \"True\", \"hoverlabel\": {\"namelength\": 0}, \"hovertemplate\": \"Country/Region=%{x}<br>Deaths=%{y}\", \"legendgroup\": \"Saudi Arabia\", \"marker\": {\"color\": \"#FF6692\"}, \"name\": \"Saudi Arabia\", \"offsetgroup\": \"Saudi Arabia\", \"orientation\": \"v\", \"showlegend\": true, \"textposition\": \"auto\", \"type\": \"bar\", \"x\": [\"Saudi Arabia\"], \"xaxis\": \"x\", \"y\": [0], \"yaxis\": \"y\"}, {\"alignmentgroup\": \"True\", \"hoverlabel\": {\"namelength\": 0}, \"hovertemplate\": \"Country/Region=%{x}<br>Deaths=%{y}\", \"legendgroup\": \"Sri Lanka\", \"marker\": {\"color\": \"#B6E880\"}, \"name\": \"Sri Lanka\", \"offsetgroup\": \"Sri Lanka\", \"orientation\": \"v\", \"showlegend\": true, \"textposition\": \"auto\", \"type\": \"bar\", \"x\": [\"Sri Lanka\"], \"xaxis\": \"x\", \"y\": [0], \"yaxis\": \"y\"}, {\"alignmentgroup\": \"True\", \"hoverlabel\": {\"namelength\": 0}, \"hovertemplate\": \"Country/Region=%{x}<br>Deaths=%{y}\", \"legendgroup\": \"Ukraine\", \"marker\": {\"color\": \"#FF97FF\"}, \"name\": \"Ukraine\", \"offsetgroup\": \"Ukraine\", \"orientation\": \"v\", \"showlegend\": true, \"textposition\": \"auto\", \"type\": \"bar\", \"x\": [\"Ukraine\"], \"xaxis\": \"x\", \"y\": [0], \"yaxis\": \"y\"}],\n",
       "                        {\"barmode\": \"relative\", \"legend\": {\"title\": {\"text\": \"Country/Region\"}, \"tracegroupgap\": 0}, \"template\": {\"data\": {\"bar\": [{\"error_x\": {\"color\": \"#2a3f5f\"}, \"error_y\": {\"color\": \"#2a3f5f\"}, \"marker\": {\"line\": {\"color\": \"#E5ECF6\", \"width\": 0.5}}, \"type\": \"bar\"}], \"barpolar\": [{\"marker\": {\"line\": {\"color\": \"#E5ECF6\", \"width\": 0.5}}, \"type\": \"barpolar\"}], \"carpet\": [{\"aaxis\": {\"endlinecolor\": \"#2a3f5f\", \"gridcolor\": \"white\", \"linecolor\": \"white\", \"minorgridcolor\": \"white\", \"startlinecolor\": \"#2a3f5f\"}, \"baxis\": {\"endlinecolor\": \"#2a3f5f\", \"gridcolor\": \"white\", \"linecolor\": \"white\", \"minorgridcolor\": \"white\", \"startlinecolor\": \"#2a3f5f\"}, \"type\": \"carpet\"}], \"choropleth\": [{\"colorbar\": {\"outlinewidth\": 0, \"ticks\": \"\"}, \"type\": \"choropleth\"}], \"contour\": [{\"colorbar\": {\"outlinewidth\": 0, \"ticks\": \"\"}, \"colorscale\": [[0.0, \"#0d0887\"], [0.1111111111111111, \"#46039f\"], [0.2222222222222222, \"#7201a8\"], [0.3333333333333333, \"#9c179e\"], [0.4444444444444444, \"#bd3786\"], [0.5555555555555556, \"#d8576b\"], [0.6666666666666666, \"#ed7953\"], [0.7777777777777778, \"#fb9f3a\"], [0.8888888888888888, \"#fdca26\"], [1.0, \"#f0f921\"]], \"type\": \"contour\"}], \"contourcarpet\": [{\"colorbar\": {\"outlinewidth\": 0, \"ticks\": \"\"}, \"type\": \"contourcarpet\"}], \"heatmap\": [{\"colorbar\": {\"outlinewidth\": 0, \"ticks\": \"\"}, \"colorscale\": [[0.0, \"#0d0887\"], [0.1111111111111111, \"#46039f\"], [0.2222222222222222, \"#7201a8\"], [0.3333333333333333, \"#9c179e\"], [0.4444444444444444, \"#bd3786\"], [0.5555555555555556, \"#d8576b\"], [0.6666666666666666, \"#ed7953\"], [0.7777777777777778, \"#fb9f3a\"], [0.8888888888888888, \"#fdca26\"], [1.0, \"#f0f921\"]], \"type\": \"heatmap\"}], \"heatmapgl\": [{\"colorbar\": {\"outlinewidth\": 0, \"ticks\": \"\"}, \"colorscale\": [[0.0, \"#0d0887\"], [0.1111111111111111, \"#46039f\"], [0.2222222222222222, \"#7201a8\"], [0.3333333333333333, \"#9c179e\"], [0.4444444444444444, \"#bd3786\"], [0.5555555555555556, \"#d8576b\"], [0.6666666666666666, \"#ed7953\"], [0.7777777777777778, \"#fb9f3a\"], [0.8888888888888888, \"#fdca26\"], [1.0, \"#f0f921\"]], \"type\": \"heatmapgl\"}], \"histogram\": [{\"marker\": {\"colorbar\": {\"outlinewidth\": 0, \"ticks\": \"\"}}, \"type\": \"histogram\"}], \"histogram2d\": [{\"colorbar\": {\"outlinewidth\": 0, \"ticks\": \"\"}, \"colorscale\": [[0.0, \"#0d0887\"], [0.1111111111111111, \"#46039f\"], [0.2222222222222222, \"#7201a8\"], [0.3333333333333333, \"#9c179e\"], [0.4444444444444444, \"#bd3786\"], [0.5555555555555556, \"#d8576b\"], [0.6666666666666666, \"#ed7953\"], [0.7777777777777778, \"#fb9f3a\"], [0.8888888888888888, \"#fdca26\"], [1.0, \"#f0f921\"]], \"type\": \"histogram2d\"}], \"histogram2dcontour\": [{\"colorbar\": {\"outlinewidth\": 0, \"ticks\": \"\"}, \"colorscale\": [[0.0, \"#0d0887\"], [0.1111111111111111, \"#46039f\"], [0.2222222222222222, \"#7201a8\"], [0.3333333333333333, \"#9c179e\"], [0.4444444444444444, \"#bd3786\"], [0.5555555555555556, \"#d8576b\"], [0.6666666666666666, \"#ed7953\"], [0.7777777777777778, \"#fb9f3a\"], [0.8888888888888888, \"#fdca26\"], [1.0, \"#f0f921\"]], \"type\": \"histogram2dcontour\"}], \"mesh3d\": [{\"colorbar\": {\"outlinewidth\": 0, \"ticks\": \"\"}, \"type\": \"mesh3d\"}], \"parcoords\": [{\"line\": {\"colorbar\": {\"outlinewidth\": 0, \"ticks\": \"\"}}, \"type\": \"parcoords\"}], \"pie\": [{\"automargin\": true, \"type\": \"pie\"}], \"scatter\": [{\"marker\": {\"colorbar\": {\"outlinewidth\": 0, \"ticks\": \"\"}}, \"type\": \"scatter\"}], \"scatter3d\": [{\"line\": {\"colorbar\": {\"outlinewidth\": 0, \"ticks\": \"\"}}, \"marker\": {\"colorbar\": {\"outlinewidth\": 0, \"ticks\": \"\"}}, \"type\": \"scatter3d\"}], \"scattercarpet\": [{\"marker\": {\"colorbar\": {\"outlinewidth\": 0, \"ticks\": \"\"}}, \"type\": \"scattercarpet\"}], \"scattergeo\": [{\"marker\": {\"colorbar\": {\"outlinewidth\": 0, \"ticks\": \"\"}}, \"type\": \"scattergeo\"}], \"scattergl\": [{\"marker\": {\"colorbar\": {\"outlinewidth\": 0, \"ticks\": \"\"}}, \"type\": \"scattergl\"}], \"scattermapbox\": [{\"marker\": {\"colorbar\": {\"outlinewidth\": 0, \"ticks\": \"\"}}, \"type\": \"scattermapbox\"}], \"scatterpolar\": [{\"marker\": {\"colorbar\": {\"outlinewidth\": 0, \"ticks\": \"\"}}, \"type\": \"scatterpolar\"}], \"scatterpolargl\": [{\"marker\": {\"colorbar\": {\"outlinewidth\": 0, \"ticks\": \"\"}}, \"type\": \"scatterpolargl\"}], \"scatterternary\": [{\"marker\": {\"colorbar\": {\"outlinewidth\": 0, \"ticks\": \"\"}}, \"type\": \"scatterternary\"}], \"surface\": [{\"colorbar\": {\"outlinewidth\": 0, \"ticks\": \"\"}, \"colorscale\": [[0.0, \"#0d0887\"], [0.1111111111111111, \"#46039f\"], [0.2222222222222222, \"#7201a8\"], [0.3333333333333333, \"#9c179e\"], [0.4444444444444444, \"#bd3786\"], [0.5555555555555556, \"#d8576b\"], [0.6666666666666666, \"#ed7953\"], [0.7777777777777778, \"#fb9f3a\"], [0.8888888888888888, \"#fdca26\"], [1.0, \"#f0f921\"]], \"type\": \"surface\"}], \"table\": [{\"cells\": {\"fill\": {\"color\": \"#EBF0F8\"}, \"line\": {\"color\": \"white\"}}, \"header\": {\"fill\": {\"color\": \"#C8D4E3\"}, \"line\": {\"color\": \"white\"}}, \"type\": \"table\"}]}, \"layout\": {\"annotationdefaults\": {\"arrowcolor\": \"#2a3f5f\", \"arrowhead\": 0, \"arrowwidth\": 1}, \"coloraxis\": {\"colorbar\": {\"outlinewidth\": 0, \"ticks\": \"\"}}, \"colorscale\": {\"diverging\": [[0, \"#8e0152\"], [0.1, \"#c51b7d\"], [0.2, \"#de77ae\"], [0.3, \"#f1b6da\"], [0.4, \"#fde0ef\"], [0.5, \"#f7f7f7\"], [0.6, \"#e6f5d0\"], [0.7, \"#b8e186\"], [0.8, \"#7fbc41\"], [0.9, \"#4d9221\"], [1, \"#276419\"]], \"sequential\": [[0.0, \"#0d0887\"], [0.1111111111111111, \"#46039f\"], [0.2222222222222222, \"#7201a8\"], [0.3333333333333333, \"#9c179e\"], [0.4444444444444444, \"#bd3786\"], [0.5555555555555556, \"#d8576b\"], [0.6666666666666666, \"#ed7953\"], [0.7777777777777778, \"#fb9f3a\"], [0.8888888888888888, \"#fdca26\"], [1.0, \"#f0f921\"]], \"sequentialminus\": [[0.0, \"#0d0887\"], [0.1111111111111111, \"#46039f\"], [0.2222222222222222, \"#7201a8\"], [0.3333333333333333, \"#9c179e\"], [0.4444444444444444, \"#bd3786\"], [0.5555555555555556, \"#d8576b\"], [0.6666666666666666, \"#ed7953\"], [0.7777777777777778, \"#fb9f3a\"], [0.8888888888888888, \"#fdca26\"], [1.0, \"#f0f921\"]]}, \"colorway\": [\"#636efa\", \"#EF553B\", \"#00cc96\", \"#ab63fa\", \"#FFA15A\", \"#19d3f3\", \"#FF6692\", \"#B6E880\", \"#FF97FF\", \"#FECB52\"], \"font\": {\"color\": \"#2a3f5f\"}, \"geo\": {\"bgcolor\": \"white\", \"lakecolor\": \"white\", \"landcolor\": \"#E5ECF6\", \"showlakes\": true, \"showland\": true, \"subunitcolor\": \"white\"}, \"hoverlabel\": {\"align\": \"left\"}, \"hovermode\": \"closest\", \"mapbox\": {\"style\": \"light\"}, \"paper_bgcolor\": \"white\", \"plot_bgcolor\": \"#E5ECF6\", \"polar\": {\"angularaxis\": {\"gridcolor\": \"white\", \"linecolor\": \"white\", \"ticks\": \"\"}, \"bgcolor\": \"#E5ECF6\", \"radialaxis\": {\"gridcolor\": \"white\", \"linecolor\": \"white\", \"ticks\": \"\"}}, \"scene\": {\"xaxis\": {\"backgroundcolor\": \"#E5ECF6\", \"gridcolor\": \"white\", \"gridwidth\": 2, \"linecolor\": \"white\", \"showbackground\": true, \"ticks\": \"\", \"zerolinecolor\": \"white\"}, \"yaxis\": {\"backgroundcolor\": \"#E5ECF6\", \"gridcolor\": \"white\", \"gridwidth\": 2, \"linecolor\": \"white\", \"showbackground\": true, \"ticks\": \"\", \"zerolinecolor\": \"white\"}, \"zaxis\": {\"backgroundcolor\": \"#E5ECF6\", \"gridcolor\": \"white\", \"gridwidth\": 2, \"linecolor\": \"white\", \"showbackground\": true, \"ticks\": \"\", \"zerolinecolor\": \"white\"}}, \"shapedefaults\": {\"line\": {\"color\": \"#2a3f5f\"}}, \"ternary\": {\"aaxis\": {\"gridcolor\": \"white\", \"linecolor\": \"white\", \"ticks\": \"\"}, \"baxis\": {\"gridcolor\": \"white\", \"linecolor\": \"white\", \"ticks\": \"\"}, \"bgcolor\": \"#E5ECF6\", \"caxis\": {\"gridcolor\": \"white\", \"linecolor\": \"white\", \"ticks\": \"\"}}, \"title\": {\"x\": 0.05}, \"xaxis\": {\"automargin\": true, \"gridcolor\": \"white\", \"linecolor\": \"white\", \"ticks\": \"\", \"title\": {\"standoff\": 15}, \"zerolinecolor\": \"white\", \"zerolinewidth\": 2}, \"yaxis\": {\"automargin\": true, \"gridcolor\": \"white\", \"linecolor\": \"white\", \"ticks\": \"\", \"title\": {\"standoff\": 15}, \"zerolinecolor\": \"white\", \"zerolinewidth\": 2}}}, \"title\": {\"text\": \"Number of reported deaths across countries\"}, \"xaxis\": {\"anchor\": \"y\", \"categoryarray\": [\"Mainland China\", \"South Korea\", \"Italy\", \"Iran\", \"Others\", \"Japan\", \"France\", \"Germany\", \"Spain\", \"Singapore\", \"Hong Kong\", \"Kuwait\", \"Switzerland\", \"UK\", \"Bahrain\", \"US\", \"Thailand\", \"Taiwan\", \"Malaysia\", \"Iraq\", \"Norway\", \"United Arab Emirates\", \"Netherlands\", \"Austria\", \"Sweden\", \"Canada\", \"Vietnam\", \"Australia\", \"Belgium\", \"Lebanon\", \"Israel\", \"Oman\", \"Iceland\", \"Macau\", \"San Marino\", \"Croatia\", \"Ecuador\", \"Greece\", \"Qatar\", \"Denmark\", \"Finland\", \"Algeria\", \"Czech Republic\", \"India\", \"Mexico\", \"Pakistan\", \"Azerbaijan\", \"Georgia\", \"Philippines\", \"Romania\", \"Russia\", \"Brazil\", \"Egypt\", \"Estonia\", \"Indonesia\", \"Ireland\", \"Portugal\", \"Senegal\", \"Afghanistan\", \"Andorra\", \"Argentina\", \"Armenia\", \"Belarus\", \"Cambodia\", \"Chile\", \"Dominican Republic\", \"Jordan\", \"Latvia\", \"Lithuania\", \"Luxembourg\", \"Monaco\", \"Morocco\", \"Nepal\", \"New Zealand\", \"Nigeria\", \"North Macedonia\", \"Saudi Arabia\", \"Sri Lanka\", \"Ukraine\"], \"categoryorder\": \"array\", \"domain\": [0.0, 1.0], \"title\": {\"text\": \"Country/Region\"}}, \"yaxis\": {\"anchor\": \"x\", \"domain\": [0.0, 1.0], \"title\": {\"text\": \"Deaths\"}}},\n",
       "                        {\"responsive\": true}\n",
       "                    ).then(function(){\n",
       "                            \n",
       "var gd = document.getElementById('d1937d36-7a4d-44b1-8445-839922f50747');\n",
       "var x = new MutationObserver(function (mutations, observer) {{\n",
       "        var display = window.getComputedStyle(gd).display;\n",
       "        if (!display || display === 'none') {{\n",
       "            console.log([gd, 'removed!']);\n",
       "            Plotly.purge(gd);\n",
       "            observer.disconnect();\n",
       "        }}\n",
       "}});\n",
       "\n",
       "// Listen for the removal of the full notebook cells\n",
       "var notebookContainer = gd.closest('#notebook-container');\n",
       "if (notebookContainer) {{\n",
       "    x.observe(notebookContainer, {childList: true});\n",
       "}}\n",
       "\n",
       "// Listen for the clearing of the current output cell\n",
       "var outputEl = gd.closest('.output');\n",
       "if (outputEl) {{\n",
       "    x.observe(outputEl, {childList: true});\n",
       "}}\n",
       "\n",
       "                        })\n",
       "                };\n",
       "                });\n",
       "            </script>\n",
       "        </div>"
      ]
     },
     "metadata": {},
     "output_type": "display_data"
    }
   ],
   "source": [
    "\n",
    "df = pd.read_csv('./data/03-03-2020.csv')\n",
    "fig = px.bar(df, x='Country/Region', y = 'Deaths', color='Country/Region', title ='Number of reported deaths across countries')\n",
    "fig.show()"
   ]
  },
  {
   "cell_type": "code",
   "execution_count": 5,
   "metadata": {},
   "outputs": [
    {
     "data": {
      "application/vnd.plotly.v1+json": {
       "config": {
        "plotlyServerURL": "https://plot.ly"
       },
       "data": [
        {
         "alignmentgroup": "True",
         "hoverlabel": {
          "namelength": 0
         },
         "hovertemplate": "Country/Region=%{x}<br>Deaths=%{y}",
         "legendgroup": "South Korea",
         "marker": {
          "color": "#636efa"
         },
         "name": "South Korea",
         "offsetgroup": "South Korea",
         "orientation": "v",
         "showlegend": true,
         "textposition": "auto",
         "type": "bar",
         "x": [
          "South Korea"
         ],
         "xaxis": "x",
         "y": [
          28
         ],
         "yaxis": "y"
        },
        {
         "alignmentgroup": "True",
         "hoverlabel": {
          "namelength": 0
         },
         "hovertemplate": "Country/Region=%{x}<br>Deaths=%{y}",
         "legendgroup": "Italy",
         "marker": {
          "color": "#EF553B"
         },
         "name": "Italy",
         "offsetgroup": "Italy",
         "orientation": "v",
         "showlegend": true,
         "textposition": "auto",
         "type": "bar",
         "x": [
          "Italy"
         ],
         "xaxis": "x",
         "y": [
          79
         ],
         "yaxis": "y"
        },
        {
         "alignmentgroup": "True",
         "hoverlabel": {
          "namelength": 0
         },
         "hovertemplate": "Country/Region=%{x}<br>Deaths=%{y}",
         "legendgroup": "Iran",
         "marker": {
          "color": "#00cc96"
         },
         "name": "Iran",
         "offsetgroup": "Iran",
         "orientation": "v",
         "showlegend": true,
         "textposition": "auto",
         "type": "bar",
         "x": [
          "Iran"
         ],
         "xaxis": "x",
         "y": [
          77
         ],
         "yaxis": "y"
        },
        {
         "alignmentgroup": "True",
         "hoverlabel": {
          "namelength": 0
         },
         "hovertemplate": "Country/Region=%{x}<br>Deaths=%{y}",
         "legendgroup": "Others",
         "marker": {
          "color": "#ab63fa"
         },
         "name": "Others",
         "offsetgroup": "Others",
         "orientation": "v",
         "showlegend": true,
         "textposition": "auto",
         "type": "bar",
         "x": [
          "Others"
         ],
         "xaxis": "x",
         "y": [
          6
         ],
         "yaxis": "y"
        },
        {
         "alignmentgroup": "True",
         "hoverlabel": {
          "namelength": 0
         },
         "hovertemplate": "Country/Region=%{x}<br>Deaths=%{y}",
         "legendgroup": "Japan",
         "marker": {
          "color": "#FFA15A"
         },
         "name": "Japan",
         "offsetgroup": "Japan",
         "orientation": "v",
         "showlegend": true,
         "textposition": "auto",
         "type": "bar",
         "x": [
          "Japan"
         ],
         "xaxis": "x",
         "y": [
          6
         ],
         "yaxis": "y"
        },
        {
         "alignmentgroup": "True",
         "hoverlabel": {
          "namelength": 0
         },
         "hovertemplate": "Country/Region=%{x}<br>Deaths=%{y}",
         "legendgroup": "France",
         "marker": {
          "color": "#19d3f3"
         },
         "name": "France",
         "offsetgroup": "France",
         "orientation": "v",
         "showlegend": true,
         "textposition": "auto",
         "type": "bar",
         "x": [
          "France"
         ],
         "xaxis": "x",
         "y": [
          4
         ],
         "yaxis": "y"
        },
        {
         "alignmentgroup": "True",
         "hoverlabel": {
          "namelength": 0
         },
         "hovertemplate": "Country/Region=%{x}<br>Deaths=%{y}",
         "legendgroup": "Germany",
         "marker": {
          "color": "#FF6692"
         },
         "name": "Germany",
         "offsetgroup": "Germany",
         "orientation": "v",
         "showlegend": true,
         "textposition": "auto",
         "type": "bar",
         "x": [
          "Germany"
         ],
         "xaxis": "x",
         "y": [
          0
         ],
         "yaxis": "y"
        },
        {
         "alignmentgroup": "True",
         "hoverlabel": {
          "namelength": 0
         },
         "hovertemplate": "Country/Region=%{x}<br>Deaths=%{y}",
         "legendgroup": "Spain",
         "marker": {
          "color": "#B6E880"
         },
         "name": "Spain",
         "offsetgroup": "Spain",
         "orientation": "v",
         "showlegend": true,
         "textposition": "auto",
         "type": "bar",
         "x": [
          "Spain"
         ],
         "xaxis": "x",
         "y": [
          1
         ],
         "yaxis": "y"
        },
        {
         "alignmentgroup": "True",
         "hoverlabel": {
          "namelength": 0
         },
         "hovertemplate": "Country/Region=%{x}<br>Deaths=%{y}",
         "legendgroup": "Singapore",
         "marker": {
          "color": "#FF97FF"
         },
         "name": "Singapore",
         "offsetgroup": "Singapore",
         "orientation": "v",
         "showlegend": true,
         "textposition": "auto",
         "type": "bar",
         "x": [
          "Singapore"
         ],
         "xaxis": "x",
         "y": [
          0
         ],
         "yaxis": "y"
        },
        {
         "alignmentgroup": "True",
         "hoverlabel": {
          "namelength": 0
         },
         "hovertemplate": "Country/Region=%{x}<br>Deaths=%{y}",
         "legendgroup": "Hong Kong",
         "marker": {
          "color": "#FECB52"
         },
         "name": "Hong Kong",
         "offsetgroup": "Hong Kong",
         "orientation": "v",
         "showlegend": true,
         "textposition": "auto",
         "type": "bar",
         "x": [
          "Hong Kong"
         ],
         "xaxis": "x",
         "y": [
          2
         ],
         "yaxis": "y"
        },
        {
         "alignmentgroup": "True",
         "hoverlabel": {
          "namelength": 0
         },
         "hovertemplate": "Country/Region=%{x}<br>Deaths=%{y}",
         "legendgroup": "Kuwait",
         "marker": {
          "color": "#636efa"
         },
         "name": "Kuwait",
         "offsetgroup": "Kuwait",
         "orientation": "v",
         "showlegend": true,
         "textposition": "auto",
         "type": "bar",
         "x": [
          "Kuwait"
         ],
         "xaxis": "x",
         "y": [
          0
         ],
         "yaxis": "y"
        },
        {
         "alignmentgroup": "True",
         "hoverlabel": {
          "namelength": 0
         },
         "hovertemplate": "Country/Region=%{x}<br>Deaths=%{y}",
         "legendgroup": "Switzerland",
         "marker": {
          "color": "#EF553B"
         },
         "name": "Switzerland",
         "offsetgroup": "Switzerland",
         "orientation": "v",
         "showlegend": true,
         "textposition": "auto",
         "type": "bar",
         "x": [
          "Switzerland"
         ],
         "xaxis": "x",
         "y": [
          0
         ],
         "yaxis": "y"
        },
        {
         "alignmentgroup": "True",
         "hoverlabel": {
          "namelength": 0
         },
         "hovertemplate": "Country/Region=%{x}<br>Deaths=%{y}",
         "legendgroup": "UK",
         "marker": {
          "color": "#00cc96"
         },
         "name": "UK",
         "offsetgroup": "UK",
         "orientation": "v",
         "showlegend": true,
         "textposition": "auto",
         "type": "bar",
         "x": [
          "UK"
         ],
         "xaxis": "x",
         "y": [
          0
         ],
         "yaxis": "y"
        },
        {
         "alignmentgroup": "True",
         "hoverlabel": {
          "namelength": 0
         },
         "hovertemplate": "Country/Region=%{x}<br>Deaths=%{y}",
         "legendgroup": "Bahrain",
         "marker": {
          "color": "#ab63fa"
         },
         "name": "Bahrain",
         "offsetgroup": "Bahrain",
         "orientation": "v",
         "showlegend": true,
         "textposition": "auto",
         "type": "bar",
         "x": [
          "Bahrain"
         ],
         "xaxis": "x",
         "y": [
          0
         ],
         "yaxis": "y"
        },
        {
         "alignmentgroup": "True",
         "hoverlabel": {
          "namelength": 0
         },
         "hovertemplate": "Country/Region=%{x}<br>Deaths=%{y}",
         "legendgroup": "US",
         "marker": {
          "color": "#FFA15A"
         },
         "name": "US",
         "offsetgroup": "US",
         "orientation": "v",
         "showlegend": true,
         "textposition": "auto",
         "type": "bar",
         "x": [
          "US",
          "US",
          "US",
          "US",
          "US",
          "US",
          "US",
          "US",
          "US",
          "US",
          "US",
          "US",
          "US",
          "US",
          "US",
          "US",
          "US",
          "US",
          "US",
          "US",
          "US",
          "US",
          "US",
          "US",
          "US",
          "US",
          "US",
          "US",
          "US",
          "US",
          "US",
          "US",
          "US",
          "US"
         ],
         "xaxis": "x",
         "y": [
          0,
          6,
          0,
          1,
          0,
          0,
          0,
          0,
          0,
          0,
          0,
          0,
          0,
          0,
          0,
          0,
          0,
          0,
          0,
          0,
          0,
          0,
          0,
          0,
          0,
          0,
          0,
          0,
          0,
          0,
          0,
          0,
          0,
          0
         ],
         "yaxis": "y"
        },
        {
         "alignmentgroup": "True",
         "hoverlabel": {
          "namelength": 0
         },
         "hovertemplate": "Country/Region=%{x}<br>Deaths=%{y}",
         "legendgroup": "Thailand",
         "marker": {
          "color": "#19d3f3"
         },
         "name": "Thailand",
         "offsetgroup": "Thailand",
         "orientation": "v",
         "showlegend": true,
         "textposition": "auto",
         "type": "bar",
         "x": [
          "Thailand"
         ],
         "xaxis": "x",
         "y": [
          1
         ],
         "yaxis": "y"
        },
        {
         "alignmentgroup": "True",
         "hoverlabel": {
          "namelength": 0
         },
         "hovertemplate": "Country/Region=%{x}<br>Deaths=%{y}",
         "legendgroup": "Taiwan",
         "marker": {
          "color": "#FF6692"
         },
         "name": "Taiwan",
         "offsetgroup": "Taiwan",
         "orientation": "v",
         "showlegend": true,
         "textposition": "auto",
         "type": "bar",
         "x": [
          "Taiwan"
         ],
         "xaxis": "x",
         "y": [
          1
         ],
         "yaxis": "y"
        },
        {
         "alignmentgroup": "True",
         "hoverlabel": {
          "namelength": 0
         },
         "hovertemplate": "Country/Region=%{x}<br>Deaths=%{y}",
         "legendgroup": "Malaysia",
         "marker": {
          "color": "#B6E880"
         },
         "name": "Malaysia",
         "offsetgroup": "Malaysia",
         "orientation": "v",
         "showlegend": true,
         "textposition": "auto",
         "type": "bar",
         "x": [
          "Malaysia"
         ],
         "xaxis": "x",
         "y": [
          0
         ],
         "yaxis": "y"
        },
        {
         "alignmentgroup": "True",
         "hoverlabel": {
          "namelength": 0
         },
         "hovertemplate": "Country/Region=%{x}<br>Deaths=%{y}",
         "legendgroup": "Iraq",
         "marker": {
          "color": "#FF97FF"
         },
         "name": "Iraq",
         "offsetgroup": "Iraq",
         "orientation": "v",
         "showlegend": true,
         "textposition": "auto",
         "type": "bar",
         "x": [
          "Iraq"
         ],
         "xaxis": "x",
         "y": [
          0
         ],
         "yaxis": "y"
        },
        {
         "alignmentgroup": "True",
         "hoverlabel": {
          "namelength": 0
         },
         "hovertemplate": "Country/Region=%{x}<br>Deaths=%{y}",
         "legendgroup": "Norway",
         "marker": {
          "color": "#FECB52"
         },
         "name": "Norway",
         "offsetgroup": "Norway",
         "orientation": "v",
         "showlegend": true,
         "textposition": "auto",
         "type": "bar",
         "x": [
          "Norway"
         ],
         "xaxis": "x",
         "y": [
          0
         ],
         "yaxis": "y"
        },
        {
         "alignmentgroup": "True",
         "hoverlabel": {
          "namelength": 0
         },
         "hovertemplate": "Country/Region=%{x}<br>Deaths=%{y}",
         "legendgroup": "United Arab Emirates",
         "marker": {
          "color": "#636efa"
         },
         "name": "United Arab Emirates",
         "offsetgroup": "United Arab Emirates",
         "orientation": "v",
         "showlegend": true,
         "textposition": "auto",
         "type": "bar",
         "x": [
          "United Arab Emirates"
         ],
         "xaxis": "x",
         "y": [
          0
         ],
         "yaxis": "y"
        },
        {
         "alignmentgroup": "True",
         "hoverlabel": {
          "namelength": 0
         },
         "hovertemplate": "Country/Region=%{x}<br>Deaths=%{y}",
         "legendgroup": "Netherlands",
         "marker": {
          "color": "#EF553B"
         },
         "name": "Netherlands",
         "offsetgroup": "Netherlands",
         "orientation": "v",
         "showlegend": true,
         "textposition": "auto",
         "type": "bar",
         "x": [
          "Netherlands"
         ],
         "xaxis": "x",
         "y": [
          0
         ],
         "yaxis": "y"
        },
        {
         "alignmentgroup": "True",
         "hoverlabel": {
          "namelength": 0
         },
         "hovertemplate": "Country/Region=%{x}<br>Deaths=%{y}",
         "legendgroup": "Austria",
         "marker": {
          "color": "#00cc96"
         },
         "name": "Austria",
         "offsetgroup": "Austria",
         "orientation": "v",
         "showlegend": true,
         "textposition": "auto",
         "type": "bar",
         "x": [
          "Austria"
         ],
         "xaxis": "x",
         "y": [
          0
         ],
         "yaxis": "y"
        },
        {
         "alignmentgroup": "True",
         "hoverlabel": {
          "namelength": 0
         },
         "hovertemplate": "Country/Region=%{x}<br>Deaths=%{y}",
         "legendgroup": "Sweden",
         "marker": {
          "color": "#ab63fa"
         },
         "name": "Sweden",
         "offsetgroup": "Sweden",
         "orientation": "v",
         "showlegend": true,
         "textposition": "auto",
         "type": "bar",
         "x": [
          "Sweden"
         ],
         "xaxis": "x",
         "y": [
          0
         ],
         "yaxis": "y"
        },
        {
         "alignmentgroup": "True",
         "hoverlabel": {
          "namelength": 0
         },
         "hovertemplate": "Country/Region=%{x}<br>Deaths=%{y}",
         "legendgroup": "Canada",
         "marker": {
          "color": "#FFA15A"
         },
         "name": "Canada",
         "offsetgroup": "Canada",
         "orientation": "v",
         "showlegend": true,
         "textposition": "auto",
         "type": "bar",
         "x": [
          "Canada",
          "Canada",
          "Canada",
          "Canada"
         ],
         "xaxis": "x",
         "y": [
          0,
          0,
          0,
          0
         ],
         "yaxis": "y"
        },
        {
         "alignmentgroup": "True",
         "hoverlabel": {
          "namelength": 0
         },
         "hovertemplate": "Country/Region=%{x}<br>Deaths=%{y}",
         "legendgroup": "Vietnam",
         "marker": {
          "color": "#19d3f3"
         },
         "name": "Vietnam",
         "offsetgroup": "Vietnam",
         "orientation": "v",
         "showlegend": true,
         "textposition": "auto",
         "type": "bar",
         "x": [
          "Vietnam"
         ],
         "xaxis": "x",
         "y": [
          0
         ],
         "yaxis": "y"
        },
        {
         "alignmentgroup": "True",
         "hoverlabel": {
          "namelength": 0
         },
         "hovertemplate": "Country/Region=%{x}<br>Deaths=%{y}",
         "legendgroup": "Australia",
         "marker": {
          "color": "#FF6692"
         },
         "name": "Australia",
         "offsetgroup": "Australia",
         "orientation": "v",
         "showlegend": true,
         "textposition": "auto",
         "type": "bar",
         "x": [
          "Australia",
          "Australia",
          "Australia",
          "Australia",
          "Australia",
          "Australia",
          "Australia"
         ],
         "xaxis": "x",
         "y": [
          0,
          0,
          0,
          0,
          1,
          0,
          0
         ],
         "yaxis": "y"
        },
        {
         "alignmentgroup": "True",
         "hoverlabel": {
          "namelength": 0
         },
         "hovertemplate": "Country/Region=%{x}<br>Deaths=%{y}",
         "legendgroup": "Belgium",
         "marker": {
          "color": "#B6E880"
         },
         "name": "Belgium",
         "offsetgroup": "Belgium",
         "orientation": "v",
         "showlegend": true,
         "textposition": "auto",
         "type": "bar",
         "x": [
          "Belgium"
         ],
         "xaxis": "x",
         "y": [
          0
         ],
         "yaxis": "y"
        },
        {
         "alignmentgroup": "True",
         "hoverlabel": {
          "namelength": 0
         },
         "hovertemplate": "Country/Region=%{x}<br>Deaths=%{y}",
         "legendgroup": "Lebanon",
         "marker": {
          "color": "#FF97FF"
         },
         "name": "Lebanon",
         "offsetgroup": "Lebanon",
         "orientation": "v",
         "showlegend": true,
         "textposition": "auto",
         "type": "bar",
         "x": [
          "Lebanon"
         ],
         "xaxis": "x",
         "y": [
          0
         ],
         "yaxis": "y"
        },
        {
         "alignmentgroup": "True",
         "hoverlabel": {
          "namelength": 0
         },
         "hovertemplate": "Country/Region=%{x}<br>Deaths=%{y}",
         "legendgroup": "Israel",
         "marker": {
          "color": "#FECB52"
         },
         "name": "Israel",
         "offsetgroup": "Israel",
         "orientation": "v",
         "showlegend": true,
         "textposition": "auto",
         "type": "bar",
         "x": [
          "Israel"
         ],
         "xaxis": "x",
         "y": [
          0
         ],
         "yaxis": "y"
        },
        {
         "alignmentgroup": "True",
         "hoverlabel": {
          "namelength": 0
         },
         "hovertemplate": "Country/Region=%{x}<br>Deaths=%{y}",
         "legendgroup": "Oman",
         "marker": {
          "color": "#636efa"
         },
         "name": "Oman",
         "offsetgroup": "Oman",
         "orientation": "v",
         "showlegend": true,
         "textposition": "auto",
         "type": "bar",
         "x": [
          "Oman"
         ],
         "xaxis": "x",
         "y": [
          0
         ],
         "yaxis": "y"
        },
        {
         "alignmentgroup": "True",
         "hoverlabel": {
          "namelength": 0
         },
         "hovertemplate": "Country/Region=%{x}<br>Deaths=%{y}",
         "legendgroup": "Iceland",
         "marker": {
          "color": "#EF553B"
         },
         "name": "Iceland",
         "offsetgroup": "Iceland",
         "orientation": "v",
         "showlegend": true,
         "textposition": "auto",
         "type": "bar",
         "x": [
          "Iceland"
         ],
         "xaxis": "x",
         "y": [
          0
         ],
         "yaxis": "y"
        },
        {
         "alignmentgroup": "True",
         "hoverlabel": {
          "namelength": 0
         },
         "hovertemplate": "Country/Region=%{x}<br>Deaths=%{y}",
         "legendgroup": "Macau",
         "marker": {
          "color": "#00cc96"
         },
         "name": "Macau",
         "offsetgroup": "Macau",
         "orientation": "v",
         "showlegend": true,
         "textposition": "auto",
         "type": "bar",
         "x": [
          "Macau"
         ],
         "xaxis": "x",
         "y": [
          0
         ],
         "yaxis": "y"
        },
        {
         "alignmentgroup": "True",
         "hoverlabel": {
          "namelength": 0
         },
         "hovertemplate": "Country/Region=%{x}<br>Deaths=%{y}",
         "legendgroup": "San Marino",
         "marker": {
          "color": "#ab63fa"
         },
         "name": "San Marino",
         "offsetgroup": "San Marino",
         "orientation": "v",
         "showlegend": true,
         "textposition": "auto",
         "type": "bar",
         "x": [
          "San Marino"
         ],
         "xaxis": "x",
         "y": [
          1
         ],
         "yaxis": "y"
        },
        {
         "alignmentgroup": "True",
         "hoverlabel": {
          "namelength": 0
         },
         "hovertemplate": "Country/Region=%{x}<br>Deaths=%{y}",
         "legendgroup": "Croatia",
         "marker": {
          "color": "#FFA15A"
         },
         "name": "Croatia",
         "offsetgroup": "Croatia",
         "orientation": "v",
         "showlegend": true,
         "textposition": "auto",
         "type": "bar",
         "x": [
          "Croatia"
         ],
         "xaxis": "x",
         "y": [
          0
         ],
         "yaxis": "y"
        },
        {
         "alignmentgroup": "True",
         "hoverlabel": {
          "namelength": 0
         },
         "hovertemplate": "Country/Region=%{x}<br>Deaths=%{y}",
         "legendgroup": "Ecuador",
         "marker": {
          "color": "#19d3f3"
         },
         "name": "Ecuador",
         "offsetgroup": "Ecuador",
         "orientation": "v",
         "showlegend": true,
         "textposition": "auto",
         "type": "bar",
         "x": [
          "Ecuador"
         ],
         "xaxis": "x",
         "y": [
          0
         ],
         "yaxis": "y"
        },
        {
         "alignmentgroup": "True",
         "hoverlabel": {
          "namelength": 0
         },
         "hovertemplate": "Country/Region=%{x}<br>Deaths=%{y}",
         "legendgroup": "Greece",
         "marker": {
          "color": "#FF6692"
         },
         "name": "Greece",
         "offsetgroup": "Greece",
         "orientation": "v",
         "showlegend": true,
         "textposition": "auto",
         "type": "bar",
         "x": [
          "Greece"
         ],
         "xaxis": "x",
         "y": [
          0
         ],
         "yaxis": "y"
        },
        {
         "alignmentgroup": "True",
         "hoverlabel": {
          "namelength": 0
         },
         "hovertemplate": "Country/Region=%{x}<br>Deaths=%{y}",
         "legendgroup": "Qatar",
         "marker": {
          "color": "#B6E880"
         },
         "name": "Qatar",
         "offsetgroup": "Qatar",
         "orientation": "v",
         "showlegend": true,
         "textposition": "auto",
         "type": "bar",
         "x": [
          "Qatar"
         ],
         "xaxis": "x",
         "y": [
          0
         ],
         "yaxis": "y"
        },
        {
         "alignmentgroup": "True",
         "hoverlabel": {
          "namelength": 0
         },
         "hovertemplate": "Country/Region=%{x}<br>Deaths=%{y}",
         "legendgroup": "Denmark",
         "marker": {
          "color": "#FF97FF"
         },
         "name": "Denmark",
         "offsetgroup": "Denmark",
         "orientation": "v",
         "showlegend": true,
         "textposition": "auto",
         "type": "bar",
         "x": [
          "Denmark"
         ],
         "xaxis": "x",
         "y": [
          0
         ],
         "yaxis": "y"
        },
        {
         "alignmentgroup": "True",
         "hoverlabel": {
          "namelength": 0
         },
         "hovertemplate": "Country/Region=%{x}<br>Deaths=%{y}",
         "legendgroup": "Finland",
         "marker": {
          "color": "#FECB52"
         },
         "name": "Finland",
         "offsetgroup": "Finland",
         "orientation": "v",
         "showlegend": true,
         "textposition": "auto",
         "type": "bar",
         "x": [
          "Finland"
         ],
         "xaxis": "x",
         "y": [
          0
         ],
         "yaxis": "y"
        },
        {
         "alignmentgroup": "True",
         "hoverlabel": {
          "namelength": 0
         },
         "hovertemplate": "Country/Region=%{x}<br>Deaths=%{y}",
         "legendgroup": "Algeria",
         "marker": {
          "color": "#636efa"
         },
         "name": "Algeria",
         "offsetgroup": "Algeria",
         "orientation": "v",
         "showlegend": true,
         "textposition": "auto",
         "type": "bar",
         "x": [
          "Algeria"
         ],
         "xaxis": "x",
         "y": [
          0
         ],
         "yaxis": "y"
        },
        {
         "alignmentgroup": "True",
         "hoverlabel": {
          "namelength": 0
         },
         "hovertemplate": "Country/Region=%{x}<br>Deaths=%{y}",
         "legendgroup": "Czech Republic",
         "marker": {
          "color": "#EF553B"
         },
         "name": "Czech Republic",
         "offsetgroup": "Czech Republic",
         "orientation": "v",
         "showlegend": true,
         "textposition": "auto",
         "type": "bar",
         "x": [
          "Czech Republic"
         ],
         "xaxis": "x",
         "y": [
          0
         ],
         "yaxis": "y"
        },
        {
         "alignmentgroup": "True",
         "hoverlabel": {
          "namelength": 0
         },
         "hovertemplate": "Country/Region=%{x}<br>Deaths=%{y}",
         "legendgroup": "India",
         "marker": {
          "color": "#00cc96"
         },
         "name": "India",
         "offsetgroup": "India",
         "orientation": "v",
         "showlegend": true,
         "textposition": "auto",
         "type": "bar",
         "x": [
          "India"
         ],
         "xaxis": "x",
         "y": [
          0
         ],
         "yaxis": "y"
        },
        {
         "alignmentgroup": "True",
         "hoverlabel": {
          "namelength": 0
         },
         "hovertemplate": "Country/Region=%{x}<br>Deaths=%{y}",
         "legendgroup": "Mexico",
         "marker": {
          "color": "#ab63fa"
         },
         "name": "Mexico",
         "offsetgroup": "Mexico",
         "orientation": "v",
         "showlegend": true,
         "textposition": "auto",
         "type": "bar",
         "x": [
          "Mexico"
         ],
         "xaxis": "x",
         "y": [
          0
         ],
         "yaxis": "y"
        },
        {
         "alignmentgroup": "True",
         "hoverlabel": {
          "namelength": 0
         },
         "hovertemplate": "Country/Region=%{x}<br>Deaths=%{y}",
         "legendgroup": "Pakistan",
         "marker": {
          "color": "#FFA15A"
         },
         "name": "Pakistan",
         "offsetgroup": "Pakistan",
         "orientation": "v",
         "showlegend": true,
         "textposition": "auto",
         "type": "bar",
         "x": [
          "Pakistan"
         ],
         "xaxis": "x",
         "y": [
          0
         ],
         "yaxis": "y"
        },
        {
         "alignmentgroup": "True",
         "hoverlabel": {
          "namelength": 0
         },
         "hovertemplate": "Country/Region=%{x}<br>Deaths=%{y}",
         "legendgroup": "Azerbaijan",
         "marker": {
          "color": "#19d3f3"
         },
         "name": "Azerbaijan",
         "offsetgroup": "Azerbaijan",
         "orientation": "v",
         "showlegend": true,
         "textposition": "auto",
         "type": "bar",
         "x": [
          "Azerbaijan"
         ],
         "xaxis": "x",
         "y": [
          0
         ],
         "yaxis": "y"
        },
        {
         "alignmentgroup": "True",
         "hoverlabel": {
          "namelength": 0
         },
         "hovertemplate": "Country/Region=%{x}<br>Deaths=%{y}",
         "legendgroup": "Georgia",
         "marker": {
          "color": "#FF6692"
         },
         "name": "Georgia",
         "offsetgroup": "Georgia",
         "orientation": "v",
         "showlegend": true,
         "textposition": "auto",
         "type": "bar",
         "x": [
          "Georgia"
         ],
         "xaxis": "x",
         "y": [
          0
         ],
         "yaxis": "y"
        },
        {
         "alignmentgroup": "True",
         "hoverlabel": {
          "namelength": 0
         },
         "hovertemplate": "Country/Region=%{x}<br>Deaths=%{y}",
         "legendgroup": "Philippines",
         "marker": {
          "color": "#B6E880"
         },
         "name": "Philippines",
         "offsetgroup": "Philippines",
         "orientation": "v",
         "showlegend": true,
         "textposition": "auto",
         "type": "bar",
         "x": [
          "Philippines"
         ],
         "xaxis": "x",
         "y": [
          1
         ],
         "yaxis": "y"
        },
        {
         "alignmentgroup": "True",
         "hoverlabel": {
          "namelength": 0
         },
         "hovertemplate": "Country/Region=%{x}<br>Deaths=%{y}",
         "legendgroup": "Romania",
         "marker": {
          "color": "#FF97FF"
         },
         "name": "Romania",
         "offsetgroup": "Romania",
         "orientation": "v",
         "showlegend": true,
         "textposition": "auto",
         "type": "bar",
         "x": [
          "Romania"
         ],
         "xaxis": "x",
         "y": [
          0
         ],
         "yaxis": "y"
        },
        {
         "alignmentgroup": "True",
         "hoverlabel": {
          "namelength": 0
         },
         "hovertemplate": "Country/Region=%{x}<br>Deaths=%{y}",
         "legendgroup": "Russia",
         "marker": {
          "color": "#FECB52"
         },
         "name": "Russia",
         "offsetgroup": "Russia",
         "orientation": "v",
         "showlegend": true,
         "textposition": "auto",
         "type": "bar",
         "x": [
          "Russia"
         ],
         "xaxis": "x",
         "y": [
          0
         ],
         "yaxis": "y"
        },
        {
         "alignmentgroup": "True",
         "hoverlabel": {
          "namelength": 0
         },
         "hovertemplate": "Country/Region=%{x}<br>Deaths=%{y}",
         "legendgroup": "Brazil",
         "marker": {
          "color": "#636efa"
         },
         "name": "Brazil",
         "offsetgroup": "Brazil",
         "orientation": "v",
         "showlegend": true,
         "textposition": "auto",
         "type": "bar",
         "x": [
          "Brazil"
         ],
         "xaxis": "x",
         "y": [
          0
         ],
         "yaxis": "y"
        },
        {
         "alignmentgroup": "True",
         "hoverlabel": {
          "namelength": 0
         },
         "hovertemplate": "Country/Region=%{x}<br>Deaths=%{y}",
         "legendgroup": "Egypt",
         "marker": {
          "color": "#EF553B"
         },
         "name": "Egypt",
         "offsetgroup": "Egypt",
         "orientation": "v",
         "showlegend": true,
         "textposition": "auto",
         "type": "bar",
         "x": [
          "Egypt"
         ],
         "xaxis": "x",
         "y": [
          0
         ],
         "yaxis": "y"
        },
        {
         "alignmentgroup": "True",
         "hoverlabel": {
          "namelength": 0
         },
         "hovertemplate": "Country/Region=%{x}<br>Deaths=%{y}",
         "legendgroup": "Estonia",
         "marker": {
          "color": "#00cc96"
         },
         "name": "Estonia",
         "offsetgroup": "Estonia",
         "orientation": "v",
         "showlegend": true,
         "textposition": "auto",
         "type": "bar",
         "x": [
          "Estonia"
         ],
         "xaxis": "x",
         "y": [
          0
         ],
         "yaxis": "y"
        },
        {
         "alignmentgroup": "True",
         "hoverlabel": {
          "namelength": 0
         },
         "hovertemplate": "Country/Region=%{x}<br>Deaths=%{y}",
         "legendgroup": "Indonesia",
         "marker": {
          "color": "#ab63fa"
         },
         "name": "Indonesia",
         "offsetgroup": "Indonesia",
         "orientation": "v",
         "showlegend": true,
         "textposition": "auto",
         "type": "bar",
         "x": [
          "Indonesia"
         ],
         "xaxis": "x",
         "y": [
          0
         ],
         "yaxis": "y"
        },
        {
         "alignmentgroup": "True",
         "hoverlabel": {
          "namelength": 0
         },
         "hovertemplate": "Country/Region=%{x}<br>Deaths=%{y}",
         "legendgroup": "Ireland",
         "marker": {
          "color": "#FFA15A"
         },
         "name": "Ireland",
         "offsetgroup": "Ireland",
         "orientation": "v",
         "showlegend": true,
         "textposition": "auto",
         "type": "bar",
         "x": [
          "Ireland"
         ],
         "xaxis": "x",
         "y": [
          0
         ],
         "yaxis": "y"
        },
        {
         "alignmentgroup": "True",
         "hoverlabel": {
          "namelength": 0
         },
         "hovertemplate": "Country/Region=%{x}<br>Deaths=%{y}",
         "legendgroup": "Portugal",
         "marker": {
          "color": "#19d3f3"
         },
         "name": "Portugal",
         "offsetgroup": "Portugal",
         "orientation": "v",
         "showlegend": true,
         "textposition": "auto",
         "type": "bar",
         "x": [
          "Portugal"
         ],
         "xaxis": "x",
         "y": [
          0
         ],
         "yaxis": "y"
        },
        {
         "alignmentgroup": "True",
         "hoverlabel": {
          "namelength": 0
         },
         "hovertemplate": "Country/Region=%{x}<br>Deaths=%{y}",
         "legendgroup": "Senegal",
         "marker": {
          "color": "#FF6692"
         },
         "name": "Senegal",
         "offsetgroup": "Senegal",
         "orientation": "v",
         "showlegend": true,
         "textposition": "auto",
         "type": "bar",
         "x": [
          "Senegal"
         ],
         "xaxis": "x",
         "y": [
          0
         ],
         "yaxis": "y"
        },
        {
         "alignmentgroup": "True",
         "hoverlabel": {
          "namelength": 0
         },
         "hovertemplate": "Country/Region=%{x}<br>Deaths=%{y}",
         "legendgroup": "Afghanistan",
         "marker": {
          "color": "#B6E880"
         },
         "name": "Afghanistan",
         "offsetgroup": "Afghanistan",
         "orientation": "v",
         "showlegend": true,
         "textposition": "auto",
         "type": "bar",
         "x": [
          "Afghanistan"
         ],
         "xaxis": "x",
         "y": [
          0
         ],
         "yaxis": "y"
        },
        {
         "alignmentgroup": "True",
         "hoverlabel": {
          "namelength": 0
         },
         "hovertemplate": "Country/Region=%{x}<br>Deaths=%{y}",
         "legendgroup": "Andorra",
         "marker": {
          "color": "#FF97FF"
         },
         "name": "Andorra",
         "offsetgroup": "Andorra",
         "orientation": "v",
         "showlegend": true,
         "textposition": "auto",
         "type": "bar",
         "x": [
          "Andorra"
         ],
         "xaxis": "x",
         "y": [
          0
         ],
         "yaxis": "y"
        },
        {
         "alignmentgroup": "True",
         "hoverlabel": {
          "namelength": 0
         },
         "hovertemplate": "Country/Region=%{x}<br>Deaths=%{y}",
         "legendgroup": "Argentina",
         "marker": {
          "color": "#FECB52"
         },
         "name": "Argentina",
         "offsetgroup": "Argentina",
         "orientation": "v",
         "showlegend": true,
         "textposition": "auto",
         "type": "bar",
         "x": [
          "Argentina"
         ],
         "xaxis": "x",
         "y": [
          0
         ],
         "yaxis": "y"
        },
        {
         "alignmentgroup": "True",
         "hoverlabel": {
          "namelength": 0
         },
         "hovertemplate": "Country/Region=%{x}<br>Deaths=%{y}",
         "legendgroup": "Armenia",
         "marker": {
          "color": "#636efa"
         },
         "name": "Armenia",
         "offsetgroup": "Armenia",
         "orientation": "v",
         "showlegend": true,
         "textposition": "auto",
         "type": "bar",
         "x": [
          "Armenia"
         ],
         "xaxis": "x",
         "y": [
          0
         ],
         "yaxis": "y"
        },
        {
         "alignmentgroup": "True",
         "hoverlabel": {
          "namelength": 0
         },
         "hovertemplate": "Country/Region=%{x}<br>Deaths=%{y}",
         "legendgroup": "Belarus",
         "marker": {
          "color": "#EF553B"
         },
         "name": "Belarus",
         "offsetgroup": "Belarus",
         "orientation": "v",
         "showlegend": true,
         "textposition": "auto",
         "type": "bar",
         "x": [
          "Belarus"
         ],
         "xaxis": "x",
         "y": [
          0
         ],
         "yaxis": "y"
        },
        {
         "alignmentgroup": "True",
         "hoverlabel": {
          "namelength": 0
         },
         "hovertemplate": "Country/Region=%{x}<br>Deaths=%{y}",
         "legendgroup": "Cambodia",
         "marker": {
          "color": "#00cc96"
         },
         "name": "Cambodia",
         "offsetgroup": "Cambodia",
         "orientation": "v",
         "showlegend": true,
         "textposition": "auto",
         "type": "bar",
         "x": [
          "Cambodia"
         ],
         "xaxis": "x",
         "y": [
          0
         ],
         "yaxis": "y"
        },
        {
         "alignmentgroup": "True",
         "hoverlabel": {
          "namelength": 0
         },
         "hovertemplate": "Country/Region=%{x}<br>Deaths=%{y}",
         "legendgroup": "Chile",
         "marker": {
          "color": "#ab63fa"
         },
         "name": "Chile",
         "offsetgroup": "Chile",
         "orientation": "v",
         "showlegend": true,
         "textposition": "auto",
         "type": "bar",
         "x": [
          "Chile"
         ],
         "xaxis": "x",
         "y": [
          0
         ],
         "yaxis": "y"
        },
        {
         "alignmentgroup": "True",
         "hoverlabel": {
          "namelength": 0
         },
         "hovertemplate": "Country/Region=%{x}<br>Deaths=%{y}",
         "legendgroup": "Dominican Republic",
         "marker": {
          "color": "#FFA15A"
         },
         "name": "Dominican Republic",
         "offsetgroup": "Dominican Republic",
         "orientation": "v",
         "showlegend": true,
         "textposition": "auto",
         "type": "bar",
         "x": [
          "Dominican Republic"
         ],
         "xaxis": "x",
         "y": [
          0
         ],
         "yaxis": "y"
        },
        {
         "alignmentgroup": "True",
         "hoverlabel": {
          "namelength": 0
         },
         "hovertemplate": "Country/Region=%{x}<br>Deaths=%{y}",
         "legendgroup": "Jordan",
         "marker": {
          "color": "#19d3f3"
         },
         "name": "Jordan",
         "offsetgroup": "Jordan",
         "orientation": "v",
         "showlegend": true,
         "textposition": "auto",
         "type": "bar",
         "x": [
          "Jordan"
         ],
         "xaxis": "x",
         "y": [
          0
         ],
         "yaxis": "y"
        },
        {
         "alignmentgroup": "True",
         "hoverlabel": {
          "namelength": 0
         },
         "hovertemplate": "Country/Region=%{x}<br>Deaths=%{y}",
         "legendgroup": "Latvia",
         "marker": {
          "color": "#FF6692"
         },
         "name": "Latvia",
         "offsetgroup": "Latvia",
         "orientation": "v",
         "showlegend": true,
         "textposition": "auto",
         "type": "bar",
         "x": [
          "Latvia"
         ],
         "xaxis": "x",
         "y": [
          0
         ],
         "yaxis": "y"
        },
        {
         "alignmentgroup": "True",
         "hoverlabel": {
          "namelength": 0
         },
         "hovertemplate": "Country/Region=%{x}<br>Deaths=%{y}",
         "legendgroup": "Lithuania",
         "marker": {
          "color": "#B6E880"
         },
         "name": "Lithuania",
         "offsetgroup": "Lithuania",
         "orientation": "v",
         "showlegend": true,
         "textposition": "auto",
         "type": "bar",
         "x": [
          "Lithuania"
         ],
         "xaxis": "x",
         "y": [
          0
         ],
         "yaxis": "y"
        },
        {
         "alignmentgroup": "True",
         "hoverlabel": {
          "namelength": 0
         },
         "hovertemplate": "Country/Region=%{x}<br>Deaths=%{y}",
         "legendgroup": "Luxembourg",
         "marker": {
          "color": "#FF97FF"
         },
         "name": "Luxembourg",
         "offsetgroup": "Luxembourg",
         "orientation": "v",
         "showlegend": true,
         "textposition": "auto",
         "type": "bar",
         "x": [
          "Luxembourg"
         ],
         "xaxis": "x",
         "y": [
          0
         ],
         "yaxis": "y"
        },
        {
         "alignmentgroup": "True",
         "hoverlabel": {
          "namelength": 0
         },
         "hovertemplate": "Country/Region=%{x}<br>Deaths=%{y}",
         "legendgroup": "Monaco",
         "marker": {
          "color": "#FECB52"
         },
         "name": "Monaco",
         "offsetgroup": "Monaco",
         "orientation": "v",
         "showlegend": true,
         "textposition": "auto",
         "type": "bar",
         "x": [
          "Monaco"
         ],
         "xaxis": "x",
         "y": [
          0
         ],
         "yaxis": "y"
        },
        {
         "alignmentgroup": "True",
         "hoverlabel": {
          "namelength": 0
         },
         "hovertemplate": "Country/Region=%{x}<br>Deaths=%{y}",
         "legendgroup": "Morocco",
         "marker": {
          "color": "#636efa"
         },
         "name": "Morocco",
         "offsetgroup": "Morocco",
         "orientation": "v",
         "showlegend": true,
         "textposition": "auto",
         "type": "bar",
         "x": [
          "Morocco"
         ],
         "xaxis": "x",
         "y": [
          0
         ],
         "yaxis": "y"
        },
        {
         "alignmentgroup": "True",
         "hoverlabel": {
          "namelength": 0
         },
         "hovertemplate": "Country/Region=%{x}<br>Deaths=%{y}",
         "legendgroup": "Nepal",
         "marker": {
          "color": "#EF553B"
         },
         "name": "Nepal",
         "offsetgroup": "Nepal",
         "orientation": "v",
         "showlegend": true,
         "textposition": "auto",
         "type": "bar",
         "x": [
          "Nepal"
         ],
         "xaxis": "x",
         "y": [
          0
         ],
         "yaxis": "y"
        },
        {
         "alignmentgroup": "True",
         "hoverlabel": {
          "namelength": 0
         },
         "hovertemplate": "Country/Region=%{x}<br>Deaths=%{y}",
         "legendgroup": "New Zealand",
         "marker": {
          "color": "#00cc96"
         },
         "name": "New Zealand",
         "offsetgroup": "New Zealand",
         "orientation": "v",
         "showlegend": true,
         "textposition": "auto",
         "type": "bar",
         "x": [
          "New Zealand"
         ],
         "xaxis": "x",
         "y": [
          0
         ],
         "yaxis": "y"
        },
        {
         "alignmentgroup": "True",
         "hoverlabel": {
          "namelength": 0
         },
         "hovertemplate": "Country/Region=%{x}<br>Deaths=%{y}",
         "legendgroup": "Nigeria",
         "marker": {
          "color": "#ab63fa"
         },
         "name": "Nigeria",
         "offsetgroup": "Nigeria",
         "orientation": "v",
         "showlegend": true,
         "textposition": "auto",
         "type": "bar",
         "x": [
          "Nigeria"
         ],
         "xaxis": "x",
         "y": [
          0
         ],
         "yaxis": "y"
        },
        {
         "alignmentgroup": "True",
         "hoverlabel": {
          "namelength": 0
         },
         "hovertemplate": "Country/Region=%{x}<br>Deaths=%{y}",
         "legendgroup": "North Macedonia",
         "marker": {
          "color": "#FFA15A"
         },
         "name": "North Macedonia",
         "offsetgroup": "North Macedonia",
         "orientation": "v",
         "showlegend": true,
         "textposition": "auto",
         "type": "bar",
         "x": [
          "North Macedonia"
         ],
         "xaxis": "x",
         "y": [
          0
         ],
         "yaxis": "y"
        },
        {
         "alignmentgroup": "True",
         "hoverlabel": {
          "namelength": 0
         },
         "hovertemplate": "Country/Region=%{x}<br>Deaths=%{y}",
         "legendgroup": "Saudi Arabia",
         "marker": {
          "color": "#19d3f3"
         },
         "name": "Saudi Arabia",
         "offsetgroup": "Saudi Arabia",
         "orientation": "v",
         "showlegend": true,
         "textposition": "auto",
         "type": "bar",
         "x": [
          "Saudi Arabia"
         ],
         "xaxis": "x",
         "y": [
          0
         ],
         "yaxis": "y"
        },
        {
         "alignmentgroup": "True",
         "hoverlabel": {
          "namelength": 0
         },
         "hovertemplate": "Country/Region=%{x}<br>Deaths=%{y}",
         "legendgroup": "Sri Lanka",
         "marker": {
          "color": "#FF6692"
         },
         "name": "Sri Lanka",
         "offsetgroup": "Sri Lanka",
         "orientation": "v",
         "showlegend": true,
         "textposition": "auto",
         "type": "bar",
         "x": [
          "Sri Lanka"
         ],
         "xaxis": "x",
         "y": [
          0
         ],
         "yaxis": "y"
        },
        {
         "alignmentgroup": "True",
         "hoverlabel": {
          "namelength": 0
         },
         "hovertemplate": "Country/Region=%{x}<br>Deaths=%{y}",
         "legendgroup": "Ukraine",
         "marker": {
          "color": "#B6E880"
         },
         "name": "Ukraine",
         "offsetgroup": "Ukraine",
         "orientation": "v",
         "showlegend": true,
         "textposition": "auto",
         "type": "bar",
         "x": [
          "Ukraine"
         ],
         "xaxis": "x",
         "y": [
          0
         ],
         "yaxis": "y"
        }
       ],
       "layout": {
        "barmode": "relative",
        "legend": {
         "title": {
          "text": "Country/Region"
         },
         "tracegroupgap": 0
        },
        "template": {
         "data": {
          "bar": [
           {
            "error_x": {
             "color": "#2a3f5f"
            },
            "error_y": {
             "color": "#2a3f5f"
            },
            "marker": {
             "line": {
              "color": "#E5ECF6",
              "width": 0.5
             }
            },
            "type": "bar"
           }
          ],
          "barpolar": [
           {
            "marker": {
             "line": {
              "color": "#E5ECF6",
              "width": 0.5
             }
            },
            "type": "barpolar"
           }
          ],
          "carpet": [
           {
            "aaxis": {
             "endlinecolor": "#2a3f5f",
             "gridcolor": "white",
             "linecolor": "white",
             "minorgridcolor": "white",
             "startlinecolor": "#2a3f5f"
            },
            "baxis": {
             "endlinecolor": "#2a3f5f",
             "gridcolor": "white",
             "linecolor": "white",
             "minorgridcolor": "white",
             "startlinecolor": "#2a3f5f"
            },
            "type": "carpet"
           }
          ],
          "choropleth": [
           {
            "colorbar": {
             "outlinewidth": 0,
             "ticks": ""
            },
            "type": "choropleth"
           }
          ],
          "contour": [
           {
            "colorbar": {
             "outlinewidth": 0,
             "ticks": ""
            },
            "colorscale": [
             [
              0,
              "#0d0887"
             ],
             [
              0.1111111111111111,
              "#46039f"
             ],
             [
              0.2222222222222222,
              "#7201a8"
             ],
             [
              0.3333333333333333,
              "#9c179e"
             ],
             [
              0.4444444444444444,
              "#bd3786"
             ],
             [
              0.5555555555555556,
              "#d8576b"
             ],
             [
              0.6666666666666666,
              "#ed7953"
             ],
             [
              0.7777777777777778,
              "#fb9f3a"
             ],
             [
              0.8888888888888888,
              "#fdca26"
             ],
             [
              1,
              "#f0f921"
             ]
            ],
            "type": "contour"
           }
          ],
          "contourcarpet": [
           {
            "colorbar": {
             "outlinewidth": 0,
             "ticks": ""
            },
            "type": "contourcarpet"
           }
          ],
          "heatmap": [
           {
            "colorbar": {
             "outlinewidth": 0,
             "ticks": ""
            },
            "colorscale": [
             [
              0,
              "#0d0887"
             ],
             [
              0.1111111111111111,
              "#46039f"
             ],
             [
              0.2222222222222222,
              "#7201a8"
             ],
             [
              0.3333333333333333,
              "#9c179e"
             ],
             [
              0.4444444444444444,
              "#bd3786"
             ],
             [
              0.5555555555555556,
              "#d8576b"
             ],
             [
              0.6666666666666666,
              "#ed7953"
             ],
             [
              0.7777777777777778,
              "#fb9f3a"
             ],
             [
              0.8888888888888888,
              "#fdca26"
             ],
             [
              1,
              "#f0f921"
             ]
            ],
            "type": "heatmap"
           }
          ],
          "heatmapgl": [
           {
            "colorbar": {
             "outlinewidth": 0,
             "ticks": ""
            },
            "colorscale": [
             [
              0,
              "#0d0887"
             ],
             [
              0.1111111111111111,
              "#46039f"
             ],
             [
              0.2222222222222222,
              "#7201a8"
             ],
             [
              0.3333333333333333,
              "#9c179e"
             ],
             [
              0.4444444444444444,
              "#bd3786"
             ],
             [
              0.5555555555555556,
              "#d8576b"
             ],
             [
              0.6666666666666666,
              "#ed7953"
             ],
             [
              0.7777777777777778,
              "#fb9f3a"
             ],
             [
              0.8888888888888888,
              "#fdca26"
             ],
             [
              1,
              "#f0f921"
             ]
            ],
            "type": "heatmapgl"
           }
          ],
          "histogram": [
           {
            "marker": {
             "colorbar": {
              "outlinewidth": 0,
              "ticks": ""
             }
            },
            "type": "histogram"
           }
          ],
          "histogram2d": [
           {
            "colorbar": {
             "outlinewidth": 0,
             "ticks": ""
            },
            "colorscale": [
             [
              0,
              "#0d0887"
             ],
             [
              0.1111111111111111,
              "#46039f"
             ],
             [
              0.2222222222222222,
              "#7201a8"
             ],
             [
              0.3333333333333333,
              "#9c179e"
             ],
             [
              0.4444444444444444,
              "#bd3786"
             ],
             [
              0.5555555555555556,
              "#d8576b"
             ],
             [
              0.6666666666666666,
              "#ed7953"
             ],
             [
              0.7777777777777778,
              "#fb9f3a"
             ],
             [
              0.8888888888888888,
              "#fdca26"
             ],
             [
              1,
              "#f0f921"
             ]
            ],
            "type": "histogram2d"
           }
          ],
          "histogram2dcontour": [
           {
            "colorbar": {
             "outlinewidth": 0,
             "ticks": ""
            },
            "colorscale": [
             [
              0,
              "#0d0887"
             ],
             [
              0.1111111111111111,
              "#46039f"
             ],
             [
              0.2222222222222222,
              "#7201a8"
             ],
             [
              0.3333333333333333,
              "#9c179e"
             ],
             [
              0.4444444444444444,
              "#bd3786"
             ],
             [
              0.5555555555555556,
              "#d8576b"
             ],
             [
              0.6666666666666666,
              "#ed7953"
             ],
             [
              0.7777777777777778,
              "#fb9f3a"
             ],
             [
              0.8888888888888888,
              "#fdca26"
             ],
             [
              1,
              "#f0f921"
             ]
            ],
            "type": "histogram2dcontour"
           }
          ],
          "mesh3d": [
           {
            "colorbar": {
             "outlinewidth": 0,
             "ticks": ""
            },
            "type": "mesh3d"
           }
          ],
          "parcoords": [
           {
            "line": {
             "colorbar": {
              "outlinewidth": 0,
              "ticks": ""
             }
            },
            "type": "parcoords"
           }
          ],
          "pie": [
           {
            "automargin": true,
            "type": "pie"
           }
          ],
          "scatter": [
           {
            "marker": {
             "colorbar": {
              "outlinewidth": 0,
              "ticks": ""
             }
            },
            "type": "scatter"
           }
          ],
          "scatter3d": [
           {
            "line": {
             "colorbar": {
              "outlinewidth": 0,
              "ticks": ""
             }
            },
            "marker": {
             "colorbar": {
              "outlinewidth": 0,
              "ticks": ""
             }
            },
            "type": "scatter3d"
           }
          ],
          "scattercarpet": [
           {
            "marker": {
             "colorbar": {
              "outlinewidth": 0,
              "ticks": ""
             }
            },
            "type": "scattercarpet"
           }
          ],
          "scattergeo": [
           {
            "marker": {
             "colorbar": {
              "outlinewidth": 0,
              "ticks": ""
             }
            },
            "type": "scattergeo"
           }
          ],
          "scattergl": [
           {
            "marker": {
             "colorbar": {
              "outlinewidth": 0,
              "ticks": ""
             }
            },
            "type": "scattergl"
           }
          ],
          "scattermapbox": [
           {
            "marker": {
             "colorbar": {
              "outlinewidth": 0,
              "ticks": ""
             }
            },
            "type": "scattermapbox"
           }
          ],
          "scatterpolar": [
           {
            "marker": {
             "colorbar": {
              "outlinewidth": 0,
              "ticks": ""
             }
            },
            "type": "scatterpolar"
           }
          ],
          "scatterpolargl": [
           {
            "marker": {
             "colorbar": {
              "outlinewidth": 0,
              "ticks": ""
             }
            },
            "type": "scatterpolargl"
           }
          ],
          "scatterternary": [
           {
            "marker": {
             "colorbar": {
              "outlinewidth": 0,
              "ticks": ""
             }
            },
            "type": "scatterternary"
           }
          ],
          "surface": [
           {
            "colorbar": {
             "outlinewidth": 0,
             "ticks": ""
            },
            "colorscale": [
             [
              0,
              "#0d0887"
             ],
             [
              0.1111111111111111,
              "#46039f"
             ],
             [
              0.2222222222222222,
              "#7201a8"
             ],
             [
              0.3333333333333333,
              "#9c179e"
             ],
             [
              0.4444444444444444,
              "#bd3786"
             ],
             [
              0.5555555555555556,
              "#d8576b"
             ],
             [
              0.6666666666666666,
              "#ed7953"
             ],
             [
              0.7777777777777778,
              "#fb9f3a"
             ],
             [
              0.8888888888888888,
              "#fdca26"
             ],
             [
              1,
              "#f0f921"
             ]
            ],
            "type": "surface"
           }
          ],
          "table": [
           {
            "cells": {
             "fill": {
              "color": "#EBF0F8"
             },
             "line": {
              "color": "white"
             }
            },
            "header": {
             "fill": {
              "color": "#C8D4E3"
             },
             "line": {
              "color": "white"
             }
            },
            "type": "table"
           }
          ]
         },
         "layout": {
          "annotationdefaults": {
           "arrowcolor": "#2a3f5f",
           "arrowhead": 0,
           "arrowwidth": 1
          },
          "coloraxis": {
           "colorbar": {
            "outlinewidth": 0,
            "ticks": ""
           }
          },
          "colorscale": {
           "diverging": [
            [
             0,
             "#8e0152"
            ],
            [
             0.1,
             "#c51b7d"
            ],
            [
             0.2,
             "#de77ae"
            ],
            [
             0.3,
             "#f1b6da"
            ],
            [
             0.4,
             "#fde0ef"
            ],
            [
             0.5,
             "#f7f7f7"
            ],
            [
             0.6,
             "#e6f5d0"
            ],
            [
             0.7,
             "#b8e186"
            ],
            [
             0.8,
             "#7fbc41"
            ],
            [
             0.9,
             "#4d9221"
            ],
            [
             1,
             "#276419"
            ]
           ],
           "sequential": [
            [
             0,
             "#0d0887"
            ],
            [
             0.1111111111111111,
             "#46039f"
            ],
            [
             0.2222222222222222,
             "#7201a8"
            ],
            [
             0.3333333333333333,
             "#9c179e"
            ],
            [
             0.4444444444444444,
             "#bd3786"
            ],
            [
             0.5555555555555556,
             "#d8576b"
            ],
            [
             0.6666666666666666,
             "#ed7953"
            ],
            [
             0.7777777777777778,
             "#fb9f3a"
            ],
            [
             0.8888888888888888,
             "#fdca26"
            ],
            [
             1,
             "#f0f921"
            ]
           ],
           "sequentialminus": [
            [
             0,
             "#0d0887"
            ],
            [
             0.1111111111111111,
             "#46039f"
            ],
            [
             0.2222222222222222,
             "#7201a8"
            ],
            [
             0.3333333333333333,
             "#9c179e"
            ],
            [
             0.4444444444444444,
             "#bd3786"
            ],
            [
             0.5555555555555556,
             "#d8576b"
            ],
            [
             0.6666666666666666,
             "#ed7953"
            ],
            [
             0.7777777777777778,
             "#fb9f3a"
            ],
            [
             0.8888888888888888,
             "#fdca26"
            ],
            [
             1,
             "#f0f921"
            ]
           ]
          },
          "colorway": [
           "#636efa",
           "#EF553B",
           "#00cc96",
           "#ab63fa",
           "#FFA15A",
           "#19d3f3",
           "#FF6692",
           "#B6E880",
           "#FF97FF",
           "#FECB52"
          ],
          "font": {
           "color": "#2a3f5f"
          },
          "geo": {
           "bgcolor": "white",
           "lakecolor": "white",
           "landcolor": "#E5ECF6",
           "showlakes": true,
           "showland": true,
           "subunitcolor": "white"
          },
          "hoverlabel": {
           "align": "left"
          },
          "hovermode": "closest",
          "mapbox": {
           "style": "light"
          },
          "paper_bgcolor": "white",
          "plot_bgcolor": "#E5ECF6",
          "polar": {
           "angularaxis": {
            "gridcolor": "white",
            "linecolor": "white",
            "ticks": ""
           },
           "bgcolor": "#E5ECF6",
           "radialaxis": {
            "gridcolor": "white",
            "linecolor": "white",
            "ticks": ""
           }
          },
          "scene": {
           "xaxis": {
            "backgroundcolor": "#E5ECF6",
            "gridcolor": "white",
            "gridwidth": 2,
            "linecolor": "white",
            "showbackground": true,
            "ticks": "",
            "zerolinecolor": "white"
           },
           "yaxis": {
            "backgroundcolor": "#E5ECF6",
            "gridcolor": "white",
            "gridwidth": 2,
            "linecolor": "white",
            "showbackground": true,
            "ticks": "",
            "zerolinecolor": "white"
           },
           "zaxis": {
            "backgroundcolor": "#E5ECF6",
            "gridcolor": "white",
            "gridwidth": 2,
            "linecolor": "white",
            "showbackground": true,
            "ticks": "",
            "zerolinecolor": "white"
           }
          },
          "shapedefaults": {
           "line": {
            "color": "#2a3f5f"
           }
          },
          "ternary": {
           "aaxis": {
            "gridcolor": "white",
            "linecolor": "white",
            "ticks": ""
           },
           "baxis": {
            "gridcolor": "white",
            "linecolor": "white",
            "ticks": ""
           },
           "bgcolor": "#E5ECF6",
           "caxis": {
            "gridcolor": "white",
            "linecolor": "white",
            "ticks": ""
           }
          },
          "title": {
           "x": 0.05
          },
          "xaxis": {
           "automargin": true,
           "gridcolor": "white",
           "linecolor": "white",
           "ticks": "",
           "title": {
            "standoff": 15
           },
           "zerolinecolor": "white",
           "zerolinewidth": 2
          },
          "yaxis": {
           "automargin": true,
           "gridcolor": "white",
           "linecolor": "white",
           "ticks": "",
           "title": {
            "standoff": 15
           },
           "zerolinecolor": "white",
           "zerolinewidth": 2
          }
         }
        },
        "title": {
         "text": "Number of reported deaths across countries excluding China"
        },
        "xaxis": {
         "anchor": "y",
         "categoryarray": [
          "South Korea",
          "Italy",
          "Iran",
          "Others",
          "Japan",
          "France",
          "Germany",
          "Spain",
          "Singapore",
          "Hong Kong",
          "Kuwait",
          "Switzerland",
          "UK",
          "Bahrain",
          "US",
          "Thailand",
          "Taiwan",
          "Malaysia",
          "Iraq",
          "Norway",
          "United Arab Emirates",
          "Netherlands",
          "Austria",
          "Sweden",
          "Canada",
          "Vietnam",
          "Australia",
          "Belgium",
          "Lebanon",
          "Israel",
          "Oman",
          "Iceland",
          "Macau",
          "San Marino",
          "Croatia",
          "Ecuador",
          "Greece",
          "Qatar",
          "Denmark",
          "Finland",
          "Algeria",
          "Czech Republic",
          "India",
          "Mexico",
          "Pakistan",
          "Azerbaijan",
          "Georgia",
          "Philippines",
          "Romania",
          "Russia",
          "Brazil",
          "Egypt",
          "Estonia",
          "Indonesia",
          "Ireland",
          "Portugal",
          "Senegal",
          "Afghanistan",
          "Andorra",
          "Argentina",
          "Armenia",
          "Belarus",
          "Cambodia",
          "Chile",
          "Dominican Republic",
          "Jordan",
          "Latvia",
          "Lithuania",
          "Luxembourg",
          "Monaco",
          "Morocco",
          "Nepal",
          "New Zealand",
          "Nigeria",
          "North Macedonia",
          "Saudi Arabia",
          "Sri Lanka",
          "Ukraine"
         ],
         "categoryorder": "array",
         "domain": [
          0,
          1
         ],
         "title": {
          "text": "Country/Region"
         }
        },
        "yaxis": {
         "anchor": "x",
         "domain": [
          0,
          1
         ],
         "title": {
          "text": "Deaths"
         }
        }
       }
      },
      "text/html": [
       "<div>\n",
       "        \n",
       "        \n",
       "            <div id=\"a3f54db1-e68c-493e-9ff0-29544eea84b5\" class=\"plotly-graph-div\" style=\"height:525px; width:100%;\"></div>\n",
       "            <script type=\"text/javascript\">\n",
       "                require([\"plotly\"], function(Plotly) {\n",
       "                    window.PLOTLYENV=window.PLOTLYENV || {};\n",
       "                    \n",
       "                if (document.getElementById(\"a3f54db1-e68c-493e-9ff0-29544eea84b5\")) {\n",
       "                    Plotly.newPlot(\n",
       "                        'a3f54db1-e68c-493e-9ff0-29544eea84b5',\n",
       "                        [{\"alignmentgroup\": \"True\", \"hoverlabel\": {\"namelength\": 0}, \"hovertemplate\": \"Country/Region=%{x}<br>Deaths=%{y}\", \"legendgroup\": \"South Korea\", \"marker\": {\"color\": \"#636efa\"}, \"name\": \"South Korea\", \"offsetgroup\": \"South Korea\", \"orientation\": \"v\", \"showlegend\": true, \"textposition\": \"auto\", \"type\": \"bar\", \"x\": [\"South Korea\"], \"xaxis\": \"x\", \"y\": [28], \"yaxis\": \"y\"}, {\"alignmentgroup\": \"True\", \"hoverlabel\": {\"namelength\": 0}, \"hovertemplate\": \"Country/Region=%{x}<br>Deaths=%{y}\", \"legendgroup\": \"Italy\", \"marker\": {\"color\": \"#EF553B\"}, \"name\": \"Italy\", \"offsetgroup\": \"Italy\", \"orientation\": \"v\", \"showlegend\": true, \"textposition\": \"auto\", \"type\": \"bar\", \"x\": [\"Italy\"], \"xaxis\": \"x\", \"y\": [79], \"yaxis\": \"y\"}, {\"alignmentgroup\": \"True\", \"hoverlabel\": {\"namelength\": 0}, \"hovertemplate\": \"Country/Region=%{x}<br>Deaths=%{y}\", \"legendgroup\": \"Iran\", \"marker\": {\"color\": \"#00cc96\"}, \"name\": \"Iran\", \"offsetgroup\": \"Iran\", \"orientation\": \"v\", \"showlegend\": true, \"textposition\": \"auto\", \"type\": \"bar\", \"x\": [\"Iran\"], \"xaxis\": \"x\", \"y\": [77], \"yaxis\": \"y\"}, {\"alignmentgroup\": \"True\", \"hoverlabel\": {\"namelength\": 0}, \"hovertemplate\": \"Country/Region=%{x}<br>Deaths=%{y}\", \"legendgroup\": \"Others\", \"marker\": {\"color\": \"#ab63fa\"}, \"name\": \"Others\", \"offsetgroup\": \"Others\", \"orientation\": \"v\", \"showlegend\": true, \"textposition\": \"auto\", \"type\": \"bar\", \"x\": [\"Others\"], \"xaxis\": \"x\", \"y\": [6], \"yaxis\": \"y\"}, {\"alignmentgroup\": \"True\", \"hoverlabel\": {\"namelength\": 0}, \"hovertemplate\": \"Country/Region=%{x}<br>Deaths=%{y}\", \"legendgroup\": \"Japan\", \"marker\": {\"color\": \"#FFA15A\"}, \"name\": \"Japan\", \"offsetgroup\": \"Japan\", \"orientation\": \"v\", \"showlegend\": true, \"textposition\": \"auto\", \"type\": \"bar\", \"x\": [\"Japan\"], \"xaxis\": \"x\", \"y\": [6], \"yaxis\": \"y\"}, {\"alignmentgroup\": \"True\", \"hoverlabel\": {\"namelength\": 0}, \"hovertemplate\": \"Country/Region=%{x}<br>Deaths=%{y}\", \"legendgroup\": \"France\", \"marker\": {\"color\": \"#19d3f3\"}, \"name\": \"France\", \"offsetgroup\": \"France\", \"orientation\": \"v\", \"showlegend\": true, \"textposition\": \"auto\", \"type\": \"bar\", \"x\": [\"France\"], \"xaxis\": \"x\", \"y\": [4], \"yaxis\": \"y\"}, {\"alignmentgroup\": \"True\", \"hoverlabel\": {\"namelength\": 0}, \"hovertemplate\": \"Country/Region=%{x}<br>Deaths=%{y}\", \"legendgroup\": \"Germany\", \"marker\": {\"color\": \"#FF6692\"}, \"name\": \"Germany\", \"offsetgroup\": \"Germany\", \"orientation\": \"v\", \"showlegend\": true, \"textposition\": \"auto\", \"type\": \"bar\", \"x\": [\"Germany\"], \"xaxis\": \"x\", \"y\": [0], \"yaxis\": \"y\"}, {\"alignmentgroup\": \"True\", \"hoverlabel\": {\"namelength\": 0}, \"hovertemplate\": \"Country/Region=%{x}<br>Deaths=%{y}\", \"legendgroup\": \"Spain\", \"marker\": {\"color\": \"#B6E880\"}, \"name\": \"Spain\", \"offsetgroup\": \"Spain\", \"orientation\": \"v\", \"showlegend\": true, \"textposition\": \"auto\", \"type\": \"bar\", \"x\": [\"Spain\"], \"xaxis\": \"x\", \"y\": [1], \"yaxis\": \"y\"}, {\"alignmentgroup\": \"True\", \"hoverlabel\": {\"namelength\": 0}, \"hovertemplate\": \"Country/Region=%{x}<br>Deaths=%{y}\", \"legendgroup\": \"Singapore\", \"marker\": {\"color\": \"#FF97FF\"}, \"name\": \"Singapore\", \"offsetgroup\": \"Singapore\", \"orientation\": \"v\", \"showlegend\": true, \"textposition\": \"auto\", \"type\": \"bar\", \"x\": [\"Singapore\"], \"xaxis\": \"x\", \"y\": [0], \"yaxis\": \"y\"}, {\"alignmentgroup\": \"True\", \"hoverlabel\": {\"namelength\": 0}, \"hovertemplate\": \"Country/Region=%{x}<br>Deaths=%{y}\", \"legendgroup\": \"Hong Kong\", \"marker\": {\"color\": \"#FECB52\"}, \"name\": \"Hong Kong\", \"offsetgroup\": \"Hong Kong\", \"orientation\": \"v\", \"showlegend\": true, \"textposition\": \"auto\", \"type\": \"bar\", \"x\": [\"Hong Kong\"], \"xaxis\": \"x\", \"y\": [2], \"yaxis\": \"y\"}, {\"alignmentgroup\": \"True\", \"hoverlabel\": {\"namelength\": 0}, \"hovertemplate\": \"Country/Region=%{x}<br>Deaths=%{y}\", \"legendgroup\": \"Kuwait\", \"marker\": {\"color\": \"#636efa\"}, \"name\": \"Kuwait\", \"offsetgroup\": \"Kuwait\", \"orientation\": \"v\", \"showlegend\": true, \"textposition\": \"auto\", \"type\": \"bar\", \"x\": [\"Kuwait\"], \"xaxis\": \"x\", \"y\": [0], \"yaxis\": \"y\"}, {\"alignmentgroup\": \"True\", \"hoverlabel\": {\"namelength\": 0}, \"hovertemplate\": \"Country/Region=%{x}<br>Deaths=%{y}\", \"legendgroup\": \"Switzerland\", \"marker\": {\"color\": \"#EF553B\"}, \"name\": \"Switzerland\", \"offsetgroup\": \"Switzerland\", \"orientation\": \"v\", \"showlegend\": true, \"textposition\": \"auto\", \"type\": \"bar\", \"x\": [\"Switzerland\"], \"xaxis\": \"x\", \"y\": [0], \"yaxis\": \"y\"}, {\"alignmentgroup\": \"True\", \"hoverlabel\": {\"namelength\": 0}, \"hovertemplate\": \"Country/Region=%{x}<br>Deaths=%{y}\", \"legendgroup\": \"UK\", \"marker\": {\"color\": \"#00cc96\"}, \"name\": \"UK\", \"offsetgroup\": \"UK\", \"orientation\": \"v\", \"showlegend\": true, \"textposition\": \"auto\", \"type\": \"bar\", \"x\": [\"UK\"], \"xaxis\": \"x\", \"y\": [0], \"yaxis\": \"y\"}, {\"alignmentgroup\": \"True\", \"hoverlabel\": {\"namelength\": 0}, \"hovertemplate\": \"Country/Region=%{x}<br>Deaths=%{y}\", \"legendgroup\": \"Bahrain\", \"marker\": {\"color\": \"#ab63fa\"}, \"name\": \"Bahrain\", \"offsetgroup\": \"Bahrain\", \"orientation\": \"v\", \"showlegend\": true, \"textposition\": \"auto\", \"type\": \"bar\", \"x\": [\"Bahrain\"], \"xaxis\": \"x\", \"y\": [0], \"yaxis\": \"y\"}, {\"alignmentgroup\": \"True\", \"hoverlabel\": {\"namelength\": 0}, \"hovertemplate\": \"Country/Region=%{x}<br>Deaths=%{y}\", \"legendgroup\": \"US\", \"marker\": {\"color\": \"#FFA15A\"}, \"name\": \"US\", \"offsetgroup\": \"US\", \"orientation\": \"v\", \"showlegend\": true, \"textposition\": \"auto\", \"type\": \"bar\", \"x\": [\"US\", \"US\", \"US\", \"US\", \"US\", \"US\", \"US\", \"US\", \"US\", \"US\", \"US\", \"US\", \"US\", \"US\", \"US\", \"US\", \"US\", \"US\", \"US\", \"US\", \"US\", \"US\", \"US\", \"US\", \"US\", \"US\", \"US\", \"US\", \"US\", \"US\", \"US\", \"US\", \"US\", \"US\"], \"xaxis\": \"x\", \"y\": [0, 6, 0, 1, 0, 0, 0, 0, 0, 0, 0, 0, 0, 0, 0, 0, 0, 0, 0, 0, 0, 0, 0, 0, 0, 0, 0, 0, 0, 0, 0, 0, 0, 0], \"yaxis\": \"y\"}, {\"alignmentgroup\": \"True\", \"hoverlabel\": {\"namelength\": 0}, \"hovertemplate\": \"Country/Region=%{x}<br>Deaths=%{y}\", \"legendgroup\": \"Thailand\", \"marker\": {\"color\": \"#19d3f3\"}, \"name\": \"Thailand\", \"offsetgroup\": \"Thailand\", \"orientation\": \"v\", \"showlegend\": true, \"textposition\": \"auto\", \"type\": \"bar\", \"x\": [\"Thailand\"], \"xaxis\": \"x\", \"y\": [1], \"yaxis\": \"y\"}, {\"alignmentgroup\": \"True\", \"hoverlabel\": {\"namelength\": 0}, \"hovertemplate\": \"Country/Region=%{x}<br>Deaths=%{y}\", \"legendgroup\": \"Taiwan\", \"marker\": {\"color\": \"#FF6692\"}, \"name\": \"Taiwan\", \"offsetgroup\": \"Taiwan\", \"orientation\": \"v\", \"showlegend\": true, \"textposition\": \"auto\", \"type\": \"bar\", \"x\": [\"Taiwan\"], \"xaxis\": \"x\", \"y\": [1], \"yaxis\": \"y\"}, {\"alignmentgroup\": \"True\", \"hoverlabel\": {\"namelength\": 0}, \"hovertemplate\": \"Country/Region=%{x}<br>Deaths=%{y}\", \"legendgroup\": \"Malaysia\", \"marker\": {\"color\": \"#B6E880\"}, \"name\": \"Malaysia\", \"offsetgroup\": \"Malaysia\", \"orientation\": \"v\", \"showlegend\": true, \"textposition\": \"auto\", \"type\": \"bar\", \"x\": [\"Malaysia\"], \"xaxis\": \"x\", \"y\": [0], \"yaxis\": \"y\"}, {\"alignmentgroup\": \"True\", \"hoverlabel\": {\"namelength\": 0}, \"hovertemplate\": \"Country/Region=%{x}<br>Deaths=%{y}\", \"legendgroup\": \"Iraq\", \"marker\": {\"color\": \"#FF97FF\"}, \"name\": \"Iraq\", \"offsetgroup\": \"Iraq\", \"orientation\": \"v\", \"showlegend\": true, \"textposition\": \"auto\", \"type\": \"bar\", \"x\": [\"Iraq\"], \"xaxis\": \"x\", \"y\": [0], \"yaxis\": \"y\"}, {\"alignmentgroup\": \"True\", \"hoverlabel\": {\"namelength\": 0}, \"hovertemplate\": \"Country/Region=%{x}<br>Deaths=%{y}\", \"legendgroup\": \"Norway\", \"marker\": {\"color\": \"#FECB52\"}, \"name\": \"Norway\", \"offsetgroup\": \"Norway\", \"orientation\": \"v\", \"showlegend\": true, \"textposition\": \"auto\", \"type\": \"bar\", \"x\": [\"Norway\"], \"xaxis\": \"x\", \"y\": [0], \"yaxis\": \"y\"}, {\"alignmentgroup\": \"True\", \"hoverlabel\": {\"namelength\": 0}, \"hovertemplate\": \"Country/Region=%{x}<br>Deaths=%{y}\", \"legendgroup\": \"United Arab Emirates\", \"marker\": {\"color\": \"#636efa\"}, \"name\": \"United Arab Emirates\", \"offsetgroup\": \"United Arab Emirates\", \"orientation\": \"v\", \"showlegend\": true, \"textposition\": \"auto\", \"type\": \"bar\", \"x\": [\"United Arab Emirates\"], \"xaxis\": \"x\", \"y\": [0], \"yaxis\": \"y\"}, {\"alignmentgroup\": \"True\", \"hoverlabel\": {\"namelength\": 0}, \"hovertemplate\": \"Country/Region=%{x}<br>Deaths=%{y}\", \"legendgroup\": \"Netherlands\", \"marker\": {\"color\": \"#EF553B\"}, \"name\": \"Netherlands\", \"offsetgroup\": \"Netherlands\", \"orientation\": \"v\", \"showlegend\": true, \"textposition\": \"auto\", \"type\": \"bar\", \"x\": [\"Netherlands\"], \"xaxis\": \"x\", \"y\": [0], \"yaxis\": \"y\"}, {\"alignmentgroup\": \"True\", \"hoverlabel\": {\"namelength\": 0}, \"hovertemplate\": \"Country/Region=%{x}<br>Deaths=%{y}\", \"legendgroup\": \"Austria\", \"marker\": {\"color\": \"#00cc96\"}, \"name\": \"Austria\", \"offsetgroup\": \"Austria\", \"orientation\": \"v\", \"showlegend\": true, \"textposition\": \"auto\", \"type\": \"bar\", \"x\": [\"Austria\"], \"xaxis\": \"x\", \"y\": [0], \"yaxis\": \"y\"}, {\"alignmentgroup\": \"True\", \"hoverlabel\": {\"namelength\": 0}, \"hovertemplate\": \"Country/Region=%{x}<br>Deaths=%{y}\", \"legendgroup\": \"Sweden\", \"marker\": {\"color\": \"#ab63fa\"}, \"name\": \"Sweden\", \"offsetgroup\": \"Sweden\", \"orientation\": \"v\", \"showlegend\": true, \"textposition\": \"auto\", \"type\": \"bar\", \"x\": [\"Sweden\"], \"xaxis\": \"x\", \"y\": [0], \"yaxis\": \"y\"}, {\"alignmentgroup\": \"True\", \"hoverlabel\": {\"namelength\": 0}, \"hovertemplate\": \"Country/Region=%{x}<br>Deaths=%{y}\", \"legendgroup\": \"Canada\", \"marker\": {\"color\": \"#FFA15A\"}, \"name\": \"Canada\", \"offsetgroup\": \"Canada\", \"orientation\": \"v\", \"showlegend\": true, \"textposition\": \"auto\", \"type\": \"bar\", \"x\": [\"Canada\", \"Canada\", \"Canada\", \"Canada\"], \"xaxis\": \"x\", \"y\": [0, 0, 0, 0], \"yaxis\": \"y\"}, {\"alignmentgroup\": \"True\", \"hoverlabel\": {\"namelength\": 0}, \"hovertemplate\": \"Country/Region=%{x}<br>Deaths=%{y}\", \"legendgroup\": \"Vietnam\", \"marker\": {\"color\": \"#19d3f3\"}, \"name\": \"Vietnam\", \"offsetgroup\": \"Vietnam\", \"orientation\": \"v\", \"showlegend\": true, \"textposition\": \"auto\", \"type\": \"bar\", \"x\": [\"Vietnam\"], \"xaxis\": \"x\", \"y\": [0], \"yaxis\": \"y\"}, {\"alignmentgroup\": \"True\", \"hoverlabel\": {\"namelength\": 0}, \"hovertemplate\": \"Country/Region=%{x}<br>Deaths=%{y}\", \"legendgroup\": \"Australia\", \"marker\": {\"color\": \"#FF6692\"}, \"name\": \"Australia\", \"offsetgroup\": \"Australia\", \"orientation\": \"v\", \"showlegend\": true, \"textposition\": \"auto\", \"type\": \"bar\", \"x\": [\"Australia\", \"Australia\", \"Australia\", \"Australia\", \"Australia\", \"Australia\", \"Australia\"], \"xaxis\": \"x\", \"y\": [0, 0, 0, 0, 1, 0, 0], \"yaxis\": \"y\"}, {\"alignmentgroup\": \"True\", \"hoverlabel\": {\"namelength\": 0}, \"hovertemplate\": \"Country/Region=%{x}<br>Deaths=%{y}\", \"legendgroup\": \"Belgium\", \"marker\": {\"color\": \"#B6E880\"}, \"name\": \"Belgium\", \"offsetgroup\": \"Belgium\", \"orientation\": \"v\", \"showlegend\": true, \"textposition\": \"auto\", \"type\": \"bar\", \"x\": [\"Belgium\"], \"xaxis\": \"x\", \"y\": [0], \"yaxis\": \"y\"}, {\"alignmentgroup\": \"True\", \"hoverlabel\": {\"namelength\": 0}, \"hovertemplate\": \"Country/Region=%{x}<br>Deaths=%{y}\", \"legendgroup\": \"Lebanon\", \"marker\": {\"color\": \"#FF97FF\"}, \"name\": \"Lebanon\", \"offsetgroup\": \"Lebanon\", \"orientation\": \"v\", \"showlegend\": true, \"textposition\": \"auto\", \"type\": \"bar\", \"x\": [\"Lebanon\"], \"xaxis\": \"x\", \"y\": [0], \"yaxis\": \"y\"}, {\"alignmentgroup\": \"True\", \"hoverlabel\": {\"namelength\": 0}, \"hovertemplate\": \"Country/Region=%{x}<br>Deaths=%{y}\", \"legendgroup\": \"Israel\", \"marker\": {\"color\": \"#FECB52\"}, \"name\": \"Israel\", \"offsetgroup\": \"Israel\", \"orientation\": \"v\", \"showlegend\": true, \"textposition\": \"auto\", \"type\": \"bar\", \"x\": [\"Israel\"], \"xaxis\": \"x\", \"y\": [0], \"yaxis\": \"y\"}, {\"alignmentgroup\": \"True\", \"hoverlabel\": {\"namelength\": 0}, \"hovertemplate\": \"Country/Region=%{x}<br>Deaths=%{y}\", \"legendgroup\": \"Oman\", \"marker\": {\"color\": \"#636efa\"}, \"name\": \"Oman\", \"offsetgroup\": \"Oman\", \"orientation\": \"v\", \"showlegend\": true, \"textposition\": \"auto\", \"type\": \"bar\", \"x\": [\"Oman\"], \"xaxis\": \"x\", \"y\": [0], \"yaxis\": \"y\"}, {\"alignmentgroup\": \"True\", \"hoverlabel\": {\"namelength\": 0}, \"hovertemplate\": \"Country/Region=%{x}<br>Deaths=%{y}\", \"legendgroup\": \"Iceland\", \"marker\": {\"color\": \"#EF553B\"}, \"name\": \"Iceland\", \"offsetgroup\": \"Iceland\", \"orientation\": \"v\", \"showlegend\": true, \"textposition\": \"auto\", \"type\": \"bar\", \"x\": [\"Iceland\"], \"xaxis\": \"x\", \"y\": [0], \"yaxis\": \"y\"}, {\"alignmentgroup\": \"True\", \"hoverlabel\": {\"namelength\": 0}, \"hovertemplate\": \"Country/Region=%{x}<br>Deaths=%{y}\", \"legendgroup\": \"Macau\", \"marker\": {\"color\": \"#00cc96\"}, \"name\": \"Macau\", \"offsetgroup\": \"Macau\", \"orientation\": \"v\", \"showlegend\": true, \"textposition\": \"auto\", \"type\": \"bar\", \"x\": [\"Macau\"], \"xaxis\": \"x\", \"y\": [0], \"yaxis\": \"y\"}, {\"alignmentgroup\": \"True\", \"hoverlabel\": {\"namelength\": 0}, \"hovertemplate\": \"Country/Region=%{x}<br>Deaths=%{y}\", \"legendgroup\": \"San Marino\", \"marker\": {\"color\": \"#ab63fa\"}, \"name\": \"San Marino\", \"offsetgroup\": \"San Marino\", \"orientation\": \"v\", \"showlegend\": true, \"textposition\": \"auto\", \"type\": \"bar\", \"x\": [\"San Marino\"], \"xaxis\": \"x\", \"y\": [1], \"yaxis\": \"y\"}, {\"alignmentgroup\": \"True\", \"hoverlabel\": {\"namelength\": 0}, \"hovertemplate\": \"Country/Region=%{x}<br>Deaths=%{y}\", \"legendgroup\": \"Croatia\", \"marker\": {\"color\": \"#FFA15A\"}, \"name\": \"Croatia\", \"offsetgroup\": \"Croatia\", \"orientation\": \"v\", \"showlegend\": true, \"textposition\": \"auto\", \"type\": \"bar\", \"x\": [\"Croatia\"], \"xaxis\": \"x\", \"y\": [0], \"yaxis\": \"y\"}, {\"alignmentgroup\": \"True\", \"hoverlabel\": {\"namelength\": 0}, \"hovertemplate\": \"Country/Region=%{x}<br>Deaths=%{y}\", \"legendgroup\": \"Ecuador\", \"marker\": {\"color\": \"#19d3f3\"}, \"name\": \"Ecuador\", \"offsetgroup\": \"Ecuador\", \"orientation\": \"v\", \"showlegend\": true, \"textposition\": \"auto\", \"type\": \"bar\", \"x\": [\"Ecuador\"], \"xaxis\": \"x\", \"y\": [0], \"yaxis\": \"y\"}, {\"alignmentgroup\": \"True\", \"hoverlabel\": {\"namelength\": 0}, \"hovertemplate\": \"Country/Region=%{x}<br>Deaths=%{y}\", \"legendgroup\": \"Greece\", \"marker\": {\"color\": \"#FF6692\"}, \"name\": \"Greece\", \"offsetgroup\": \"Greece\", \"orientation\": \"v\", \"showlegend\": true, \"textposition\": \"auto\", \"type\": \"bar\", \"x\": [\"Greece\"], \"xaxis\": \"x\", \"y\": [0], \"yaxis\": \"y\"}, {\"alignmentgroup\": \"True\", \"hoverlabel\": {\"namelength\": 0}, \"hovertemplate\": \"Country/Region=%{x}<br>Deaths=%{y}\", \"legendgroup\": \"Qatar\", \"marker\": {\"color\": \"#B6E880\"}, \"name\": \"Qatar\", \"offsetgroup\": \"Qatar\", \"orientation\": \"v\", \"showlegend\": true, \"textposition\": \"auto\", \"type\": \"bar\", \"x\": [\"Qatar\"], \"xaxis\": \"x\", \"y\": [0], \"yaxis\": \"y\"}, {\"alignmentgroup\": \"True\", \"hoverlabel\": {\"namelength\": 0}, \"hovertemplate\": \"Country/Region=%{x}<br>Deaths=%{y}\", \"legendgroup\": \"Denmark\", \"marker\": {\"color\": \"#FF97FF\"}, \"name\": \"Denmark\", \"offsetgroup\": \"Denmark\", \"orientation\": \"v\", \"showlegend\": true, \"textposition\": \"auto\", \"type\": \"bar\", \"x\": [\"Denmark\"], \"xaxis\": \"x\", \"y\": [0], \"yaxis\": \"y\"}, {\"alignmentgroup\": \"True\", \"hoverlabel\": {\"namelength\": 0}, \"hovertemplate\": \"Country/Region=%{x}<br>Deaths=%{y}\", \"legendgroup\": \"Finland\", \"marker\": {\"color\": \"#FECB52\"}, \"name\": \"Finland\", \"offsetgroup\": \"Finland\", \"orientation\": \"v\", \"showlegend\": true, \"textposition\": \"auto\", \"type\": \"bar\", \"x\": [\"Finland\"], \"xaxis\": \"x\", \"y\": [0], \"yaxis\": \"y\"}, {\"alignmentgroup\": \"True\", \"hoverlabel\": {\"namelength\": 0}, \"hovertemplate\": \"Country/Region=%{x}<br>Deaths=%{y}\", \"legendgroup\": \"Algeria\", \"marker\": {\"color\": \"#636efa\"}, \"name\": \"Algeria\", \"offsetgroup\": \"Algeria\", \"orientation\": \"v\", \"showlegend\": true, \"textposition\": \"auto\", \"type\": \"bar\", \"x\": [\"Algeria\"], \"xaxis\": \"x\", \"y\": [0], \"yaxis\": \"y\"}, {\"alignmentgroup\": \"True\", \"hoverlabel\": {\"namelength\": 0}, \"hovertemplate\": \"Country/Region=%{x}<br>Deaths=%{y}\", \"legendgroup\": \"Czech Republic\", \"marker\": {\"color\": \"#EF553B\"}, \"name\": \"Czech Republic\", \"offsetgroup\": \"Czech Republic\", \"orientation\": \"v\", \"showlegend\": true, \"textposition\": \"auto\", \"type\": \"bar\", \"x\": [\"Czech Republic\"], \"xaxis\": \"x\", \"y\": [0], \"yaxis\": \"y\"}, {\"alignmentgroup\": \"True\", \"hoverlabel\": {\"namelength\": 0}, \"hovertemplate\": \"Country/Region=%{x}<br>Deaths=%{y}\", \"legendgroup\": \"India\", \"marker\": {\"color\": \"#00cc96\"}, \"name\": \"India\", \"offsetgroup\": \"India\", \"orientation\": \"v\", \"showlegend\": true, \"textposition\": \"auto\", \"type\": \"bar\", \"x\": [\"India\"], \"xaxis\": \"x\", \"y\": [0], \"yaxis\": \"y\"}, {\"alignmentgroup\": \"True\", \"hoverlabel\": {\"namelength\": 0}, \"hovertemplate\": \"Country/Region=%{x}<br>Deaths=%{y}\", \"legendgroup\": \"Mexico\", \"marker\": {\"color\": \"#ab63fa\"}, \"name\": \"Mexico\", \"offsetgroup\": \"Mexico\", \"orientation\": \"v\", \"showlegend\": true, \"textposition\": \"auto\", \"type\": \"bar\", \"x\": [\"Mexico\"], \"xaxis\": \"x\", \"y\": [0], \"yaxis\": \"y\"}, {\"alignmentgroup\": \"True\", \"hoverlabel\": {\"namelength\": 0}, \"hovertemplate\": \"Country/Region=%{x}<br>Deaths=%{y}\", \"legendgroup\": \"Pakistan\", \"marker\": {\"color\": \"#FFA15A\"}, \"name\": \"Pakistan\", \"offsetgroup\": \"Pakistan\", \"orientation\": \"v\", \"showlegend\": true, \"textposition\": \"auto\", \"type\": \"bar\", \"x\": [\"Pakistan\"], \"xaxis\": \"x\", \"y\": [0], \"yaxis\": \"y\"}, {\"alignmentgroup\": \"True\", \"hoverlabel\": {\"namelength\": 0}, \"hovertemplate\": \"Country/Region=%{x}<br>Deaths=%{y}\", \"legendgroup\": \"Azerbaijan\", \"marker\": {\"color\": \"#19d3f3\"}, \"name\": \"Azerbaijan\", \"offsetgroup\": \"Azerbaijan\", \"orientation\": \"v\", \"showlegend\": true, \"textposition\": \"auto\", \"type\": \"bar\", \"x\": [\"Azerbaijan\"], \"xaxis\": \"x\", \"y\": [0], \"yaxis\": \"y\"}, {\"alignmentgroup\": \"True\", \"hoverlabel\": {\"namelength\": 0}, \"hovertemplate\": \"Country/Region=%{x}<br>Deaths=%{y}\", \"legendgroup\": \"Georgia\", \"marker\": {\"color\": \"#FF6692\"}, \"name\": \"Georgia\", \"offsetgroup\": \"Georgia\", \"orientation\": \"v\", \"showlegend\": true, \"textposition\": \"auto\", \"type\": \"bar\", \"x\": [\"Georgia\"], \"xaxis\": \"x\", \"y\": [0], \"yaxis\": \"y\"}, {\"alignmentgroup\": \"True\", \"hoverlabel\": {\"namelength\": 0}, \"hovertemplate\": \"Country/Region=%{x}<br>Deaths=%{y}\", \"legendgroup\": \"Philippines\", \"marker\": {\"color\": \"#B6E880\"}, \"name\": \"Philippines\", \"offsetgroup\": \"Philippines\", \"orientation\": \"v\", \"showlegend\": true, \"textposition\": \"auto\", \"type\": \"bar\", \"x\": [\"Philippines\"], \"xaxis\": \"x\", \"y\": [1], \"yaxis\": \"y\"}, {\"alignmentgroup\": \"True\", \"hoverlabel\": {\"namelength\": 0}, \"hovertemplate\": \"Country/Region=%{x}<br>Deaths=%{y}\", \"legendgroup\": \"Romania\", \"marker\": {\"color\": \"#FF97FF\"}, \"name\": \"Romania\", \"offsetgroup\": \"Romania\", \"orientation\": \"v\", \"showlegend\": true, \"textposition\": \"auto\", \"type\": \"bar\", \"x\": [\"Romania\"], \"xaxis\": \"x\", \"y\": [0], \"yaxis\": \"y\"}, {\"alignmentgroup\": \"True\", \"hoverlabel\": {\"namelength\": 0}, \"hovertemplate\": \"Country/Region=%{x}<br>Deaths=%{y}\", \"legendgroup\": \"Russia\", \"marker\": {\"color\": \"#FECB52\"}, \"name\": \"Russia\", \"offsetgroup\": \"Russia\", \"orientation\": \"v\", \"showlegend\": true, \"textposition\": \"auto\", \"type\": \"bar\", \"x\": [\"Russia\"], \"xaxis\": \"x\", \"y\": [0], \"yaxis\": \"y\"}, {\"alignmentgroup\": \"True\", \"hoverlabel\": {\"namelength\": 0}, \"hovertemplate\": \"Country/Region=%{x}<br>Deaths=%{y}\", \"legendgroup\": \"Brazil\", \"marker\": {\"color\": \"#636efa\"}, \"name\": \"Brazil\", \"offsetgroup\": \"Brazil\", \"orientation\": \"v\", \"showlegend\": true, \"textposition\": \"auto\", \"type\": \"bar\", \"x\": [\"Brazil\"], \"xaxis\": \"x\", \"y\": [0], \"yaxis\": \"y\"}, {\"alignmentgroup\": \"True\", \"hoverlabel\": {\"namelength\": 0}, \"hovertemplate\": \"Country/Region=%{x}<br>Deaths=%{y}\", \"legendgroup\": \"Egypt\", \"marker\": {\"color\": \"#EF553B\"}, \"name\": \"Egypt\", \"offsetgroup\": \"Egypt\", \"orientation\": \"v\", \"showlegend\": true, \"textposition\": \"auto\", \"type\": \"bar\", \"x\": [\"Egypt\"], \"xaxis\": \"x\", \"y\": [0], \"yaxis\": \"y\"}, {\"alignmentgroup\": \"True\", \"hoverlabel\": {\"namelength\": 0}, \"hovertemplate\": \"Country/Region=%{x}<br>Deaths=%{y}\", \"legendgroup\": \"Estonia\", \"marker\": {\"color\": \"#00cc96\"}, \"name\": \"Estonia\", \"offsetgroup\": \"Estonia\", \"orientation\": \"v\", \"showlegend\": true, \"textposition\": \"auto\", \"type\": \"bar\", \"x\": [\"Estonia\"], \"xaxis\": \"x\", \"y\": [0], \"yaxis\": \"y\"}, {\"alignmentgroup\": \"True\", \"hoverlabel\": {\"namelength\": 0}, \"hovertemplate\": \"Country/Region=%{x}<br>Deaths=%{y}\", \"legendgroup\": \"Indonesia\", \"marker\": {\"color\": \"#ab63fa\"}, \"name\": \"Indonesia\", \"offsetgroup\": \"Indonesia\", \"orientation\": \"v\", \"showlegend\": true, \"textposition\": \"auto\", \"type\": \"bar\", \"x\": [\"Indonesia\"], \"xaxis\": \"x\", \"y\": [0], \"yaxis\": \"y\"}, {\"alignmentgroup\": \"True\", \"hoverlabel\": {\"namelength\": 0}, \"hovertemplate\": \"Country/Region=%{x}<br>Deaths=%{y}\", \"legendgroup\": \"Ireland\", \"marker\": {\"color\": \"#FFA15A\"}, \"name\": \"Ireland\", \"offsetgroup\": \"Ireland\", \"orientation\": \"v\", \"showlegend\": true, \"textposition\": \"auto\", \"type\": \"bar\", \"x\": [\"Ireland\"], \"xaxis\": \"x\", \"y\": [0], \"yaxis\": \"y\"}, {\"alignmentgroup\": \"True\", \"hoverlabel\": {\"namelength\": 0}, \"hovertemplate\": \"Country/Region=%{x}<br>Deaths=%{y}\", \"legendgroup\": \"Portugal\", \"marker\": {\"color\": \"#19d3f3\"}, \"name\": \"Portugal\", \"offsetgroup\": \"Portugal\", \"orientation\": \"v\", \"showlegend\": true, \"textposition\": \"auto\", \"type\": \"bar\", \"x\": [\"Portugal\"], \"xaxis\": \"x\", \"y\": [0], \"yaxis\": \"y\"}, {\"alignmentgroup\": \"True\", \"hoverlabel\": {\"namelength\": 0}, \"hovertemplate\": \"Country/Region=%{x}<br>Deaths=%{y}\", \"legendgroup\": \"Senegal\", \"marker\": {\"color\": \"#FF6692\"}, \"name\": \"Senegal\", \"offsetgroup\": \"Senegal\", \"orientation\": \"v\", \"showlegend\": true, \"textposition\": \"auto\", \"type\": \"bar\", \"x\": [\"Senegal\"], \"xaxis\": \"x\", \"y\": [0], \"yaxis\": \"y\"}, {\"alignmentgroup\": \"True\", \"hoverlabel\": {\"namelength\": 0}, \"hovertemplate\": \"Country/Region=%{x}<br>Deaths=%{y}\", \"legendgroup\": \"Afghanistan\", \"marker\": {\"color\": \"#B6E880\"}, \"name\": \"Afghanistan\", \"offsetgroup\": \"Afghanistan\", \"orientation\": \"v\", \"showlegend\": true, \"textposition\": \"auto\", \"type\": \"bar\", \"x\": [\"Afghanistan\"], \"xaxis\": \"x\", \"y\": [0], \"yaxis\": \"y\"}, {\"alignmentgroup\": \"True\", \"hoverlabel\": {\"namelength\": 0}, \"hovertemplate\": \"Country/Region=%{x}<br>Deaths=%{y}\", \"legendgroup\": \"Andorra\", \"marker\": {\"color\": \"#FF97FF\"}, \"name\": \"Andorra\", \"offsetgroup\": \"Andorra\", \"orientation\": \"v\", \"showlegend\": true, \"textposition\": \"auto\", \"type\": \"bar\", \"x\": [\"Andorra\"], \"xaxis\": \"x\", \"y\": [0], \"yaxis\": \"y\"}, {\"alignmentgroup\": \"True\", \"hoverlabel\": {\"namelength\": 0}, \"hovertemplate\": \"Country/Region=%{x}<br>Deaths=%{y}\", \"legendgroup\": \"Argentina\", \"marker\": {\"color\": \"#FECB52\"}, \"name\": \"Argentina\", \"offsetgroup\": \"Argentina\", \"orientation\": \"v\", \"showlegend\": true, \"textposition\": \"auto\", \"type\": \"bar\", \"x\": [\"Argentina\"], \"xaxis\": \"x\", \"y\": [0], \"yaxis\": \"y\"}, {\"alignmentgroup\": \"True\", \"hoverlabel\": {\"namelength\": 0}, \"hovertemplate\": \"Country/Region=%{x}<br>Deaths=%{y}\", \"legendgroup\": \"Armenia\", \"marker\": {\"color\": \"#636efa\"}, \"name\": \"Armenia\", \"offsetgroup\": \"Armenia\", \"orientation\": \"v\", \"showlegend\": true, \"textposition\": \"auto\", \"type\": \"bar\", \"x\": [\"Armenia\"], \"xaxis\": \"x\", \"y\": [0], \"yaxis\": \"y\"}, {\"alignmentgroup\": \"True\", \"hoverlabel\": {\"namelength\": 0}, \"hovertemplate\": \"Country/Region=%{x}<br>Deaths=%{y}\", \"legendgroup\": \"Belarus\", \"marker\": {\"color\": \"#EF553B\"}, \"name\": \"Belarus\", \"offsetgroup\": \"Belarus\", \"orientation\": \"v\", \"showlegend\": true, \"textposition\": \"auto\", \"type\": \"bar\", \"x\": [\"Belarus\"], \"xaxis\": \"x\", \"y\": [0], \"yaxis\": \"y\"}, {\"alignmentgroup\": \"True\", \"hoverlabel\": {\"namelength\": 0}, \"hovertemplate\": \"Country/Region=%{x}<br>Deaths=%{y}\", \"legendgroup\": \"Cambodia\", \"marker\": {\"color\": \"#00cc96\"}, \"name\": \"Cambodia\", \"offsetgroup\": \"Cambodia\", \"orientation\": \"v\", \"showlegend\": true, \"textposition\": \"auto\", \"type\": \"bar\", \"x\": [\"Cambodia\"], \"xaxis\": \"x\", \"y\": [0], \"yaxis\": \"y\"}, {\"alignmentgroup\": \"True\", \"hoverlabel\": {\"namelength\": 0}, \"hovertemplate\": \"Country/Region=%{x}<br>Deaths=%{y}\", \"legendgroup\": \"Chile\", \"marker\": {\"color\": \"#ab63fa\"}, \"name\": \"Chile\", \"offsetgroup\": \"Chile\", \"orientation\": \"v\", \"showlegend\": true, \"textposition\": \"auto\", \"type\": \"bar\", \"x\": [\"Chile\"], \"xaxis\": \"x\", \"y\": [0], \"yaxis\": \"y\"}, {\"alignmentgroup\": \"True\", \"hoverlabel\": {\"namelength\": 0}, \"hovertemplate\": \"Country/Region=%{x}<br>Deaths=%{y}\", \"legendgroup\": \"Dominican Republic\", \"marker\": {\"color\": \"#FFA15A\"}, \"name\": \"Dominican Republic\", \"offsetgroup\": \"Dominican Republic\", \"orientation\": \"v\", \"showlegend\": true, \"textposition\": \"auto\", \"type\": \"bar\", \"x\": [\"Dominican Republic\"], \"xaxis\": \"x\", \"y\": [0], \"yaxis\": \"y\"}, {\"alignmentgroup\": \"True\", \"hoverlabel\": {\"namelength\": 0}, \"hovertemplate\": \"Country/Region=%{x}<br>Deaths=%{y}\", \"legendgroup\": \"Jordan\", \"marker\": {\"color\": \"#19d3f3\"}, \"name\": \"Jordan\", \"offsetgroup\": \"Jordan\", \"orientation\": \"v\", \"showlegend\": true, \"textposition\": \"auto\", \"type\": \"bar\", \"x\": [\"Jordan\"], \"xaxis\": \"x\", \"y\": [0], \"yaxis\": \"y\"}, {\"alignmentgroup\": \"True\", \"hoverlabel\": {\"namelength\": 0}, \"hovertemplate\": \"Country/Region=%{x}<br>Deaths=%{y}\", \"legendgroup\": \"Latvia\", \"marker\": {\"color\": \"#FF6692\"}, \"name\": \"Latvia\", \"offsetgroup\": \"Latvia\", \"orientation\": \"v\", \"showlegend\": true, \"textposition\": \"auto\", \"type\": \"bar\", \"x\": [\"Latvia\"], \"xaxis\": \"x\", \"y\": [0], \"yaxis\": \"y\"}, {\"alignmentgroup\": \"True\", \"hoverlabel\": {\"namelength\": 0}, \"hovertemplate\": \"Country/Region=%{x}<br>Deaths=%{y}\", \"legendgroup\": \"Lithuania\", \"marker\": {\"color\": \"#B6E880\"}, \"name\": \"Lithuania\", \"offsetgroup\": \"Lithuania\", \"orientation\": \"v\", \"showlegend\": true, \"textposition\": \"auto\", \"type\": \"bar\", \"x\": [\"Lithuania\"], \"xaxis\": \"x\", \"y\": [0], \"yaxis\": \"y\"}, {\"alignmentgroup\": \"True\", \"hoverlabel\": {\"namelength\": 0}, \"hovertemplate\": \"Country/Region=%{x}<br>Deaths=%{y}\", \"legendgroup\": \"Luxembourg\", \"marker\": {\"color\": \"#FF97FF\"}, \"name\": \"Luxembourg\", \"offsetgroup\": \"Luxembourg\", \"orientation\": \"v\", \"showlegend\": true, \"textposition\": \"auto\", \"type\": \"bar\", \"x\": [\"Luxembourg\"], \"xaxis\": \"x\", \"y\": [0], \"yaxis\": \"y\"}, {\"alignmentgroup\": \"True\", \"hoverlabel\": {\"namelength\": 0}, \"hovertemplate\": \"Country/Region=%{x}<br>Deaths=%{y}\", \"legendgroup\": \"Monaco\", \"marker\": {\"color\": \"#FECB52\"}, \"name\": \"Monaco\", \"offsetgroup\": \"Monaco\", \"orientation\": \"v\", \"showlegend\": true, \"textposition\": \"auto\", \"type\": \"bar\", \"x\": [\"Monaco\"], \"xaxis\": \"x\", \"y\": [0], \"yaxis\": \"y\"}, {\"alignmentgroup\": \"True\", \"hoverlabel\": {\"namelength\": 0}, \"hovertemplate\": \"Country/Region=%{x}<br>Deaths=%{y}\", \"legendgroup\": \"Morocco\", \"marker\": {\"color\": \"#636efa\"}, \"name\": \"Morocco\", \"offsetgroup\": \"Morocco\", \"orientation\": \"v\", \"showlegend\": true, \"textposition\": \"auto\", \"type\": \"bar\", \"x\": [\"Morocco\"], \"xaxis\": \"x\", \"y\": [0], \"yaxis\": \"y\"}, {\"alignmentgroup\": \"True\", \"hoverlabel\": {\"namelength\": 0}, \"hovertemplate\": \"Country/Region=%{x}<br>Deaths=%{y}\", \"legendgroup\": \"Nepal\", \"marker\": {\"color\": \"#EF553B\"}, \"name\": \"Nepal\", \"offsetgroup\": \"Nepal\", \"orientation\": \"v\", \"showlegend\": true, \"textposition\": \"auto\", \"type\": \"bar\", \"x\": [\"Nepal\"], \"xaxis\": \"x\", \"y\": [0], \"yaxis\": \"y\"}, {\"alignmentgroup\": \"True\", \"hoverlabel\": {\"namelength\": 0}, \"hovertemplate\": \"Country/Region=%{x}<br>Deaths=%{y}\", \"legendgroup\": \"New Zealand\", \"marker\": {\"color\": \"#00cc96\"}, \"name\": \"New Zealand\", \"offsetgroup\": \"New Zealand\", \"orientation\": \"v\", \"showlegend\": true, \"textposition\": \"auto\", \"type\": \"bar\", \"x\": [\"New Zealand\"], \"xaxis\": \"x\", \"y\": [0], \"yaxis\": \"y\"}, {\"alignmentgroup\": \"True\", \"hoverlabel\": {\"namelength\": 0}, \"hovertemplate\": \"Country/Region=%{x}<br>Deaths=%{y}\", \"legendgroup\": \"Nigeria\", \"marker\": {\"color\": \"#ab63fa\"}, \"name\": \"Nigeria\", \"offsetgroup\": \"Nigeria\", \"orientation\": \"v\", \"showlegend\": true, \"textposition\": \"auto\", \"type\": \"bar\", \"x\": [\"Nigeria\"], \"xaxis\": \"x\", \"y\": [0], \"yaxis\": \"y\"}, {\"alignmentgroup\": \"True\", \"hoverlabel\": {\"namelength\": 0}, \"hovertemplate\": \"Country/Region=%{x}<br>Deaths=%{y}\", \"legendgroup\": \"North Macedonia\", \"marker\": {\"color\": \"#FFA15A\"}, \"name\": \"North Macedonia\", \"offsetgroup\": \"North Macedonia\", \"orientation\": \"v\", \"showlegend\": true, \"textposition\": \"auto\", \"type\": \"bar\", \"x\": [\"North Macedonia\"], \"xaxis\": \"x\", \"y\": [0], \"yaxis\": \"y\"}, {\"alignmentgroup\": \"True\", \"hoverlabel\": {\"namelength\": 0}, \"hovertemplate\": \"Country/Region=%{x}<br>Deaths=%{y}\", \"legendgroup\": \"Saudi Arabia\", \"marker\": {\"color\": \"#19d3f3\"}, \"name\": \"Saudi Arabia\", \"offsetgroup\": \"Saudi Arabia\", \"orientation\": \"v\", \"showlegend\": true, \"textposition\": \"auto\", \"type\": \"bar\", \"x\": [\"Saudi Arabia\"], \"xaxis\": \"x\", \"y\": [0], \"yaxis\": \"y\"}, {\"alignmentgroup\": \"True\", \"hoverlabel\": {\"namelength\": 0}, \"hovertemplate\": \"Country/Region=%{x}<br>Deaths=%{y}\", \"legendgroup\": \"Sri Lanka\", \"marker\": {\"color\": \"#FF6692\"}, \"name\": \"Sri Lanka\", \"offsetgroup\": \"Sri Lanka\", \"orientation\": \"v\", \"showlegend\": true, \"textposition\": \"auto\", \"type\": \"bar\", \"x\": [\"Sri Lanka\"], \"xaxis\": \"x\", \"y\": [0], \"yaxis\": \"y\"}, {\"alignmentgroup\": \"True\", \"hoverlabel\": {\"namelength\": 0}, \"hovertemplate\": \"Country/Region=%{x}<br>Deaths=%{y}\", \"legendgroup\": \"Ukraine\", \"marker\": {\"color\": \"#B6E880\"}, \"name\": \"Ukraine\", \"offsetgroup\": \"Ukraine\", \"orientation\": \"v\", \"showlegend\": true, \"textposition\": \"auto\", \"type\": \"bar\", \"x\": [\"Ukraine\"], \"xaxis\": \"x\", \"y\": [0], \"yaxis\": \"y\"}],\n",
       "                        {\"barmode\": \"relative\", \"legend\": {\"title\": {\"text\": \"Country/Region\"}, \"tracegroupgap\": 0}, \"template\": {\"data\": {\"bar\": [{\"error_x\": {\"color\": \"#2a3f5f\"}, \"error_y\": {\"color\": \"#2a3f5f\"}, \"marker\": {\"line\": {\"color\": \"#E5ECF6\", \"width\": 0.5}}, \"type\": \"bar\"}], \"barpolar\": [{\"marker\": {\"line\": {\"color\": \"#E5ECF6\", \"width\": 0.5}}, \"type\": \"barpolar\"}], \"carpet\": [{\"aaxis\": {\"endlinecolor\": \"#2a3f5f\", \"gridcolor\": \"white\", \"linecolor\": \"white\", \"minorgridcolor\": \"white\", \"startlinecolor\": \"#2a3f5f\"}, \"baxis\": {\"endlinecolor\": \"#2a3f5f\", \"gridcolor\": \"white\", \"linecolor\": \"white\", \"minorgridcolor\": \"white\", \"startlinecolor\": \"#2a3f5f\"}, \"type\": \"carpet\"}], \"choropleth\": [{\"colorbar\": {\"outlinewidth\": 0, \"ticks\": \"\"}, \"type\": \"choropleth\"}], \"contour\": [{\"colorbar\": {\"outlinewidth\": 0, \"ticks\": \"\"}, \"colorscale\": [[0.0, \"#0d0887\"], [0.1111111111111111, \"#46039f\"], [0.2222222222222222, \"#7201a8\"], [0.3333333333333333, \"#9c179e\"], [0.4444444444444444, \"#bd3786\"], [0.5555555555555556, \"#d8576b\"], [0.6666666666666666, \"#ed7953\"], [0.7777777777777778, \"#fb9f3a\"], [0.8888888888888888, \"#fdca26\"], [1.0, \"#f0f921\"]], \"type\": \"contour\"}], \"contourcarpet\": [{\"colorbar\": {\"outlinewidth\": 0, \"ticks\": \"\"}, \"type\": \"contourcarpet\"}], \"heatmap\": [{\"colorbar\": {\"outlinewidth\": 0, \"ticks\": \"\"}, \"colorscale\": [[0.0, \"#0d0887\"], [0.1111111111111111, \"#46039f\"], [0.2222222222222222, \"#7201a8\"], [0.3333333333333333, \"#9c179e\"], [0.4444444444444444, \"#bd3786\"], [0.5555555555555556, \"#d8576b\"], [0.6666666666666666, \"#ed7953\"], [0.7777777777777778, \"#fb9f3a\"], [0.8888888888888888, \"#fdca26\"], [1.0, \"#f0f921\"]], \"type\": \"heatmap\"}], \"heatmapgl\": [{\"colorbar\": {\"outlinewidth\": 0, \"ticks\": \"\"}, \"colorscale\": [[0.0, \"#0d0887\"], [0.1111111111111111, \"#46039f\"], [0.2222222222222222, \"#7201a8\"], [0.3333333333333333, \"#9c179e\"], [0.4444444444444444, \"#bd3786\"], [0.5555555555555556, \"#d8576b\"], [0.6666666666666666, \"#ed7953\"], [0.7777777777777778, \"#fb9f3a\"], [0.8888888888888888, \"#fdca26\"], [1.0, \"#f0f921\"]], \"type\": \"heatmapgl\"}], \"histogram\": [{\"marker\": {\"colorbar\": {\"outlinewidth\": 0, \"ticks\": \"\"}}, \"type\": \"histogram\"}], \"histogram2d\": [{\"colorbar\": {\"outlinewidth\": 0, \"ticks\": \"\"}, \"colorscale\": [[0.0, \"#0d0887\"], [0.1111111111111111, \"#46039f\"], [0.2222222222222222, \"#7201a8\"], [0.3333333333333333, \"#9c179e\"], [0.4444444444444444, \"#bd3786\"], [0.5555555555555556, \"#d8576b\"], [0.6666666666666666, \"#ed7953\"], [0.7777777777777778, \"#fb9f3a\"], [0.8888888888888888, \"#fdca26\"], [1.0, \"#f0f921\"]], \"type\": \"histogram2d\"}], \"histogram2dcontour\": [{\"colorbar\": {\"outlinewidth\": 0, \"ticks\": \"\"}, \"colorscale\": [[0.0, \"#0d0887\"], [0.1111111111111111, \"#46039f\"], [0.2222222222222222, \"#7201a8\"], [0.3333333333333333, \"#9c179e\"], [0.4444444444444444, \"#bd3786\"], [0.5555555555555556, \"#d8576b\"], [0.6666666666666666, \"#ed7953\"], [0.7777777777777778, \"#fb9f3a\"], [0.8888888888888888, \"#fdca26\"], [1.0, \"#f0f921\"]], \"type\": \"histogram2dcontour\"}], \"mesh3d\": [{\"colorbar\": {\"outlinewidth\": 0, \"ticks\": \"\"}, \"type\": \"mesh3d\"}], \"parcoords\": [{\"line\": {\"colorbar\": {\"outlinewidth\": 0, \"ticks\": \"\"}}, \"type\": \"parcoords\"}], \"pie\": [{\"automargin\": true, \"type\": \"pie\"}], \"scatter\": [{\"marker\": {\"colorbar\": {\"outlinewidth\": 0, \"ticks\": \"\"}}, \"type\": \"scatter\"}], \"scatter3d\": [{\"line\": {\"colorbar\": {\"outlinewidth\": 0, \"ticks\": \"\"}}, \"marker\": {\"colorbar\": {\"outlinewidth\": 0, \"ticks\": \"\"}}, \"type\": \"scatter3d\"}], \"scattercarpet\": [{\"marker\": {\"colorbar\": {\"outlinewidth\": 0, \"ticks\": \"\"}}, \"type\": \"scattercarpet\"}], \"scattergeo\": [{\"marker\": {\"colorbar\": {\"outlinewidth\": 0, \"ticks\": \"\"}}, \"type\": \"scattergeo\"}], \"scattergl\": [{\"marker\": {\"colorbar\": {\"outlinewidth\": 0, \"ticks\": \"\"}}, \"type\": \"scattergl\"}], \"scattermapbox\": [{\"marker\": {\"colorbar\": {\"outlinewidth\": 0, \"ticks\": \"\"}}, \"type\": \"scattermapbox\"}], \"scatterpolar\": [{\"marker\": {\"colorbar\": {\"outlinewidth\": 0, \"ticks\": \"\"}}, \"type\": \"scatterpolar\"}], \"scatterpolargl\": [{\"marker\": {\"colorbar\": {\"outlinewidth\": 0, \"ticks\": \"\"}}, \"type\": \"scatterpolargl\"}], \"scatterternary\": [{\"marker\": {\"colorbar\": {\"outlinewidth\": 0, \"ticks\": \"\"}}, \"type\": \"scatterternary\"}], \"surface\": [{\"colorbar\": {\"outlinewidth\": 0, \"ticks\": \"\"}, \"colorscale\": [[0.0, \"#0d0887\"], [0.1111111111111111, \"#46039f\"], [0.2222222222222222, \"#7201a8\"], [0.3333333333333333, \"#9c179e\"], [0.4444444444444444, \"#bd3786\"], [0.5555555555555556, \"#d8576b\"], [0.6666666666666666, \"#ed7953\"], [0.7777777777777778, \"#fb9f3a\"], [0.8888888888888888, \"#fdca26\"], [1.0, \"#f0f921\"]], \"type\": \"surface\"}], \"table\": [{\"cells\": {\"fill\": {\"color\": \"#EBF0F8\"}, \"line\": {\"color\": \"white\"}}, \"header\": {\"fill\": {\"color\": \"#C8D4E3\"}, \"line\": {\"color\": \"white\"}}, \"type\": \"table\"}]}, \"layout\": {\"annotationdefaults\": {\"arrowcolor\": \"#2a3f5f\", \"arrowhead\": 0, \"arrowwidth\": 1}, \"coloraxis\": {\"colorbar\": {\"outlinewidth\": 0, \"ticks\": \"\"}}, \"colorscale\": {\"diverging\": [[0, \"#8e0152\"], [0.1, \"#c51b7d\"], [0.2, \"#de77ae\"], [0.3, \"#f1b6da\"], [0.4, \"#fde0ef\"], [0.5, \"#f7f7f7\"], [0.6, \"#e6f5d0\"], [0.7, \"#b8e186\"], [0.8, \"#7fbc41\"], [0.9, \"#4d9221\"], [1, \"#276419\"]], \"sequential\": [[0.0, \"#0d0887\"], [0.1111111111111111, \"#46039f\"], [0.2222222222222222, \"#7201a8\"], [0.3333333333333333, \"#9c179e\"], [0.4444444444444444, \"#bd3786\"], [0.5555555555555556, \"#d8576b\"], [0.6666666666666666, \"#ed7953\"], [0.7777777777777778, \"#fb9f3a\"], [0.8888888888888888, \"#fdca26\"], [1.0, \"#f0f921\"]], \"sequentialminus\": [[0.0, \"#0d0887\"], [0.1111111111111111, \"#46039f\"], [0.2222222222222222, \"#7201a8\"], [0.3333333333333333, \"#9c179e\"], [0.4444444444444444, \"#bd3786\"], [0.5555555555555556, \"#d8576b\"], [0.6666666666666666, \"#ed7953\"], [0.7777777777777778, \"#fb9f3a\"], [0.8888888888888888, \"#fdca26\"], [1.0, \"#f0f921\"]]}, \"colorway\": [\"#636efa\", \"#EF553B\", \"#00cc96\", \"#ab63fa\", \"#FFA15A\", \"#19d3f3\", \"#FF6692\", \"#B6E880\", \"#FF97FF\", \"#FECB52\"], \"font\": {\"color\": \"#2a3f5f\"}, \"geo\": {\"bgcolor\": \"white\", \"lakecolor\": \"white\", \"landcolor\": \"#E5ECF6\", \"showlakes\": true, \"showland\": true, \"subunitcolor\": \"white\"}, \"hoverlabel\": {\"align\": \"left\"}, \"hovermode\": \"closest\", \"mapbox\": {\"style\": \"light\"}, \"paper_bgcolor\": \"white\", \"plot_bgcolor\": \"#E5ECF6\", \"polar\": {\"angularaxis\": {\"gridcolor\": \"white\", \"linecolor\": \"white\", \"ticks\": \"\"}, \"bgcolor\": \"#E5ECF6\", \"radialaxis\": {\"gridcolor\": \"white\", \"linecolor\": \"white\", \"ticks\": \"\"}}, \"scene\": {\"xaxis\": {\"backgroundcolor\": \"#E5ECF6\", \"gridcolor\": \"white\", \"gridwidth\": 2, \"linecolor\": \"white\", \"showbackground\": true, \"ticks\": \"\", \"zerolinecolor\": \"white\"}, \"yaxis\": {\"backgroundcolor\": \"#E5ECF6\", \"gridcolor\": \"white\", \"gridwidth\": 2, \"linecolor\": \"white\", \"showbackground\": true, \"ticks\": \"\", \"zerolinecolor\": \"white\"}, \"zaxis\": {\"backgroundcolor\": \"#E5ECF6\", \"gridcolor\": \"white\", \"gridwidth\": 2, \"linecolor\": \"white\", \"showbackground\": true, \"ticks\": \"\", \"zerolinecolor\": \"white\"}}, \"shapedefaults\": {\"line\": {\"color\": \"#2a3f5f\"}}, \"ternary\": {\"aaxis\": {\"gridcolor\": \"white\", \"linecolor\": \"white\", \"ticks\": \"\"}, \"baxis\": {\"gridcolor\": \"white\", \"linecolor\": \"white\", \"ticks\": \"\"}, \"bgcolor\": \"#E5ECF6\", \"caxis\": {\"gridcolor\": \"white\", \"linecolor\": \"white\", \"ticks\": \"\"}}, \"title\": {\"x\": 0.05}, \"xaxis\": {\"automargin\": true, \"gridcolor\": \"white\", \"linecolor\": \"white\", \"ticks\": \"\", \"title\": {\"standoff\": 15}, \"zerolinecolor\": \"white\", \"zerolinewidth\": 2}, \"yaxis\": {\"automargin\": true, \"gridcolor\": \"white\", \"linecolor\": \"white\", \"ticks\": \"\", \"title\": {\"standoff\": 15}, \"zerolinecolor\": \"white\", \"zerolinewidth\": 2}}}, \"title\": {\"text\": \"Number of reported deaths across countries excluding China\"}, \"xaxis\": {\"anchor\": \"y\", \"categoryarray\": [\"South Korea\", \"Italy\", \"Iran\", \"Others\", \"Japan\", \"France\", \"Germany\", \"Spain\", \"Singapore\", \"Hong Kong\", \"Kuwait\", \"Switzerland\", \"UK\", \"Bahrain\", \"US\", \"Thailand\", \"Taiwan\", \"Malaysia\", \"Iraq\", \"Norway\", \"United Arab Emirates\", \"Netherlands\", \"Austria\", \"Sweden\", \"Canada\", \"Vietnam\", \"Australia\", \"Belgium\", \"Lebanon\", \"Israel\", \"Oman\", \"Iceland\", \"Macau\", \"San Marino\", \"Croatia\", \"Ecuador\", \"Greece\", \"Qatar\", \"Denmark\", \"Finland\", \"Algeria\", \"Czech Republic\", \"India\", \"Mexico\", \"Pakistan\", \"Azerbaijan\", \"Georgia\", \"Philippines\", \"Romania\", \"Russia\", \"Brazil\", \"Egypt\", \"Estonia\", \"Indonesia\", \"Ireland\", \"Portugal\", \"Senegal\", \"Afghanistan\", \"Andorra\", \"Argentina\", \"Armenia\", \"Belarus\", \"Cambodia\", \"Chile\", \"Dominican Republic\", \"Jordan\", \"Latvia\", \"Lithuania\", \"Luxembourg\", \"Monaco\", \"Morocco\", \"Nepal\", \"New Zealand\", \"Nigeria\", \"North Macedonia\", \"Saudi Arabia\", \"Sri Lanka\", \"Ukraine\"], \"categoryorder\": \"array\", \"domain\": [0.0, 1.0], \"title\": {\"text\": \"Country/Region\"}}, \"yaxis\": {\"anchor\": \"x\", \"domain\": [0.0, 1.0], \"title\": {\"text\": \"Deaths\"}}},\n",
       "                        {\"responsive\": true}\n",
       "                    ).then(function(){\n",
       "                            \n",
       "var gd = document.getElementById('a3f54db1-e68c-493e-9ff0-29544eea84b5');\n",
       "var x = new MutationObserver(function (mutations, observer) {{\n",
       "        var display = window.getComputedStyle(gd).display;\n",
       "        if (!display || display === 'none') {{\n",
       "            console.log([gd, 'removed!']);\n",
       "            Plotly.purge(gd);\n",
       "            observer.disconnect();\n",
       "        }}\n",
       "}});\n",
       "\n",
       "// Listen for the removal of the full notebook cells\n",
       "var notebookContainer = gd.closest('#notebook-container');\n",
       "if (notebookContainer) {{\n",
       "    x.observe(notebookContainer, {childList: true});\n",
       "}}\n",
       "\n",
       "// Listen for the clearing of the current output cell\n",
       "var outputEl = gd.closest('.output');\n",
       "if (outputEl) {{\n",
       "    x.observe(outputEl, {childList: true});\n",
       "}}\n",
       "\n",
       "                        })\n",
       "                };\n",
       "                });\n",
       "            </script>\n",
       "        </div>"
      ]
     },
     "metadata": {},
     "output_type": "display_data"
    }
   ],
   "source": [
    "\n",
    "df = pd.read_excel('./data/exl_china.xlsx')\n",
    "fig = px.bar(df, x='Country/Region', y = 'Deaths', color='Country/Region', title ='Number of reported deaths across countries excluding China')\n",
    "fig.show()"
   ]
  },
  {
   "cell_type": "code",
   "execution_count": 6,
   "metadata": {},
   "outputs": [
    {
     "data": {
      "application/vnd.plotly.v1+json": {
       "config": {
        "plotlyServerURL": "https://plot.ly"
       },
       "data": [
        {
         "branchvalues": "total",
         "customdata": [
          [
           0
          ],
          [
           0
          ],
          [
           936
          ],
          [
           288
          ],
          [
           0
          ],
          [
           1
          ],
          [
           3
          ],
          [
           490
          ],
          [
           2
          ],
          [
           10
          ],
          [
           0
          ],
          [
           260
          ],
          [
           0
          ],
          [
           86
          ],
          [
           0
          ],
          [
           1101
          ],
          [
           202
          ],
          [
           114
          ],
          [
           155
          ],
          [
           300
          ],
          [
           366
          ],
          [
           1231
          ],
          [
           0
          ],
          [
           37
          ],
          [
           36208
          ],
          [
           0
          ],
          [
           906
          ],
          [
           59
          ],
          [
           562
          ],
          [
           870
          ],
          [
           83
          ],
          [
           1
          ],
          [
           0
          ],
          [
           106
          ],
          [
           1
          ],
          [
           0
          ],
          [
           9
          ],
          [
           1
          ],
          [
           0
          ],
          [
           4
          ],
          [
           0
          ],
          [
           69
          ],
          [
           0
          ],
          [
           0
          ],
          [
           0
          ],
          [
           0
          ],
          [
           18
          ],
          [
           1
          ],
          [
           0
          ],
          [
           0
          ],
          [
           0
          ],
          [
           1
          ],
          [
           0
          ],
          [
           1
          ],
          [
           0
          ],
          [
           216
          ],
          [
           511
          ],
          [
           294
          ],
          [
           124
          ],
          [
           394
          ],
          [
           0
          ],
          [
           0
          ],
          [
           2
          ],
          [
           12
          ],
          [
           0
          ],
          [
           1
          ],
          [
           124
          ],
          [
           1
          ],
          [
           2
          ],
          [
           0
          ],
          [
           0
          ],
          [
           0
          ],
          [
           4
          ],
          [
           0
          ],
          [
           0
          ],
          [
           0
          ],
          [
           0
          ],
          [
           68
          ],
          [
           169
          ],
          [
           1093
          ],
          [
           0
          ],
          [
           0
          ],
          [
           0
          ],
          [
           0
          ],
          [
           0
          ],
          [
           11
          ],
          [
           0
          ],
          [
           0
          ],
          [
           0
          ],
          [
           0
          ],
          [
           1
          ],
          [
           0
          ],
          [
           1
          ],
          [
           6
          ],
          [
           0
          ],
          [
           0
          ],
          [
           0
          ],
          [
           0
          ],
          [
           0
          ],
          [
           0
          ],
          [
           1
          ],
          [
           0
          ],
          [
           1
          ],
          [
           12
          ],
          [
           0
          ],
          [
           16
          ],
          [
           0
          ],
          [
           37
          ],
          [
           0
          ],
          [
           3
          ],
          [
           0
          ],
          [
           291
          ],
          [
           0
          ],
          [
           0
          ],
          [
           1
          ],
          [
           160
          ],
          [
           43
          ],
          [
           0
          ],
          [
           0
          ],
          [
           0
          ],
          [
           0
          ],
          [
           0
          ],
          [
           0
          ],
          [
           9
          ],
          [
           47404
          ],
          [
           22
          ],
          [
           1
          ],
          [
           0
          ],
          [
           0
          ],
          [
           1
          ],
          [
           0
          ],
          [
           0
          ],
          [
           0
          ],
          [
           0
          ],
          [
           0
          ],
          [
           2
          ],
          [
           10
          ],
          [
           0
          ],
          [
           1
          ],
          [
           0
          ],
          [
           0
          ],
          [
           0
          ],
          [
           2
          ],
          [
           0
          ],
          [
           0
          ],
          [
           0
          ],
          [
           78
          ],
          [
           30
          ],
          [
           2
          ],
          [
           1
          ],
          [
           0
          ],
          [
           2
          ],
          [
           12
          ],
          [
           31
          ],
          [
           8
          ],
          [
           8
          ],
          [
           0
          ],
          [
           5
          ],
          [
           16
          ],
          [
           48229
          ]
         ],
         "domain": {
          "x": [
           0,
           1
          ],
          "y": [
           0,
           1
          ]
         },
         "hoverlabel": {
          "namelength": 0
         },
         "hovertemplate": "Recovered=%{color}<br>labels=%{label}<br>parent=%{parent}<br>id=%{id}",
         "ids": [
          "world/Canada/ Montreal, QC",
          "world/US/ Norfolk County, MA",
          "world/Mainland China/Anhui",
          "world/Mainland China/Beijing",
          "world/US/Berkeley, CA",
          "world/US/Boston, MA",
          "world/Canada/British Columbia",
          "world/Mainland China/Chongqing",
          "world/US/Cook County, IL",
          "world/Others/Diamond Princess cruise ship",
          "world/Australia/From Diamond Princess",
          "world/Mainland China/Fujian",
          "world/US/Fulton County, GA",
          "world/Mainland China/Gansu",
          "world/US/Grafton County, NH",
          "world/Mainland China/Guangdong",
          "world/Mainland China/Guangxi",
          "world/Mainland China/Guizhou",
          "world/Mainland China/Hainan",
          "world/Mainland China/Hebei",
          "world/Mainland China/Heilongjiang",
          "world/Mainland China/Henan",
          "world/US/Hillsborough, FL",
          "world/Hong Kong/Hong Kong",
          "world/Mainland China/Hubei",
          "world/US/Humboldt County, CA",
          "world/Mainland China/Hunan",
          "world/Mainland China/Inner Mongolia",
          "world/Mainland China/Jiangsu",
          "world/Mainland China/Jiangxi",
          "world/Mainland China/Jilin",
          "world/US/King County, WA",
          "world/US/Lackland, TX (From Diamond Princess)",
          "world/Mainland China/Liaoning",
          "world/Canada/London, ON",
          "world/US/Los Angeles, CA",
          "world/Macau/Macau",
          "world/US/Madison, WI",
          "world/US/Maricopa County, AZ",
          "world/Australia/New South Wales",
          "world/US/New York City, NY",
          "world/Mainland China/Ningxia",
          "world/US/Omaha, NE (From Diamond Princess)",
          "world/US/Orange, CA",
          "world/US/Placer County, CA",
          "world/US/Providence, RI",
          "world/Mainland China/Qinghai",
          "world/Australia/Queensland",
          "world/US/Sacramento County, CA",
          "world/US/San Antonio, TX",
          "world/US/San Benito, CA",
          "world/US/San Diego County, CA",
          "world/US/San Mateo, CA",
          "world/US/Santa Clara, CA",
          "world/US/Sarasota, FL",
          "world/Mainland China/Shaanxi",
          "world/Mainland China/Shandong",
          "world/Mainland China/Shanghai",
          "world/Mainland China/Shanxi",
          "world/Mainland China/Sichuan",
          "world/US/Snohomish County, WA",
          "world/US/Sonoma County, CA",
          "world/Australia/South Australia",
          "world/Taiwan/Taiwan",
          "world/Australia/Tasmania",
          "world/US/Tempe, AZ",
          "world/Mainland China/Tianjin",
          "world/Mainland China/Tibet",
          "world/Canada/Toronto, ON",
          "world/US/Travis, CA (From Diamond Princess)",
          "world/US/Umatilla, OR",
          "world/US/Unassigned Location (From Diamond Princess)",
          "world/Australia/Victoria",
          "world/US/Wake County, NC",
          "world/US/Washington County, OR",
          "world/US/Westchester County, NY",
          "world/Australia/Western Australia",
          "world/Mainland China/Xinjiang",
          "world/Mainland China/Yunnan",
          "world/Mainland China/Zhejiang",
          "world/Afghanistan",
          "world/Algeria",
          "world/Andorra",
          "world/Argentina",
          "world/Armenia",
          "world/Australia",
          "world/Austria",
          "world/Azerbaijan",
          "world/Bahrain",
          "world/Belarus",
          "world/Belgium",
          "world/Brazil",
          "world/Cambodia",
          "world/Canada",
          "world/Chile",
          "world/Croatia",
          "world/Czech Republic",
          "world/Denmark",
          "world/Dominican Republic",
          "world/Ecuador",
          "world/Egypt",
          "world/Estonia",
          "world/Finland",
          "world/France",
          "world/Georgia",
          "world/Germany",
          "world/Greece",
          "world/Hong Kong",
          "world/Iceland",
          "world/India",
          "world/Indonesia",
          "world/Iran",
          "world/Iraq",
          "world/Ireland",
          "world/Israel",
          "world/Italy",
          "world/Japan",
          "world/Jordan",
          "world/Kuwait",
          "world/Latvia",
          "world/Lebanon",
          "world/Lithuania",
          "world/Luxembourg",
          "world/Macau",
          "world/Mainland China",
          "world/Malaysia",
          "world/Mexico",
          "world/Monaco",
          "world/Morocco",
          "world/Nepal",
          "world/Netherlands",
          "world/New Zealand",
          "world/Nigeria",
          "world/North Macedonia",
          "world/Norway",
          "world/Oman",
          "world/Others",
          "world/Pakistan",
          "world/Philippines",
          "world/Portugal",
          "world/Qatar",
          "world/Romania",
          "world/Russia",
          "world/San Marino",
          "world/Saudi Arabia",
          "world/Senegal",
          "world/Singapore",
          "world/South Korea",
          "world/Spain",
          "world/Sri Lanka",
          "world/Sweden",
          "world/Switzerland",
          "world/Taiwan",
          "world/Thailand",
          "world/UK",
          "world/US",
          "world/Ukraine",
          "world/United Arab Emirates",
          "world/Vietnam",
          "world"
         ],
         "labels": [
          " Montreal, QC",
          " Norfolk County, MA",
          "Anhui",
          "Beijing",
          "Berkeley, CA",
          "Boston, MA",
          "British Columbia",
          "Chongqing",
          "Cook County, IL",
          "Diamond Princess cruise ship",
          "From Diamond Princess",
          "Fujian",
          "Fulton County, GA",
          "Gansu",
          "Grafton County, NH",
          "Guangdong",
          "Guangxi",
          "Guizhou",
          "Hainan",
          "Hebei",
          "Heilongjiang",
          "Henan",
          "Hillsborough, FL",
          "Hong Kong",
          "Hubei",
          "Humboldt County, CA",
          "Hunan",
          "Inner Mongolia",
          "Jiangsu",
          "Jiangxi",
          "Jilin",
          "King County, WA",
          "Lackland, TX (From Diamond Princess)",
          "Liaoning",
          "London, ON",
          "Los Angeles, CA",
          "Macau",
          "Madison, WI",
          "Maricopa County, AZ",
          "New South Wales",
          "New York City, NY",
          "Ningxia",
          "Omaha, NE (From Diamond Princess)",
          "Orange, CA",
          "Placer County, CA",
          "Providence, RI",
          "Qinghai",
          "Queensland",
          "Sacramento County, CA",
          "San Antonio, TX",
          "San Benito, CA",
          "San Diego County, CA",
          "San Mateo, CA",
          "Santa Clara, CA",
          "Sarasota, FL",
          "Shaanxi",
          "Shandong",
          "Shanghai",
          "Shanxi",
          "Sichuan",
          "Snohomish County, WA",
          "Sonoma County, CA",
          "South Australia",
          "Taiwan",
          "Tasmania",
          "Tempe, AZ",
          "Tianjin",
          "Tibet",
          "Toronto, ON",
          "Travis, CA (From Diamond Princess)",
          "Umatilla, OR",
          "Unassigned Location (From Diamond Princess)",
          "Victoria",
          "Wake County, NC",
          "Washington County, OR",
          "Westchester County, NY",
          "Western Australia",
          "Xinjiang",
          "Yunnan",
          "Zhejiang",
          "Afghanistan",
          "Algeria",
          "Andorra",
          "Argentina",
          "Armenia",
          "Australia",
          "Austria",
          "Azerbaijan",
          "Bahrain",
          "Belarus",
          "Belgium",
          "Brazil",
          "Cambodia",
          "Canada",
          "Chile",
          "Croatia",
          "Czech Republic",
          "Denmark",
          "Dominican Republic",
          "Ecuador",
          "Egypt",
          "Estonia",
          "Finland",
          "France",
          "Georgia",
          "Germany",
          "Greece",
          "Hong Kong",
          "Iceland",
          "India",
          "Indonesia",
          "Iran",
          "Iraq",
          "Ireland",
          "Israel",
          "Italy",
          "Japan",
          "Jordan",
          "Kuwait",
          "Latvia",
          "Lebanon",
          "Lithuania",
          "Luxembourg",
          "Macau",
          "Mainland China",
          "Malaysia",
          "Mexico",
          "Monaco",
          "Morocco",
          "Nepal",
          "Netherlands",
          "New Zealand",
          "Nigeria",
          "North Macedonia",
          "Norway",
          "Oman",
          "Others",
          "Pakistan",
          "Philippines",
          "Portugal",
          "Qatar",
          "Romania",
          "Russia",
          "San Marino",
          "Saudi Arabia",
          "Senegal",
          "Singapore",
          "South Korea",
          "Spain",
          "Sri Lanka",
          "Sweden",
          "Switzerland",
          "Taiwan",
          "Thailand",
          "UK",
          "US",
          "Ukraine",
          "United Arab Emirates",
          "Vietnam",
          "world"
         ],
         "marker": {
          "coloraxis": "coloraxis",
          "colors": [
           0,
           0,
           936,
           288,
           0,
           1,
           3,
           490,
           2,
           10,
           0,
           260,
           0,
           86,
           0,
           1101,
           202,
           114,
           155,
           300,
           366,
           1231,
           0,
           37,
           36208,
           0,
           906,
           59,
           562,
           870,
           83,
           1,
           0,
           106,
           1,
           0,
           9,
           1,
           0,
           4,
           0,
           69,
           0,
           0,
           0,
           0,
           18,
           1,
           0,
           0,
           0,
           1,
           0,
           1,
           0,
           216,
           511,
           294,
           124,
           394,
           0,
           0,
           2,
           12,
           0,
           1,
           124,
           1,
           2,
           0,
           0,
           0,
           4,
           0,
           0,
           0,
           0,
           68,
           169,
           1093,
           0,
           0,
           0,
           0,
           0,
           11,
           0,
           0,
           0,
           0,
           1,
           0,
           1,
           6,
           0,
           0,
           0,
           0,
           0,
           0,
           1,
           0,
           1,
           12,
           0,
           16,
           0,
           37,
           0,
           3,
           0,
           291,
           0,
           0,
           1,
           160,
           43,
           0,
           0,
           0,
           0,
           0,
           0,
           9,
           47404,
           22,
           1,
           0,
           0,
           1,
           0,
           0,
           0,
           0,
           0,
           2,
           10,
           0,
           1,
           0,
           0,
           0,
           2,
           0,
           0,
           0,
           78,
           30,
           2,
           1,
           0,
           2,
           12,
           31,
           8,
           8,
           0,
           5,
           16,
           48229
          ]
         },
         "name": "",
         "parents": [
          "world/Canada",
          "world/US",
          "world/Mainland China",
          "world/Mainland China",
          "world/US",
          "world/US",
          "world/Canada",
          "world/Mainland China",
          "world/US",
          "world/Others",
          "world/Australia",
          "world/Mainland China",
          "world/US",
          "world/Mainland China",
          "world/US",
          "world/Mainland China",
          "world/Mainland China",
          "world/Mainland China",
          "world/Mainland China",
          "world/Mainland China",
          "world/Mainland China",
          "world/Mainland China",
          "world/US",
          "world/Hong Kong",
          "world/Mainland China",
          "world/US",
          "world/Mainland China",
          "world/Mainland China",
          "world/Mainland China",
          "world/Mainland China",
          "world/Mainland China",
          "world/US",
          "world/US",
          "world/Mainland China",
          "world/Canada",
          "world/US",
          "world/Macau",
          "world/US",
          "world/US",
          "world/Australia",
          "world/US",
          "world/Mainland China",
          "world/US",
          "world/US",
          "world/US",
          "world/US",
          "world/Mainland China",
          "world/Australia",
          "world/US",
          "world/US",
          "world/US",
          "world/US",
          "world/US",
          "world/US",
          "world/US",
          "world/Mainland China",
          "world/Mainland China",
          "world/Mainland China",
          "world/Mainland China",
          "world/Mainland China",
          "world/US",
          "world/US",
          "world/Australia",
          "world/Taiwan",
          "world/Australia",
          "world/US",
          "world/Mainland China",
          "world/Mainland China",
          "world/Canada",
          "world/US",
          "world/US",
          "world/US",
          "world/Australia",
          "world/US",
          "world/US",
          "world/US",
          "world/Australia",
          "world/Mainland China",
          "world/Mainland China",
          "world/Mainland China",
          "world",
          "world",
          "world",
          "world",
          "world",
          "world",
          "world",
          "world",
          "world",
          "world",
          "world",
          "world",
          "world",
          "world",
          "world",
          "world",
          "world",
          "world",
          "world",
          "world",
          "world",
          "world",
          "world",
          "world",
          "world",
          "world",
          "world",
          "world",
          "world",
          "world",
          "world",
          "world",
          "world",
          "world",
          "world",
          "world",
          "world",
          "world",
          "world",
          "world",
          "world",
          "world",
          "world",
          "world",
          "world",
          "world",
          "world",
          "world",
          "world",
          "world",
          "world",
          "world",
          "world",
          "world",
          "world",
          "world",
          "world",
          "world",
          "world",
          "world",
          "world",
          "world",
          "world",
          "world",
          "world",
          "world",
          "world",
          "world",
          "world",
          "world",
          "world",
          "world",
          "world",
          "world",
          "world",
          "world",
          "world",
          "world",
          "world",
          ""
         ],
         "type": "treemap",
         "values": [
          0,
          0,
          936,
          288,
          0,
          1,
          3,
          490,
          2,
          10,
          0,
          260,
          0,
          86,
          0,
          1101,
          202,
          114,
          155,
          300,
          366,
          1231,
          0,
          37,
          36208,
          0,
          906,
          59,
          562,
          870,
          83,
          1,
          0,
          106,
          1,
          0,
          9,
          1,
          0,
          4,
          0,
          69,
          0,
          0,
          0,
          0,
          18,
          1,
          0,
          0,
          0,
          1,
          0,
          1,
          0,
          216,
          511,
          294,
          124,
          394,
          0,
          0,
          2,
          12,
          0,
          1,
          124,
          1,
          2,
          0,
          0,
          0,
          4,
          0,
          0,
          0,
          0,
          68,
          169,
          1093,
          0,
          0,
          0,
          0,
          0,
          11,
          0,
          0,
          0,
          0,
          1,
          0,
          1,
          6,
          0,
          0,
          0,
          0,
          0,
          0,
          1,
          0,
          1,
          12,
          0,
          16,
          0,
          37,
          0,
          3,
          0,
          291,
          0,
          0,
          1,
          160,
          43,
          0,
          0,
          0,
          0,
          0,
          0,
          9,
          47404,
          22,
          1,
          0,
          0,
          1,
          0,
          0,
          0,
          0,
          0,
          2,
          10,
          0,
          1,
          0,
          0,
          0,
          2,
          0,
          0,
          0,
          78,
          30,
          2,
          1,
          0,
          2,
          12,
          31,
          8,
          8,
          0,
          5,
          16,
          48229
         ]
        }
       ],
       "layout": {
        "coloraxis": {
         "colorbar": {
          "title": {
           "text": "Recovered"
          }
         },
         "colorscale": [
          [
           0,
           "#440154"
          ],
          [
           0.1111111111111111,
           "#482878"
          ],
          [
           0.2222222222222222,
           "#3e4989"
          ],
          [
           0.3333333333333333,
           "#31688e"
          ],
          [
           0.4444444444444444,
           "#26828e"
          ],
          [
           0.5555555555555556,
           "#1f9e89"
          ],
          [
           0.6666666666666666,
           "#35b779"
          ],
          [
           0.7777777777777778,
           "#6ece58"
          ],
          [
           0.8888888888888888,
           "#b5de2b"
          ],
          [
           1,
           "#fde725"
          ]
         ]
        },
        "legend": {
         "tracegroupgap": 0
        },
        "template": {
         "data": {
          "bar": [
           {
            "error_x": {
             "color": "#2a3f5f"
            },
            "error_y": {
             "color": "#2a3f5f"
            },
            "marker": {
             "line": {
              "color": "#E5ECF6",
              "width": 0.5
             }
            },
            "type": "bar"
           }
          ],
          "barpolar": [
           {
            "marker": {
             "line": {
              "color": "#E5ECF6",
              "width": 0.5
             }
            },
            "type": "barpolar"
           }
          ],
          "carpet": [
           {
            "aaxis": {
             "endlinecolor": "#2a3f5f",
             "gridcolor": "white",
             "linecolor": "white",
             "minorgridcolor": "white",
             "startlinecolor": "#2a3f5f"
            },
            "baxis": {
             "endlinecolor": "#2a3f5f",
             "gridcolor": "white",
             "linecolor": "white",
             "minorgridcolor": "white",
             "startlinecolor": "#2a3f5f"
            },
            "type": "carpet"
           }
          ],
          "choropleth": [
           {
            "colorbar": {
             "outlinewidth": 0,
             "ticks": ""
            },
            "type": "choropleth"
           }
          ],
          "contour": [
           {
            "colorbar": {
             "outlinewidth": 0,
             "ticks": ""
            },
            "colorscale": [
             [
              0,
              "#0d0887"
             ],
             [
              0.1111111111111111,
              "#46039f"
             ],
             [
              0.2222222222222222,
              "#7201a8"
             ],
             [
              0.3333333333333333,
              "#9c179e"
             ],
             [
              0.4444444444444444,
              "#bd3786"
             ],
             [
              0.5555555555555556,
              "#d8576b"
             ],
             [
              0.6666666666666666,
              "#ed7953"
             ],
             [
              0.7777777777777778,
              "#fb9f3a"
             ],
             [
              0.8888888888888888,
              "#fdca26"
             ],
             [
              1,
              "#f0f921"
             ]
            ],
            "type": "contour"
           }
          ],
          "contourcarpet": [
           {
            "colorbar": {
             "outlinewidth": 0,
             "ticks": ""
            },
            "type": "contourcarpet"
           }
          ],
          "heatmap": [
           {
            "colorbar": {
             "outlinewidth": 0,
             "ticks": ""
            },
            "colorscale": [
             [
              0,
              "#0d0887"
             ],
             [
              0.1111111111111111,
              "#46039f"
             ],
             [
              0.2222222222222222,
              "#7201a8"
             ],
             [
              0.3333333333333333,
              "#9c179e"
             ],
             [
              0.4444444444444444,
              "#bd3786"
             ],
             [
              0.5555555555555556,
              "#d8576b"
             ],
             [
              0.6666666666666666,
              "#ed7953"
             ],
             [
              0.7777777777777778,
              "#fb9f3a"
             ],
             [
              0.8888888888888888,
              "#fdca26"
             ],
             [
              1,
              "#f0f921"
             ]
            ],
            "type": "heatmap"
           }
          ],
          "heatmapgl": [
           {
            "colorbar": {
             "outlinewidth": 0,
             "ticks": ""
            },
            "colorscale": [
             [
              0,
              "#0d0887"
             ],
             [
              0.1111111111111111,
              "#46039f"
             ],
             [
              0.2222222222222222,
              "#7201a8"
             ],
             [
              0.3333333333333333,
              "#9c179e"
             ],
             [
              0.4444444444444444,
              "#bd3786"
             ],
             [
              0.5555555555555556,
              "#d8576b"
             ],
             [
              0.6666666666666666,
              "#ed7953"
             ],
             [
              0.7777777777777778,
              "#fb9f3a"
             ],
             [
              0.8888888888888888,
              "#fdca26"
             ],
             [
              1,
              "#f0f921"
             ]
            ],
            "type": "heatmapgl"
           }
          ],
          "histogram": [
           {
            "marker": {
             "colorbar": {
              "outlinewidth": 0,
              "ticks": ""
             }
            },
            "type": "histogram"
           }
          ],
          "histogram2d": [
           {
            "colorbar": {
             "outlinewidth": 0,
             "ticks": ""
            },
            "colorscale": [
             [
              0,
              "#0d0887"
             ],
             [
              0.1111111111111111,
              "#46039f"
             ],
             [
              0.2222222222222222,
              "#7201a8"
             ],
             [
              0.3333333333333333,
              "#9c179e"
             ],
             [
              0.4444444444444444,
              "#bd3786"
             ],
             [
              0.5555555555555556,
              "#d8576b"
             ],
             [
              0.6666666666666666,
              "#ed7953"
             ],
             [
              0.7777777777777778,
              "#fb9f3a"
             ],
             [
              0.8888888888888888,
              "#fdca26"
             ],
             [
              1,
              "#f0f921"
             ]
            ],
            "type": "histogram2d"
           }
          ],
          "histogram2dcontour": [
           {
            "colorbar": {
             "outlinewidth": 0,
             "ticks": ""
            },
            "colorscale": [
             [
              0,
              "#0d0887"
             ],
             [
              0.1111111111111111,
              "#46039f"
             ],
             [
              0.2222222222222222,
              "#7201a8"
             ],
             [
              0.3333333333333333,
              "#9c179e"
             ],
             [
              0.4444444444444444,
              "#bd3786"
             ],
             [
              0.5555555555555556,
              "#d8576b"
             ],
             [
              0.6666666666666666,
              "#ed7953"
             ],
             [
              0.7777777777777778,
              "#fb9f3a"
             ],
             [
              0.8888888888888888,
              "#fdca26"
             ],
             [
              1,
              "#f0f921"
             ]
            ],
            "type": "histogram2dcontour"
           }
          ],
          "mesh3d": [
           {
            "colorbar": {
             "outlinewidth": 0,
             "ticks": ""
            },
            "type": "mesh3d"
           }
          ],
          "parcoords": [
           {
            "line": {
             "colorbar": {
              "outlinewidth": 0,
              "ticks": ""
             }
            },
            "type": "parcoords"
           }
          ],
          "pie": [
           {
            "automargin": true,
            "type": "pie"
           }
          ],
          "scatter": [
           {
            "marker": {
             "colorbar": {
              "outlinewidth": 0,
              "ticks": ""
             }
            },
            "type": "scatter"
           }
          ],
          "scatter3d": [
           {
            "line": {
             "colorbar": {
              "outlinewidth": 0,
              "ticks": ""
             }
            },
            "marker": {
             "colorbar": {
              "outlinewidth": 0,
              "ticks": ""
             }
            },
            "type": "scatter3d"
           }
          ],
          "scattercarpet": [
           {
            "marker": {
             "colorbar": {
              "outlinewidth": 0,
              "ticks": ""
             }
            },
            "type": "scattercarpet"
           }
          ],
          "scattergeo": [
           {
            "marker": {
             "colorbar": {
              "outlinewidth": 0,
              "ticks": ""
             }
            },
            "type": "scattergeo"
           }
          ],
          "scattergl": [
           {
            "marker": {
             "colorbar": {
              "outlinewidth": 0,
              "ticks": ""
             }
            },
            "type": "scattergl"
           }
          ],
          "scattermapbox": [
           {
            "marker": {
             "colorbar": {
              "outlinewidth": 0,
              "ticks": ""
             }
            },
            "type": "scattermapbox"
           }
          ],
          "scatterpolar": [
           {
            "marker": {
             "colorbar": {
              "outlinewidth": 0,
              "ticks": ""
             }
            },
            "type": "scatterpolar"
           }
          ],
          "scatterpolargl": [
           {
            "marker": {
             "colorbar": {
              "outlinewidth": 0,
              "ticks": ""
             }
            },
            "type": "scatterpolargl"
           }
          ],
          "scatterternary": [
           {
            "marker": {
             "colorbar": {
              "outlinewidth": 0,
              "ticks": ""
             }
            },
            "type": "scatterternary"
           }
          ],
          "surface": [
           {
            "colorbar": {
             "outlinewidth": 0,
             "ticks": ""
            },
            "colorscale": [
             [
              0,
              "#0d0887"
             ],
             [
              0.1111111111111111,
              "#46039f"
             ],
             [
              0.2222222222222222,
              "#7201a8"
             ],
             [
              0.3333333333333333,
              "#9c179e"
             ],
             [
              0.4444444444444444,
              "#bd3786"
             ],
             [
              0.5555555555555556,
              "#d8576b"
             ],
             [
              0.6666666666666666,
              "#ed7953"
             ],
             [
              0.7777777777777778,
              "#fb9f3a"
             ],
             [
              0.8888888888888888,
              "#fdca26"
             ],
             [
              1,
              "#f0f921"
             ]
            ],
            "type": "surface"
           }
          ],
          "table": [
           {
            "cells": {
             "fill": {
              "color": "#EBF0F8"
             },
             "line": {
              "color": "white"
             }
            },
            "header": {
             "fill": {
              "color": "#C8D4E3"
             },
             "line": {
              "color": "white"
             }
            },
            "type": "table"
           }
          ]
         },
         "layout": {
          "annotationdefaults": {
           "arrowcolor": "#2a3f5f",
           "arrowhead": 0,
           "arrowwidth": 1
          },
          "coloraxis": {
           "colorbar": {
            "outlinewidth": 0,
            "ticks": ""
           }
          },
          "colorscale": {
           "diverging": [
            [
             0,
             "#8e0152"
            ],
            [
             0.1,
             "#c51b7d"
            ],
            [
             0.2,
             "#de77ae"
            ],
            [
             0.3,
             "#f1b6da"
            ],
            [
             0.4,
             "#fde0ef"
            ],
            [
             0.5,
             "#f7f7f7"
            ],
            [
             0.6,
             "#e6f5d0"
            ],
            [
             0.7,
             "#b8e186"
            ],
            [
             0.8,
             "#7fbc41"
            ],
            [
             0.9,
             "#4d9221"
            ],
            [
             1,
             "#276419"
            ]
           ],
           "sequential": [
            [
             0,
             "#0d0887"
            ],
            [
             0.1111111111111111,
             "#46039f"
            ],
            [
             0.2222222222222222,
             "#7201a8"
            ],
            [
             0.3333333333333333,
             "#9c179e"
            ],
            [
             0.4444444444444444,
             "#bd3786"
            ],
            [
             0.5555555555555556,
             "#d8576b"
            ],
            [
             0.6666666666666666,
             "#ed7953"
            ],
            [
             0.7777777777777778,
             "#fb9f3a"
            ],
            [
             0.8888888888888888,
             "#fdca26"
            ],
            [
             1,
             "#f0f921"
            ]
           ],
           "sequentialminus": [
            [
             0,
             "#0d0887"
            ],
            [
             0.1111111111111111,
             "#46039f"
            ],
            [
             0.2222222222222222,
             "#7201a8"
            ],
            [
             0.3333333333333333,
             "#9c179e"
            ],
            [
             0.4444444444444444,
             "#bd3786"
            ],
            [
             0.5555555555555556,
             "#d8576b"
            ],
            [
             0.6666666666666666,
             "#ed7953"
            ],
            [
             0.7777777777777778,
             "#fb9f3a"
            ],
            [
             0.8888888888888888,
             "#fdca26"
            ],
            [
             1,
             "#f0f921"
            ]
           ]
          },
          "colorway": [
           "#636efa",
           "#EF553B",
           "#00cc96",
           "#ab63fa",
           "#FFA15A",
           "#19d3f3",
           "#FF6692",
           "#B6E880",
           "#FF97FF",
           "#FECB52"
          ],
          "font": {
           "color": "#2a3f5f"
          },
          "geo": {
           "bgcolor": "white",
           "lakecolor": "white",
           "landcolor": "#E5ECF6",
           "showlakes": true,
           "showland": true,
           "subunitcolor": "white"
          },
          "hoverlabel": {
           "align": "left"
          },
          "hovermode": "closest",
          "mapbox": {
           "style": "light"
          },
          "paper_bgcolor": "white",
          "plot_bgcolor": "#E5ECF6",
          "polar": {
           "angularaxis": {
            "gridcolor": "white",
            "linecolor": "white",
            "ticks": ""
           },
           "bgcolor": "#E5ECF6",
           "radialaxis": {
            "gridcolor": "white",
            "linecolor": "white",
            "ticks": ""
           }
          },
          "scene": {
           "xaxis": {
            "backgroundcolor": "#E5ECF6",
            "gridcolor": "white",
            "gridwidth": 2,
            "linecolor": "white",
            "showbackground": true,
            "ticks": "",
            "zerolinecolor": "white"
           },
           "yaxis": {
            "backgroundcolor": "#E5ECF6",
            "gridcolor": "white",
            "gridwidth": 2,
            "linecolor": "white",
            "showbackground": true,
            "ticks": "",
            "zerolinecolor": "white"
           },
           "zaxis": {
            "backgroundcolor": "#E5ECF6",
            "gridcolor": "white",
            "gridwidth": 2,
            "linecolor": "white",
            "showbackground": true,
            "ticks": "",
            "zerolinecolor": "white"
           }
          },
          "shapedefaults": {
           "line": {
            "color": "#2a3f5f"
           }
          },
          "ternary": {
           "aaxis": {
            "gridcolor": "white",
            "linecolor": "white",
            "ticks": ""
           },
           "baxis": {
            "gridcolor": "white",
            "linecolor": "white",
            "ticks": ""
           },
           "bgcolor": "#E5ECF6",
           "caxis": {
            "gridcolor": "white",
            "linecolor": "white",
            "ticks": ""
           }
          },
          "title": {
           "x": 0.05
          },
          "xaxis": {
           "automargin": true,
           "gridcolor": "white",
           "linecolor": "white",
           "ticks": "",
           "title": {
            "standoff": 15
           },
           "zerolinecolor": "white",
           "zerolinewidth": 2
          },
          "yaxis": {
           "automargin": true,
           "gridcolor": "white",
           "linecolor": "white",
           "ticks": "",
           "title": {
            "standoff": 15
           },
           "zerolinecolor": "white",
           "zerolinewidth": 2
          }
         }
        },
        "title": {
         "text": "Recovery rates"
        }
       }
      },
      "text/html": [
       "<div>\n",
       "        \n",
       "        \n",
       "            <div id=\"896250e1-794c-4d0c-8b9c-9f57a4f7ca17\" class=\"plotly-graph-div\" style=\"height:525px; width:100%;\"></div>\n",
       "            <script type=\"text/javascript\">\n",
       "                require([\"plotly\"], function(Plotly) {\n",
       "                    window.PLOTLYENV=window.PLOTLYENV || {};\n",
       "                    \n",
       "                if (document.getElementById(\"896250e1-794c-4d0c-8b9c-9f57a4f7ca17\")) {\n",
       "                    Plotly.newPlot(\n",
       "                        '896250e1-794c-4d0c-8b9c-9f57a4f7ca17',\n",
       "                        [{\"branchvalues\": \"total\", \"customdata\": [[0], [0], [936], [288], [0], [1], [3], [490], [2], [10], [0], [260], [0], [86], [0], [1101], [202], [114], [155], [300], [366], [1231], [0], [37], [36208], [0], [906], [59], [562], [870], [83], [1], [0], [106], [1], [0], [9], [1], [0], [4], [0], [69], [0], [0], [0], [0], [18], [1], [0], [0], [0], [1], [0], [1], [0], [216], [511], [294], [124], [394], [0], [0], [2], [12], [0], [1], [124], [1], [2], [0], [0], [0], [4], [0], [0], [0], [0], [68], [169], [1093], [0], [0], [0], [0], [0], [11], [0], [0], [0], [0], [1], [0], [1], [6], [0], [0], [0], [0], [0], [0], [1], [0], [1], [12], [0], [16], [0], [37], [0], [3], [0], [291], [0], [0], [1], [160], [43], [0], [0], [0], [0], [0], [0], [9], [47404], [22], [1], [0], [0], [1], [0], [0], [0], [0], [0], [2], [10], [0], [1], [0], [0], [0], [2], [0], [0], [0], [78], [30], [2], [1], [0], [2], [12], [31], [8], [8], [0], [5], [16], [48229]], \"domain\": {\"x\": [0.0, 1.0], \"y\": [0.0, 1.0]}, \"hoverlabel\": {\"namelength\": 0}, \"hovertemplate\": \"Recovered=%{color}<br>labels=%{label}<br>parent=%{parent}<br>id=%{id}\", \"ids\": [\"world/Canada/ Montreal, QC\", \"world/US/ Norfolk County, MA\", \"world/Mainland China/Anhui\", \"world/Mainland China/Beijing\", \"world/US/Berkeley, CA\", \"world/US/Boston, MA\", \"world/Canada/British Columbia\", \"world/Mainland China/Chongqing\", \"world/US/Cook County, IL\", \"world/Others/Diamond Princess cruise ship\", \"world/Australia/From Diamond Princess\", \"world/Mainland China/Fujian\", \"world/US/Fulton County, GA\", \"world/Mainland China/Gansu\", \"world/US/Grafton County, NH\", \"world/Mainland China/Guangdong\", \"world/Mainland China/Guangxi\", \"world/Mainland China/Guizhou\", \"world/Mainland China/Hainan\", \"world/Mainland China/Hebei\", \"world/Mainland China/Heilongjiang\", \"world/Mainland China/Henan\", \"world/US/Hillsborough, FL\", \"world/Hong Kong/Hong Kong\", \"world/Mainland China/Hubei\", \"world/US/Humboldt County, CA\", \"world/Mainland China/Hunan\", \"world/Mainland China/Inner Mongolia\", \"world/Mainland China/Jiangsu\", \"world/Mainland China/Jiangxi\", \"world/Mainland China/Jilin\", \"world/US/King County, WA\", \"world/US/Lackland, TX (From Diamond Princess)\", \"world/Mainland China/Liaoning\", \"world/Canada/London, ON\", \"world/US/Los Angeles, CA\", \"world/Macau/Macau\", \"world/US/Madison, WI\", \"world/US/Maricopa County, AZ\", \"world/Australia/New South Wales\", \"world/US/New York City, NY\", \"world/Mainland China/Ningxia\", \"world/US/Omaha, NE (From Diamond Princess)\", \"world/US/Orange, CA\", \"world/US/Placer County, CA\", \"world/US/Providence, RI\", \"world/Mainland China/Qinghai\", \"world/Australia/Queensland\", \"world/US/Sacramento County, CA\", \"world/US/San Antonio, TX\", \"world/US/San Benito, CA\", \"world/US/San Diego County, CA\", \"world/US/San Mateo, CA\", \"world/US/Santa Clara, CA\", \"world/US/Sarasota, FL\", \"world/Mainland China/Shaanxi\", \"world/Mainland China/Shandong\", \"world/Mainland China/Shanghai\", \"world/Mainland China/Shanxi\", \"world/Mainland China/Sichuan\", \"world/US/Snohomish County, WA\", \"world/US/Sonoma County, CA\", \"world/Australia/South Australia\", \"world/Taiwan/Taiwan\", \"world/Australia/Tasmania\", \"world/US/Tempe, AZ\", \"world/Mainland China/Tianjin\", \"world/Mainland China/Tibet\", \"world/Canada/Toronto, ON\", \"world/US/Travis, CA (From Diamond Princess)\", \"world/US/Umatilla, OR\", \"world/US/Unassigned Location (From Diamond Princess)\", \"world/Australia/Victoria\", \"world/US/Wake County, NC\", \"world/US/Washington County, OR\", \"world/US/Westchester County, NY\", \"world/Australia/Western Australia\", \"world/Mainland China/Xinjiang\", \"world/Mainland China/Yunnan\", \"world/Mainland China/Zhejiang\", \"world/Afghanistan\", \"world/Algeria\", \"world/Andorra\", \"world/Argentina\", \"world/Armenia\", \"world/Australia\", \"world/Austria\", \"world/Azerbaijan\", \"world/Bahrain\", \"world/Belarus\", \"world/Belgium\", \"world/Brazil\", \"world/Cambodia\", \"world/Canada\", \"world/Chile\", \"world/Croatia\", \"world/Czech Republic\", \"world/Denmark\", \"world/Dominican Republic\", \"world/Ecuador\", \"world/Egypt\", \"world/Estonia\", \"world/Finland\", \"world/France\", \"world/Georgia\", \"world/Germany\", \"world/Greece\", \"world/Hong Kong\", \"world/Iceland\", \"world/India\", \"world/Indonesia\", \"world/Iran\", \"world/Iraq\", \"world/Ireland\", \"world/Israel\", \"world/Italy\", \"world/Japan\", \"world/Jordan\", \"world/Kuwait\", \"world/Latvia\", \"world/Lebanon\", \"world/Lithuania\", \"world/Luxembourg\", \"world/Macau\", \"world/Mainland China\", \"world/Malaysia\", \"world/Mexico\", \"world/Monaco\", \"world/Morocco\", \"world/Nepal\", \"world/Netherlands\", \"world/New Zealand\", \"world/Nigeria\", \"world/North Macedonia\", \"world/Norway\", \"world/Oman\", \"world/Others\", \"world/Pakistan\", \"world/Philippines\", \"world/Portugal\", \"world/Qatar\", \"world/Romania\", \"world/Russia\", \"world/San Marino\", \"world/Saudi Arabia\", \"world/Senegal\", \"world/Singapore\", \"world/South Korea\", \"world/Spain\", \"world/Sri Lanka\", \"world/Sweden\", \"world/Switzerland\", \"world/Taiwan\", \"world/Thailand\", \"world/UK\", \"world/US\", \"world/Ukraine\", \"world/United Arab Emirates\", \"world/Vietnam\", \"world\"], \"labels\": [\" Montreal, QC\", \" Norfolk County, MA\", \"Anhui\", \"Beijing\", \"Berkeley, CA\", \"Boston, MA\", \"British Columbia\", \"Chongqing\", \"Cook County, IL\", \"Diamond Princess cruise ship\", \"From Diamond Princess\", \"Fujian\", \"Fulton County, GA\", \"Gansu\", \"Grafton County, NH\", \"Guangdong\", \"Guangxi\", \"Guizhou\", \"Hainan\", \"Hebei\", \"Heilongjiang\", \"Henan\", \"Hillsborough, FL\", \"Hong Kong\", \"Hubei\", \"Humboldt County, CA\", \"Hunan\", \"Inner Mongolia\", \"Jiangsu\", \"Jiangxi\", \"Jilin\", \"King County, WA\", \"Lackland, TX (From Diamond Princess)\", \"Liaoning\", \"London, ON\", \"Los Angeles, CA\", \"Macau\", \"Madison, WI\", \"Maricopa County, AZ\", \"New South Wales\", \"New York City, NY\", \"Ningxia\", \"Omaha, NE (From Diamond Princess)\", \"Orange, CA\", \"Placer County, CA\", \"Providence, RI\", \"Qinghai\", \"Queensland\", \"Sacramento County, CA\", \"San Antonio, TX\", \"San Benito, CA\", \"San Diego County, CA\", \"San Mateo, CA\", \"Santa Clara, CA\", \"Sarasota, FL\", \"Shaanxi\", \"Shandong\", \"Shanghai\", \"Shanxi\", \"Sichuan\", \"Snohomish County, WA\", \"Sonoma County, CA\", \"South Australia\", \"Taiwan\", \"Tasmania\", \"Tempe, AZ\", \"Tianjin\", \"Tibet\", \"Toronto, ON\", \"Travis, CA (From Diamond Princess)\", \"Umatilla, OR\", \"Unassigned Location (From Diamond Princess)\", \"Victoria\", \"Wake County, NC\", \"Washington County, OR\", \"Westchester County, NY\", \"Western Australia\", \"Xinjiang\", \"Yunnan\", \"Zhejiang\", \"Afghanistan\", \"Algeria\", \"Andorra\", \"Argentina\", \"Armenia\", \"Australia\", \"Austria\", \"Azerbaijan\", \"Bahrain\", \"Belarus\", \"Belgium\", \"Brazil\", \"Cambodia\", \"Canada\", \"Chile\", \"Croatia\", \"Czech Republic\", \"Denmark\", \"Dominican Republic\", \"Ecuador\", \"Egypt\", \"Estonia\", \"Finland\", \"France\", \"Georgia\", \"Germany\", \"Greece\", \"Hong Kong\", \"Iceland\", \"India\", \"Indonesia\", \"Iran\", \"Iraq\", \"Ireland\", \"Israel\", \"Italy\", \"Japan\", \"Jordan\", \"Kuwait\", \"Latvia\", \"Lebanon\", \"Lithuania\", \"Luxembourg\", \"Macau\", \"Mainland China\", \"Malaysia\", \"Mexico\", \"Monaco\", \"Morocco\", \"Nepal\", \"Netherlands\", \"New Zealand\", \"Nigeria\", \"North Macedonia\", \"Norway\", \"Oman\", \"Others\", \"Pakistan\", \"Philippines\", \"Portugal\", \"Qatar\", \"Romania\", \"Russia\", \"San Marino\", \"Saudi Arabia\", \"Senegal\", \"Singapore\", \"South Korea\", \"Spain\", \"Sri Lanka\", \"Sweden\", \"Switzerland\", \"Taiwan\", \"Thailand\", \"UK\", \"US\", \"Ukraine\", \"United Arab Emirates\", \"Vietnam\", \"world\"], \"marker\": {\"coloraxis\": \"coloraxis\", \"colors\": [0, 0, 936, 288, 0, 1, 3, 490, 2, 10, 0, 260, 0, 86, 0, 1101, 202, 114, 155, 300, 366, 1231, 0, 37, 36208, 0, 906, 59, 562, 870, 83, 1, 0, 106, 1, 0, 9, 1, 0, 4, 0, 69, 0, 0, 0, 0, 18, 1, 0, 0, 0, 1, 0, 1, 0, 216, 511, 294, 124, 394, 0, 0, 2, 12, 0, 1, 124, 1, 2, 0, 0, 0, 4, 0, 0, 0, 0, 68, 169, 1093, 0, 0, 0, 0, 0, 11, 0, 0, 0, 0, 1, 0, 1, 6, 0, 0, 0, 0, 0, 0, 1, 0, 1, 12, 0, 16, 0, 37, 0, 3, 0, 291, 0, 0, 1, 160, 43, 0, 0, 0, 0, 0, 0, 9, 47404, 22, 1, 0, 0, 1, 0, 0, 0, 0, 0, 2, 10, 0, 1, 0, 0, 0, 2, 0, 0, 0, 78, 30, 2, 1, 0, 2, 12, 31, 8, 8, 0, 5, 16, 48229]}, \"name\": \"\", \"parents\": [\"world/Canada\", \"world/US\", \"world/Mainland China\", \"world/Mainland China\", \"world/US\", \"world/US\", \"world/Canada\", \"world/Mainland China\", \"world/US\", \"world/Others\", \"world/Australia\", \"world/Mainland China\", \"world/US\", \"world/Mainland China\", \"world/US\", \"world/Mainland China\", \"world/Mainland China\", \"world/Mainland China\", \"world/Mainland China\", \"world/Mainland China\", \"world/Mainland China\", \"world/Mainland China\", \"world/US\", \"world/Hong Kong\", \"world/Mainland China\", \"world/US\", \"world/Mainland China\", \"world/Mainland China\", \"world/Mainland China\", \"world/Mainland China\", \"world/Mainland China\", \"world/US\", \"world/US\", \"world/Mainland China\", \"world/Canada\", \"world/US\", \"world/Macau\", \"world/US\", \"world/US\", \"world/Australia\", \"world/US\", \"world/Mainland China\", \"world/US\", \"world/US\", \"world/US\", \"world/US\", \"world/Mainland China\", \"world/Australia\", \"world/US\", \"world/US\", \"world/US\", \"world/US\", \"world/US\", \"world/US\", \"world/US\", \"world/Mainland China\", \"world/Mainland China\", \"world/Mainland China\", \"world/Mainland China\", \"world/Mainland China\", \"world/US\", \"world/US\", \"world/Australia\", \"world/Taiwan\", \"world/Australia\", \"world/US\", \"world/Mainland China\", \"world/Mainland China\", \"world/Canada\", \"world/US\", \"world/US\", \"world/US\", \"world/Australia\", \"world/US\", \"world/US\", \"world/US\", \"world/Australia\", \"world/Mainland China\", \"world/Mainland China\", \"world/Mainland China\", \"world\", \"world\", \"world\", \"world\", \"world\", \"world\", \"world\", \"world\", \"world\", \"world\", \"world\", \"world\", \"world\", \"world\", \"world\", \"world\", \"world\", \"world\", \"world\", \"world\", \"world\", \"world\", \"world\", \"world\", \"world\", \"world\", \"world\", \"world\", \"world\", \"world\", \"world\", \"world\", \"world\", \"world\", \"world\", \"world\", \"world\", \"world\", \"world\", \"world\", \"world\", \"world\", \"world\", \"world\", \"world\", \"world\", \"world\", \"world\", \"world\", \"world\", \"world\", \"world\", \"world\", \"world\", \"world\", \"world\", \"world\", \"world\", \"world\", \"world\", \"world\", \"world\", \"world\", \"world\", \"world\", \"world\", \"world\", \"world\", \"world\", \"world\", \"world\", \"world\", \"world\", \"world\", \"world\", \"world\", \"world\", \"world\", \"world\", \"\"], \"type\": \"treemap\", \"values\": [0, 0, 936, 288, 0, 1, 3, 490, 2, 10, 0, 260, 0, 86, 0, 1101, 202, 114, 155, 300, 366, 1231, 0, 37, 36208, 0, 906, 59, 562, 870, 83, 1, 0, 106, 1, 0, 9, 1, 0, 4, 0, 69, 0, 0, 0, 0, 18, 1, 0, 0, 0, 1, 0, 1, 0, 216, 511, 294, 124, 394, 0, 0, 2, 12, 0, 1, 124, 1, 2, 0, 0, 0, 4, 0, 0, 0, 0, 68, 169, 1093, 0, 0, 0, 0, 0, 11, 0, 0, 0, 0, 1, 0, 1, 6, 0, 0, 0, 0, 0, 0, 1, 0, 1, 12, 0, 16, 0, 37, 0, 3, 0, 291, 0, 0, 1, 160, 43, 0, 0, 0, 0, 0, 0, 9, 47404, 22, 1, 0, 0, 1, 0, 0, 0, 0, 0, 2, 10, 0, 1, 0, 0, 0, 2, 0, 0, 0, 78, 30, 2, 1, 0, 2, 12, 31, 8, 8, 0, 5, 16, 48229]}],\n",
       "                        {\"coloraxis\": {\"colorbar\": {\"title\": {\"text\": \"Recovered\"}}, \"colorscale\": [[0.0, \"#440154\"], [0.1111111111111111, \"#482878\"], [0.2222222222222222, \"#3e4989\"], [0.3333333333333333, \"#31688e\"], [0.4444444444444444, \"#26828e\"], [0.5555555555555556, \"#1f9e89\"], [0.6666666666666666, \"#35b779\"], [0.7777777777777778, \"#6ece58\"], [0.8888888888888888, \"#b5de2b\"], [1.0, \"#fde725\"]]}, \"legend\": {\"tracegroupgap\": 0}, \"template\": {\"data\": {\"bar\": [{\"error_x\": {\"color\": \"#2a3f5f\"}, \"error_y\": {\"color\": \"#2a3f5f\"}, \"marker\": {\"line\": {\"color\": \"#E5ECF6\", \"width\": 0.5}}, \"type\": \"bar\"}], \"barpolar\": [{\"marker\": {\"line\": {\"color\": \"#E5ECF6\", \"width\": 0.5}}, \"type\": \"barpolar\"}], \"carpet\": [{\"aaxis\": {\"endlinecolor\": \"#2a3f5f\", \"gridcolor\": \"white\", \"linecolor\": \"white\", \"minorgridcolor\": \"white\", \"startlinecolor\": \"#2a3f5f\"}, \"baxis\": {\"endlinecolor\": \"#2a3f5f\", \"gridcolor\": \"white\", \"linecolor\": \"white\", \"minorgridcolor\": \"white\", \"startlinecolor\": \"#2a3f5f\"}, \"type\": \"carpet\"}], \"choropleth\": [{\"colorbar\": {\"outlinewidth\": 0, \"ticks\": \"\"}, \"type\": \"choropleth\"}], \"contour\": [{\"colorbar\": {\"outlinewidth\": 0, \"ticks\": \"\"}, \"colorscale\": [[0.0, \"#0d0887\"], [0.1111111111111111, \"#46039f\"], [0.2222222222222222, \"#7201a8\"], [0.3333333333333333, \"#9c179e\"], [0.4444444444444444, \"#bd3786\"], [0.5555555555555556, \"#d8576b\"], [0.6666666666666666, \"#ed7953\"], [0.7777777777777778, \"#fb9f3a\"], [0.8888888888888888, \"#fdca26\"], [1.0, \"#f0f921\"]], \"type\": \"contour\"}], \"contourcarpet\": [{\"colorbar\": {\"outlinewidth\": 0, \"ticks\": \"\"}, \"type\": \"contourcarpet\"}], \"heatmap\": [{\"colorbar\": {\"outlinewidth\": 0, \"ticks\": \"\"}, \"colorscale\": [[0.0, \"#0d0887\"], [0.1111111111111111, \"#46039f\"], [0.2222222222222222, \"#7201a8\"], [0.3333333333333333, \"#9c179e\"], [0.4444444444444444, \"#bd3786\"], [0.5555555555555556, \"#d8576b\"], [0.6666666666666666, \"#ed7953\"], [0.7777777777777778, \"#fb9f3a\"], [0.8888888888888888, \"#fdca26\"], [1.0, \"#f0f921\"]], \"type\": \"heatmap\"}], \"heatmapgl\": [{\"colorbar\": {\"outlinewidth\": 0, \"ticks\": \"\"}, \"colorscale\": [[0.0, \"#0d0887\"], [0.1111111111111111, \"#46039f\"], [0.2222222222222222, \"#7201a8\"], [0.3333333333333333, \"#9c179e\"], [0.4444444444444444, \"#bd3786\"], [0.5555555555555556, \"#d8576b\"], [0.6666666666666666, \"#ed7953\"], [0.7777777777777778, \"#fb9f3a\"], [0.8888888888888888, \"#fdca26\"], [1.0, \"#f0f921\"]], \"type\": \"heatmapgl\"}], \"histogram\": [{\"marker\": {\"colorbar\": {\"outlinewidth\": 0, \"ticks\": \"\"}}, \"type\": \"histogram\"}], \"histogram2d\": [{\"colorbar\": {\"outlinewidth\": 0, \"ticks\": \"\"}, \"colorscale\": [[0.0, \"#0d0887\"], [0.1111111111111111, \"#46039f\"], [0.2222222222222222, \"#7201a8\"], [0.3333333333333333, \"#9c179e\"], [0.4444444444444444, \"#bd3786\"], [0.5555555555555556, \"#d8576b\"], [0.6666666666666666, \"#ed7953\"], [0.7777777777777778, \"#fb9f3a\"], [0.8888888888888888, \"#fdca26\"], [1.0, \"#f0f921\"]], \"type\": \"histogram2d\"}], \"histogram2dcontour\": [{\"colorbar\": {\"outlinewidth\": 0, \"ticks\": \"\"}, \"colorscale\": [[0.0, \"#0d0887\"], [0.1111111111111111, \"#46039f\"], [0.2222222222222222, \"#7201a8\"], [0.3333333333333333, \"#9c179e\"], [0.4444444444444444, \"#bd3786\"], [0.5555555555555556, \"#d8576b\"], [0.6666666666666666, \"#ed7953\"], [0.7777777777777778, \"#fb9f3a\"], [0.8888888888888888, \"#fdca26\"], [1.0, \"#f0f921\"]], \"type\": \"histogram2dcontour\"}], \"mesh3d\": [{\"colorbar\": {\"outlinewidth\": 0, \"ticks\": \"\"}, \"type\": \"mesh3d\"}], \"parcoords\": [{\"line\": {\"colorbar\": {\"outlinewidth\": 0, \"ticks\": \"\"}}, \"type\": \"parcoords\"}], \"pie\": [{\"automargin\": true, \"type\": \"pie\"}], \"scatter\": [{\"marker\": {\"colorbar\": {\"outlinewidth\": 0, \"ticks\": \"\"}}, \"type\": \"scatter\"}], \"scatter3d\": [{\"line\": {\"colorbar\": {\"outlinewidth\": 0, \"ticks\": \"\"}}, \"marker\": {\"colorbar\": {\"outlinewidth\": 0, \"ticks\": \"\"}}, \"type\": \"scatter3d\"}], \"scattercarpet\": [{\"marker\": {\"colorbar\": {\"outlinewidth\": 0, \"ticks\": \"\"}}, \"type\": \"scattercarpet\"}], \"scattergeo\": [{\"marker\": {\"colorbar\": {\"outlinewidth\": 0, \"ticks\": \"\"}}, \"type\": \"scattergeo\"}], \"scattergl\": [{\"marker\": {\"colorbar\": {\"outlinewidth\": 0, \"ticks\": \"\"}}, \"type\": \"scattergl\"}], \"scattermapbox\": [{\"marker\": {\"colorbar\": {\"outlinewidth\": 0, \"ticks\": \"\"}}, \"type\": \"scattermapbox\"}], \"scatterpolar\": [{\"marker\": {\"colorbar\": {\"outlinewidth\": 0, \"ticks\": \"\"}}, \"type\": \"scatterpolar\"}], \"scatterpolargl\": [{\"marker\": {\"colorbar\": {\"outlinewidth\": 0, \"ticks\": \"\"}}, \"type\": \"scatterpolargl\"}], \"scatterternary\": [{\"marker\": {\"colorbar\": {\"outlinewidth\": 0, \"ticks\": \"\"}}, \"type\": \"scatterternary\"}], \"surface\": [{\"colorbar\": {\"outlinewidth\": 0, \"ticks\": \"\"}, \"colorscale\": [[0.0, \"#0d0887\"], [0.1111111111111111, \"#46039f\"], [0.2222222222222222, \"#7201a8\"], [0.3333333333333333, \"#9c179e\"], [0.4444444444444444, \"#bd3786\"], [0.5555555555555556, \"#d8576b\"], [0.6666666666666666, \"#ed7953\"], [0.7777777777777778, \"#fb9f3a\"], [0.8888888888888888, \"#fdca26\"], [1.0, \"#f0f921\"]], \"type\": \"surface\"}], \"table\": [{\"cells\": {\"fill\": {\"color\": \"#EBF0F8\"}, \"line\": {\"color\": \"white\"}}, \"header\": {\"fill\": {\"color\": \"#C8D4E3\"}, \"line\": {\"color\": \"white\"}}, \"type\": \"table\"}]}, \"layout\": {\"annotationdefaults\": {\"arrowcolor\": \"#2a3f5f\", \"arrowhead\": 0, \"arrowwidth\": 1}, \"coloraxis\": {\"colorbar\": {\"outlinewidth\": 0, \"ticks\": \"\"}}, \"colorscale\": {\"diverging\": [[0, \"#8e0152\"], [0.1, \"#c51b7d\"], [0.2, \"#de77ae\"], [0.3, \"#f1b6da\"], [0.4, \"#fde0ef\"], [0.5, \"#f7f7f7\"], [0.6, \"#e6f5d0\"], [0.7, \"#b8e186\"], [0.8, \"#7fbc41\"], [0.9, \"#4d9221\"], [1, \"#276419\"]], \"sequential\": [[0.0, \"#0d0887\"], [0.1111111111111111, \"#46039f\"], [0.2222222222222222, \"#7201a8\"], [0.3333333333333333, \"#9c179e\"], [0.4444444444444444, \"#bd3786\"], [0.5555555555555556, \"#d8576b\"], [0.6666666666666666, \"#ed7953\"], [0.7777777777777778, \"#fb9f3a\"], [0.8888888888888888, \"#fdca26\"], [1.0, \"#f0f921\"]], \"sequentialminus\": [[0.0, \"#0d0887\"], [0.1111111111111111, \"#46039f\"], [0.2222222222222222, \"#7201a8\"], [0.3333333333333333, \"#9c179e\"], [0.4444444444444444, \"#bd3786\"], [0.5555555555555556, \"#d8576b\"], [0.6666666666666666, \"#ed7953\"], [0.7777777777777778, \"#fb9f3a\"], [0.8888888888888888, \"#fdca26\"], [1.0, \"#f0f921\"]]}, \"colorway\": [\"#636efa\", \"#EF553B\", \"#00cc96\", \"#ab63fa\", \"#FFA15A\", \"#19d3f3\", \"#FF6692\", \"#B6E880\", \"#FF97FF\", \"#FECB52\"], \"font\": {\"color\": \"#2a3f5f\"}, \"geo\": {\"bgcolor\": \"white\", \"lakecolor\": \"white\", \"landcolor\": \"#E5ECF6\", \"showlakes\": true, \"showland\": true, \"subunitcolor\": \"white\"}, \"hoverlabel\": {\"align\": \"left\"}, \"hovermode\": \"closest\", \"mapbox\": {\"style\": \"light\"}, \"paper_bgcolor\": \"white\", \"plot_bgcolor\": \"#E5ECF6\", \"polar\": {\"angularaxis\": {\"gridcolor\": \"white\", \"linecolor\": \"white\", \"ticks\": \"\"}, \"bgcolor\": \"#E5ECF6\", \"radialaxis\": {\"gridcolor\": \"white\", \"linecolor\": \"white\", \"ticks\": \"\"}}, \"scene\": {\"xaxis\": {\"backgroundcolor\": \"#E5ECF6\", \"gridcolor\": \"white\", \"gridwidth\": 2, \"linecolor\": \"white\", \"showbackground\": true, \"ticks\": \"\", \"zerolinecolor\": \"white\"}, \"yaxis\": {\"backgroundcolor\": \"#E5ECF6\", \"gridcolor\": \"white\", \"gridwidth\": 2, \"linecolor\": \"white\", \"showbackground\": true, \"ticks\": \"\", \"zerolinecolor\": \"white\"}, \"zaxis\": {\"backgroundcolor\": \"#E5ECF6\", \"gridcolor\": \"white\", \"gridwidth\": 2, \"linecolor\": \"white\", \"showbackground\": true, \"ticks\": \"\", \"zerolinecolor\": \"white\"}}, \"shapedefaults\": {\"line\": {\"color\": \"#2a3f5f\"}}, \"ternary\": {\"aaxis\": {\"gridcolor\": \"white\", \"linecolor\": \"white\", \"ticks\": \"\"}, \"baxis\": {\"gridcolor\": \"white\", \"linecolor\": \"white\", \"ticks\": \"\"}, \"bgcolor\": \"#E5ECF6\", \"caxis\": {\"gridcolor\": \"white\", \"linecolor\": \"white\", \"ticks\": \"\"}}, \"title\": {\"x\": 0.05}, \"xaxis\": {\"automargin\": true, \"gridcolor\": \"white\", \"linecolor\": \"white\", \"ticks\": \"\", \"title\": {\"standoff\": 15}, \"zerolinecolor\": \"white\", \"zerolinewidth\": 2}, \"yaxis\": {\"automargin\": true, \"gridcolor\": \"white\", \"linecolor\": \"white\", \"ticks\": \"\", \"title\": {\"standoff\": 15}, \"zerolinecolor\": \"white\", \"zerolinewidth\": 2}}}, \"title\": {\"text\": \"Recovery rates\"}},\n",
       "                        {\"responsive\": true}\n",
       "                    ).then(function(){\n",
       "                            \n",
       "var gd = document.getElementById('896250e1-794c-4d0c-8b9c-9f57a4f7ca17');\n",
       "var x = new MutationObserver(function (mutations, observer) {{\n",
       "        var display = window.getComputedStyle(gd).display;\n",
       "        if (!display || display === 'none') {{\n",
       "            console.log([gd, 'removed!']);\n",
       "            Plotly.purge(gd);\n",
       "            observer.disconnect();\n",
       "        }}\n",
       "}});\n",
       "\n",
       "// Listen for the removal of the full notebook cells\n",
       "var notebookContainer = gd.closest('#notebook-container');\n",
       "if (notebookContainer) {{\n",
       "    x.observe(notebookContainer, {childList: true});\n",
       "}}\n",
       "\n",
       "// Listen for the clearing of the current output cell\n",
       "var outputEl = gd.closest('.output');\n",
       "if (outputEl) {{\n",
       "    x.observe(outputEl, {childList: true});\n",
       "}}\n",
       "\n",
       "                        })\n",
       "                };\n",
       "                });\n",
       "            </script>\n",
       "        </div>"
      ]
     },
     "metadata": {},
     "output_type": "display_data"
    }
   ],
   "source": [
    "import plotly.express as px\n",
    "import numpy as np\n",
    "df = pd.read_csv('./data/03-03-2020.csv')\n",
    "df[\"world\"] = \"world\" # in order to have a single root node\n",
    "fig = px.treemap(df, path=['world' , 'Country/Region', 'Province/State'], color ='Recovered' ,color_continuous_scale=px.colors.sequential.Viridis,title = 'Recovery rates', values='Recovered')\n",
    "fig.show()"
   ]
  },
  {
   "cell_type": "code",
   "execution_count": 7,
   "metadata": {},
   "outputs": [
    {
     "data": {
      "application/vnd.plotly.v1+json": {
       "config": {
        "plotlyServerURL": "https://plot.ly"
       },
       "data": [
        {
         "branchvalues": "total",
         "customdata": [
          [
           0
          ],
          [
           0
          ],
          [
           0
          ],
          [
           1
          ],
          [
           3
          ],
          [
           2
          ],
          [
           10
          ],
          [
           0
          ],
          [
           0
          ],
          [
           0
          ],
          [
           0
          ],
          [
           37
          ],
          [
           0
          ],
          [
           1
          ],
          [
           0
          ],
          [
           1
          ],
          [
           0
          ],
          [
           9
          ],
          [
           1
          ],
          [
           0
          ],
          [
           4
          ],
          [
           0
          ],
          [
           0
          ],
          [
           0
          ],
          [
           0
          ],
          [
           0
          ],
          [
           1
          ],
          [
           0
          ],
          [
           0
          ],
          [
           0
          ],
          [
           1
          ],
          [
           0
          ],
          [
           1
          ],
          [
           0
          ],
          [
           0
          ],
          [
           0
          ],
          [
           2
          ],
          [
           12
          ],
          [
           0
          ],
          [
           1
          ],
          [
           2
          ],
          [
           0
          ],
          [
           0
          ],
          [
           0
          ],
          [
           4
          ],
          [
           0
          ],
          [
           0
          ],
          [
           0
          ],
          [
           0
          ],
          [
           0
          ],
          [
           0
          ],
          [
           0
          ],
          [
           0
          ],
          [
           0
          ],
          [
           11
          ],
          [
           0
          ],
          [
           0
          ],
          [
           0
          ],
          [
           0
          ],
          [
           1
          ],
          [
           0
          ],
          [
           1
          ],
          [
           6
          ],
          [
           0
          ],
          [
           0
          ],
          [
           0
          ],
          [
           0
          ],
          [
           0
          ],
          [
           0
          ],
          [
           1
          ],
          [
           0
          ],
          [
           1
          ],
          [
           12
          ],
          [
           0
          ],
          [
           16
          ],
          [
           0
          ],
          [
           37
          ],
          [
           0
          ],
          [
           3
          ],
          [
           0
          ],
          [
           291
          ],
          [
           0
          ],
          [
           0
          ],
          [
           1
          ],
          [
           160
          ],
          [
           43
          ],
          [
           0
          ],
          [
           0
          ],
          [
           0
          ],
          [
           0
          ],
          [
           0
          ],
          [
           0
          ],
          [
           9
          ],
          [
           22
          ],
          [
           1
          ],
          [
           0
          ],
          [
           0
          ],
          [
           1
          ],
          [
           0
          ],
          [
           0
          ],
          [
           0
          ],
          [
           0
          ],
          [
           0
          ],
          [
           2
          ],
          [
           10
          ],
          [
           0
          ],
          [
           1
          ],
          [
           0
          ],
          [
           0
          ],
          [
           0
          ],
          [
           2
          ],
          [
           0
          ],
          [
           0
          ],
          [
           0
          ],
          [
           78
          ],
          [
           30
          ],
          [
           2
          ],
          [
           1
          ],
          [
           0
          ],
          [
           2
          ],
          [
           12
          ],
          [
           31
          ],
          [
           8
          ],
          [
           8
          ],
          [
           0
          ],
          [
           5
          ],
          [
           16
          ],
          [
           825
          ]
         ],
         "domain": {
          "x": [
           0,
           1
          ],
          "y": [
           0,
           1
          ]
         },
         "hoverlabel": {
          "namelength": 0
         },
         "hovertemplate": "Recovered=%{color}<br>labels=%{label}<br>parent=%{parent}<br>id=%{id}",
         "ids": [
          "world/Canada/ Montreal, QC",
          "world/US/ Norfolk County, MA",
          "world/US/Berkeley, CA",
          "world/US/Boston, MA",
          "world/Canada/British Columbia",
          "world/US/Cook County, IL",
          "world/Others/Diamond Princess cruise ship",
          "world/Australia/From Diamond Princess",
          "world/US/Fulton County, GA",
          "world/US/Grafton County, NH",
          "world/US/Hillsborough, FL",
          "world/Hong Kong/Hong Kong",
          "world/US/Humboldt County, CA",
          "world/US/King County, WA",
          "world/US/Lackland, TX (From Diamond Princess)",
          "world/Canada/London, ON",
          "world/US/Los Angeles, CA",
          "world/Macau/Macau",
          "world/US/Madison, WI",
          "world/US/Maricopa County, AZ",
          "world/Australia/New South Wales",
          "world/US/New York City, NY",
          "world/US/Omaha, NE (From Diamond Princess)",
          "world/US/Orange, CA",
          "world/US/Placer County, CA",
          "world/US/Providence, RI",
          "world/Australia/Queensland",
          "world/US/Sacramento County, CA",
          "world/US/San Antonio, TX",
          "world/US/San Benito, CA",
          "world/US/San Diego County, CA",
          "world/US/San Mateo, CA",
          "world/US/Santa Clara, CA",
          "world/US/Sarasota, FL",
          "world/US/Snohomish County, WA",
          "world/US/Sonoma County, CA",
          "world/Australia/South Australia",
          "world/Taiwan/Taiwan",
          "world/Australia/Tasmania",
          "world/US/Tempe, AZ",
          "world/Canada/Toronto, ON",
          "world/US/Travis, CA (From Diamond Princess)",
          "world/US/Umatilla, OR",
          "world/US/Unassigned Location (From Diamond Princess)",
          "world/Australia/Victoria",
          "world/US/Wake County, NC",
          "world/US/Washington County, OR",
          "world/US/Westchester County, NY",
          "world/Australia/Western Australia",
          "world/Afghanistan",
          "world/Algeria",
          "world/Andorra",
          "world/Argentina",
          "world/Armenia",
          "world/Australia",
          "world/Austria",
          "world/Azerbaijan",
          "world/Bahrain",
          "world/Belarus",
          "world/Belgium",
          "world/Brazil",
          "world/Cambodia",
          "world/Canada",
          "world/Chile",
          "world/Croatia",
          "world/Czech Republic",
          "world/Denmark",
          "world/Dominican Republic",
          "world/Ecuador",
          "world/Egypt",
          "world/Estonia",
          "world/Finland",
          "world/France",
          "world/Georgia",
          "world/Germany",
          "world/Greece",
          "world/Hong Kong",
          "world/Iceland",
          "world/India",
          "world/Indonesia",
          "world/Iran",
          "world/Iraq",
          "world/Ireland",
          "world/Israel",
          "world/Italy",
          "world/Japan",
          "world/Jordan",
          "world/Kuwait",
          "world/Latvia",
          "world/Lebanon",
          "world/Lithuania",
          "world/Luxembourg",
          "world/Macau",
          "world/Malaysia",
          "world/Mexico",
          "world/Monaco",
          "world/Morocco",
          "world/Nepal",
          "world/Netherlands",
          "world/New Zealand",
          "world/Nigeria",
          "world/North Macedonia",
          "world/Norway",
          "world/Oman",
          "world/Others",
          "world/Pakistan",
          "world/Philippines",
          "world/Portugal",
          "world/Qatar",
          "world/Romania",
          "world/Russia",
          "world/San Marino",
          "world/Saudi Arabia",
          "world/Senegal",
          "world/Singapore",
          "world/South Korea",
          "world/Spain",
          "world/Sri Lanka",
          "world/Sweden",
          "world/Switzerland",
          "world/Taiwan",
          "world/Thailand",
          "world/UK",
          "world/US",
          "world/Ukraine",
          "world/United Arab Emirates",
          "world/Vietnam",
          "world"
         ],
         "labels": [
          " Montreal, QC",
          " Norfolk County, MA",
          "Berkeley, CA",
          "Boston, MA",
          "British Columbia",
          "Cook County, IL",
          "Diamond Princess cruise ship",
          "From Diamond Princess",
          "Fulton County, GA",
          "Grafton County, NH",
          "Hillsborough, FL",
          "Hong Kong",
          "Humboldt County, CA",
          "King County, WA",
          "Lackland, TX (From Diamond Princess)",
          "London, ON",
          "Los Angeles, CA",
          "Macau",
          "Madison, WI",
          "Maricopa County, AZ",
          "New South Wales",
          "New York City, NY",
          "Omaha, NE (From Diamond Princess)",
          "Orange, CA",
          "Placer County, CA",
          "Providence, RI",
          "Queensland",
          "Sacramento County, CA",
          "San Antonio, TX",
          "San Benito, CA",
          "San Diego County, CA",
          "San Mateo, CA",
          "Santa Clara, CA",
          "Sarasota, FL",
          "Snohomish County, WA",
          "Sonoma County, CA",
          "South Australia",
          "Taiwan",
          "Tasmania",
          "Tempe, AZ",
          "Toronto, ON",
          "Travis, CA (From Diamond Princess)",
          "Umatilla, OR",
          "Unassigned Location (From Diamond Princess)",
          "Victoria",
          "Wake County, NC",
          "Washington County, OR",
          "Westchester County, NY",
          "Western Australia",
          "Afghanistan",
          "Algeria",
          "Andorra",
          "Argentina",
          "Armenia",
          "Australia",
          "Austria",
          "Azerbaijan",
          "Bahrain",
          "Belarus",
          "Belgium",
          "Brazil",
          "Cambodia",
          "Canada",
          "Chile",
          "Croatia",
          "Czech Republic",
          "Denmark",
          "Dominican Republic",
          "Ecuador",
          "Egypt",
          "Estonia",
          "Finland",
          "France",
          "Georgia",
          "Germany",
          "Greece",
          "Hong Kong",
          "Iceland",
          "India",
          "Indonesia",
          "Iran",
          "Iraq",
          "Ireland",
          "Israel",
          "Italy",
          "Japan",
          "Jordan",
          "Kuwait",
          "Latvia",
          "Lebanon",
          "Lithuania",
          "Luxembourg",
          "Macau",
          "Malaysia",
          "Mexico",
          "Monaco",
          "Morocco",
          "Nepal",
          "Netherlands",
          "New Zealand",
          "Nigeria",
          "North Macedonia",
          "Norway",
          "Oman",
          "Others",
          "Pakistan",
          "Philippines",
          "Portugal",
          "Qatar",
          "Romania",
          "Russia",
          "San Marino",
          "Saudi Arabia",
          "Senegal",
          "Singapore",
          "South Korea",
          "Spain",
          "Sri Lanka",
          "Sweden",
          "Switzerland",
          "Taiwan",
          "Thailand",
          "UK",
          "US",
          "Ukraine",
          "United Arab Emirates",
          "Vietnam",
          "world"
         ],
         "marker": {
          "coloraxis": "coloraxis",
          "colors": [
           0,
           0,
           0,
           1,
           3,
           2,
           10,
           0,
           0,
           0,
           0,
           37,
           0,
           1,
           0,
           1,
           0,
           9,
           1,
           0,
           4,
           0,
           0,
           0,
           0,
           0,
           1,
           0,
           0,
           0,
           1,
           0,
           1,
           0,
           0,
           0,
           2,
           12,
           0,
           1,
           2,
           0,
           0,
           0,
           4,
           0,
           0,
           0,
           0,
           0,
           0,
           0,
           0,
           0,
           11,
           0,
           0,
           0,
           0,
           1,
           0,
           1,
           6,
           0,
           0,
           0,
           0,
           0,
           0,
           1,
           0,
           1,
           12,
           0,
           16,
           0,
           37,
           0,
           3,
           0,
           291,
           0,
           0,
           1,
           160,
           43,
           0,
           0,
           0,
           0,
           0,
           0,
           9,
           22,
           1,
           0,
           0,
           1,
           0,
           0,
           0,
           0,
           0,
           2,
           10,
           0,
           1,
           0,
           0,
           0,
           2,
           0,
           0,
           0,
           78,
           30,
           2,
           1,
           0,
           2,
           12,
           31,
           8,
           8,
           0,
           5,
           16,
           825
          ]
         },
         "name": "",
         "parents": [
          "world/Canada",
          "world/US",
          "world/US",
          "world/US",
          "world/Canada",
          "world/US",
          "world/Others",
          "world/Australia",
          "world/US",
          "world/US",
          "world/US",
          "world/Hong Kong",
          "world/US",
          "world/US",
          "world/US",
          "world/Canada",
          "world/US",
          "world/Macau",
          "world/US",
          "world/US",
          "world/Australia",
          "world/US",
          "world/US",
          "world/US",
          "world/US",
          "world/US",
          "world/Australia",
          "world/US",
          "world/US",
          "world/US",
          "world/US",
          "world/US",
          "world/US",
          "world/US",
          "world/US",
          "world/US",
          "world/Australia",
          "world/Taiwan",
          "world/Australia",
          "world/US",
          "world/Canada",
          "world/US",
          "world/US",
          "world/US",
          "world/Australia",
          "world/US",
          "world/US",
          "world/US",
          "world/Australia",
          "world",
          "world",
          "world",
          "world",
          "world",
          "world",
          "world",
          "world",
          "world",
          "world",
          "world",
          "world",
          "world",
          "world",
          "world",
          "world",
          "world",
          "world",
          "world",
          "world",
          "world",
          "world",
          "world",
          "world",
          "world",
          "world",
          "world",
          "world",
          "world",
          "world",
          "world",
          "world",
          "world",
          "world",
          "world",
          "world",
          "world",
          "world",
          "world",
          "world",
          "world",
          "world",
          "world",
          "world",
          "world",
          "world",
          "world",
          "world",
          "world",
          "world",
          "world",
          "world",
          "world",
          "world",
          "world",
          "world",
          "world",
          "world",
          "world",
          "world",
          "world",
          "world",
          "world",
          "world",
          "world",
          "world",
          "world",
          "world",
          "world",
          "world",
          "world",
          "world",
          "world",
          "world",
          "world",
          "world",
          "world",
          "world",
          ""
         ],
         "type": "treemap",
         "values": [
          0,
          0,
          0,
          1,
          3,
          2,
          10,
          0,
          0,
          0,
          0,
          37,
          0,
          1,
          0,
          1,
          0,
          9,
          1,
          0,
          4,
          0,
          0,
          0,
          0,
          0,
          1,
          0,
          0,
          0,
          1,
          0,
          1,
          0,
          0,
          0,
          2,
          12,
          0,
          1,
          2,
          0,
          0,
          0,
          4,
          0,
          0,
          0,
          0,
          0,
          0,
          0,
          0,
          0,
          11,
          0,
          0,
          0,
          0,
          1,
          0,
          1,
          6,
          0,
          0,
          0,
          0,
          0,
          0,
          1,
          0,
          1,
          12,
          0,
          16,
          0,
          37,
          0,
          3,
          0,
          291,
          0,
          0,
          1,
          160,
          43,
          0,
          0,
          0,
          0,
          0,
          0,
          9,
          22,
          1,
          0,
          0,
          1,
          0,
          0,
          0,
          0,
          0,
          2,
          10,
          0,
          1,
          0,
          0,
          0,
          2,
          0,
          0,
          0,
          78,
          30,
          2,
          1,
          0,
          2,
          12,
          31,
          8,
          8,
          0,
          5,
          16,
          825
         ]
        }
       ],
       "layout": {
        "coloraxis": {
         "colorbar": {
          "title": {
           "text": "Recovered"
          }
         },
         "colorscale": [
          [
           0,
           "#440154"
          ],
          [
           0.1111111111111111,
           "#482878"
          ],
          [
           0.2222222222222222,
           "#3e4989"
          ],
          [
           0.3333333333333333,
           "#31688e"
          ],
          [
           0.4444444444444444,
           "#26828e"
          ],
          [
           0.5555555555555556,
           "#1f9e89"
          ],
          [
           0.6666666666666666,
           "#35b779"
          ],
          [
           0.7777777777777778,
           "#6ece58"
          ],
          [
           0.8888888888888888,
           "#b5de2b"
          ],
          [
           1,
           "#fde725"
          ]
         ]
        },
        "legend": {
         "tracegroupgap": 0
        },
        "template": {
         "data": {
          "bar": [
           {
            "error_x": {
             "color": "#2a3f5f"
            },
            "error_y": {
             "color": "#2a3f5f"
            },
            "marker": {
             "line": {
              "color": "#E5ECF6",
              "width": 0.5
             }
            },
            "type": "bar"
           }
          ],
          "barpolar": [
           {
            "marker": {
             "line": {
              "color": "#E5ECF6",
              "width": 0.5
             }
            },
            "type": "barpolar"
           }
          ],
          "carpet": [
           {
            "aaxis": {
             "endlinecolor": "#2a3f5f",
             "gridcolor": "white",
             "linecolor": "white",
             "minorgridcolor": "white",
             "startlinecolor": "#2a3f5f"
            },
            "baxis": {
             "endlinecolor": "#2a3f5f",
             "gridcolor": "white",
             "linecolor": "white",
             "minorgridcolor": "white",
             "startlinecolor": "#2a3f5f"
            },
            "type": "carpet"
           }
          ],
          "choropleth": [
           {
            "colorbar": {
             "outlinewidth": 0,
             "ticks": ""
            },
            "type": "choropleth"
           }
          ],
          "contour": [
           {
            "colorbar": {
             "outlinewidth": 0,
             "ticks": ""
            },
            "colorscale": [
             [
              0,
              "#0d0887"
             ],
             [
              0.1111111111111111,
              "#46039f"
             ],
             [
              0.2222222222222222,
              "#7201a8"
             ],
             [
              0.3333333333333333,
              "#9c179e"
             ],
             [
              0.4444444444444444,
              "#bd3786"
             ],
             [
              0.5555555555555556,
              "#d8576b"
             ],
             [
              0.6666666666666666,
              "#ed7953"
             ],
             [
              0.7777777777777778,
              "#fb9f3a"
             ],
             [
              0.8888888888888888,
              "#fdca26"
             ],
             [
              1,
              "#f0f921"
             ]
            ],
            "type": "contour"
           }
          ],
          "contourcarpet": [
           {
            "colorbar": {
             "outlinewidth": 0,
             "ticks": ""
            },
            "type": "contourcarpet"
           }
          ],
          "heatmap": [
           {
            "colorbar": {
             "outlinewidth": 0,
             "ticks": ""
            },
            "colorscale": [
             [
              0,
              "#0d0887"
             ],
             [
              0.1111111111111111,
              "#46039f"
             ],
             [
              0.2222222222222222,
              "#7201a8"
             ],
             [
              0.3333333333333333,
              "#9c179e"
             ],
             [
              0.4444444444444444,
              "#bd3786"
             ],
             [
              0.5555555555555556,
              "#d8576b"
             ],
             [
              0.6666666666666666,
              "#ed7953"
             ],
             [
              0.7777777777777778,
              "#fb9f3a"
             ],
             [
              0.8888888888888888,
              "#fdca26"
             ],
             [
              1,
              "#f0f921"
             ]
            ],
            "type": "heatmap"
           }
          ],
          "heatmapgl": [
           {
            "colorbar": {
             "outlinewidth": 0,
             "ticks": ""
            },
            "colorscale": [
             [
              0,
              "#0d0887"
             ],
             [
              0.1111111111111111,
              "#46039f"
             ],
             [
              0.2222222222222222,
              "#7201a8"
             ],
             [
              0.3333333333333333,
              "#9c179e"
             ],
             [
              0.4444444444444444,
              "#bd3786"
             ],
             [
              0.5555555555555556,
              "#d8576b"
             ],
             [
              0.6666666666666666,
              "#ed7953"
             ],
             [
              0.7777777777777778,
              "#fb9f3a"
             ],
             [
              0.8888888888888888,
              "#fdca26"
             ],
             [
              1,
              "#f0f921"
             ]
            ],
            "type": "heatmapgl"
           }
          ],
          "histogram": [
           {
            "marker": {
             "colorbar": {
              "outlinewidth": 0,
              "ticks": ""
             }
            },
            "type": "histogram"
           }
          ],
          "histogram2d": [
           {
            "colorbar": {
             "outlinewidth": 0,
             "ticks": ""
            },
            "colorscale": [
             [
              0,
              "#0d0887"
             ],
             [
              0.1111111111111111,
              "#46039f"
             ],
             [
              0.2222222222222222,
              "#7201a8"
             ],
             [
              0.3333333333333333,
              "#9c179e"
             ],
             [
              0.4444444444444444,
              "#bd3786"
             ],
             [
              0.5555555555555556,
              "#d8576b"
             ],
             [
              0.6666666666666666,
              "#ed7953"
             ],
             [
              0.7777777777777778,
              "#fb9f3a"
             ],
             [
              0.8888888888888888,
              "#fdca26"
             ],
             [
              1,
              "#f0f921"
             ]
            ],
            "type": "histogram2d"
           }
          ],
          "histogram2dcontour": [
           {
            "colorbar": {
             "outlinewidth": 0,
             "ticks": ""
            },
            "colorscale": [
             [
              0,
              "#0d0887"
             ],
             [
              0.1111111111111111,
              "#46039f"
             ],
             [
              0.2222222222222222,
              "#7201a8"
             ],
             [
              0.3333333333333333,
              "#9c179e"
             ],
             [
              0.4444444444444444,
              "#bd3786"
             ],
             [
              0.5555555555555556,
              "#d8576b"
             ],
             [
              0.6666666666666666,
              "#ed7953"
             ],
             [
              0.7777777777777778,
              "#fb9f3a"
             ],
             [
              0.8888888888888888,
              "#fdca26"
             ],
             [
              1,
              "#f0f921"
             ]
            ],
            "type": "histogram2dcontour"
           }
          ],
          "mesh3d": [
           {
            "colorbar": {
             "outlinewidth": 0,
             "ticks": ""
            },
            "type": "mesh3d"
           }
          ],
          "parcoords": [
           {
            "line": {
             "colorbar": {
              "outlinewidth": 0,
              "ticks": ""
             }
            },
            "type": "parcoords"
           }
          ],
          "pie": [
           {
            "automargin": true,
            "type": "pie"
           }
          ],
          "scatter": [
           {
            "marker": {
             "colorbar": {
              "outlinewidth": 0,
              "ticks": ""
             }
            },
            "type": "scatter"
           }
          ],
          "scatter3d": [
           {
            "line": {
             "colorbar": {
              "outlinewidth": 0,
              "ticks": ""
             }
            },
            "marker": {
             "colorbar": {
              "outlinewidth": 0,
              "ticks": ""
             }
            },
            "type": "scatter3d"
           }
          ],
          "scattercarpet": [
           {
            "marker": {
             "colorbar": {
              "outlinewidth": 0,
              "ticks": ""
             }
            },
            "type": "scattercarpet"
           }
          ],
          "scattergeo": [
           {
            "marker": {
             "colorbar": {
              "outlinewidth": 0,
              "ticks": ""
             }
            },
            "type": "scattergeo"
           }
          ],
          "scattergl": [
           {
            "marker": {
             "colorbar": {
              "outlinewidth": 0,
              "ticks": ""
             }
            },
            "type": "scattergl"
           }
          ],
          "scattermapbox": [
           {
            "marker": {
             "colorbar": {
              "outlinewidth": 0,
              "ticks": ""
             }
            },
            "type": "scattermapbox"
           }
          ],
          "scatterpolar": [
           {
            "marker": {
             "colorbar": {
              "outlinewidth": 0,
              "ticks": ""
             }
            },
            "type": "scatterpolar"
           }
          ],
          "scatterpolargl": [
           {
            "marker": {
             "colorbar": {
              "outlinewidth": 0,
              "ticks": ""
             }
            },
            "type": "scatterpolargl"
           }
          ],
          "scatterternary": [
           {
            "marker": {
             "colorbar": {
              "outlinewidth": 0,
              "ticks": ""
             }
            },
            "type": "scatterternary"
           }
          ],
          "surface": [
           {
            "colorbar": {
             "outlinewidth": 0,
             "ticks": ""
            },
            "colorscale": [
             [
              0,
              "#0d0887"
             ],
             [
              0.1111111111111111,
              "#46039f"
             ],
             [
              0.2222222222222222,
              "#7201a8"
             ],
             [
              0.3333333333333333,
              "#9c179e"
             ],
             [
              0.4444444444444444,
              "#bd3786"
             ],
             [
              0.5555555555555556,
              "#d8576b"
             ],
             [
              0.6666666666666666,
              "#ed7953"
             ],
             [
              0.7777777777777778,
              "#fb9f3a"
             ],
             [
              0.8888888888888888,
              "#fdca26"
             ],
             [
              1,
              "#f0f921"
             ]
            ],
            "type": "surface"
           }
          ],
          "table": [
           {
            "cells": {
             "fill": {
              "color": "#EBF0F8"
             },
             "line": {
              "color": "white"
             }
            },
            "header": {
             "fill": {
              "color": "#C8D4E3"
             },
             "line": {
              "color": "white"
             }
            },
            "type": "table"
           }
          ]
         },
         "layout": {
          "annotationdefaults": {
           "arrowcolor": "#2a3f5f",
           "arrowhead": 0,
           "arrowwidth": 1
          },
          "coloraxis": {
           "colorbar": {
            "outlinewidth": 0,
            "ticks": ""
           }
          },
          "colorscale": {
           "diverging": [
            [
             0,
             "#8e0152"
            ],
            [
             0.1,
             "#c51b7d"
            ],
            [
             0.2,
             "#de77ae"
            ],
            [
             0.3,
             "#f1b6da"
            ],
            [
             0.4,
             "#fde0ef"
            ],
            [
             0.5,
             "#f7f7f7"
            ],
            [
             0.6,
             "#e6f5d0"
            ],
            [
             0.7,
             "#b8e186"
            ],
            [
             0.8,
             "#7fbc41"
            ],
            [
             0.9,
             "#4d9221"
            ],
            [
             1,
             "#276419"
            ]
           ],
           "sequential": [
            [
             0,
             "#0d0887"
            ],
            [
             0.1111111111111111,
             "#46039f"
            ],
            [
             0.2222222222222222,
             "#7201a8"
            ],
            [
             0.3333333333333333,
             "#9c179e"
            ],
            [
             0.4444444444444444,
             "#bd3786"
            ],
            [
             0.5555555555555556,
             "#d8576b"
            ],
            [
             0.6666666666666666,
             "#ed7953"
            ],
            [
             0.7777777777777778,
             "#fb9f3a"
            ],
            [
             0.8888888888888888,
             "#fdca26"
            ],
            [
             1,
             "#f0f921"
            ]
           ],
           "sequentialminus": [
            [
             0,
             "#0d0887"
            ],
            [
             0.1111111111111111,
             "#46039f"
            ],
            [
             0.2222222222222222,
             "#7201a8"
            ],
            [
             0.3333333333333333,
             "#9c179e"
            ],
            [
             0.4444444444444444,
             "#bd3786"
            ],
            [
             0.5555555555555556,
             "#d8576b"
            ],
            [
             0.6666666666666666,
             "#ed7953"
            ],
            [
             0.7777777777777778,
             "#fb9f3a"
            ],
            [
             0.8888888888888888,
             "#fdca26"
            ],
            [
             1,
             "#f0f921"
            ]
           ]
          },
          "colorway": [
           "#636efa",
           "#EF553B",
           "#00cc96",
           "#ab63fa",
           "#FFA15A",
           "#19d3f3",
           "#FF6692",
           "#B6E880",
           "#FF97FF",
           "#FECB52"
          ],
          "font": {
           "color": "#2a3f5f"
          },
          "geo": {
           "bgcolor": "white",
           "lakecolor": "white",
           "landcolor": "#E5ECF6",
           "showlakes": true,
           "showland": true,
           "subunitcolor": "white"
          },
          "hoverlabel": {
           "align": "left"
          },
          "hovermode": "closest",
          "mapbox": {
           "style": "light"
          },
          "paper_bgcolor": "white",
          "plot_bgcolor": "#E5ECF6",
          "polar": {
           "angularaxis": {
            "gridcolor": "white",
            "linecolor": "white",
            "ticks": ""
           },
           "bgcolor": "#E5ECF6",
           "radialaxis": {
            "gridcolor": "white",
            "linecolor": "white",
            "ticks": ""
           }
          },
          "scene": {
           "xaxis": {
            "backgroundcolor": "#E5ECF6",
            "gridcolor": "white",
            "gridwidth": 2,
            "linecolor": "white",
            "showbackground": true,
            "ticks": "",
            "zerolinecolor": "white"
           },
           "yaxis": {
            "backgroundcolor": "#E5ECF6",
            "gridcolor": "white",
            "gridwidth": 2,
            "linecolor": "white",
            "showbackground": true,
            "ticks": "",
            "zerolinecolor": "white"
           },
           "zaxis": {
            "backgroundcolor": "#E5ECF6",
            "gridcolor": "white",
            "gridwidth": 2,
            "linecolor": "white",
            "showbackground": true,
            "ticks": "",
            "zerolinecolor": "white"
           }
          },
          "shapedefaults": {
           "line": {
            "color": "#2a3f5f"
           }
          },
          "ternary": {
           "aaxis": {
            "gridcolor": "white",
            "linecolor": "white",
            "ticks": ""
           },
           "baxis": {
            "gridcolor": "white",
            "linecolor": "white",
            "ticks": ""
           },
           "bgcolor": "#E5ECF6",
           "caxis": {
            "gridcolor": "white",
            "linecolor": "white",
            "ticks": ""
           }
          },
          "title": {
           "x": 0.05
          },
          "xaxis": {
           "automargin": true,
           "gridcolor": "white",
           "linecolor": "white",
           "ticks": "",
           "title": {
            "standoff": 15
           },
           "zerolinecolor": "white",
           "zerolinewidth": 2
          },
          "yaxis": {
           "automargin": true,
           "gridcolor": "white",
           "linecolor": "white",
           "ticks": "",
           "title": {
            "standoff": 15
           },
           "zerolinecolor": "white",
           "zerolinewidth": 2
          }
         }
        },
        "title": {
         "text": "Recovery rates excluding China"
        }
       }
      },
      "text/html": [
       "<div>\n",
       "        \n",
       "        \n",
       "            <div id=\"35c40979-d7ab-49d2-9684-840f58105ef0\" class=\"plotly-graph-div\" style=\"height:525px; width:100%;\"></div>\n",
       "            <script type=\"text/javascript\">\n",
       "                require([\"plotly\"], function(Plotly) {\n",
       "                    window.PLOTLYENV=window.PLOTLYENV || {};\n",
       "                    \n",
       "                if (document.getElementById(\"35c40979-d7ab-49d2-9684-840f58105ef0\")) {\n",
       "                    Plotly.newPlot(\n",
       "                        '35c40979-d7ab-49d2-9684-840f58105ef0',\n",
       "                        [{\"branchvalues\": \"total\", \"customdata\": [[0], [0], [0], [1], [3], [2], [10], [0], [0], [0], [0], [37], [0], [1], [0], [1], [0], [9], [1], [0], [4], [0], [0], [0], [0], [0], [1], [0], [0], [0], [1], [0], [1], [0], [0], [0], [2], [12], [0], [1], [2], [0], [0], [0], [4], [0], [0], [0], [0], [0], [0], [0], [0], [0], [11], [0], [0], [0], [0], [1], [0], [1], [6], [0], [0], [0], [0], [0], [0], [1], [0], [1], [12], [0], [16], [0], [37], [0], [3], [0], [291], [0], [0], [1], [160], [43], [0], [0], [0], [0], [0], [0], [9], [22], [1], [0], [0], [1], [0], [0], [0], [0], [0], [2], [10], [0], [1], [0], [0], [0], [2], [0], [0], [0], [78], [30], [2], [1], [0], [2], [12], [31], [8], [8], [0], [5], [16], [825]], \"domain\": {\"x\": [0.0, 1.0], \"y\": [0.0, 1.0]}, \"hoverlabel\": {\"namelength\": 0}, \"hovertemplate\": \"Recovered=%{color}<br>labels=%{label}<br>parent=%{parent}<br>id=%{id}\", \"ids\": [\"world/Canada/ Montreal, QC\", \"world/US/ Norfolk County, MA\", \"world/US/Berkeley, CA\", \"world/US/Boston, MA\", \"world/Canada/British Columbia\", \"world/US/Cook County, IL\", \"world/Others/Diamond Princess cruise ship\", \"world/Australia/From Diamond Princess\", \"world/US/Fulton County, GA\", \"world/US/Grafton County, NH\", \"world/US/Hillsborough, FL\", \"world/Hong Kong/Hong Kong\", \"world/US/Humboldt County, CA\", \"world/US/King County, WA\", \"world/US/Lackland, TX (From Diamond Princess)\", \"world/Canada/London, ON\", \"world/US/Los Angeles, CA\", \"world/Macau/Macau\", \"world/US/Madison, WI\", \"world/US/Maricopa County, AZ\", \"world/Australia/New South Wales\", \"world/US/New York City, NY\", \"world/US/Omaha, NE (From Diamond Princess)\", \"world/US/Orange, CA\", \"world/US/Placer County, CA\", \"world/US/Providence, RI\", \"world/Australia/Queensland\", \"world/US/Sacramento County, CA\", \"world/US/San Antonio, TX\", \"world/US/San Benito, CA\", \"world/US/San Diego County, CA\", \"world/US/San Mateo, CA\", \"world/US/Santa Clara, CA\", \"world/US/Sarasota, FL\", \"world/US/Snohomish County, WA\", \"world/US/Sonoma County, CA\", \"world/Australia/South Australia\", \"world/Taiwan/Taiwan\", \"world/Australia/Tasmania\", \"world/US/Tempe, AZ\", \"world/Canada/Toronto, ON\", \"world/US/Travis, CA (From Diamond Princess)\", \"world/US/Umatilla, OR\", \"world/US/Unassigned Location (From Diamond Princess)\", \"world/Australia/Victoria\", \"world/US/Wake County, NC\", \"world/US/Washington County, OR\", \"world/US/Westchester County, NY\", \"world/Australia/Western Australia\", \"world/Afghanistan\", \"world/Algeria\", \"world/Andorra\", \"world/Argentina\", \"world/Armenia\", \"world/Australia\", \"world/Austria\", \"world/Azerbaijan\", \"world/Bahrain\", \"world/Belarus\", \"world/Belgium\", \"world/Brazil\", \"world/Cambodia\", \"world/Canada\", \"world/Chile\", \"world/Croatia\", \"world/Czech Republic\", \"world/Denmark\", \"world/Dominican Republic\", \"world/Ecuador\", \"world/Egypt\", \"world/Estonia\", \"world/Finland\", \"world/France\", \"world/Georgia\", \"world/Germany\", \"world/Greece\", \"world/Hong Kong\", \"world/Iceland\", \"world/India\", \"world/Indonesia\", \"world/Iran\", \"world/Iraq\", \"world/Ireland\", \"world/Israel\", \"world/Italy\", \"world/Japan\", \"world/Jordan\", \"world/Kuwait\", \"world/Latvia\", \"world/Lebanon\", \"world/Lithuania\", \"world/Luxembourg\", \"world/Macau\", \"world/Malaysia\", \"world/Mexico\", \"world/Monaco\", \"world/Morocco\", \"world/Nepal\", \"world/Netherlands\", \"world/New Zealand\", \"world/Nigeria\", \"world/North Macedonia\", \"world/Norway\", \"world/Oman\", \"world/Others\", \"world/Pakistan\", \"world/Philippines\", \"world/Portugal\", \"world/Qatar\", \"world/Romania\", \"world/Russia\", \"world/San Marino\", \"world/Saudi Arabia\", \"world/Senegal\", \"world/Singapore\", \"world/South Korea\", \"world/Spain\", \"world/Sri Lanka\", \"world/Sweden\", \"world/Switzerland\", \"world/Taiwan\", \"world/Thailand\", \"world/UK\", \"world/US\", \"world/Ukraine\", \"world/United Arab Emirates\", \"world/Vietnam\", \"world\"], \"labels\": [\" Montreal, QC\", \" Norfolk County, MA\", \"Berkeley, CA\", \"Boston, MA\", \"British Columbia\", \"Cook County, IL\", \"Diamond Princess cruise ship\", \"From Diamond Princess\", \"Fulton County, GA\", \"Grafton County, NH\", \"Hillsborough, FL\", \"Hong Kong\", \"Humboldt County, CA\", \"King County, WA\", \"Lackland, TX (From Diamond Princess)\", \"London, ON\", \"Los Angeles, CA\", \"Macau\", \"Madison, WI\", \"Maricopa County, AZ\", \"New South Wales\", \"New York City, NY\", \"Omaha, NE (From Diamond Princess)\", \"Orange, CA\", \"Placer County, CA\", \"Providence, RI\", \"Queensland\", \"Sacramento County, CA\", \"San Antonio, TX\", \"San Benito, CA\", \"San Diego County, CA\", \"San Mateo, CA\", \"Santa Clara, CA\", \"Sarasota, FL\", \"Snohomish County, WA\", \"Sonoma County, CA\", \"South Australia\", \"Taiwan\", \"Tasmania\", \"Tempe, AZ\", \"Toronto, ON\", \"Travis, CA (From Diamond Princess)\", \"Umatilla, OR\", \"Unassigned Location (From Diamond Princess)\", \"Victoria\", \"Wake County, NC\", \"Washington County, OR\", \"Westchester County, NY\", \"Western Australia\", \"Afghanistan\", \"Algeria\", \"Andorra\", \"Argentina\", \"Armenia\", \"Australia\", \"Austria\", \"Azerbaijan\", \"Bahrain\", \"Belarus\", \"Belgium\", \"Brazil\", \"Cambodia\", \"Canada\", \"Chile\", \"Croatia\", \"Czech Republic\", \"Denmark\", \"Dominican Republic\", \"Ecuador\", \"Egypt\", \"Estonia\", \"Finland\", \"France\", \"Georgia\", \"Germany\", \"Greece\", \"Hong Kong\", \"Iceland\", \"India\", \"Indonesia\", \"Iran\", \"Iraq\", \"Ireland\", \"Israel\", \"Italy\", \"Japan\", \"Jordan\", \"Kuwait\", \"Latvia\", \"Lebanon\", \"Lithuania\", \"Luxembourg\", \"Macau\", \"Malaysia\", \"Mexico\", \"Monaco\", \"Morocco\", \"Nepal\", \"Netherlands\", \"New Zealand\", \"Nigeria\", \"North Macedonia\", \"Norway\", \"Oman\", \"Others\", \"Pakistan\", \"Philippines\", \"Portugal\", \"Qatar\", \"Romania\", \"Russia\", \"San Marino\", \"Saudi Arabia\", \"Senegal\", \"Singapore\", \"South Korea\", \"Spain\", \"Sri Lanka\", \"Sweden\", \"Switzerland\", \"Taiwan\", \"Thailand\", \"UK\", \"US\", \"Ukraine\", \"United Arab Emirates\", \"Vietnam\", \"world\"], \"marker\": {\"coloraxis\": \"coloraxis\", \"colors\": [0, 0, 0, 1, 3, 2, 10, 0, 0, 0, 0, 37, 0, 1, 0, 1, 0, 9, 1, 0, 4, 0, 0, 0, 0, 0, 1, 0, 0, 0, 1, 0, 1, 0, 0, 0, 2, 12, 0, 1, 2, 0, 0, 0, 4, 0, 0, 0, 0, 0, 0, 0, 0, 0, 11, 0, 0, 0, 0, 1, 0, 1, 6, 0, 0, 0, 0, 0, 0, 1, 0, 1, 12, 0, 16, 0, 37, 0, 3, 0, 291, 0, 0, 1, 160, 43, 0, 0, 0, 0, 0, 0, 9, 22, 1, 0, 0, 1, 0, 0, 0, 0, 0, 2, 10, 0, 1, 0, 0, 0, 2, 0, 0, 0, 78, 30, 2, 1, 0, 2, 12, 31, 8, 8, 0, 5, 16, 825]}, \"name\": \"\", \"parents\": [\"world/Canada\", \"world/US\", \"world/US\", \"world/US\", \"world/Canada\", \"world/US\", \"world/Others\", \"world/Australia\", \"world/US\", \"world/US\", \"world/US\", \"world/Hong Kong\", \"world/US\", \"world/US\", \"world/US\", \"world/Canada\", \"world/US\", \"world/Macau\", \"world/US\", \"world/US\", \"world/Australia\", \"world/US\", \"world/US\", \"world/US\", \"world/US\", \"world/US\", \"world/Australia\", \"world/US\", \"world/US\", \"world/US\", \"world/US\", \"world/US\", \"world/US\", \"world/US\", \"world/US\", \"world/US\", \"world/Australia\", \"world/Taiwan\", \"world/Australia\", \"world/US\", \"world/Canada\", \"world/US\", \"world/US\", \"world/US\", \"world/Australia\", \"world/US\", \"world/US\", \"world/US\", \"world/Australia\", \"world\", \"world\", \"world\", \"world\", \"world\", \"world\", \"world\", \"world\", \"world\", \"world\", \"world\", \"world\", \"world\", \"world\", \"world\", \"world\", \"world\", \"world\", \"world\", \"world\", \"world\", \"world\", \"world\", \"world\", \"world\", \"world\", \"world\", \"world\", \"world\", \"world\", \"world\", \"world\", \"world\", \"world\", \"world\", \"world\", \"world\", \"world\", \"world\", \"world\", \"world\", \"world\", \"world\", \"world\", \"world\", \"world\", \"world\", \"world\", \"world\", \"world\", \"world\", \"world\", \"world\", \"world\", \"world\", \"world\", \"world\", \"world\", \"world\", \"world\", \"world\", \"world\", \"world\", \"world\", \"world\", \"world\", \"world\", \"world\", \"world\", \"world\", \"world\", \"world\", \"world\", \"world\", \"world\", \"world\", \"world\", \"world\", \"\"], \"type\": \"treemap\", \"values\": [0, 0, 0, 1, 3, 2, 10, 0, 0, 0, 0, 37, 0, 1, 0, 1, 0, 9, 1, 0, 4, 0, 0, 0, 0, 0, 1, 0, 0, 0, 1, 0, 1, 0, 0, 0, 2, 12, 0, 1, 2, 0, 0, 0, 4, 0, 0, 0, 0, 0, 0, 0, 0, 0, 11, 0, 0, 0, 0, 1, 0, 1, 6, 0, 0, 0, 0, 0, 0, 1, 0, 1, 12, 0, 16, 0, 37, 0, 3, 0, 291, 0, 0, 1, 160, 43, 0, 0, 0, 0, 0, 0, 9, 22, 1, 0, 0, 1, 0, 0, 0, 0, 0, 2, 10, 0, 1, 0, 0, 0, 2, 0, 0, 0, 78, 30, 2, 1, 0, 2, 12, 31, 8, 8, 0, 5, 16, 825]}],\n",
       "                        {\"coloraxis\": {\"colorbar\": {\"title\": {\"text\": \"Recovered\"}}, \"colorscale\": [[0.0, \"#440154\"], [0.1111111111111111, \"#482878\"], [0.2222222222222222, \"#3e4989\"], [0.3333333333333333, \"#31688e\"], [0.4444444444444444, \"#26828e\"], [0.5555555555555556, \"#1f9e89\"], [0.6666666666666666, \"#35b779\"], [0.7777777777777778, \"#6ece58\"], [0.8888888888888888, \"#b5de2b\"], [1.0, \"#fde725\"]]}, \"legend\": {\"tracegroupgap\": 0}, \"template\": {\"data\": {\"bar\": [{\"error_x\": {\"color\": \"#2a3f5f\"}, \"error_y\": {\"color\": \"#2a3f5f\"}, \"marker\": {\"line\": {\"color\": \"#E5ECF6\", \"width\": 0.5}}, \"type\": \"bar\"}], \"barpolar\": [{\"marker\": {\"line\": {\"color\": \"#E5ECF6\", \"width\": 0.5}}, \"type\": \"barpolar\"}], \"carpet\": [{\"aaxis\": {\"endlinecolor\": \"#2a3f5f\", \"gridcolor\": \"white\", \"linecolor\": \"white\", \"minorgridcolor\": \"white\", \"startlinecolor\": \"#2a3f5f\"}, \"baxis\": {\"endlinecolor\": \"#2a3f5f\", \"gridcolor\": \"white\", \"linecolor\": \"white\", \"minorgridcolor\": \"white\", \"startlinecolor\": \"#2a3f5f\"}, \"type\": \"carpet\"}], \"choropleth\": [{\"colorbar\": {\"outlinewidth\": 0, \"ticks\": \"\"}, \"type\": \"choropleth\"}], \"contour\": [{\"colorbar\": {\"outlinewidth\": 0, \"ticks\": \"\"}, \"colorscale\": [[0.0, \"#0d0887\"], [0.1111111111111111, \"#46039f\"], [0.2222222222222222, \"#7201a8\"], [0.3333333333333333, \"#9c179e\"], [0.4444444444444444, \"#bd3786\"], [0.5555555555555556, \"#d8576b\"], [0.6666666666666666, \"#ed7953\"], [0.7777777777777778, \"#fb9f3a\"], [0.8888888888888888, \"#fdca26\"], [1.0, \"#f0f921\"]], \"type\": \"contour\"}], \"contourcarpet\": [{\"colorbar\": {\"outlinewidth\": 0, \"ticks\": \"\"}, \"type\": \"contourcarpet\"}], \"heatmap\": [{\"colorbar\": {\"outlinewidth\": 0, \"ticks\": \"\"}, \"colorscale\": [[0.0, \"#0d0887\"], [0.1111111111111111, \"#46039f\"], [0.2222222222222222, \"#7201a8\"], [0.3333333333333333, \"#9c179e\"], [0.4444444444444444, \"#bd3786\"], [0.5555555555555556, \"#d8576b\"], [0.6666666666666666, \"#ed7953\"], [0.7777777777777778, \"#fb9f3a\"], [0.8888888888888888, \"#fdca26\"], [1.0, \"#f0f921\"]], \"type\": \"heatmap\"}], \"heatmapgl\": [{\"colorbar\": {\"outlinewidth\": 0, \"ticks\": \"\"}, \"colorscale\": [[0.0, \"#0d0887\"], [0.1111111111111111, \"#46039f\"], [0.2222222222222222, \"#7201a8\"], [0.3333333333333333, \"#9c179e\"], [0.4444444444444444, \"#bd3786\"], [0.5555555555555556, \"#d8576b\"], [0.6666666666666666, \"#ed7953\"], [0.7777777777777778, \"#fb9f3a\"], [0.8888888888888888, \"#fdca26\"], [1.0, \"#f0f921\"]], \"type\": \"heatmapgl\"}], \"histogram\": [{\"marker\": {\"colorbar\": {\"outlinewidth\": 0, \"ticks\": \"\"}}, \"type\": \"histogram\"}], \"histogram2d\": [{\"colorbar\": {\"outlinewidth\": 0, \"ticks\": \"\"}, \"colorscale\": [[0.0, \"#0d0887\"], [0.1111111111111111, \"#46039f\"], [0.2222222222222222, \"#7201a8\"], [0.3333333333333333, \"#9c179e\"], [0.4444444444444444, \"#bd3786\"], [0.5555555555555556, \"#d8576b\"], [0.6666666666666666, \"#ed7953\"], [0.7777777777777778, \"#fb9f3a\"], [0.8888888888888888, \"#fdca26\"], [1.0, \"#f0f921\"]], \"type\": \"histogram2d\"}], \"histogram2dcontour\": [{\"colorbar\": {\"outlinewidth\": 0, \"ticks\": \"\"}, \"colorscale\": [[0.0, \"#0d0887\"], [0.1111111111111111, \"#46039f\"], [0.2222222222222222, \"#7201a8\"], [0.3333333333333333, \"#9c179e\"], [0.4444444444444444, \"#bd3786\"], [0.5555555555555556, \"#d8576b\"], [0.6666666666666666, \"#ed7953\"], [0.7777777777777778, \"#fb9f3a\"], [0.8888888888888888, \"#fdca26\"], [1.0, \"#f0f921\"]], \"type\": \"histogram2dcontour\"}], \"mesh3d\": [{\"colorbar\": {\"outlinewidth\": 0, \"ticks\": \"\"}, \"type\": \"mesh3d\"}], \"parcoords\": [{\"line\": {\"colorbar\": {\"outlinewidth\": 0, \"ticks\": \"\"}}, \"type\": \"parcoords\"}], \"pie\": [{\"automargin\": true, \"type\": \"pie\"}], \"scatter\": [{\"marker\": {\"colorbar\": {\"outlinewidth\": 0, \"ticks\": \"\"}}, \"type\": \"scatter\"}], \"scatter3d\": [{\"line\": {\"colorbar\": {\"outlinewidth\": 0, \"ticks\": \"\"}}, \"marker\": {\"colorbar\": {\"outlinewidth\": 0, \"ticks\": \"\"}}, \"type\": \"scatter3d\"}], \"scattercarpet\": [{\"marker\": {\"colorbar\": {\"outlinewidth\": 0, \"ticks\": \"\"}}, \"type\": \"scattercarpet\"}], \"scattergeo\": [{\"marker\": {\"colorbar\": {\"outlinewidth\": 0, \"ticks\": \"\"}}, \"type\": \"scattergeo\"}], \"scattergl\": [{\"marker\": {\"colorbar\": {\"outlinewidth\": 0, \"ticks\": \"\"}}, \"type\": \"scattergl\"}], \"scattermapbox\": [{\"marker\": {\"colorbar\": {\"outlinewidth\": 0, \"ticks\": \"\"}}, \"type\": \"scattermapbox\"}], \"scatterpolar\": [{\"marker\": {\"colorbar\": {\"outlinewidth\": 0, \"ticks\": \"\"}}, \"type\": \"scatterpolar\"}], \"scatterpolargl\": [{\"marker\": {\"colorbar\": {\"outlinewidth\": 0, \"ticks\": \"\"}}, \"type\": \"scatterpolargl\"}], \"scatterternary\": [{\"marker\": {\"colorbar\": {\"outlinewidth\": 0, \"ticks\": \"\"}}, \"type\": \"scatterternary\"}], \"surface\": [{\"colorbar\": {\"outlinewidth\": 0, \"ticks\": \"\"}, \"colorscale\": [[0.0, \"#0d0887\"], [0.1111111111111111, \"#46039f\"], [0.2222222222222222, \"#7201a8\"], [0.3333333333333333, \"#9c179e\"], [0.4444444444444444, \"#bd3786\"], [0.5555555555555556, \"#d8576b\"], [0.6666666666666666, \"#ed7953\"], [0.7777777777777778, \"#fb9f3a\"], [0.8888888888888888, \"#fdca26\"], [1.0, \"#f0f921\"]], \"type\": \"surface\"}], \"table\": [{\"cells\": {\"fill\": {\"color\": \"#EBF0F8\"}, \"line\": {\"color\": \"white\"}}, \"header\": {\"fill\": {\"color\": \"#C8D4E3\"}, \"line\": {\"color\": \"white\"}}, \"type\": \"table\"}]}, \"layout\": {\"annotationdefaults\": {\"arrowcolor\": \"#2a3f5f\", \"arrowhead\": 0, \"arrowwidth\": 1}, \"coloraxis\": {\"colorbar\": {\"outlinewidth\": 0, \"ticks\": \"\"}}, \"colorscale\": {\"diverging\": [[0, \"#8e0152\"], [0.1, \"#c51b7d\"], [0.2, \"#de77ae\"], [0.3, \"#f1b6da\"], [0.4, \"#fde0ef\"], [0.5, \"#f7f7f7\"], [0.6, \"#e6f5d0\"], [0.7, \"#b8e186\"], [0.8, \"#7fbc41\"], [0.9, \"#4d9221\"], [1, \"#276419\"]], \"sequential\": [[0.0, \"#0d0887\"], [0.1111111111111111, \"#46039f\"], [0.2222222222222222, \"#7201a8\"], [0.3333333333333333, \"#9c179e\"], [0.4444444444444444, \"#bd3786\"], [0.5555555555555556, \"#d8576b\"], [0.6666666666666666, \"#ed7953\"], [0.7777777777777778, \"#fb9f3a\"], [0.8888888888888888, \"#fdca26\"], [1.0, \"#f0f921\"]], \"sequentialminus\": [[0.0, \"#0d0887\"], [0.1111111111111111, \"#46039f\"], [0.2222222222222222, \"#7201a8\"], [0.3333333333333333, \"#9c179e\"], [0.4444444444444444, \"#bd3786\"], [0.5555555555555556, \"#d8576b\"], [0.6666666666666666, \"#ed7953\"], [0.7777777777777778, \"#fb9f3a\"], [0.8888888888888888, \"#fdca26\"], [1.0, \"#f0f921\"]]}, \"colorway\": [\"#636efa\", \"#EF553B\", \"#00cc96\", \"#ab63fa\", \"#FFA15A\", \"#19d3f3\", \"#FF6692\", \"#B6E880\", \"#FF97FF\", \"#FECB52\"], \"font\": {\"color\": \"#2a3f5f\"}, \"geo\": {\"bgcolor\": \"white\", \"lakecolor\": \"white\", \"landcolor\": \"#E5ECF6\", \"showlakes\": true, \"showland\": true, \"subunitcolor\": \"white\"}, \"hoverlabel\": {\"align\": \"left\"}, \"hovermode\": \"closest\", \"mapbox\": {\"style\": \"light\"}, \"paper_bgcolor\": \"white\", \"plot_bgcolor\": \"#E5ECF6\", \"polar\": {\"angularaxis\": {\"gridcolor\": \"white\", \"linecolor\": \"white\", \"ticks\": \"\"}, \"bgcolor\": \"#E5ECF6\", \"radialaxis\": {\"gridcolor\": \"white\", \"linecolor\": \"white\", \"ticks\": \"\"}}, \"scene\": {\"xaxis\": {\"backgroundcolor\": \"#E5ECF6\", \"gridcolor\": \"white\", \"gridwidth\": 2, \"linecolor\": \"white\", \"showbackground\": true, \"ticks\": \"\", \"zerolinecolor\": \"white\"}, \"yaxis\": {\"backgroundcolor\": \"#E5ECF6\", \"gridcolor\": \"white\", \"gridwidth\": 2, \"linecolor\": \"white\", \"showbackground\": true, \"ticks\": \"\", \"zerolinecolor\": \"white\"}, \"zaxis\": {\"backgroundcolor\": \"#E5ECF6\", \"gridcolor\": \"white\", \"gridwidth\": 2, \"linecolor\": \"white\", \"showbackground\": true, \"ticks\": \"\", \"zerolinecolor\": \"white\"}}, \"shapedefaults\": {\"line\": {\"color\": \"#2a3f5f\"}}, \"ternary\": {\"aaxis\": {\"gridcolor\": \"white\", \"linecolor\": \"white\", \"ticks\": \"\"}, \"baxis\": {\"gridcolor\": \"white\", \"linecolor\": \"white\", \"ticks\": \"\"}, \"bgcolor\": \"#E5ECF6\", \"caxis\": {\"gridcolor\": \"white\", \"linecolor\": \"white\", \"ticks\": \"\"}}, \"title\": {\"x\": 0.05}, \"xaxis\": {\"automargin\": true, \"gridcolor\": \"white\", \"linecolor\": \"white\", \"ticks\": \"\", \"title\": {\"standoff\": 15}, \"zerolinecolor\": \"white\", \"zerolinewidth\": 2}, \"yaxis\": {\"automargin\": true, \"gridcolor\": \"white\", \"linecolor\": \"white\", \"ticks\": \"\", \"title\": {\"standoff\": 15}, \"zerolinecolor\": \"white\", \"zerolinewidth\": 2}}}, \"title\": {\"text\": \"Recovery rates excluding China\"}},\n",
       "                        {\"responsive\": true}\n",
       "                    ).then(function(){\n",
       "                            \n",
       "var gd = document.getElementById('35c40979-d7ab-49d2-9684-840f58105ef0');\n",
       "var x = new MutationObserver(function (mutations, observer) {{\n",
       "        var display = window.getComputedStyle(gd).display;\n",
       "        if (!display || display === 'none') {{\n",
       "            console.log([gd, 'removed!']);\n",
       "            Plotly.purge(gd);\n",
       "            observer.disconnect();\n",
       "        }}\n",
       "}});\n",
       "\n",
       "// Listen for the removal of the full notebook cells\n",
       "var notebookContainer = gd.closest('#notebook-container');\n",
       "if (notebookContainer) {{\n",
       "    x.observe(notebookContainer, {childList: true});\n",
       "}}\n",
       "\n",
       "// Listen for the clearing of the current output cell\n",
       "var outputEl = gd.closest('.output');\n",
       "if (outputEl) {{\n",
       "    x.observe(outputEl, {childList: true});\n",
       "}}\n",
       "\n",
       "                        })\n",
       "                };\n",
       "                });\n",
       "            </script>\n",
       "        </div>"
      ]
     },
     "metadata": {},
     "output_type": "display_data"
    }
   ],
   "source": [
    "df = pd.read_excel('./data/exl_china.xlsx')\n",
    "df[\"world\"] = \"world\" # in order to have a single root node\n",
    "fig = px.treemap(df, path=['world', 'Country/Region', 'Province/State'], color ='Recovered' , title = 'Recovery rates excluding China',color_continuous_scale=px.colors.sequential.Viridis,values='Recovered')\n",
    "fig.show()"
   ]
  },
  {
   "cell_type": "markdown",
   "metadata": {},
   "source": [
    "### Timeline analysis"
   ]
  },
  {
   "cell_type": "code",
   "execution_count": 8,
   "metadata": {},
   "outputs": [],
   "source": [
    "#Preprocessing\n",
    "data = pd.read_csv('./data/time_series_19-covid-Confirmed.csv')\n",
    "timeline = ['1/22/20', '1/23/20',\n",
    "       '1/24/20', '1/25/20', '1/26/20', '1/27/20', '1/28/20', '1/29/20',\n",
    "       '1/30/20', '1/31/20', '2/1/20', '2/2/20', '2/3/20', '2/4/20', '2/5/20',\n",
    "       '2/6/20', '2/7/20', '2/8/20', '2/9/20', '2/10/20', '2/11/20', '2/12/20',\n",
    "       '2/13/20', '2/14/20', '2/15/20', '2/16/20', '2/17/20', '2/18/20',\n",
    "       '2/19/20', '2/20/20', '2/21/20', '2/22/20', '2/23/20', '2/24/20',\n",
    "       '2/25/20', '2/26/20', '2/27/20', '2/28/20', '2/29/20', '3/1/20',\n",
    "       '3/2/20', '3/3/20'] \n",
    "#list of values to append equal to length of x axis  for plotly plot\n",
    "#for eg x[t1,t2] = [[p1,p1],[20,30],[1000,5000]]\n",
    "time = [];value = [];country=[];province= []\n",
    "col_value = list(data.columns)\n",
    "for i in range(len(data)):\n",
    "    row_value = list(data.iloc[i])\n",
    "    D = dict(zip(col_value,row_value))\n",
    "    time.extend(timeline)\n",
    "    value.extend(D[t] for t in  timeline)\n",
    "    country.extend(D['Country/Region'] for i in  range(len(timeline)))\n",
    "newdf = pd.DataFrame({'Timeline':time,'Covid-19 impact':value,'Country':country})"
   ]
  },
  {
   "cell_type": "code",
   "execution_count": 9,
   "metadata": {},
   "outputs": [
    {
     "data": {
      "text/html": [
       "<div>\n",
       "<style scoped>\n",
       "    .dataframe tbody tr th:only-of-type {\n",
       "        vertical-align: middle;\n",
       "    }\n",
       "\n",
       "    .dataframe tbody tr th {\n",
       "        vertical-align: top;\n",
       "    }\n",
       "\n",
       "    .dataframe thead th {\n",
       "        text-align: right;\n",
       "    }\n",
       "</style>\n",
       "<table border=\"1\" class=\"dataframe\">\n",
       "  <thead>\n",
       "    <tr style=\"text-align: right;\">\n",
       "      <th></th>\n",
       "      <th>Province/State</th>\n",
       "      <th>Country/Region</th>\n",
       "      <th>Lat</th>\n",
       "      <th>Long</th>\n",
       "      <th>1/22/20</th>\n",
       "      <th>1/23/20</th>\n",
       "      <th>1/24/20</th>\n",
       "      <th>1/25/20</th>\n",
       "      <th>1/26/20</th>\n",
       "      <th>1/27/20</th>\n",
       "      <th>...</th>\n",
       "      <th>2/23/20</th>\n",
       "      <th>2/24/20</th>\n",
       "      <th>2/25/20</th>\n",
       "      <th>2/26/20</th>\n",
       "      <th>2/27/20</th>\n",
       "      <th>2/28/20</th>\n",
       "      <th>2/29/20</th>\n",
       "      <th>3/1/20</th>\n",
       "      <th>3/2/20</th>\n",
       "      <th>3/3/20</th>\n",
       "    </tr>\n",
       "  </thead>\n",
       "  <tbody>\n",
       "    <tr>\n",
       "      <th>0</th>\n",
       "      <td>Anhui</td>\n",
       "      <td>Mainland China</td>\n",
       "      <td>31.8257</td>\n",
       "      <td>117.2264</td>\n",
       "      <td>1</td>\n",
       "      <td>9</td>\n",
       "      <td>15</td>\n",
       "      <td>39</td>\n",
       "      <td>60</td>\n",
       "      <td>70</td>\n",
       "      <td>...</td>\n",
       "      <td>989</td>\n",
       "      <td>989</td>\n",
       "      <td>989</td>\n",
       "      <td>989</td>\n",
       "      <td>989</td>\n",
       "      <td>990</td>\n",
       "      <td>990</td>\n",
       "      <td>990</td>\n",
       "      <td>990</td>\n",
       "      <td>990</td>\n",
       "    </tr>\n",
       "    <tr>\n",
       "      <th>1</th>\n",
       "      <td>Beijing</td>\n",
       "      <td>Mainland China</td>\n",
       "      <td>40.1824</td>\n",
       "      <td>116.4142</td>\n",
       "      <td>14</td>\n",
       "      <td>22</td>\n",
       "      <td>36</td>\n",
       "      <td>41</td>\n",
       "      <td>68</td>\n",
       "      <td>80</td>\n",
       "      <td>...</td>\n",
       "      <td>399</td>\n",
       "      <td>399</td>\n",
       "      <td>400</td>\n",
       "      <td>400</td>\n",
       "      <td>410</td>\n",
       "      <td>410</td>\n",
       "      <td>411</td>\n",
       "      <td>413</td>\n",
       "      <td>414</td>\n",
       "      <td>414</td>\n",
       "    </tr>\n",
       "    <tr>\n",
       "      <th>2</th>\n",
       "      <td>Chongqing</td>\n",
       "      <td>Mainland China</td>\n",
       "      <td>30.0572</td>\n",
       "      <td>107.8740</td>\n",
       "      <td>6</td>\n",
       "      <td>9</td>\n",
       "      <td>27</td>\n",
       "      <td>57</td>\n",
       "      <td>75</td>\n",
       "      <td>110</td>\n",
       "      <td>...</td>\n",
       "      <td>575</td>\n",
       "      <td>576</td>\n",
       "      <td>576</td>\n",
       "      <td>576</td>\n",
       "      <td>576</td>\n",
       "      <td>576</td>\n",
       "      <td>576</td>\n",
       "      <td>576</td>\n",
       "      <td>576</td>\n",
       "      <td>576</td>\n",
       "    </tr>\n",
       "    <tr>\n",
       "      <th>3</th>\n",
       "      <td>Fujian</td>\n",
       "      <td>Mainland China</td>\n",
       "      <td>26.0789</td>\n",
       "      <td>117.9874</td>\n",
       "      <td>1</td>\n",
       "      <td>5</td>\n",
       "      <td>10</td>\n",
       "      <td>18</td>\n",
       "      <td>35</td>\n",
       "      <td>59</td>\n",
       "      <td>...</td>\n",
       "      <td>293</td>\n",
       "      <td>293</td>\n",
       "      <td>294</td>\n",
       "      <td>294</td>\n",
       "      <td>296</td>\n",
       "      <td>296</td>\n",
       "      <td>296</td>\n",
       "      <td>296</td>\n",
       "      <td>296</td>\n",
       "      <td>296</td>\n",
       "    </tr>\n",
       "    <tr>\n",
       "      <th>4</th>\n",
       "      <td>Gansu</td>\n",
       "      <td>Mainland China</td>\n",
       "      <td>36.0611</td>\n",
       "      <td>103.8343</td>\n",
       "      <td>0</td>\n",
       "      <td>2</td>\n",
       "      <td>2</td>\n",
       "      <td>4</td>\n",
       "      <td>7</td>\n",
       "      <td>14</td>\n",
       "      <td>...</td>\n",
       "      <td>91</td>\n",
       "      <td>91</td>\n",
       "      <td>91</td>\n",
       "      <td>91</td>\n",
       "      <td>91</td>\n",
       "      <td>91</td>\n",
       "      <td>91</td>\n",
       "      <td>91</td>\n",
       "      <td>91</td>\n",
       "      <td>91</td>\n",
       "    </tr>\n",
       "  </tbody>\n",
       "</table>\n",
       "<p>5 rows × 46 columns</p>\n",
       "</div>"
      ],
      "text/plain": [
       "  Province/State  Country/Region      Lat      Long  1/22/20  1/23/20  \\\n",
       "0          Anhui  Mainland China  31.8257  117.2264        1        9   \n",
       "1        Beijing  Mainland China  40.1824  116.4142       14       22   \n",
       "2      Chongqing  Mainland China  30.0572  107.8740        6        9   \n",
       "3         Fujian  Mainland China  26.0789  117.9874        1        5   \n",
       "4          Gansu  Mainland China  36.0611  103.8343        0        2   \n",
       "\n",
       "   1/24/20  1/25/20  1/26/20  1/27/20   ...    2/23/20  2/24/20  2/25/20  \\\n",
       "0       15       39       60       70   ...        989      989      989   \n",
       "1       36       41       68       80   ...        399      399      400   \n",
       "2       27       57       75      110   ...        575      576      576   \n",
       "3       10       18       35       59   ...        293      293      294   \n",
       "4        2        4        7       14   ...         91       91       91   \n",
       "\n",
       "   2/26/20  2/27/20  2/28/20  2/29/20  3/1/20  3/2/20  3/3/20  \n",
       "0      989      989      990      990     990     990     990  \n",
       "1      400      410      410      411     413     414     414  \n",
       "2      576      576      576      576     576     576     576  \n",
       "3      294      296      296      296     296     296     296  \n",
       "4       91       91       91       91      91      91      91  \n",
       "\n",
       "[5 rows x 46 columns]"
      ]
     },
     "execution_count": 9,
     "metadata": {},
     "output_type": "execute_result"
    }
   ],
   "source": [
    "td  = pd.read_csv('./data/time_series_19-covid-Confirmed.csv')\n",
    "td.head()"
   ]
  },
  {
   "cell_type": "code",
   "execution_count": null,
   "metadata": {},
   "outputs": [],
   "source": [
    "newdf['Covid-19 impact'].replace({0:np.nan})\n",
    "newdf.head()\n",
    "newdf.to_csv('./data/timelinedata.csv')\n",
    "fig = px.scatter(newdf, x=\"Timeline\", y=\"Covid-19 impact\", color = 'Country',title = 'Spread of Covid-19 across countries',width=1000)\n",
    "fig.show()\n"
   ]
  },
  {
   "cell_type": "markdown",
   "metadata": {},
   "source": [
    "### Comapritive analysis with SARS"
   ]
  },
  {
   "cell_type": "code",
   "execution_count": 17,
   "metadata": {},
   "outputs": [],
   "source": [
    "from datetime import datetime\n",
    "data = pd.read_csv('./data/time_series_19-covid-Confirmed.csv')\n",
    "timeline = ['1/22/20', '1/23/20',\n",
    "       '1/24/20', '1/25/20', '1/26/20', '1/27/20', '1/28/20', '1/29/20',\n",
    "       '1/30/20', '1/31/20', '2/1/20', '2/2/20', '2/3/20', '2/4/20', '2/5/20',\n",
    "       '2/6/20', '2/7/20', '2/8/20', '2/9/20', '2/10/20', '2/11/20', '2/12/20',\n",
    "       '2/13/20', '2/14/20', '2/15/20', '2/16/20', '2/17/20', '2/18/20',\n",
    "       '2/19/20', '2/20/20', '2/21/20', '2/22/20', '2/23/20', '2/24/20',\n",
    "       '2/25/20', '2/26/20', '2/27/20', '2/28/20', '2/29/20', '3/1/20',\n",
    "       '3/2/20', '3/3/20'] \n",
    "#list of values to append equal to length of x axis  for plotly plot\n",
    "#for eg x[t1,t2] = [[p1,p1],[20,30],[1000,5000]]\n",
    "time = [];value = [];country=[];province= []\n",
    "col_value = list(data.columns)\n",
    "for i in timeline:\n",
    "    time.append(datetime.strptime(i, '%m/%d/%y'))\n",
    "    value.append(data[i].sum())\n",
    "    \n",
    "\n",
    "newdf1 = pd.DataFrame({'Timeline':time,'Covid-19 impact':value})\n",
    "sars = pd.read_excel('./data/sars_final.xlsx')"
   ]
  },
  {
   "cell_type": "code",
   "execution_count": 21,
   "metadata": {},
   "outputs": [],
   "source": [
    "data1 = pd.read_csv('./data/time_series_19-covid-Deaths.csv')\n",
    "timeline = ['1/22/20', '1/23/20',\n",
    "       '1/24/20', '1/25/20', '1/26/20', '1/27/20', '1/28/20', '1/29/20',\n",
    "       '1/30/20', '1/31/20', '2/1/20', '2/2/20', '2/3/20', '2/4/20', '2/5/20',\n",
    "       '2/6/20', '2/7/20', '2/8/20', '2/9/20', '2/10/20', '2/11/20', '2/12/20',\n",
    "       '2/13/20', '2/14/20', '2/15/20', '2/16/20', '2/17/20', '2/18/20',\n",
    "       '2/19/20', '2/20/20', '2/21/20', '2/22/20', '2/23/20', '2/24/20',\n",
    "       '2/25/20', '2/26/20', '2/27/20', '2/28/20', '2/29/20', '3/1/20',\n",
    "       '3/2/20', '3/3/20'] \n",
    "#list of values to append equal to length of x axis  for plotly plot\n",
    "#for eg x[t1,t2] = [[p1,p1],[20,30],[1000,5000]]\n",
    "time = [];value = [];country=[];province= []\n",
    "col_value = list(data1.columns)\n",
    "for i in timeline:\n",
    "    time.append(datetime.strptime(i, '%m/%d/%y'))\n",
    "    value.append(data1[i].sum())\n",
    "    \n",
    "\n",
    "newdf2 = pd.DataFrame({'Timeline':time,'Covid-19 impact':value})"
   ]
  },
  {
   "cell_type": "code",
   "execution_count": 22,
   "metadata": {},
   "outputs": [],
   "source": [
    "data2 = pd.read_csv('./data/time_series_19-covid-Recovered.csv')\n",
    "timeline = ['1/22/20', '1/23/20',\n",
    "       '1/24/20', '1/25/20', '1/26/20', '1/27/20', '1/28/20', '1/29/20',\n",
    "       '1/30/20', '1/31/20', '2/1/20', '2/2/20', '2/3/20', '2/4/20', '2/5/20',\n",
    "       '2/6/20', '2/7/20', '2/8/20', '2/9/20', '2/10/20', '2/11/20', '2/12/20',\n",
    "       '2/13/20', '2/14/20', '2/15/20', '2/16/20', '2/17/20', '2/18/20',\n",
    "       '2/19/20', '2/20/20', '2/21/20', '2/22/20', '2/23/20', '2/24/20',\n",
    "       '2/25/20', '2/26/20', '2/27/20', '2/28/20', '2/29/20', '3/1/20',\n",
    "       '3/2/20', '3/3/20'] \n",
    "#list of values to append equal to length of x axis  for plotly plot\n",
    "#for eg x[t1,t2] = [[p1,p1],[20,30],[1000,5000]]\n",
    "time = [];value = [];country=[];province= []\n",
    "col_value = list(data2.columns)\n",
    "for i in timeline:\n",
    "    time.append(datetime.strptime(i, '%m/%d/%y'))\n",
    "    value.append(data2[i].sum())\n",
    "    \n",
    "\n",
    "newdf3 = pd.DataFrame({'Timeline':time,'Covid-19 impact':value})"
   ]
  },
  {
   "cell_type": "code",
   "execution_count": 23,
   "metadata": {},
   "outputs": [
    {
     "data": {
      "application/vnd.plotly.v1+json": {
       "config": {
        "plotlyServerURL": "https://plot.ly"
       },
       "data": [
        {
         "name": "COVID-19",
         "type": "scatter",
         "x": [
          "2020-01-22T00:00:00",
          "2020-01-23T00:00:00",
          "2020-01-24T00:00:00",
          "2020-01-25T00:00:00",
          "2020-01-26T00:00:00",
          "2020-01-27T00:00:00",
          "2020-01-28T00:00:00",
          "2020-01-29T00:00:00",
          "2020-01-30T00:00:00",
          "2020-01-31T00:00:00",
          "2020-02-01T00:00:00",
          "2020-02-02T00:00:00",
          "2020-02-03T00:00:00",
          "2020-02-04T00:00:00",
          "2020-02-05T00:00:00",
          "2020-02-06T00:00:00",
          "2020-02-07T00:00:00",
          "2020-02-08T00:00:00",
          "2020-02-09T00:00:00",
          "2020-02-10T00:00:00",
          "2020-02-11T00:00:00",
          "2020-02-12T00:00:00",
          "2020-02-13T00:00:00",
          "2020-02-14T00:00:00",
          "2020-02-15T00:00:00",
          "2020-02-16T00:00:00",
          "2020-02-17T00:00:00",
          "2020-02-18T00:00:00",
          "2020-02-19T00:00:00",
          "2020-02-20T00:00:00",
          "2020-02-21T00:00:00",
          "2020-02-22T00:00:00",
          "2020-02-23T00:00:00",
          "2020-02-24T00:00:00",
          "2020-02-25T00:00:00",
          "2020-02-26T00:00:00",
          "2020-02-27T00:00:00",
          "2020-02-28T00:00:00",
          "2020-02-29T00:00:00",
          "2020-03-01T00:00:00",
          "2020-03-02T00:00:00",
          "2020-03-03T00:00:00"
         ],
         "xaxis": "x",
         "y": [
          555,
          653,
          941,
          1434,
          2118,
          2927,
          5578,
          6166,
          8234,
          9927,
          12038,
          16787,
          19881,
          23892,
          27636,
          30818,
          34392,
          37121,
          40151,
          42763,
          44803,
          45222,
          60370,
          66887,
          69032,
          71226,
          73260,
          75138,
          75641,
          76199,
          76843,
          78599,
          78985,
          79570,
          80415,
          81397,
          82756,
          84122,
          86013,
          88371,
          90309,
          92844
         ],
         "yaxis": "y"
        },
        {
         "name": "SARS",
         "type": "scatter",
         "x": [
          "2003-03-17T00:00:00",
          "2003-03-18T00:00:00",
          "2003-03-19T00:00:00",
          "2003-03-20T00:00:00",
          "2003-03-21T00:00:00",
          "2003-03-22T00:00:00",
          "2003-03-24T00:00:00",
          "2003-03-25T00:00:00",
          "2003-03-26T00:00:00",
          "2003-03-27T00:00:00",
          "2003-03-28T00:00:00",
          "2003-03-29T00:00:00",
          "2003-03-31T00:00:00",
          "2003-04-01T00:00:00",
          "2003-04-02T00:00:00",
          "2003-04-03T00:00:00",
          "2003-04-04T00:00:00",
          "2003-04-05T00:00:00",
          "2003-04-07T00:00:00",
          "2003-04-08T00:00:00",
          "2003-04-09T00:00:00",
          "2003-04-10T00:00:00",
          "2003-04-11T00:00:00",
          "2003-04-12T00:00:00",
          "2003-04-14T00:00:00",
          "2003-04-15T00:00:00",
          "2003-04-16T00:00:00",
          "2003-04-17T00:00:00",
          "2003-04-18T00:00:00",
          "2003-04-19T00:00:00",
          "2003-04-21T00:00:00",
          "2003-04-22T00:00:00",
          "2003-04-23T00:00:00",
          "2003-04-24T00:00:00",
          "2003-04-25T00:00:00",
          "2003-04-26T00:00:00",
          "2003-04-28T00:00:00",
          "2003-04-29T00:00:00",
          "2003-04-30T00:00:00",
          "2003-05-01T00:00:00",
          "2003-05-02T00:00:00",
          "2003-05-03T00:00:00",
          "2003-05-05T00:00:00",
          "2003-05-06T00:00:00",
          "2003-05-07T00:00:00",
          "2003-05-08T00:00:00",
          "2003-05-09T00:00:00",
          "2003-05-10T00:00:00",
          "2003-05-12T00:00:00",
          "2003-05-13T00:00:00",
          "2003-05-14T00:00:00",
          "2003-05-15T00:00:00",
          "2003-05-16T00:00:00",
          "2003-05-17T00:00:00",
          "2003-05-19T00:00:00",
          "2003-05-20T00:00:00",
          "2003-05-21T00:00:00",
          "2003-05-22T00:00:00",
          "2003-05-23T00:00:00",
          "2003-05-24T00:00:00",
          "2003-05-26T00:00:00",
          "2003-05-27T00:00:00",
          "2003-05-28T00:00:00",
          "2003-05-29T00:00:00",
          "2003-05-30T00:00:00",
          "2003-05-31T00:00:00",
          "2003-06-02T00:00:00",
          "2003-06-03T00:00:00",
          "2003-06-04T00:00:00",
          "2003-06-05T00:00:00",
          "2003-06-06T00:00:00",
          "2003-06-09T00:00:00",
          "2003-06-10T00:00:00",
          "2003-06-11T00:00:00",
          "2003-06-12T00:00:00",
          "2003-06-13T00:00:00",
          "2003-06-16T00:00:00",
          "2003-06-17T00:00:00",
          "2003-06-18T00:00:00",
          "2003-06-19T00:00:00",
          "2003-06-20T00:00:00",
          "2003-06-23T00:00:00",
          "2003-06-24T00:00:00",
          "2003-06-25T00:00:00",
          "2003-06-26T00:00:00",
          "2003-06-27T00:00:00",
          "2003-06-30T00:00:00",
          "2003-07-01T00:00:00",
          "2003-07-02T00:00:00",
          "2003-07-03T00:00:00",
          "2003-07-04T00:00:00",
          "2003-07-07T00:00:00",
          "2003-07-08T00:00:00",
          "2003-07-09T00:00:00",
          "2003-07-10T00:00:00",
          "2003-07-11T00:00:00"
         ],
         "xaxis": "x2",
         "y": [
          167,
          219,
          264,
          306,
          350,
          386,
          456,
          487,
          1323,
          1408,
          1485,
          1550,
          1622,
          1804,
          2223,
          2270,
          2353,
          2416,
          2601,
          2671,
          2722,
          2781,
          2890,
          2960,
          3169,
          3235,
          3293,
          3389,
          3547,
          3547,
          3861,
          3947,
          4288,
          4439,
          4649,
          4836,
          5050,
          5462,
          5663,
          5865,
          6054,
          6234,
          6583,
          6727,
          6903,
          7053,
          7183,
          7296,
          7447,
          7548,
          7628,
          7699,
          7739,
          7761,
          7864,
          7919,
          7956,
          8046,
          8117,
          8141,
          8202,
          8221,
          8240,
          8295,
          8317,
          8360,
          8384,
          8398,
          8402,
          8403,
          8404,
          8421,
          8430,
          8435,
          8445,
          8454,
          8460,
          8464,
          8465,
          8462,
          8461,
          8459,
          8458,
          8460,
          8456,
          8450,
          8447,
          8445,
          8442,
          8439,
          8439,
          8439,
          8436,
          8436,
          8437,
          8437
         ],
         "yaxis": "y2"
        }
       ],
       "layout": {
        "height": 400,
        "template": {
         "data": {
          "bar": [
           {
            "error_x": {
             "color": "#2a3f5f"
            },
            "error_y": {
             "color": "#2a3f5f"
            },
            "marker": {
             "line": {
              "color": "#E5ECF6",
              "width": 0.5
             }
            },
            "type": "bar"
           }
          ],
          "barpolar": [
           {
            "marker": {
             "line": {
              "color": "#E5ECF6",
              "width": 0.5
             }
            },
            "type": "barpolar"
           }
          ],
          "carpet": [
           {
            "aaxis": {
             "endlinecolor": "#2a3f5f",
             "gridcolor": "white",
             "linecolor": "white",
             "minorgridcolor": "white",
             "startlinecolor": "#2a3f5f"
            },
            "baxis": {
             "endlinecolor": "#2a3f5f",
             "gridcolor": "white",
             "linecolor": "white",
             "minorgridcolor": "white",
             "startlinecolor": "#2a3f5f"
            },
            "type": "carpet"
           }
          ],
          "choropleth": [
           {
            "colorbar": {
             "outlinewidth": 0,
             "ticks": ""
            },
            "type": "choropleth"
           }
          ],
          "contour": [
           {
            "colorbar": {
             "outlinewidth": 0,
             "ticks": ""
            },
            "colorscale": [
             [
              0,
              "#0d0887"
             ],
             [
              0.1111111111111111,
              "#46039f"
             ],
             [
              0.2222222222222222,
              "#7201a8"
             ],
             [
              0.3333333333333333,
              "#9c179e"
             ],
             [
              0.4444444444444444,
              "#bd3786"
             ],
             [
              0.5555555555555556,
              "#d8576b"
             ],
             [
              0.6666666666666666,
              "#ed7953"
             ],
             [
              0.7777777777777778,
              "#fb9f3a"
             ],
             [
              0.8888888888888888,
              "#fdca26"
             ],
             [
              1,
              "#f0f921"
             ]
            ],
            "type": "contour"
           }
          ],
          "contourcarpet": [
           {
            "colorbar": {
             "outlinewidth": 0,
             "ticks": ""
            },
            "type": "contourcarpet"
           }
          ],
          "heatmap": [
           {
            "colorbar": {
             "outlinewidth": 0,
             "ticks": ""
            },
            "colorscale": [
             [
              0,
              "#0d0887"
             ],
             [
              0.1111111111111111,
              "#46039f"
             ],
             [
              0.2222222222222222,
              "#7201a8"
             ],
             [
              0.3333333333333333,
              "#9c179e"
             ],
             [
              0.4444444444444444,
              "#bd3786"
             ],
             [
              0.5555555555555556,
              "#d8576b"
             ],
             [
              0.6666666666666666,
              "#ed7953"
             ],
             [
              0.7777777777777778,
              "#fb9f3a"
             ],
             [
              0.8888888888888888,
              "#fdca26"
             ],
             [
              1,
              "#f0f921"
             ]
            ],
            "type": "heatmap"
           }
          ],
          "heatmapgl": [
           {
            "colorbar": {
             "outlinewidth": 0,
             "ticks": ""
            },
            "colorscale": [
             [
              0,
              "#0d0887"
             ],
             [
              0.1111111111111111,
              "#46039f"
             ],
             [
              0.2222222222222222,
              "#7201a8"
             ],
             [
              0.3333333333333333,
              "#9c179e"
             ],
             [
              0.4444444444444444,
              "#bd3786"
             ],
             [
              0.5555555555555556,
              "#d8576b"
             ],
             [
              0.6666666666666666,
              "#ed7953"
             ],
             [
              0.7777777777777778,
              "#fb9f3a"
             ],
             [
              0.8888888888888888,
              "#fdca26"
             ],
             [
              1,
              "#f0f921"
             ]
            ],
            "type": "heatmapgl"
           }
          ],
          "histogram": [
           {
            "marker": {
             "colorbar": {
              "outlinewidth": 0,
              "ticks": ""
             }
            },
            "type": "histogram"
           }
          ],
          "histogram2d": [
           {
            "colorbar": {
             "outlinewidth": 0,
             "ticks": ""
            },
            "colorscale": [
             [
              0,
              "#0d0887"
             ],
             [
              0.1111111111111111,
              "#46039f"
             ],
             [
              0.2222222222222222,
              "#7201a8"
             ],
             [
              0.3333333333333333,
              "#9c179e"
             ],
             [
              0.4444444444444444,
              "#bd3786"
             ],
             [
              0.5555555555555556,
              "#d8576b"
             ],
             [
              0.6666666666666666,
              "#ed7953"
             ],
             [
              0.7777777777777778,
              "#fb9f3a"
             ],
             [
              0.8888888888888888,
              "#fdca26"
             ],
             [
              1,
              "#f0f921"
             ]
            ],
            "type": "histogram2d"
           }
          ],
          "histogram2dcontour": [
           {
            "colorbar": {
             "outlinewidth": 0,
             "ticks": ""
            },
            "colorscale": [
             [
              0,
              "#0d0887"
             ],
             [
              0.1111111111111111,
              "#46039f"
             ],
             [
              0.2222222222222222,
              "#7201a8"
             ],
             [
              0.3333333333333333,
              "#9c179e"
             ],
             [
              0.4444444444444444,
              "#bd3786"
             ],
             [
              0.5555555555555556,
              "#d8576b"
             ],
             [
              0.6666666666666666,
              "#ed7953"
             ],
             [
              0.7777777777777778,
              "#fb9f3a"
             ],
             [
              0.8888888888888888,
              "#fdca26"
             ],
             [
              1,
              "#f0f921"
             ]
            ],
            "type": "histogram2dcontour"
           }
          ],
          "mesh3d": [
           {
            "colorbar": {
             "outlinewidth": 0,
             "ticks": ""
            },
            "type": "mesh3d"
           }
          ],
          "parcoords": [
           {
            "line": {
             "colorbar": {
              "outlinewidth": 0,
              "ticks": ""
             }
            },
            "type": "parcoords"
           }
          ],
          "pie": [
           {
            "automargin": true,
            "type": "pie"
           }
          ],
          "scatter": [
           {
            "marker": {
             "colorbar": {
              "outlinewidth": 0,
              "ticks": ""
             }
            },
            "type": "scatter"
           }
          ],
          "scatter3d": [
           {
            "line": {
             "colorbar": {
              "outlinewidth": 0,
              "ticks": ""
             }
            },
            "marker": {
             "colorbar": {
              "outlinewidth": 0,
              "ticks": ""
             }
            },
            "type": "scatter3d"
           }
          ],
          "scattercarpet": [
           {
            "marker": {
             "colorbar": {
              "outlinewidth": 0,
              "ticks": ""
             }
            },
            "type": "scattercarpet"
           }
          ],
          "scattergeo": [
           {
            "marker": {
             "colorbar": {
              "outlinewidth": 0,
              "ticks": ""
             }
            },
            "type": "scattergeo"
           }
          ],
          "scattergl": [
           {
            "marker": {
             "colorbar": {
              "outlinewidth": 0,
              "ticks": ""
             }
            },
            "type": "scattergl"
           }
          ],
          "scattermapbox": [
           {
            "marker": {
             "colorbar": {
              "outlinewidth": 0,
              "ticks": ""
             }
            },
            "type": "scattermapbox"
           }
          ],
          "scatterpolar": [
           {
            "marker": {
             "colorbar": {
              "outlinewidth": 0,
              "ticks": ""
             }
            },
            "type": "scatterpolar"
           }
          ],
          "scatterpolargl": [
           {
            "marker": {
             "colorbar": {
              "outlinewidth": 0,
              "ticks": ""
             }
            },
            "type": "scatterpolargl"
           }
          ],
          "scatterternary": [
           {
            "marker": {
             "colorbar": {
              "outlinewidth": 0,
              "ticks": ""
             }
            },
            "type": "scatterternary"
           }
          ],
          "surface": [
           {
            "colorbar": {
             "outlinewidth": 0,
             "ticks": ""
            },
            "colorscale": [
             [
              0,
              "#0d0887"
             ],
             [
              0.1111111111111111,
              "#46039f"
             ],
             [
              0.2222222222222222,
              "#7201a8"
             ],
             [
              0.3333333333333333,
              "#9c179e"
             ],
             [
              0.4444444444444444,
              "#bd3786"
             ],
             [
              0.5555555555555556,
              "#d8576b"
             ],
             [
              0.6666666666666666,
              "#ed7953"
             ],
             [
              0.7777777777777778,
              "#fb9f3a"
             ],
             [
              0.8888888888888888,
              "#fdca26"
             ],
             [
              1,
              "#f0f921"
             ]
            ],
            "type": "surface"
           }
          ],
          "table": [
           {
            "cells": {
             "fill": {
              "color": "#EBF0F8"
             },
             "line": {
              "color": "white"
             }
            },
            "header": {
             "fill": {
              "color": "#C8D4E3"
             },
             "line": {
              "color": "white"
             }
            },
            "type": "table"
           }
          ]
         },
         "layout": {
          "annotationdefaults": {
           "arrowcolor": "#2a3f5f",
           "arrowhead": 0,
           "arrowwidth": 1
          },
          "coloraxis": {
           "colorbar": {
            "outlinewidth": 0,
            "ticks": ""
           }
          },
          "colorscale": {
           "diverging": [
            [
             0,
             "#8e0152"
            ],
            [
             0.1,
             "#c51b7d"
            ],
            [
             0.2,
             "#de77ae"
            ],
            [
             0.3,
             "#f1b6da"
            ],
            [
             0.4,
             "#fde0ef"
            ],
            [
             0.5,
             "#f7f7f7"
            ],
            [
             0.6,
             "#e6f5d0"
            ],
            [
             0.7,
             "#b8e186"
            ],
            [
             0.8,
             "#7fbc41"
            ],
            [
             0.9,
             "#4d9221"
            ],
            [
             1,
             "#276419"
            ]
           ],
           "sequential": [
            [
             0,
             "#0d0887"
            ],
            [
             0.1111111111111111,
             "#46039f"
            ],
            [
             0.2222222222222222,
             "#7201a8"
            ],
            [
             0.3333333333333333,
             "#9c179e"
            ],
            [
             0.4444444444444444,
             "#bd3786"
            ],
            [
             0.5555555555555556,
             "#d8576b"
            ],
            [
             0.6666666666666666,
             "#ed7953"
            ],
            [
             0.7777777777777778,
             "#fb9f3a"
            ],
            [
             0.8888888888888888,
             "#fdca26"
            ],
            [
             1,
             "#f0f921"
            ]
           ],
           "sequentialminus": [
            [
             0,
             "#0d0887"
            ],
            [
             0.1111111111111111,
             "#46039f"
            ],
            [
             0.2222222222222222,
             "#7201a8"
            ],
            [
             0.3333333333333333,
             "#9c179e"
            ],
            [
             0.4444444444444444,
             "#bd3786"
            ],
            [
             0.5555555555555556,
             "#d8576b"
            ],
            [
             0.6666666666666666,
             "#ed7953"
            ],
            [
             0.7777777777777778,
             "#fb9f3a"
            ],
            [
             0.8888888888888888,
             "#fdca26"
            ],
            [
             1,
             "#f0f921"
            ]
           ]
          },
          "colorway": [
           "#636efa",
           "#EF553B",
           "#00cc96",
           "#ab63fa",
           "#FFA15A",
           "#19d3f3",
           "#FF6692",
           "#B6E880",
           "#FF97FF",
           "#FECB52"
          ],
          "font": {
           "color": "#2a3f5f"
          },
          "geo": {
           "bgcolor": "white",
           "lakecolor": "white",
           "landcolor": "#E5ECF6",
           "showlakes": true,
           "showland": true,
           "subunitcolor": "white"
          },
          "hoverlabel": {
           "align": "left"
          },
          "hovermode": "closest",
          "mapbox": {
           "style": "light"
          },
          "paper_bgcolor": "white",
          "plot_bgcolor": "#E5ECF6",
          "polar": {
           "angularaxis": {
            "gridcolor": "white",
            "linecolor": "white",
            "ticks": ""
           },
           "bgcolor": "#E5ECF6",
           "radialaxis": {
            "gridcolor": "white",
            "linecolor": "white",
            "ticks": ""
           }
          },
          "scene": {
           "xaxis": {
            "backgroundcolor": "#E5ECF6",
            "gridcolor": "white",
            "gridwidth": 2,
            "linecolor": "white",
            "showbackground": true,
            "ticks": "",
            "zerolinecolor": "white"
           },
           "yaxis": {
            "backgroundcolor": "#E5ECF6",
            "gridcolor": "white",
            "gridwidth": 2,
            "linecolor": "white",
            "showbackground": true,
            "ticks": "",
            "zerolinecolor": "white"
           },
           "zaxis": {
            "backgroundcolor": "#E5ECF6",
            "gridcolor": "white",
            "gridwidth": 2,
            "linecolor": "white",
            "showbackground": true,
            "ticks": "",
            "zerolinecolor": "white"
           }
          },
          "shapedefaults": {
           "line": {
            "color": "#2a3f5f"
           }
          },
          "ternary": {
           "aaxis": {
            "gridcolor": "white",
            "linecolor": "white",
            "ticks": ""
           },
           "baxis": {
            "gridcolor": "white",
            "linecolor": "white",
            "ticks": ""
           },
           "bgcolor": "#E5ECF6",
           "caxis": {
            "gridcolor": "white",
            "linecolor": "white",
            "ticks": ""
           }
          },
          "title": {
           "x": 0.05
          },
          "xaxis": {
           "automargin": true,
           "gridcolor": "white",
           "linecolor": "white",
           "ticks": "",
           "title": {
            "standoff": 15
           },
           "zerolinecolor": "white",
           "zerolinewidth": 2
          },
          "yaxis": {
           "automargin": true,
           "gridcolor": "white",
           "linecolor": "white",
           "ticks": "",
           "title": {
            "standoff": 15
           },
           "zerolinecolor": "white",
           "zerolinewidth": 2
          }
         }
        },
        "title": {
         "text": "Impact of COVID-19 vs SARS: Infected Cases"
        },
        "width": 1100,
        "xaxis": {
         "anchor": "y",
         "domain": [
          0,
          0.45
         ],
         "title": {
          "text": "Timeline (Initial three months)"
         }
        },
        "xaxis2": {
         "anchor": "y2",
         "domain": [
          0.55,
          1
         ],
         "title": {
          "text": "Timeline (Initial three months)"
         }
        },
        "yaxis": {
         "anchor": "x",
         "domain": [
          0,
          1
         ]
        },
        "yaxis2": {
         "anchor": "x2",
         "domain": [
          0,
          1
         ]
        }
       }
      },
      "text/html": [
       "<div>\n",
       "        \n",
       "        \n",
       "            <div id=\"4f5bb5c9-d918-40cb-ba49-c74e7e992100\" class=\"plotly-graph-div\" style=\"height:400px; width:1100px;\"></div>\n",
       "            <script type=\"text/javascript\">\n",
       "                require([\"plotly\"], function(Plotly) {\n",
       "                    window.PLOTLYENV=window.PLOTLYENV || {};\n",
       "                    \n",
       "                if (document.getElementById(\"4f5bb5c9-d918-40cb-ba49-c74e7e992100\")) {\n",
       "                    Plotly.newPlot(\n",
       "                        '4f5bb5c9-d918-40cb-ba49-c74e7e992100',\n",
       "                        [{\"name\": \"COVID-19\", \"type\": \"scatter\", \"x\": [\"2020-01-22T00:00:00\", \"2020-01-23T00:00:00\", \"2020-01-24T00:00:00\", \"2020-01-25T00:00:00\", \"2020-01-26T00:00:00\", \"2020-01-27T00:00:00\", \"2020-01-28T00:00:00\", \"2020-01-29T00:00:00\", \"2020-01-30T00:00:00\", \"2020-01-31T00:00:00\", \"2020-02-01T00:00:00\", \"2020-02-02T00:00:00\", \"2020-02-03T00:00:00\", \"2020-02-04T00:00:00\", \"2020-02-05T00:00:00\", \"2020-02-06T00:00:00\", \"2020-02-07T00:00:00\", \"2020-02-08T00:00:00\", \"2020-02-09T00:00:00\", \"2020-02-10T00:00:00\", \"2020-02-11T00:00:00\", \"2020-02-12T00:00:00\", \"2020-02-13T00:00:00\", \"2020-02-14T00:00:00\", \"2020-02-15T00:00:00\", \"2020-02-16T00:00:00\", \"2020-02-17T00:00:00\", \"2020-02-18T00:00:00\", \"2020-02-19T00:00:00\", \"2020-02-20T00:00:00\", \"2020-02-21T00:00:00\", \"2020-02-22T00:00:00\", \"2020-02-23T00:00:00\", \"2020-02-24T00:00:00\", \"2020-02-25T00:00:00\", \"2020-02-26T00:00:00\", \"2020-02-27T00:00:00\", \"2020-02-28T00:00:00\", \"2020-02-29T00:00:00\", \"2020-03-01T00:00:00\", \"2020-03-02T00:00:00\", \"2020-03-03T00:00:00\"], \"xaxis\": \"x\", \"y\": [555, 653, 941, 1434, 2118, 2927, 5578, 6166, 8234, 9927, 12038, 16787, 19881, 23892, 27636, 30818, 34392, 37121, 40151, 42763, 44803, 45222, 60370, 66887, 69032, 71226, 73260, 75138, 75641, 76199, 76843, 78599, 78985, 79570, 80415, 81397, 82756, 84122, 86013, 88371, 90309, 92844], \"yaxis\": \"y\"}, {\"name\": \"SARS\", \"type\": \"scatter\", \"x\": [\"2003-03-17T00:00:00\", \"2003-03-18T00:00:00\", \"2003-03-19T00:00:00\", \"2003-03-20T00:00:00\", \"2003-03-21T00:00:00\", \"2003-03-22T00:00:00\", \"2003-03-24T00:00:00\", \"2003-03-25T00:00:00\", \"2003-03-26T00:00:00\", \"2003-03-27T00:00:00\", \"2003-03-28T00:00:00\", \"2003-03-29T00:00:00\", \"2003-03-31T00:00:00\", \"2003-04-01T00:00:00\", \"2003-04-02T00:00:00\", \"2003-04-03T00:00:00\", \"2003-04-04T00:00:00\", \"2003-04-05T00:00:00\", \"2003-04-07T00:00:00\", \"2003-04-08T00:00:00\", \"2003-04-09T00:00:00\", \"2003-04-10T00:00:00\", \"2003-04-11T00:00:00\", \"2003-04-12T00:00:00\", \"2003-04-14T00:00:00\", \"2003-04-15T00:00:00\", \"2003-04-16T00:00:00\", \"2003-04-17T00:00:00\", \"2003-04-18T00:00:00\", \"2003-04-19T00:00:00\", \"2003-04-21T00:00:00\", \"2003-04-22T00:00:00\", \"2003-04-23T00:00:00\", \"2003-04-24T00:00:00\", \"2003-04-25T00:00:00\", \"2003-04-26T00:00:00\", \"2003-04-28T00:00:00\", \"2003-04-29T00:00:00\", \"2003-04-30T00:00:00\", \"2003-05-01T00:00:00\", \"2003-05-02T00:00:00\", \"2003-05-03T00:00:00\", \"2003-05-05T00:00:00\", \"2003-05-06T00:00:00\", \"2003-05-07T00:00:00\", \"2003-05-08T00:00:00\", \"2003-05-09T00:00:00\", \"2003-05-10T00:00:00\", \"2003-05-12T00:00:00\", \"2003-05-13T00:00:00\", \"2003-05-14T00:00:00\", \"2003-05-15T00:00:00\", \"2003-05-16T00:00:00\", \"2003-05-17T00:00:00\", \"2003-05-19T00:00:00\", \"2003-05-20T00:00:00\", \"2003-05-21T00:00:00\", \"2003-05-22T00:00:00\", \"2003-05-23T00:00:00\", \"2003-05-24T00:00:00\", \"2003-05-26T00:00:00\", \"2003-05-27T00:00:00\", \"2003-05-28T00:00:00\", \"2003-05-29T00:00:00\", \"2003-05-30T00:00:00\", \"2003-05-31T00:00:00\", \"2003-06-02T00:00:00\", \"2003-06-03T00:00:00\", \"2003-06-04T00:00:00\", \"2003-06-05T00:00:00\", \"2003-06-06T00:00:00\", \"2003-06-09T00:00:00\", \"2003-06-10T00:00:00\", \"2003-06-11T00:00:00\", \"2003-06-12T00:00:00\", \"2003-06-13T00:00:00\", \"2003-06-16T00:00:00\", \"2003-06-17T00:00:00\", \"2003-06-18T00:00:00\", \"2003-06-19T00:00:00\", \"2003-06-20T00:00:00\", \"2003-06-23T00:00:00\", \"2003-06-24T00:00:00\", \"2003-06-25T00:00:00\", \"2003-06-26T00:00:00\", \"2003-06-27T00:00:00\", \"2003-06-30T00:00:00\", \"2003-07-01T00:00:00\", \"2003-07-02T00:00:00\", \"2003-07-03T00:00:00\", \"2003-07-04T00:00:00\", \"2003-07-07T00:00:00\", \"2003-07-08T00:00:00\", \"2003-07-09T00:00:00\", \"2003-07-10T00:00:00\", \"2003-07-11T00:00:00\"], \"xaxis\": \"x2\", \"y\": [167, 219, 264, 306, 350, 386, 456, 487, 1323, 1408, 1485, 1550, 1622, 1804, 2223, 2270, 2353, 2416, 2601, 2671, 2722, 2781, 2890, 2960, 3169, 3235, 3293, 3389, 3547, 3547, 3861, 3947, 4288, 4439, 4649, 4836, 5050, 5462, 5663, 5865, 6054, 6234, 6583, 6727, 6903, 7053, 7183, 7296, 7447, 7548, 7628, 7699, 7739, 7761, 7864, 7919, 7956, 8046, 8117, 8141, 8202, 8221, 8240, 8295, 8317, 8360, 8384, 8398, 8402, 8403, 8404, 8421, 8430, 8435, 8445, 8454, 8460, 8464, 8465, 8462, 8461, 8459, 8458, 8460, 8456, 8450, 8447, 8445, 8442, 8439, 8439, 8439, 8436, 8436, 8437, 8437], \"yaxis\": \"y2\"}],\n",
       "                        {\"height\": 400, \"template\": {\"data\": {\"bar\": [{\"error_x\": {\"color\": \"#2a3f5f\"}, \"error_y\": {\"color\": \"#2a3f5f\"}, \"marker\": {\"line\": {\"color\": \"#E5ECF6\", \"width\": 0.5}}, \"type\": \"bar\"}], \"barpolar\": [{\"marker\": {\"line\": {\"color\": \"#E5ECF6\", \"width\": 0.5}}, \"type\": \"barpolar\"}], \"carpet\": [{\"aaxis\": {\"endlinecolor\": \"#2a3f5f\", \"gridcolor\": \"white\", \"linecolor\": \"white\", \"minorgridcolor\": \"white\", \"startlinecolor\": \"#2a3f5f\"}, \"baxis\": {\"endlinecolor\": \"#2a3f5f\", \"gridcolor\": \"white\", \"linecolor\": \"white\", \"minorgridcolor\": \"white\", \"startlinecolor\": \"#2a3f5f\"}, \"type\": \"carpet\"}], \"choropleth\": [{\"colorbar\": {\"outlinewidth\": 0, \"ticks\": \"\"}, \"type\": \"choropleth\"}], \"contour\": [{\"colorbar\": {\"outlinewidth\": 0, \"ticks\": \"\"}, \"colorscale\": [[0.0, \"#0d0887\"], [0.1111111111111111, \"#46039f\"], [0.2222222222222222, \"#7201a8\"], [0.3333333333333333, \"#9c179e\"], [0.4444444444444444, \"#bd3786\"], [0.5555555555555556, \"#d8576b\"], [0.6666666666666666, \"#ed7953\"], [0.7777777777777778, \"#fb9f3a\"], [0.8888888888888888, \"#fdca26\"], [1.0, \"#f0f921\"]], \"type\": \"contour\"}], \"contourcarpet\": [{\"colorbar\": {\"outlinewidth\": 0, \"ticks\": \"\"}, \"type\": \"contourcarpet\"}], \"heatmap\": [{\"colorbar\": {\"outlinewidth\": 0, \"ticks\": \"\"}, \"colorscale\": [[0.0, \"#0d0887\"], [0.1111111111111111, \"#46039f\"], [0.2222222222222222, \"#7201a8\"], [0.3333333333333333, \"#9c179e\"], [0.4444444444444444, \"#bd3786\"], [0.5555555555555556, \"#d8576b\"], [0.6666666666666666, \"#ed7953\"], [0.7777777777777778, \"#fb9f3a\"], [0.8888888888888888, \"#fdca26\"], [1.0, \"#f0f921\"]], \"type\": \"heatmap\"}], \"heatmapgl\": [{\"colorbar\": {\"outlinewidth\": 0, \"ticks\": \"\"}, \"colorscale\": [[0.0, \"#0d0887\"], [0.1111111111111111, \"#46039f\"], [0.2222222222222222, \"#7201a8\"], [0.3333333333333333, \"#9c179e\"], [0.4444444444444444, \"#bd3786\"], [0.5555555555555556, \"#d8576b\"], [0.6666666666666666, \"#ed7953\"], [0.7777777777777778, \"#fb9f3a\"], [0.8888888888888888, \"#fdca26\"], [1.0, \"#f0f921\"]], \"type\": \"heatmapgl\"}], \"histogram\": [{\"marker\": {\"colorbar\": {\"outlinewidth\": 0, \"ticks\": \"\"}}, \"type\": \"histogram\"}], \"histogram2d\": [{\"colorbar\": {\"outlinewidth\": 0, \"ticks\": \"\"}, \"colorscale\": [[0.0, \"#0d0887\"], [0.1111111111111111, \"#46039f\"], [0.2222222222222222, \"#7201a8\"], [0.3333333333333333, \"#9c179e\"], [0.4444444444444444, \"#bd3786\"], [0.5555555555555556, \"#d8576b\"], [0.6666666666666666, \"#ed7953\"], [0.7777777777777778, \"#fb9f3a\"], [0.8888888888888888, \"#fdca26\"], [1.0, \"#f0f921\"]], \"type\": \"histogram2d\"}], \"histogram2dcontour\": [{\"colorbar\": {\"outlinewidth\": 0, \"ticks\": \"\"}, \"colorscale\": [[0.0, \"#0d0887\"], [0.1111111111111111, \"#46039f\"], [0.2222222222222222, \"#7201a8\"], [0.3333333333333333, \"#9c179e\"], [0.4444444444444444, \"#bd3786\"], [0.5555555555555556, \"#d8576b\"], [0.6666666666666666, \"#ed7953\"], [0.7777777777777778, \"#fb9f3a\"], [0.8888888888888888, \"#fdca26\"], [1.0, \"#f0f921\"]], \"type\": \"histogram2dcontour\"}], \"mesh3d\": [{\"colorbar\": {\"outlinewidth\": 0, \"ticks\": \"\"}, \"type\": \"mesh3d\"}], \"parcoords\": [{\"line\": {\"colorbar\": {\"outlinewidth\": 0, \"ticks\": \"\"}}, \"type\": \"parcoords\"}], \"pie\": [{\"automargin\": true, \"type\": \"pie\"}], \"scatter\": [{\"marker\": {\"colorbar\": {\"outlinewidth\": 0, \"ticks\": \"\"}}, \"type\": \"scatter\"}], \"scatter3d\": [{\"line\": {\"colorbar\": {\"outlinewidth\": 0, \"ticks\": \"\"}}, \"marker\": {\"colorbar\": {\"outlinewidth\": 0, \"ticks\": \"\"}}, \"type\": \"scatter3d\"}], \"scattercarpet\": [{\"marker\": {\"colorbar\": {\"outlinewidth\": 0, \"ticks\": \"\"}}, \"type\": \"scattercarpet\"}], \"scattergeo\": [{\"marker\": {\"colorbar\": {\"outlinewidth\": 0, \"ticks\": \"\"}}, \"type\": \"scattergeo\"}], \"scattergl\": [{\"marker\": {\"colorbar\": {\"outlinewidth\": 0, \"ticks\": \"\"}}, \"type\": \"scattergl\"}], \"scattermapbox\": [{\"marker\": {\"colorbar\": {\"outlinewidth\": 0, \"ticks\": \"\"}}, \"type\": \"scattermapbox\"}], \"scatterpolar\": [{\"marker\": {\"colorbar\": {\"outlinewidth\": 0, \"ticks\": \"\"}}, \"type\": \"scatterpolar\"}], \"scatterpolargl\": [{\"marker\": {\"colorbar\": {\"outlinewidth\": 0, \"ticks\": \"\"}}, \"type\": \"scatterpolargl\"}], \"scatterternary\": [{\"marker\": {\"colorbar\": {\"outlinewidth\": 0, \"ticks\": \"\"}}, \"type\": \"scatterternary\"}], \"surface\": [{\"colorbar\": {\"outlinewidth\": 0, \"ticks\": \"\"}, \"colorscale\": [[0.0, \"#0d0887\"], [0.1111111111111111, \"#46039f\"], [0.2222222222222222, \"#7201a8\"], [0.3333333333333333, \"#9c179e\"], [0.4444444444444444, \"#bd3786\"], [0.5555555555555556, \"#d8576b\"], [0.6666666666666666, \"#ed7953\"], [0.7777777777777778, \"#fb9f3a\"], [0.8888888888888888, \"#fdca26\"], [1.0, \"#f0f921\"]], \"type\": \"surface\"}], \"table\": [{\"cells\": {\"fill\": {\"color\": \"#EBF0F8\"}, \"line\": {\"color\": \"white\"}}, \"header\": {\"fill\": {\"color\": \"#C8D4E3\"}, \"line\": {\"color\": \"white\"}}, \"type\": \"table\"}]}, \"layout\": {\"annotationdefaults\": {\"arrowcolor\": \"#2a3f5f\", \"arrowhead\": 0, \"arrowwidth\": 1}, \"coloraxis\": {\"colorbar\": {\"outlinewidth\": 0, \"ticks\": \"\"}}, \"colorscale\": {\"diverging\": [[0, \"#8e0152\"], [0.1, \"#c51b7d\"], [0.2, \"#de77ae\"], [0.3, \"#f1b6da\"], [0.4, \"#fde0ef\"], [0.5, \"#f7f7f7\"], [0.6, \"#e6f5d0\"], [0.7, \"#b8e186\"], [0.8, \"#7fbc41\"], [0.9, \"#4d9221\"], [1, \"#276419\"]], \"sequential\": [[0.0, \"#0d0887\"], [0.1111111111111111, \"#46039f\"], [0.2222222222222222, \"#7201a8\"], [0.3333333333333333, \"#9c179e\"], [0.4444444444444444, \"#bd3786\"], [0.5555555555555556, \"#d8576b\"], [0.6666666666666666, \"#ed7953\"], [0.7777777777777778, \"#fb9f3a\"], [0.8888888888888888, \"#fdca26\"], [1.0, \"#f0f921\"]], \"sequentialminus\": [[0.0, \"#0d0887\"], [0.1111111111111111, \"#46039f\"], [0.2222222222222222, \"#7201a8\"], [0.3333333333333333, \"#9c179e\"], [0.4444444444444444, \"#bd3786\"], [0.5555555555555556, \"#d8576b\"], [0.6666666666666666, \"#ed7953\"], [0.7777777777777778, \"#fb9f3a\"], [0.8888888888888888, \"#fdca26\"], [1.0, \"#f0f921\"]]}, \"colorway\": [\"#636efa\", \"#EF553B\", \"#00cc96\", \"#ab63fa\", \"#FFA15A\", \"#19d3f3\", \"#FF6692\", \"#B6E880\", \"#FF97FF\", \"#FECB52\"], \"font\": {\"color\": \"#2a3f5f\"}, \"geo\": {\"bgcolor\": \"white\", \"lakecolor\": \"white\", \"landcolor\": \"#E5ECF6\", \"showlakes\": true, \"showland\": true, \"subunitcolor\": \"white\"}, \"hoverlabel\": {\"align\": \"left\"}, \"hovermode\": \"closest\", \"mapbox\": {\"style\": \"light\"}, \"paper_bgcolor\": \"white\", \"plot_bgcolor\": \"#E5ECF6\", \"polar\": {\"angularaxis\": {\"gridcolor\": \"white\", \"linecolor\": \"white\", \"ticks\": \"\"}, \"bgcolor\": \"#E5ECF6\", \"radialaxis\": {\"gridcolor\": \"white\", \"linecolor\": \"white\", \"ticks\": \"\"}}, \"scene\": {\"xaxis\": {\"backgroundcolor\": \"#E5ECF6\", \"gridcolor\": \"white\", \"gridwidth\": 2, \"linecolor\": \"white\", \"showbackground\": true, \"ticks\": \"\", \"zerolinecolor\": \"white\"}, \"yaxis\": {\"backgroundcolor\": \"#E5ECF6\", \"gridcolor\": \"white\", \"gridwidth\": 2, \"linecolor\": \"white\", \"showbackground\": true, \"ticks\": \"\", \"zerolinecolor\": \"white\"}, \"zaxis\": {\"backgroundcolor\": \"#E5ECF6\", \"gridcolor\": \"white\", \"gridwidth\": 2, \"linecolor\": \"white\", \"showbackground\": true, \"ticks\": \"\", \"zerolinecolor\": \"white\"}}, \"shapedefaults\": {\"line\": {\"color\": \"#2a3f5f\"}}, \"ternary\": {\"aaxis\": {\"gridcolor\": \"white\", \"linecolor\": \"white\", \"ticks\": \"\"}, \"baxis\": {\"gridcolor\": \"white\", \"linecolor\": \"white\", \"ticks\": \"\"}, \"bgcolor\": \"#E5ECF6\", \"caxis\": {\"gridcolor\": \"white\", \"linecolor\": \"white\", \"ticks\": \"\"}}, \"title\": {\"x\": 0.05}, \"xaxis\": {\"automargin\": true, \"gridcolor\": \"white\", \"linecolor\": \"white\", \"ticks\": \"\", \"title\": {\"standoff\": 15}, \"zerolinecolor\": \"white\", \"zerolinewidth\": 2}, \"yaxis\": {\"automargin\": true, \"gridcolor\": \"white\", \"linecolor\": \"white\", \"ticks\": \"\", \"title\": {\"standoff\": 15}, \"zerolinecolor\": \"white\", \"zerolinewidth\": 2}}}, \"title\": {\"text\": \"Impact of COVID-19 vs SARS: Infected Cases\"}, \"width\": 1100, \"xaxis\": {\"anchor\": \"y\", \"domain\": [0.0, 0.45], \"title\": {\"text\": \"Timeline (Initial three months)\"}}, \"xaxis2\": {\"anchor\": \"y2\", \"domain\": [0.55, 1.0], \"title\": {\"text\": \"Timeline (Initial three months)\"}}, \"yaxis\": {\"anchor\": \"x\", \"domain\": [0.0, 1.0]}, \"yaxis2\": {\"anchor\": \"x2\", \"domain\": [0.0, 1.0]}},\n",
       "                        {\"responsive\": true}\n",
       "                    ).then(function(){\n",
       "                            \n",
       "var gd = document.getElementById('4f5bb5c9-d918-40cb-ba49-c74e7e992100');\n",
       "var x = new MutationObserver(function (mutations, observer) {{\n",
       "        var display = window.getComputedStyle(gd).display;\n",
       "        if (!display || display === 'none') {{\n",
       "            console.log([gd, 'removed!']);\n",
       "            Plotly.purge(gd);\n",
       "            observer.disconnect();\n",
       "        }}\n",
       "}});\n",
       "\n",
       "// Listen for the removal of the full notebook cells\n",
       "var notebookContainer = gd.closest('#notebook-container');\n",
       "if (notebookContainer) {{\n",
       "    x.observe(notebookContainer, {childList: true});\n",
       "}}\n",
       "\n",
       "// Listen for the clearing of the current output cell\n",
       "var outputEl = gd.closest('.output');\n",
       "if (outputEl) {{\n",
       "    x.observe(outputEl, {childList: true});\n",
       "}}\n",
       "\n",
       "                        })\n",
       "                };\n",
       "                });\n",
       "            </script>\n",
       "        </div>"
      ]
     },
     "metadata": {},
     "output_type": "display_data"
    }
   ],
   "source": [
    "fig = make_subplots(rows=1, cols=2,vertical_spacing=0.02)\n",
    "\n",
    "\n",
    "fig.add_trace(\n",
    "    go.Scatter(x=newdf1[\"Timeline\"], y=newdf1[\"Covid-19 impact\"], name = 'COVID-19'),\n",
    "    row=1, col=1\n",
    ")\n",
    "\n",
    "fig.add_trace(\n",
    "    go.Scatter(x=sars[\"Date\"], y=sars[\"Infected\"], name = 'SARS'),\n",
    "    row=1, col=2\n",
    ")\n",
    "\n",
    "fig.update_xaxes(title_text=\"Timeline (Initial three months)\")\n",
    "\n",
    "\n",
    "fig.update_layout(height=400, width=1100, title_text=\"Impact of COVID-19 vs SARS: Infected Cases\")\n",
    "fig.show()"
   ]
  },
  {
   "cell_type": "code",
   "execution_count": 24,
   "metadata": {},
   "outputs": [
    {
     "data": {
      "application/vnd.plotly.v1+json": {
       "config": {
        "plotlyServerURL": "https://plot.ly"
       },
       "data": [
        {
         "name": "Infected",
         "type": "scatter",
         "x": [
          "2020-01-22T00:00:00",
          "2020-01-23T00:00:00",
          "2020-01-24T00:00:00",
          "2020-01-25T00:00:00",
          "2020-01-26T00:00:00",
          "2020-01-27T00:00:00",
          "2020-01-28T00:00:00",
          "2020-01-29T00:00:00",
          "2020-01-30T00:00:00",
          "2020-01-31T00:00:00",
          "2020-02-01T00:00:00",
          "2020-02-02T00:00:00",
          "2020-02-03T00:00:00",
          "2020-02-04T00:00:00",
          "2020-02-05T00:00:00",
          "2020-02-06T00:00:00",
          "2020-02-07T00:00:00",
          "2020-02-08T00:00:00",
          "2020-02-09T00:00:00",
          "2020-02-10T00:00:00",
          "2020-02-11T00:00:00",
          "2020-02-12T00:00:00",
          "2020-02-13T00:00:00",
          "2020-02-14T00:00:00",
          "2020-02-15T00:00:00",
          "2020-02-16T00:00:00",
          "2020-02-17T00:00:00",
          "2020-02-18T00:00:00",
          "2020-02-19T00:00:00",
          "2020-02-20T00:00:00",
          "2020-02-21T00:00:00",
          "2020-02-22T00:00:00",
          "2020-02-23T00:00:00",
          "2020-02-24T00:00:00",
          "2020-02-25T00:00:00",
          "2020-02-26T00:00:00",
          "2020-02-27T00:00:00",
          "2020-02-28T00:00:00",
          "2020-02-29T00:00:00",
          "2020-03-01T00:00:00",
          "2020-03-02T00:00:00",
          "2020-03-03T00:00:00"
         ],
         "y": [
          555,
          653,
          941,
          1434,
          2118,
          2927,
          5578,
          6166,
          8234,
          9927,
          12038,
          16787,
          19881,
          23892,
          27636,
          30818,
          34392,
          37121,
          40151,
          42763,
          44803,
          45222,
          60370,
          66887,
          69032,
          71226,
          73260,
          75138,
          75641,
          76199,
          76843,
          78599,
          78985,
          79570,
          80415,
          81397,
          82756,
          84122,
          86013,
          88371,
          90309,
          92844
         ]
        },
        {
         "name": "Deaths",
         "type": "scatter",
         "x": [
          "2020-01-22T00:00:00",
          "2020-01-23T00:00:00",
          "2020-01-24T00:00:00",
          "2020-01-25T00:00:00",
          "2020-01-26T00:00:00",
          "2020-01-27T00:00:00",
          "2020-01-28T00:00:00",
          "2020-01-29T00:00:00",
          "2020-01-30T00:00:00",
          "2020-01-31T00:00:00",
          "2020-02-01T00:00:00",
          "2020-02-02T00:00:00",
          "2020-02-03T00:00:00",
          "2020-02-04T00:00:00",
          "2020-02-05T00:00:00",
          "2020-02-06T00:00:00",
          "2020-02-07T00:00:00",
          "2020-02-08T00:00:00",
          "2020-02-09T00:00:00",
          "2020-02-10T00:00:00",
          "2020-02-11T00:00:00",
          "2020-02-12T00:00:00",
          "2020-02-13T00:00:00",
          "2020-02-14T00:00:00",
          "2020-02-15T00:00:00",
          "2020-02-16T00:00:00",
          "2020-02-17T00:00:00",
          "2020-02-18T00:00:00",
          "2020-02-19T00:00:00",
          "2020-02-20T00:00:00",
          "2020-02-21T00:00:00",
          "2020-02-22T00:00:00",
          "2020-02-23T00:00:00",
          "2020-02-24T00:00:00",
          "2020-02-25T00:00:00",
          "2020-02-26T00:00:00",
          "2020-02-27T00:00:00",
          "2020-02-28T00:00:00",
          "2020-02-29T00:00:00",
          "2020-03-01T00:00:00",
          "2020-03-02T00:00:00",
          "2020-03-03T00:00:00"
         ],
         "y": [
          17,
          18,
          26,
          42,
          56,
          82,
          131,
          133,
          171,
          213,
          259,
          362,
          426,
          492,
          564,
          634,
          719,
          806,
          906,
          1013,
          1113,
          1118,
          1371,
          1523,
          1666,
          1770,
          1868,
          2007,
          2122,
          2247,
          2251,
          2458,
          2469,
          2629,
          2708,
          2770,
          2814,
          2872,
          2941,
          2996,
          3085,
          3160
         ]
        },
        {
         "name": "Recovery",
         "type": "scatter",
         "x": [
          "2020-01-22T00:00:00",
          "2020-01-23T00:00:00",
          "2020-01-24T00:00:00",
          "2020-01-25T00:00:00",
          "2020-01-26T00:00:00",
          "2020-01-27T00:00:00",
          "2020-01-28T00:00:00",
          "2020-01-29T00:00:00",
          "2020-01-30T00:00:00",
          "2020-01-31T00:00:00",
          "2020-02-01T00:00:00",
          "2020-02-02T00:00:00",
          "2020-02-03T00:00:00",
          "2020-02-04T00:00:00",
          "2020-02-05T00:00:00",
          "2020-02-06T00:00:00",
          "2020-02-07T00:00:00",
          "2020-02-08T00:00:00",
          "2020-02-09T00:00:00",
          "2020-02-10T00:00:00",
          "2020-02-11T00:00:00",
          "2020-02-12T00:00:00",
          "2020-02-13T00:00:00",
          "2020-02-14T00:00:00",
          "2020-02-15T00:00:00",
          "2020-02-16T00:00:00",
          "2020-02-17T00:00:00",
          "2020-02-18T00:00:00",
          "2020-02-19T00:00:00",
          "2020-02-20T00:00:00",
          "2020-02-21T00:00:00",
          "2020-02-22T00:00:00",
          "2020-02-23T00:00:00",
          "2020-02-24T00:00:00",
          "2020-02-25T00:00:00",
          "2020-02-26T00:00:00",
          "2020-02-27T00:00:00",
          "2020-02-28T00:00:00",
          "2020-02-29T00:00:00",
          "2020-03-01T00:00:00",
          "2020-03-02T00:00:00",
          "2020-03-03T00:00:00"
         ],
         "y": [
          28,
          30,
          36,
          39,
          52,
          61,
          107,
          126,
          143,
          222,
          284,
          472,
          623,
          852,
          1124,
          1487,
          2011,
          2616,
          3244,
          3946,
          4683,
          5150,
          6295,
          8058,
          9395,
          10865,
          12583,
          14352,
          16121,
          18177,
          18890,
          22886,
          23394,
          25227,
          27905,
          30384,
          33277,
          36711,
          39782,
          42716,
          45602,
          48229
         ]
        }
       ],
       "layout": {
        "height": 500,
        "template": {
         "data": {
          "bar": [
           {
            "error_x": {
             "color": "#2a3f5f"
            },
            "error_y": {
             "color": "#2a3f5f"
            },
            "marker": {
             "line": {
              "color": "#E5ECF6",
              "width": 0.5
             }
            },
            "type": "bar"
           }
          ],
          "barpolar": [
           {
            "marker": {
             "line": {
              "color": "#E5ECF6",
              "width": 0.5
             }
            },
            "type": "barpolar"
           }
          ],
          "carpet": [
           {
            "aaxis": {
             "endlinecolor": "#2a3f5f",
             "gridcolor": "white",
             "linecolor": "white",
             "minorgridcolor": "white",
             "startlinecolor": "#2a3f5f"
            },
            "baxis": {
             "endlinecolor": "#2a3f5f",
             "gridcolor": "white",
             "linecolor": "white",
             "minorgridcolor": "white",
             "startlinecolor": "#2a3f5f"
            },
            "type": "carpet"
           }
          ],
          "choropleth": [
           {
            "colorbar": {
             "outlinewidth": 0,
             "ticks": ""
            },
            "type": "choropleth"
           }
          ],
          "contour": [
           {
            "colorbar": {
             "outlinewidth": 0,
             "ticks": ""
            },
            "colorscale": [
             [
              0,
              "#0d0887"
             ],
             [
              0.1111111111111111,
              "#46039f"
             ],
             [
              0.2222222222222222,
              "#7201a8"
             ],
             [
              0.3333333333333333,
              "#9c179e"
             ],
             [
              0.4444444444444444,
              "#bd3786"
             ],
             [
              0.5555555555555556,
              "#d8576b"
             ],
             [
              0.6666666666666666,
              "#ed7953"
             ],
             [
              0.7777777777777778,
              "#fb9f3a"
             ],
             [
              0.8888888888888888,
              "#fdca26"
             ],
             [
              1,
              "#f0f921"
             ]
            ],
            "type": "contour"
           }
          ],
          "contourcarpet": [
           {
            "colorbar": {
             "outlinewidth": 0,
             "ticks": ""
            },
            "type": "contourcarpet"
           }
          ],
          "heatmap": [
           {
            "colorbar": {
             "outlinewidth": 0,
             "ticks": ""
            },
            "colorscale": [
             [
              0,
              "#0d0887"
             ],
             [
              0.1111111111111111,
              "#46039f"
             ],
             [
              0.2222222222222222,
              "#7201a8"
             ],
             [
              0.3333333333333333,
              "#9c179e"
             ],
             [
              0.4444444444444444,
              "#bd3786"
             ],
             [
              0.5555555555555556,
              "#d8576b"
             ],
             [
              0.6666666666666666,
              "#ed7953"
             ],
             [
              0.7777777777777778,
              "#fb9f3a"
             ],
             [
              0.8888888888888888,
              "#fdca26"
             ],
             [
              1,
              "#f0f921"
             ]
            ],
            "type": "heatmap"
           }
          ],
          "heatmapgl": [
           {
            "colorbar": {
             "outlinewidth": 0,
             "ticks": ""
            },
            "colorscale": [
             [
              0,
              "#0d0887"
             ],
             [
              0.1111111111111111,
              "#46039f"
             ],
             [
              0.2222222222222222,
              "#7201a8"
             ],
             [
              0.3333333333333333,
              "#9c179e"
             ],
             [
              0.4444444444444444,
              "#bd3786"
             ],
             [
              0.5555555555555556,
              "#d8576b"
             ],
             [
              0.6666666666666666,
              "#ed7953"
             ],
             [
              0.7777777777777778,
              "#fb9f3a"
             ],
             [
              0.8888888888888888,
              "#fdca26"
             ],
             [
              1,
              "#f0f921"
             ]
            ],
            "type": "heatmapgl"
           }
          ],
          "histogram": [
           {
            "marker": {
             "colorbar": {
              "outlinewidth": 0,
              "ticks": ""
             }
            },
            "type": "histogram"
           }
          ],
          "histogram2d": [
           {
            "colorbar": {
             "outlinewidth": 0,
             "ticks": ""
            },
            "colorscale": [
             [
              0,
              "#0d0887"
             ],
             [
              0.1111111111111111,
              "#46039f"
             ],
             [
              0.2222222222222222,
              "#7201a8"
             ],
             [
              0.3333333333333333,
              "#9c179e"
             ],
             [
              0.4444444444444444,
              "#bd3786"
             ],
             [
              0.5555555555555556,
              "#d8576b"
             ],
             [
              0.6666666666666666,
              "#ed7953"
             ],
             [
              0.7777777777777778,
              "#fb9f3a"
             ],
             [
              0.8888888888888888,
              "#fdca26"
             ],
             [
              1,
              "#f0f921"
             ]
            ],
            "type": "histogram2d"
           }
          ],
          "histogram2dcontour": [
           {
            "colorbar": {
             "outlinewidth": 0,
             "ticks": ""
            },
            "colorscale": [
             [
              0,
              "#0d0887"
             ],
             [
              0.1111111111111111,
              "#46039f"
             ],
             [
              0.2222222222222222,
              "#7201a8"
             ],
             [
              0.3333333333333333,
              "#9c179e"
             ],
             [
              0.4444444444444444,
              "#bd3786"
             ],
             [
              0.5555555555555556,
              "#d8576b"
             ],
             [
              0.6666666666666666,
              "#ed7953"
             ],
             [
              0.7777777777777778,
              "#fb9f3a"
             ],
             [
              0.8888888888888888,
              "#fdca26"
             ],
             [
              1,
              "#f0f921"
             ]
            ],
            "type": "histogram2dcontour"
           }
          ],
          "mesh3d": [
           {
            "colorbar": {
             "outlinewidth": 0,
             "ticks": ""
            },
            "type": "mesh3d"
           }
          ],
          "parcoords": [
           {
            "line": {
             "colorbar": {
              "outlinewidth": 0,
              "ticks": ""
             }
            },
            "type": "parcoords"
           }
          ],
          "pie": [
           {
            "automargin": true,
            "type": "pie"
           }
          ],
          "scatter": [
           {
            "marker": {
             "colorbar": {
              "outlinewidth": 0,
              "ticks": ""
             }
            },
            "type": "scatter"
           }
          ],
          "scatter3d": [
           {
            "line": {
             "colorbar": {
              "outlinewidth": 0,
              "ticks": ""
             }
            },
            "marker": {
             "colorbar": {
              "outlinewidth": 0,
              "ticks": ""
             }
            },
            "type": "scatter3d"
           }
          ],
          "scattercarpet": [
           {
            "marker": {
             "colorbar": {
              "outlinewidth": 0,
              "ticks": ""
             }
            },
            "type": "scattercarpet"
           }
          ],
          "scattergeo": [
           {
            "marker": {
             "colorbar": {
              "outlinewidth": 0,
              "ticks": ""
             }
            },
            "type": "scattergeo"
           }
          ],
          "scattergl": [
           {
            "marker": {
             "colorbar": {
              "outlinewidth": 0,
              "ticks": ""
             }
            },
            "type": "scattergl"
           }
          ],
          "scattermapbox": [
           {
            "marker": {
             "colorbar": {
              "outlinewidth": 0,
              "ticks": ""
             }
            },
            "type": "scattermapbox"
           }
          ],
          "scatterpolar": [
           {
            "marker": {
             "colorbar": {
              "outlinewidth": 0,
              "ticks": ""
             }
            },
            "type": "scatterpolar"
           }
          ],
          "scatterpolargl": [
           {
            "marker": {
             "colorbar": {
              "outlinewidth": 0,
              "ticks": ""
             }
            },
            "type": "scatterpolargl"
           }
          ],
          "scatterternary": [
           {
            "marker": {
             "colorbar": {
              "outlinewidth": 0,
              "ticks": ""
             }
            },
            "type": "scatterternary"
           }
          ],
          "surface": [
           {
            "colorbar": {
             "outlinewidth": 0,
             "ticks": ""
            },
            "colorscale": [
             [
              0,
              "#0d0887"
             ],
             [
              0.1111111111111111,
              "#46039f"
             ],
             [
              0.2222222222222222,
              "#7201a8"
             ],
             [
              0.3333333333333333,
              "#9c179e"
             ],
             [
              0.4444444444444444,
              "#bd3786"
             ],
             [
              0.5555555555555556,
              "#d8576b"
             ],
             [
              0.6666666666666666,
              "#ed7953"
             ],
             [
              0.7777777777777778,
              "#fb9f3a"
             ],
             [
              0.8888888888888888,
              "#fdca26"
             ],
             [
              1,
              "#f0f921"
             ]
            ],
            "type": "surface"
           }
          ],
          "table": [
           {
            "cells": {
             "fill": {
              "color": "#EBF0F8"
             },
             "line": {
              "color": "white"
             }
            },
            "header": {
             "fill": {
              "color": "#C8D4E3"
             },
             "line": {
              "color": "white"
             }
            },
            "type": "table"
           }
          ]
         },
         "layout": {
          "annotationdefaults": {
           "arrowcolor": "#2a3f5f",
           "arrowhead": 0,
           "arrowwidth": 1
          },
          "coloraxis": {
           "colorbar": {
            "outlinewidth": 0,
            "ticks": ""
           }
          },
          "colorscale": {
           "diverging": [
            [
             0,
             "#8e0152"
            ],
            [
             0.1,
             "#c51b7d"
            ],
            [
             0.2,
             "#de77ae"
            ],
            [
             0.3,
             "#f1b6da"
            ],
            [
             0.4,
             "#fde0ef"
            ],
            [
             0.5,
             "#f7f7f7"
            ],
            [
             0.6,
             "#e6f5d0"
            ],
            [
             0.7,
             "#b8e186"
            ],
            [
             0.8,
             "#7fbc41"
            ],
            [
             0.9,
             "#4d9221"
            ],
            [
             1,
             "#276419"
            ]
           ],
           "sequential": [
            [
             0,
             "#0d0887"
            ],
            [
             0.1111111111111111,
             "#46039f"
            ],
            [
             0.2222222222222222,
             "#7201a8"
            ],
            [
             0.3333333333333333,
             "#9c179e"
            ],
            [
             0.4444444444444444,
             "#bd3786"
            ],
            [
             0.5555555555555556,
             "#d8576b"
            ],
            [
             0.6666666666666666,
             "#ed7953"
            ],
            [
             0.7777777777777778,
             "#fb9f3a"
            ],
            [
             0.8888888888888888,
             "#fdca26"
            ],
            [
             1,
             "#f0f921"
            ]
           ],
           "sequentialminus": [
            [
             0,
             "#0d0887"
            ],
            [
             0.1111111111111111,
             "#46039f"
            ],
            [
             0.2222222222222222,
             "#7201a8"
            ],
            [
             0.3333333333333333,
             "#9c179e"
            ],
            [
             0.4444444444444444,
             "#bd3786"
            ],
            [
             0.5555555555555556,
             "#d8576b"
            ],
            [
             0.6666666666666666,
             "#ed7953"
            ],
            [
             0.7777777777777778,
             "#fb9f3a"
            ],
            [
             0.8888888888888888,
             "#fdca26"
            ],
            [
             1,
             "#f0f921"
            ]
           ]
          },
          "colorway": [
           "#636efa",
           "#EF553B",
           "#00cc96",
           "#ab63fa",
           "#FFA15A",
           "#19d3f3",
           "#FF6692",
           "#B6E880",
           "#FF97FF",
           "#FECB52"
          ],
          "font": {
           "color": "#2a3f5f"
          },
          "geo": {
           "bgcolor": "white",
           "lakecolor": "white",
           "landcolor": "#E5ECF6",
           "showlakes": true,
           "showland": true,
           "subunitcolor": "white"
          },
          "hoverlabel": {
           "align": "left"
          },
          "hovermode": "closest",
          "mapbox": {
           "style": "light"
          },
          "paper_bgcolor": "white",
          "plot_bgcolor": "#E5ECF6",
          "polar": {
           "angularaxis": {
            "gridcolor": "white",
            "linecolor": "white",
            "ticks": ""
           },
           "bgcolor": "#E5ECF6",
           "radialaxis": {
            "gridcolor": "white",
            "linecolor": "white",
            "ticks": ""
           }
          },
          "scene": {
           "xaxis": {
            "backgroundcolor": "#E5ECF6",
            "gridcolor": "white",
            "gridwidth": 2,
            "linecolor": "white",
            "showbackground": true,
            "ticks": "",
            "zerolinecolor": "white"
           },
           "yaxis": {
            "backgroundcolor": "#E5ECF6",
            "gridcolor": "white",
            "gridwidth": 2,
            "linecolor": "white",
            "showbackground": true,
            "ticks": "",
            "zerolinecolor": "white"
           },
           "zaxis": {
            "backgroundcolor": "#E5ECF6",
            "gridcolor": "white",
            "gridwidth": 2,
            "linecolor": "white",
            "showbackground": true,
            "ticks": "",
            "zerolinecolor": "white"
           }
          },
          "shapedefaults": {
           "line": {
            "color": "#2a3f5f"
           }
          },
          "ternary": {
           "aaxis": {
            "gridcolor": "white",
            "linecolor": "white",
            "ticks": ""
           },
           "baxis": {
            "gridcolor": "white",
            "linecolor": "white",
            "ticks": ""
           },
           "bgcolor": "#E5ECF6",
           "caxis": {
            "gridcolor": "white",
            "linecolor": "white",
            "ticks": ""
           }
          },
          "title": {
           "x": 0.05
          },
          "xaxis": {
           "automargin": true,
           "gridcolor": "white",
           "linecolor": "white",
           "ticks": "",
           "title": {
            "standoff": 15
           },
           "zerolinecolor": "white",
           "zerolinewidth": 2
          },
          "yaxis": {
           "automargin": true,
           "gridcolor": "white",
           "linecolor": "white",
           "ticks": "",
           "title": {
            "standoff": 15
           },
           "zerolinecolor": "white",
           "zerolinewidth": 2
          }
         }
        },
        "title": {
         "text": "Timline anlaysis of COVID -19 using multiple line chart"
        },
        "width": 800,
        "xaxis": {
         "anchor": "y",
         "domain": [
          0,
          1
         ],
         "title": {
          "text": "Timeline"
         }
        },
        "yaxis": {
         "anchor": "x",
         "domain": [
          0,
          1
         ]
        }
       }
      },
      "text/html": [
       "<div>\n",
       "        \n",
       "        \n",
       "            <div id=\"26ec3782-f7c6-4652-8fd4-c5c1c7c91639\" class=\"plotly-graph-div\" style=\"height:500px; width:800px;\"></div>\n",
       "            <script type=\"text/javascript\">\n",
       "                require([\"plotly\"], function(Plotly) {\n",
       "                    window.PLOTLYENV=window.PLOTLYENV || {};\n",
       "                    \n",
       "                if (document.getElementById(\"26ec3782-f7c6-4652-8fd4-c5c1c7c91639\")) {\n",
       "                    Plotly.newPlot(\n",
       "                        '26ec3782-f7c6-4652-8fd4-c5c1c7c91639',\n",
       "                        [{\"name\": \"Infected\", \"type\": \"scatter\", \"x\": [\"2020-01-22T00:00:00\", \"2020-01-23T00:00:00\", \"2020-01-24T00:00:00\", \"2020-01-25T00:00:00\", \"2020-01-26T00:00:00\", \"2020-01-27T00:00:00\", \"2020-01-28T00:00:00\", \"2020-01-29T00:00:00\", \"2020-01-30T00:00:00\", \"2020-01-31T00:00:00\", \"2020-02-01T00:00:00\", \"2020-02-02T00:00:00\", \"2020-02-03T00:00:00\", \"2020-02-04T00:00:00\", \"2020-02-05T00:00:00\", \"2020-02-06T00:00:00\", \"2020-02-07T00:00:00\", \"2020-02-08T00:00:00\", \"2020-02-09T00:00:00\", \"2020-02-10T00:00:00\", \"2020-02-11T00:00:00\", \"2020-02-12T00:00:00\", \"2020-02-13T00:00:00\", \"2020-02-14T00:00:00\", \"2020-02-15T00:00:00\", \"2020-02-16T00:00:00\", \"2020-02-17T00:00:00\", \"2020-02-18T00:00:00\", \"2020-02-19T00:00:00\", \"2020-02-20T00:00:00\", \"2020-02-21T00:00:00\", \"2020-02-22T00:00:00\", \"2020-02-23T00:00:00\", \"2020-02-24T00:00:00\", \"2020-02-25T00:00:00\", \"2020-02-26T00:00:00\", \"2020-02-27T00:00:00\", \"2020-02-28T00:00:00\", \"2020-02-29T00:00:00\", \"2020-03-01T00:00:00\", \"2020-03-02T00:00:00\", \"2020-03-03T00:00:00\"], \"y\": [555, 653, 941, 1434, 2118, 2927, 5578, 6166, 8234, 9927, 12038, 16787, 19881, 23892, 27636, 30818, 34392, 37121, 40151, 42763, 44803, 45222, 60370, 66887, 69032, 71226, 73260, 75138, 75641, 76199, 76843, 78599, 78985, 79570, 80415, 81397, 82756, 84122, 86013, 88371, 90309, 92844]}, {\"name\": \"Deaths\", \"type\": \"scatter\", \"x\": [\"2020-01-22T00:00:00\", \"2020-01-23T00:00:00\", \"2020-01-24T00:00:00\", \"2020-01-25T00:00:00\", \"2020-01-26T00:00:00\", \"2020-01-27T00:00:00\", \"2020-01-28T00:00:00\", \"2020-01-29T00:00:00\", \"2020-01-30T00:00:00\", \"2020-01-31T00:00:00\", \"2020-02-01T00:00:00\", \"2020-02-02T00:00:00\", \"2020-02-03T00:00:00\", \"2020-02-04T00:00:00\", \"2020-02-05T00:00:00\", \"2020-02-06T00:00:00\", \"2020-02-07T00:00:00\", \"2020-02-08T00:00:00\", \"2020-02-09T00:00:00\", \"2020-02-10T00:00:00\", \"2020-02-11T00:00:00\", \"2020-02-12T00:00:00\", \"2020-02-13T00:00:00\", \"2020-02-14T00:00:00\", \"2020-02-15T00:00:00\", \"2020-02-16T00:00:00\", \"2020-02-17T00:00:00\", \"2020-02-18T00:00:00\", \"2020-02-19T00:00:00\", \"2020-02-20T00:00:00\", \"2020-02-21T00:00:00\", \"2020-02-22T00:00:00\", \"2020-02-23T00:00:00\", \"2020-02-24T00:00:00\", \"2020-02-25T00:00:00\", \"2020-02-26T00:00:00\", \"2020-02-27T00:00:00\", \"2020-02-28T00:00:00\", \"2020-02-29T00:00:00\", \"2020-03-01T00:00:00\", \"2020-03-02T00:00:00\", \"2020-03-03T00:00:00\"], \"y\": [17, 18, 26, 42, 56, 82, 131, 133, 171, 213, 259, 362, 426, 492, 564, 634, 719, 806, 906, 1013, 1113, 1118, 1371, 1523, 1666, 1770, 1868, 2007, 2122, 2247, 2251, 2458, 2469, 2629, 2708, 2770, 2814, 2872, 2941, 2996, 3085, 3160]}, {\"name\": \"Recovery\", \"type\": \"scatter\", \"x\": [\"2020-01-22T00:00:00\", \"2020-01-23T00:00:00\", \"2020-01-24T00:00:00\", \"2020-01-25T00:00:00\", \"2020-01-26T00:00:00\", \"2020-01-27T00:00:00\", \"2020-01-28T00:00:00\", \"2020-01-29T00:00:00\", \"2020-01-30T00:00:00\", \"2020-01-31T00:00:00\", \"2020-02-01T00:00:00\", \"2020-02-02T00:00:00\", \"2020-02-03T00:00:00\", \"2020-02-04T00:00:00\", \"2020-02-05T00:00:00\", \"2020-02-06T00:00:00\", \"2020-02-07T00:00:00\", \"2020-02-08T00:00:00\", \"2020-02-09T00:00:00\", \"2020-02-10T00:00:00\", \"2020-02-11T00:00:00\", \"2020-02-12T00:00:00\", \"2020-02-13T00:00:00\", \"2020-02-14T00:00:00\", \"2020-02-15T00:00:00\", \"2020-02-16T00:00:00\", \"2020-02-17T00:00:00\", \"2020-02-18T00:00:00\", \"2020-02-19T00:00:00\", \"2020-02-20T00:00:00\", \"2020-02-21T00:00:00\", \"2020-02-22T00:00:00\", \"2020-02-23T00:00:00\", \"2020-02-24T00:00:00\", \"2020-02-25T00:00:00\", \"2020-02-26T00:00:00\", \"2020-02-27T00:00:00\", \"2020-02-28T00:00:00\", \"2020-02-29T00:00:00\", \"2020-03-01T00:00:00\", \"2020-03-02T00:00:00\", \"2020-03-03T00:00:00\"], \"y\": [28, 30, 36, 39, 52, 61, 107, 126, 143, 222, 284, 472, 623, 852, 1124, 1487, 2011, 2616, 3244, 3946, 4683, 5150, 6295, 8058, 9395, 10865, 12583, 14352, 16121, 18177, 18890, 22886, 23394, 25227, 27905, 30384, 33277, 36711, 39782, 42716, 45602, 48229]}],\n",
       "                        {\"height\": 500, \"template\": {\"data\": {\"bar\": [{\"error_x\": {\"color\": \"#2a3f5f\"}, \"error_y\": {\"color\": \"#2a3f5f\"}, \"marker\": {\"line\": {\"color\": \"#E5ECF6\", \"width\": 0.5}}, \"type\": \"bar\"}], \"barpolar\": [{\"marker\": {\"line\": {\"color\": \"#E5ECF6\", \"width\": 0.5}}, \"type\": \"barpolar\"}], \"carpet\": [{\"aaxis\": {\"endlinecolor\": \"#2a3f5f\", \"gridcolor\": \"white\", \"linecolor\": \"white\", \"minorgridcolor\": \"white\", \"startlinecolor\": \"#2a3f5f\"}, \"baxis\": {\"endlinecolor\": \"#2a3f5f\", \"gridcolor\": \"white\", \"linecolor\": \"white\", \"minorgridcolor\": \"white\", \"startlinecolor\": \"#2a3f5f\"}, \"type\": \"carpet\"}], \"choropleth\": [{\"colorbar\": {\"outlinewidth\": 0, \"ticks\": \"\"}, \"type\": \"choropleth\"}], \"contour\": [{\"colorbar\": {\"outlinewidth\": 0, \"ticks\": \"\"}, \"colorscale\": [[0.0, \"#0d0887\"], [0.1111111111111111, \"#46039f\"], [0.2222222222222222, \"#7201a8\"], [0.3333333333333333, \"#9c179e\"], [0.4444444444444444, \"#bd3786\"], [0.5555555555555556, \"#d8576b\"], [0.6666666666666666, \"#ed7953\"], [0.7777777777777778, \"#fb9f3a\"], [0.8888888888888888, \"#fdca26\"], [1.0, \"#f0f921\"]], \"type\": \"contour\"}], \"contourcarpet\": [{\"colorbar\": {\"outlinewidth\": 0, \"ticks\": \"\"}, \"type\": \"contourcarpet\"}], \"heatmap\": [{\"colorbar\": {\"outlinewidth\": 0, \"ticks\": \"\"}, \"colorscale\": [[0.0, \"#0d0887\"], [0.1111111111111111, \"#46039f\"], [0.2222222222222222, \"#7201a8\"], [0.3333333333333333, \"#9c179e\"], [0.4444444444444444, \"#bd3786\"], [0.5555555555555556, \"#d8576b\"], [0.6666666666666666, \"#ed7953\"], [0.7777777777777778, \"#fb9f3a\"], [0.8888888888888888, \"#fdca26\"], [1.0, \"#f0f921\"]], \"type\": \"heatmap\"}], \"heatmapgl\": [{\"colorbar\": {\"outlinewidth\": 0, \"ticks\": \"\"}, \"colorscale\": [[0.0, \"#0d0887\"], [0.1111111111111111, \"#46039f\"], [0.2222222222222222, \"#7201a8\"], [0.3333333333333333, \"#9c179e\"], [0.4444444444444444, \"#bd3786\"], [0.5555555555555556, \"#d8576b\"], [0.6666666666666666, \"#ed7953\"], [0.7777777777777778, \"#fb9f3a\"], [0.8888888888888888, \"#fdca26\"], [1.0, \"#f0f921\"]], \"type\": \"heatmapgl\"}], \"histogram\": [{\"marker\": {\"colorbar\": {\"outlinewidth\": 0, \"ticks\": \"\"}}, \"type\": \"histogram\"}], \"histogram2d\": [{\"colorbar\": {\"outlinewidth\": 0, \"ticks\": \"\"}, \"colorscale\": [[0.0, \"#0d0887\"], [0.1111111111111111, \"#46039f\"], [0.2222222222222222, \"#7201a8\"], [0.3333333333333333, \"#9c179e\"], [0.4444444444444444, \"#bd3786\"], [0.5555555555555556, \"#d8576b\"], [0.6666666666666666, \"#ed7953\"], [0.7777777777777778, \"#fb9f3a\"], [0.8888888888888888, \"#fdca26\"], [1.0, \"#f0f921\"]], \"type\": \"histogram2d\"}], \"histogram2dcontour\": [{\"colorbar\": {\"outlinewidth\": 0, \"ticks\": \"\"}, \"colorscale\": [[0.0, \"#0d0887\"], [0.1111111111111111, \"#46039f\"], [0.2222222222222222, \"#7201a8\"], [0.3333333333333333, \"#9c179e\"], [0.4444444444444444, \"#bd3786\"], [0.5555555555555556, \"#d8576b\"], [0.6666666666666666, \"#ed7953\"], [0.7777777777777778, \"#fb9f3a\"], [0.8888888888888888, \"#fdca26\"], [1.0, \"#f0f921\"]], \"type\": \"histogram2dcontour\"}], \"mesh3d\": [{\"colorbar\": {\"outlinewidth\": 0, \"ticks\": \"\"}, \"type\": \"mesh3d\"}], \"parcoords\": [{\"line\": {\"colorbar\": {\"outlinewidth\": 0, \"ticks\": \"\"}}, \"type\": \"parcoords\"}], \"pie\": [{\"automargin\": true, \"type\": \"pie\"}], \"scatter\": [{\"marker\": {\"colorbar\": {\"outlinewidth\": 0, \"ticks\": \"\"}}, \"type\": \"scatter\"}], \"scatter3d\": [{\"line\": {\"colorbar\": {\"outlinewidth\": 0, \"ticks\": \"\"}}, \"marker\": {\"colorbar\": {\"outlinewidth\": 0, \"ticks\": \"\"}}, \"type\": \"scatter3d\"}], \"scattercarpet\": [{\"marker\": {\"colorbar\": {\"outlinewidth\": 0, \"ticks\": \"\"}}, \"type\": \"scattercarpet\"}], \"scattergeo\": [{\"marker\": {\"colorbar\": {\"outlinewidth\": 0, \"ticks\": \"\"}}, \"type\": \"scattergeo\"}], \"scattergl\": [{\"marker\": {\"colorbar\": {\"outlinewidth\": 0, \"ticks\": \"\"}}, \"type\": \"scattergl\"}], \"scattermapbox\": [{\"marker\": {\"colorbar\": {\"outlinewidth\": 0, \"ticks\": \"\"}}, \"type\": \"scattermapbox\"}], \"scatterpolar\": [{\"marker\": {\"colorbar\": {\"outlinewidth\": 0, \"ticks\": \"\"}}, \"type\": \"scatterpolar\"}], \"scatterpolargl\": [{\"marker\": {\"colorbar\": {\"outlinewidth\": 0, \"ticks\": \"\"}}, \"type\": \"scatterpolargl\"}], \"scatterternary\": [{\"marker\": {\"colorbar\": {\"outlinewidth\": 0, \"ticks\": \"\"}}, \"type\": \"scatterternary\"}], \"surface\": [{\"colorbar\": {\"outlinewidth\": 0, \"ticks\": \"\"}, \"colorscale\": [[0.0, \"#0d0887\"], [0.1111111111111111, \"#46039f\"], [0.2222222222222222, \"#7201a8\"], [0.3333333333333333, \"#9c179e\"], [0.4444444444444444, \"#bd3786\"], [0.5555555555555556, \"#d8576b\"], [0.6666666666666666, \"#ed7953\"], [0.7777777777777778, \"#fb9f3a\"], [0.8888888888888888, \"#fdca26\"], [1.0, \"#f0f921\"]], \"type\": \"surface\"}], \"table\": [{\"cells\": {\"fill\": {\"color\": \"#EBF0F8\"}, \"line\": {\"color\": \"white\"}}, \"header\": {\"fill\": {\"color\": \"#C8D4E3\"}, \"line\": {\"color\": \"white\"}}, \"type\": \"table\"}]}, \"layout\": {\"annotationdefaults\": {\"arrowcolor\": \"#2a3f5f\", \"arrowhead\": 0, \"arrowwidth\": 1}, \"coloraxis\": {\"colorbar\": {\"outlinewidth\": 0, \"ticks\": \"\"}}, \"colorscale\": {\"diverging\": [[0, \"#8e0152\"], [0.1, \"#c51b7d\"], [0.2, \"#de77ae\"], [0.3, \"#f1b6da\"], [0.4, \"#fde0ef\"], [0.5, \"#f7f7f7\"], [0.6, \"#e6f5d0\"], [0.7, \"#b8e186\"], [0.8, \"#7fbc41\"], [0.9, \"#4d9221\"], [1, \"#276419\"]], \"sequential\": [[0.0, \"#0d0887\"], [0.1111111111111111, \"#46039f\"], [0.2222222222222222, \"#7201a8\"], [0.3333333333333333, \"#9c179e\"], [0.4444444444444444, \"#bd3786\"], [0.5555555555555556, \"#d8576b\"], [0.6666666666666666, \"#ed7953\"], [0.7777777777777778, \"#fb9f3a\"], [0.8888888888888888, \"#fdca26\"], [1.0, \"#f0f921\"]], \"sequentialminus\": [[0.0, \"#0d0887\"], [0.1111111111111111, \"#46039f\"], [0.2222222222222222, \"#7201a8\"], [0.3333333333333333, \"#9c179e\"], [0.4444444444444444, \"#bd3786\"], [0.5555555555555556, \"#d8576b\"], [0.6666666666666666, \"#ed7953\"], [0.7777777777777778, \"#fb9f3a\"], [0.8888888888888888, \"#fdca26\"], [1.0, \"#f0f921\"]]}, \"colorway\": [\"#636efa\", \"#EF553B\", \"#00cc96\", \"#ab63fa\", \"#FFA15A\", \"#19d3f3\", \"#FF6692\", \"#B6E880\", \"#FF97FF\", \"#FECB52\"], \"font\": {\"color\": \"#2a3f5f\"}, \"geo\": {\"bgcolor\": \"white\", \"lakecolor\": \"white\", \"landcolor\": \"#E5ECF6\", \"showlakes\": true, \"showland\": true, \"subunitcolor\": \"white\"}, \"hoverlabel\": {\"align\": \"left\"}, \"hovermode\": \"closest\", \"mapbox\": {\"style\": \"light\"}, \"paper_bgcolor\": \"white\", \"plot_bgcolor\": \"#E5ECF6\", \"polar\": {\"angularaxis\": {\"gridcolor\": \"white\", \"linecolor\": \"white\", \"ticks\": \"\"}, \"bgcolor\": \"#E5ECF6\", \"radialaxis\": {\"gridcolor\": \"white\", \"linecolor\": \"white\", \"ticks\": \"\"}}, \"scene\": {\"xaxis\": {\"backgroundcolor\": \"#E5ECF6\", \"gridcolor\": \"white\", \"gridwidth\": 2, \"linecolor\": \"white\", \"showbackground\": true, \"ticks\": \"\", \"zerolinecolor\": \"white\"}, \"yaxis\": {\"backgroundcolor\": \"#E5ECF6\", \"gridcolor\": \"white\", \"gridwidth\": 2, \"linecolor\": \"white\", \"showbackground\": true, \"ticks\": \"\", \"zerolinecolor\": \"white\"}, \"zaxis\": {\"backgroundcolor\": \"#E5ECF6\", \"gridcolor\": \"white\", \"gridwidth\": 2, \"linecolor\": \"white\", \"showbackground\": true, \"ticks\": \"\", \"zerolinecolor\": \"white\"}}, \"shapedefaults\": {\"line\": {\"color\": \"#2a3f5f\"}}, \"ternary\": {\"aaxis\": {\"gridcolor\": \"white\", \"linecolor\": \"white\", \"ticks\": \"\"}, \"baxis\": {\"gridcolor\": \"white\", \"linecolor\": \"white\", \"ticks\": \"\"}, \"bgcolor\": \"#E5ECF6\", \"caxis\": {\"gridcolor\": \"white\", \"linecolor\": \"white\", \"ticks\": \"\"}}, \"title\": {\"x\": 0.05}, \"xaxis\": {\"automargin\": true, \"gridcolor\": \"white\", \"linecolor\": \"white\", \"ticks\": \"\", \"title\": {\"standoff\": 15}, \"zerolinecolor\": \"white\", \"zerolinewidth\": 2}, \"yaxis\": {\"automargin\": true, \"gridcolor\": \"white\", \"linecolor\": \"white\", \"ticks\": \"\", \"title\": {\"standoff\": 15}, \"zerolinecolor\": \"white\", \"zerolinewidth\": 2}}}, \"title\": {\"text\": \"Timline anlaysis of COVID -19 using multiple line chart\"}, \"width\": 800, \"xaxis\": {\"anchor\": \"y\", \"domain\": [0.0, 1.0], \"title\": {\"text\": \"Timeline\"}}, \"yaxis\": {\"anchor\": \"x\", \"domain\": [0.0, 1.0]}},\n",
       "                        {\"responsive\": true}\n",
       "                    ).then(function(){\n",
       "                            \n",
       "var gd = document.getElementById('26ec3782-f7c6-4652-8fd4-c5c1c7c91639');\n",
       "var x = new MutationObserver(function (mutations, observer) {{\n",
       "        var display = window.getComputedStyle(gd).display;\n",
       "        if (!display || display === 'none') {{\n",
       "            console.log([gd, 'removed!']);\n",
       "            Plotly.purge(gd);\n",
       "            observer.disconnect();\n",
       "        }}\n",
       "}});\n",
       "\n",
       "// Listen for the removal of the full notebook cells\n",
       "var notebookContainer = gd.closest('#notebook-container');\n",
       "if (notebookContainer) {{\n",
       "    x.observe(notebookContainer, {childList: true});\n",
       "}}\n",
       "\n",
       "// Listen for the clearing of the current output cell\n",
       "var outputEl = gd.closest('.output');\n",
       "if (outputEl) {{\n",
       "    x.observe(outputEl, {childList: true});\n",
       "}}\n",
       "\n",
       "                        })\n",
       "                };\n",
       "                });\n",
       "            </script>\n",
       "        </div>"
      ]
     },
     "metadata": {},
     "output_type": "display_data"
    }
   ],
   "source": [
    "fig = make_subplots()\n",
    "\n",
    "fig.add_trace(\n",
    "    go.Scatter(x=newdf1[\"Timeline\"], y=newdf1[\"Covid-19 impact\"], name = 'Infected'))\n",
    "\n",
    "fig.add_trace(\n",
    "    go.Scatter(x=newdf2[\"Timeline\"], y=newdf2[\"Covid-19 impact\"], name = 'Deaths'))\n",
    "\n",
    "fig.add_trace(\n",
    "    go.Scatter(x=newdf3[\"Timeline\"], y=newdf3[\"Covid-19 impact\"], name = 'Recovery'))\n",
    "\n",
    "fig.update_xaxes(title_text=\"Timeline\")\n",
    "\n",
    "\n",
    "fig.update_layout(height=500, width=800, title_text=\"Timline anlaysis of COVID -19 using multiple line chart\")\n",
    "fig.show()"
   ]
  },
  {
   "cell_type": "code",
   "execution_count": null,
   "metadata": {},
   "outputs": [],
   "source": []
  }
 ],
 "metadata": {
  "kernelspec": {
   "display_name": "Python 3",
   "language": "python",
   "name": "python3"
  },
  "language_info": {
   "codemirror_mode": {
    "name": "ipython",
    "version": 3
   },
   "file_extension": ".py",
   "mimetype": "text/x-python",
   "name": "python",
   "nbconvert_exporter": "python",
   "pygments_lexer": "ipython3",
   "version": "3.7.1"
  }
 },
 "nbformat": 4,
 "nbformat_minor": 2
}
